{
  "nbformat": 4,
  "nbformat_minor": 0,
  "metadata": {
    "colab": {
      "name": "gabarito of class.ipynb",
      "provenance": [],
      "authorship_tag": "ABX9TyMIkedpNXc+kHcUE3Yr4/ZA",
      "include_colab_link": true
    },
    "kernelspec": {
      "name": "python3",
      "display_name": "Python 3"
    }
  },
  "cells": [
    {
      "cell_type": "markdown",
      "metadata": {
        "id": "view-in-github",
        "colab_type": "text"
      },
      "source": [
        "<a href=\"https://colab.research.google.com/github/onlyreynaldo/python-clustering-data/blob/main/gabarito_of_class.ipynb\" target=\"_parent\"><img src=\"https://colab.research.google.com/assets/colab-badge.svg\" alt=\"Open In Colab\"/></a>"
      ]
    },
    {
      "cell_type": "code",
      "metadata": {
        "id": "ZGmYSeiHynPw"
      },
      "source": [
        "from sklearn.preprocessing import StandardScaler"
      ],
      "execution_count": null,
      "outputs": []
    },
    {
      "cell_type": "code",
      "metadata": {
        "id": "Q9VlGtEBy0ni"
      },
      "source": [
        "scaler = StandardScaler()\n",
        "df_scaled = scaler.fit_transform(df_final)"
      ],
      "execution_count": null,
      "outputs": []
    },
    {
      "cell_type": "code",
      "metadata": {
        "id": "hCoeYm9gy-Gq"
      },
      "source": [
        "from sklearn.cluster import KMeans\n",
        "\n",
        "n_clusters = []\n",
        "sse = []\n",
        "\n",
        "for i in range(2, 21):\n",
        "  print('Calculando Cluster', i)\n",
        "  kmeans= KMeans(n_clusters = i,\n",
        "                 max_iter = 3000,\n",
        "                 random_state = 42,\n",
        "                 n_jobs = -1).fit(df_scaled)\n",
        "\n",
        "  #Elbow\n",
        "  n_clusters.append(i)\n",
        "  sse.append(kmeans.inertia_)"
      ],
      "execution_count": null,
      "outputs": []
    },
    {
      "cell_type": "markdown",
      "metadata": {
        "id": "gqesiVykzpp-"
      },
      "source": [
        "\n",
        "\n",
        "---\n",
        "\n"
      ]
    },
    {
      "cell_type": "markdown",
      "metadata": {
        "id": "wmxs5H8ozzE5"
      },
      "source": [
        "Agora calcule novamente KMeans com os seguintes parametros"
      ]
    },
    {
      "cell_type": "code",
      "metadata": {
        "id": "vraare0tzs_v"
      },
      "source": [
        "n_clusters=6, random_state=42, n_jobs=-1, max_iter=3000"
      ],
      "execution_count": null,
      "outputs": []
    },
    {
      "cell_type": "markdown",
      "metadata": {
        "id": "Aq0MHo7lz_oV"
      },
      "source": [
        "e depois calcule a silhueta utilizando o df_final_sample"
      ]
    },
    {
      "cell_type": "code",
      "metadata": {
        "id": "orE94IuJ0Fni"
      },
      "source": [
        "from sklearn.metrics import silhouette_score"
      ],
      "execution_count": null,
      "outputs": []
    },
    {
      "cell_type": "code",
      "metadata": {
        "id": "0mqqYnAX0NqS"
      },
      "source": [
        "kmeans = KMeans(n_clusters=6, random_state=42, n_jobs=-1, max_iter=3000).fit(df_final_sample)\n",
        "#n_clusters.append(i)\n",
        "r = silhouette_score(df_final_sample, kmeans.labels_)\n",
        "#silhoutte_coefficients.append(r)"
      ],
      "execution_count": null,
      "outputs": []
    },
    {
      "cell_type": "markdown",
      "metadata": {
        "id": "uCFYCtGF0wVA"
      },
      "source": [
        "\n",
        "\n",
        "---\n",
        "\n"
      ]
    },
    {
      "cell_type": "markdown",
      "metadata": {
        "id": "VfY7me6803If"
      },
      "source": [
        "(0.5 ponto) Q23 Qual o coeficiente de determinação? O que ele representa?\n",
        "\n",
        "Resposta: 99% de variabilidade da order_total é explicado pelas variáveis presentes no modelo"
      ]
    },
    {
      "cell_type": "markdown",
      "metadata": {
        "id": "3M500rHV1SFb"
      },
      "source": [
        "(0.25 ponto) Q24 Utilize a variável lr para realizar a predição utilizando todas as variáveis menos o order_total. Utilize o método .predict do objeto lr. Salve na variável y_previsto"
      ]
    },
    {
      "cell_type": "code",
      "metadata": {
        "id": "9LLMNw_F0x_W"
      },
      "source": [
        "df_lr['y_previsto'] = pd.DataFrame(list(modelo.predict(df_lr.drop(['order_total'], axis = 1))))"
      ],
      "execution_count": null,
      "outputs": []
    },
    {
      "cell_type": "code",
      "metadata": {
        "id": "iw1B5FGS2hMv"
      },
      "source": [
        "df_lr[:473922]"
      ],
      "execution_count": null,
      "outputs": []
    },
    {
      "cell_type": "markdown",
      "metadata": {
        "id": "6i-bkwa92tK_"
      },
      "source": [
        "\n",
        "\n",
        "---\n",
        "\n"
      ]
    },
    {
      "cell_type": "markdown",
      "metadata": {
        "id": "O5auyHjO2sb1"
      },
      "source": [
        "(0.5 ponto) Q22 Ajuste novamente o modelo de regressao linear multipla"
      ]
    },
    {
      "cell_type": "code",
      "metadata": {
        "id": "VV_6nQkf21ia"
      },
      "source": [
        "df_lr = sm.add_constant(df_lr)\n",
        "X = df_lr.drop([\"order_total\"], axis = 1)\n",
        "Y = df_lr[[\"order_total\"]]"
      ],
      "execution_count": null,
      "outputs": []
    },
    {
      "cell_type": "code",
      "metadata": {
        "id": "zsGmR4G33IWt"
      },
      "source": [
        "modelo = sm.regression.linear_model.OLS(Y, X).fit()"
      ],
      "execution_count": null,
      "outputs": []
    },
    {
      "cell_type": "code",
      "metadata": {
        "id": "L1GdIxYm3RFy"
      },
      "source": [
        "X.columns"
      ],
      "execution_count": null,
      "outputs": []
    },
    {
      "cell_type": "code",
      "metadata": {
        "id": "2qPxDKHW3TZ2"
      },
      "source": [
        "print(modelo.summary2())"
      ],
      "execution_count": null,
      "outputs": []
    },
    {
      "cell_type": "markdown",
      "metadata": {
        "id": "7it0tZAH3W0r"
      },
      "source": [
        "\n",
        "\n",
        "---\n",
        "\n"
      ]
    },
    {
      "cell_type": "markdown",
      "metadata": {
        "id": "UKxq7pQC3jjh"
      },
      "source": [
        "(0.5 ponto) Q22 Ajuste novamente o modelo de regressao linear multipla"
      ]
    },
    {
      "cell_type": "code",
      "metadata": {
        "id": "Y5NNROKD3XuW"
      },
      "source": [
        "df_lr = sm.add_constant(df_lr)\n",
        "X = df_lr.drop([\"order_total\"], axis = 1)\n",
        "Y = df_lr[[\"order_total\"]]"
      ],
      "execution_count": null,
      "outputs": []
    },
    {
      "cell_type": "code",
      "metadata": {
        "id": "unQElN_K3mvQ"
      },
      "source": [
        "modelo = sm.regression.linear_model.OLS(Y, X).fit()"
      ],
      "execution_count": null,
      "outputs": []
    },
    {
      "cell_type": "code",
      "metadata": {
        "id": "JZe2fIx53pHL"
      },
      "source": [
        "df_lr[\"y_previsto\"] = modelo.predict(X)"
      ],
      "execution_count": null,
      "outputs": []
    },
    {
      "cell_type": "markdown",
      "metadata": {
        "id": "bxLTvw4x37da"
      },
      "source": [
        "\n",
        "\n",
        "---\n",
        "\n"
      ]
    },
    {
      "cell_type": "code",
      "metadata": {
        "id": "g8eKw3Mz38es"
      },
      "source": [
        "df_lr[\"y_previsto\"] = modelo.predict(X)"
      ],
      "execution_count": null,
      "outputs": []
    },
    {
      "cell_type": "code",
      "metadata": {
        "id": "eMjftqwL4Ej5"
      },
      "source": [
        "df_lr[:473922]"
      ],
      "execution_count": null,
      "outputs": []
    }
  ]
}