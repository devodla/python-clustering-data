{
  "nbformat": 4,
  "nbformat_minor": 0,
  "metadata": {
    "colab": {
      "name": "Regr. Linear.ipynb",
      "provenance": [],
      "mount_file_id": "1z1zsIkssOqNnB22RMGcPA9A50KbcG0Df",
      "authorship_tag": "ABX9TyMI7EdtP6am9BeUjdvntFv1",
      "include_colab_link": true
    },
    "kernelspec": {
      "name": "python3",
      "display_name": "Python 3"
    }
  },
  "cells": [
    {
      "cell_type": "markdown",
      "metadata": {
        "id": "view-in-github",
        "colab_type": "text"
      },
      "source": [
        "<a href=\"https://colab.research.google.com/github/onlyreynaldo/python-clustering-data/blob/main/Regr_Linear.ipynb\" target=\"_parent\"><img src=\"https://colab.research.google.com/assets/colab-badge.svg\" alt=\"Open In Colab\"/></a>"
      ]
    },
    {
      "cell_type": "markdown",
      "metadata": {
        "id": "FaE75fZDRx8f"
      },
      "source": [
        "# Regressão Linear Simples"
      ]
    },
    {
      "cell_type": "code",
      "metadata": {
        "id": "jWGn2nsTRXYz"
      },
      "source": [
        "import pandas as pd"
      ],
      "execution_count": 2,
      "outputs": []
    },
    {
      "cell_type": "code",
      "metadata": {
        "id": "NfQBteCwR6nj"
      },
      "source": [
        "pasta_raiz = '/content/drive/My Drive/datasets'"
      ],
      "execution_count": 3,
      "outputs": []
    },
    {
      "cell_type": "code",
      "metadata": {
        "id": "zVX7sKffSE1t",
        "outputId": "c1850abe-fb13-411b-f4ff-637d8ddda215",
        "colab": {
          "base_uri": "https://localhost:8080/",
          "height": 204
        }
      },
      "source": [
        "df = pd.read_csv(f'{pasta_raiz}/base_pulmao.csv')\n",
        "df.head()"
      ],
      "execution_count": 5,
      "outputs": [
        {
          "output_type": "execute_result",
          "data": {
            "text/html": [
              "<div>\n",
              "<style scoped>\n",
              "    .dataframe tbody tr th:only-of-type {\n",
              "        vertical-align: middle;\n",
              "    }\n",
              "\n",
              "    .dataframe tbody tr th {\n",
              "        vertical-align: top;\n",
              "    }\n",
              "\n",
              "    .dataframe thead th {\n",
              "        text-align: right;\n",
              "    }\n",
              "</style>\n",
              "<table border=\"1\" class=\"dataframe\">\n",
              "  <thead>\n",
              "    <tr style=\"text-align: right;\">\n",
              "      <th></th>\n",
              "      <th>taxa_fluxo_expiratorio</th>\n",
              "      <th>qtde_anos_exposto</th>\n",
              "    </tr>\n",
              "  </thead>\n",
              "  <tbody>\n",
              "    <tr>\n",
              "      <th>0</th>\n",
              "      <td>390</td>\n",
              "      <td>0</td>\n",
              "    </tr>\n",
              "    <tr>\n",
              "      <th>1</th>\n",
              "      <td>410</td>\n",
              "      <td>0</td>\n",
              "    </tr>\n",
              "    <tr>\n",
              "      <th>2</th>\n",
              "      <td>430</td>\n",
              "      <td>0</td>\n",
              "    </tr>\n",
              "    <tr>\n",
              "      <th>3</th>\n",
              "      <td>460</td>\n",
              "      <td>0</td>\n",
              "    </tr>\n",
              "    <tr>\n",
              "      <th>4</th>\n",
              "      <td>420</td>\n",
              "      <td>1</td>\n",
              "    </tr>\n",
              "  </tbody>\n",
              "</table>\n",
              "</div>"
            ],
            "text/plain": [
              "   taxa_fluxo_expiratorio  qtde_anos_exposto\n",
              "0                     390                  0\n",
              "1                     410                  0\n",
              "2                     430                  0\n",
              "3                     460                  0\n",
              "4                     420                  1"
            ]
          },
          "metadata": {
            "tags": []
          },
          "execution_count": 5
        }
      ]
    },
    {
      "cell_type": "code",
      "metadata": {
        "id": "tbfhP5uVTbWK",
        "outputId": "ec6607ec-eab6-444d-ab59-9098028f31ee",
        "colab": {
          "base_uri": "https://localhost:8080/",
          "height": 297
        }
      },
      "source": [
        "df.describe()"
      ],
      "execution_count": 6,
      "outputs": [
        {
          "output_type": "execute_result",
          "data": {
            "text/html": [
              "<div>\n",
              "<style scoped>\n",
              "    .dataframe tbody tr th:only-of-type {\n",
              "        vertical-align: middle;\n",
              "    }\n",
              "\n",
              "    .dataframe tbody tr th {\n",
              "        vertical-align: top;\n",
              "    }\n",
              "\n",
              "    .dataframe thead th {\n",
              "        text-align: right;\n",
              "    }\n",
              "</style>\n",
              "<table border=\"1\" class=\"dataframe\">\n",
              "  <thead>\n",
              "    <tr style=\"text-align: right;\">\n",
              "      <th></th>\n",
              "      <th>taxa_fluxo_expiratorio</th>\n",
              "      <th>qtde_anos_exposto</th>\n",
              "    </tr>\n",
              "  </thead>\n",
              "  <tbody>\n",
              "    <tr>\n",
              "      <th>count</th>\n",
              "      <td>122.000000</td>\n",
              "      <td>122.000000</td>\n",
              "    </tr>\n",
              "    <tr>\n",
              "      <th>mean</th>\n",
              "      <td>365.655738</td>\n",
              "      <td>14.081967</td>\n",
              "    </tr>\n",
              "    <tr>\n",
              "      <th>std</th>\n",
              "      <td>105.132641</td>\n",
              "      <td>6.959850</td>\n",
              "    </tr>\n",
              "    <tr>\n",
              "      <th>min</th>\n",
              "      <td>110.000000</td>\n",
              "      <td>0.000000</td>\n",
              "    </tr>\n",
              "    <tr>\n",
              "      <th>25%</th>\n",
              "      <td>300.000000</td>\n",
              "      <td>7.000000</td>\n",
              "    </tr>\n",
              "    <tr>\n",
              "      <th>50%</th>\n",
              "      <td>365.000000</td>\n",
              "      <td>17.000000</td>\n",
              "    </tr>\n",
              "    <tr>\n",
              "      <th>75%</th>\n",
              "      <td>430.000000</td>\n",
              "      <td>20.000000</td>\n",
              "    </tr>\n",
              "    <tr>\n",
              "      <th>max</th>\n",
              "      <td>610.000000</td>\n",
              "      <td>23.000000</td>\n",
              "    </tr>\n",
              "  </tbody>\n",
              "</table>\n",
              "</div>"
            ],
            "text/plain": [
              "       taxa_fluxo_expiratorio  qtde_anos_exposto\n",
              "count              122.000000         122.000000\n",
              "mean               365.655738          14.081967\n",
              "std                105.132641           6.959850\n",
              "min                110.000000           0.000000\n",
              "25%                300.000000           7.000000\n",
              "50%                365.000000          17.000000\n",
              "75%                430.000000          20.000000\n",
              "max                610.000000          23.000000"
            ]
          },
          "metadata": {
            "tags": []
          },
          "execution_count": 6
        }
      ]
    },
    {
      "cell_type": "code",
      "metadata": {
        "id": "6APtF8aMTqw6",
        "outputId": "a57cf789-0dd5-4072-923d-ab4503e695fa",
        "colab": {
          "base_uri": "https://localhost:8080/",
          "height": 297
        }
      },
      "source": [
        "%matplotlib inline \n",
        "#se utiliza para versiones anteriores, en los mas nuevos no es necesario, era para decir a Jupiter renderizar su imagen\n",
        "df.plot(kind='scatter', x='qtde_anos_exposto', y='taxa_fluxo_expiratorio')"
      ],
      "execution_count": 10,
      "outputs": [
        {
          "output_type": "execute_result",
          "data": {
            "text/plain": [
              "<matplotlib.axes._subplots.AxesSubplot at 0x7f5bf673b898>"
            ]
          },
          "metadata": {
            "tags": []
          },
          "execution_count": 10
        },
        {
          "output_type": "display_data",
          "data": {
            "image/png": "[encoded data removed]",
            "text/plain": [
              "<Figure size 432x288 with 1 Axes>"
            ]
          },
          "metadata": {
            "tags": [],
            "needs_background": "light"
          }
        }
      ]
    },
    {
      "cell_type": "code",
      "metadata": {
        "id": "0AEkBlnPUazr"
      },
      "source": [
        "X = df['qtde_anos_exposto'].copy()\n",
        "y = df['taxa_fluxo_expiratorio'].copy()"
      ],
      "execution_count": 11,
      "outputs": []
    },
    {
      "cell_type": "code",
      "metadata": {
        "id": "hArFbQRgU1ZG"
      },
      "source": [
        "import statsmodels.api as sm"
      ],
      "execution_count": 13,
      "outputs": []
    },
    {
      "cell_type": "code",
      "metadata": {
        "id": "88LS6cFsYA3I"
      },
      "source": [
        "X = sm.add_constant(X)"
      ],
      "execution_count": 14,
      "outputs": []
    },
    {
      "cell_type": "code",
      "metadata": {
        "id": "Tt4vp2gxYFdv",
        "outputId": "159367c4-a7c5-4249-a28e-71ca1847b278",
        "colab": {
          "base_uri": "https://localhost:8080/",
          "height": 204
        }
      },
      "source": [
        "X.head()"
      ],
      "execution_count": 16,
      "outputs": [
        {
          "output_type": "execute_result",
          "data": {
            "text/html": [
              "<div>\n",
              "<style scoped>\n",
              "    .dataframe tbody tr th:only-of-type {\n",
              "        vertical-align: middle;\n",
              "    }\n",
              "\n",
              "    .dataframe tbody tr th {\n",
              "        vertical-align: top;\n",
              "    }\n",
              "\n",
              "    .dataframe thead th {\n",
              "        text-align: right;\n",
              "    }\n",
              "</style>\n",
              "<table border=\"1\" class=\"dataframe\">\n",
              "  <thead>\n",
              "    <tr style=\"text-align: right;\">\n",
              "      <th></th>\n",
              "      <th>const</th>\n",
              "      <th>qtde_anos_exposto</th>\n",
              "    </tr>\n",
              "  </thead>\n",
              "  <tbody>\n",
              "    <tr>\n",
              "      <th>0</th>\n",
              "      <td>1.0</td>\n",
              "      <td>0</td>\n",
              "    </tr>\n",
              "    <tr>\n",
              "      <th>1</th>\n",
              "      <td>1.0</td>\n",
              "      <td>0</td>\n",
              "    </tr>\n",
              "    <tr>\n",
              "      <th>2</th>\n",
              "      <td>1.0</td>\n",
              "      <td>0</td>\n",
              "    </tr>\n",
              "    <tr>\n",
              "      <th>3</th>\n",
              "      <td>1.0</td>\n",
              "      <td>0</td>\n",
              "    </tr>\n",
              "    <tr>\n",
              "      <th>4</th>\n",
              "      <td>1.0</td>\n",
              "      <td>1</td>\n",
              "    </tr>\n",
              "  </tbody>\n",
              "</table>\n",
              "</div>"
            ],
            "text/plain": [
              "   const  qtde_anos_exposto\n",
              "0    1.0                  0\n",
              "1    1.0                  0\n",
              "2    1.0                  0\n",
              "3    1.0                  0\n",
              "4    1.0                  1"
            ]
          },
          "metadata": {
            "tags": []
          },
          "execution_count": 16
        }
      ]
    },
    {
      "cell_type": "code",
      "metadata": {
        "id": "2c5VpVCKYIUi"
      },
      "source": [
        "modelo_rls = sm.regression.linear_model.OLS(y, X).fit()\n",
        "# .fit para executar la instancia, hasta la parte de OLS(y, X) instancia para guardarlo en memoria"
      ],
      "execution_count": 17,
      "outputs": []
    },
    {
      "cell_type": "code",
      "metadata": {
        "id": "s3AEEOLRYQeu",
        "outputId": "98d30003-f4c3-4668-8dad-317351d818b9",
        "colab": {
          "base_uri": "https://localhost:8080/"
        }
      },
      "source": [
        "print(modelo_rls.summary());"
      ],
      "execution_count": 20,
      "outputs": [
        {
          "output_type": "stream",
          "text": [
            "                              OLS Regression Results                              \n",
            "==================================================================================\n",
            "Dep. Variable:     taxa_fluxo_expiratorio   R-squared:                       0.077\n",
            "Model:                                OLS   Adj. R-squared:                  0.069\n",
            "Method:                     Least Squares   F-statistic:                     9.974\n",
            "Date:                    Tue, 03 Nov 2020   Prob (F-statistic):            0.00201\n",
            "Time:                            23:11:46   Log-Likelihood:                -735.68\n",
            "No. Observations:                     122   AIC:                             1475.\n",
            "Df Residuals:                         120   BIC:                             1481.\n",
            "Df Model:                               1                                         \n",
            "Covariance Type:                nonrobust                                         \n",
            "=====================================================================================\n",
            "                        coef    std err          t      P>|t|      [0.025      0.975]\n",
            "-------------------------------------------------------------------------------------\n",
            "const               424.5828     20.796     20.417      0.000     383.408     465.757\n",
            "qtde_anos_exposto    -4.1846      1.325     -3.158      0.002      -6.808      -1.561\n",
            "==============================================================================\n",
            "Omnibus:                        0.767   Durbin-Watson:                   1.111\n",
            "Prob(Omnibus):                  0.681   Jarque-Bera (JB):                0.891\n",
            "Skew:                          -0.162   Prob(JB):                        0.641\n",
            "Kurtosis:                       2.734   Cond. No.                         35.7\n",
            "==============================================================================\n",
            "\n",
            "Warnings:\n",
            "[1] Standard Errors assume that the covariance matrix of the errors is correctly specified.\n"
          ],
          "name": "stdout"
        }
      ]
    },
    {
      "cell_type": "code",
      "metadata": {
        "id": "r0ikn4rWYXC-",
        "outputId": "f8eafce2-000f-4001-e121-be8872654f18",
        "colab": {
          "base_uri": "https://localhost:8080/"
        }
      },
      "source": [
        "print(modelo_rls.summary2())"
      ],
      "execution_count": 21,
      "outputs": [
        {
          "output_type": "stream",
          "text": [
            "                    Results: Ordinary least squares\n",
            "========================================================================\n",
            "Model:              OLS                    Adj. R-squared:     0.069    \n",
            "Dependent Variable: taxa_fluxo_expiratorio AIC:                1475.3501\n",
            "Date:               2020-11-03 23:14       BIC:                1480.9581\n",
            "No. Observations:   122                    Log-Likelihood:     -735.68  \n",
            "Df Model:           1                      F-statistic:        9.974    \n",
            "Df Residuals:       120                    Prob (F-statistic): 0.00201  \n",
            "R-squared:          0.077                  Scale:              10290.   \n",
            "------------------------------------------------------------------------\n",
            "                       Coef.   Std.Err.    t    P>|t|   [0.025   0.975] \n",
            "------------------------------------------------------------------------\n",
            "const                 424.5828  20.7960 20.4165 0.0000 383.4081 465.7575\n",
            "qtde_anos_exposto      -4.1846   1.3250 -3.1582 0.0020  -6.8079  -1.5612\n",
            "------------------------------------------------------------------------\n",
            "Omnibus:                0.767           Durbin-Watson:             1.111\n",
            "Prob(Omnibus):          0.681           Jarque-Bera (JB):          0.891\n",
            "Skew:                   -0.162          Prob(JB):                  0.641\n",
            "Kurtosis:               2.734           Condition No.:             36   \n",
            "========================================================================\n",
            "\n"
          ],
          "name": "stdout"
        }
      ]
    },
    {
      "cell_type": "code",
      "metadata": {
        "id": "qAaUaP5GZGKe",
        "outputId": "815a14b3-bffb-460b-8e71-31bd11f823bb",
        "colab": {
          "base_uri": "https://localhost:8080/"
        }
      },
      "source": [
        "# outra forma de fazer a regressao linear\n",
        "import statsmodels.formula.api as smf\n",
        "\n",
        "modelo = smf.ols('taxa_fluxo_expiratorio ~ qtde_anos_exposto', data=df).fit()\n",
        "print(modelo.summary())"
      ],
      "execution_count": 22,
      "outputs": [
        {
          "output_type": "stream",
          "text": [
            "                              OLS Regression Results                              \n",
            "==================================================================================\n",
            "Dep. Variable:     taxa_fluxo_expiratorio   R-squared:                       0.077\n",
            "Model:                                OLS   Adj. R-squared:                  0.069\n",
            "Method:                     Least Squares   F-statistic:                     9.974\n",
            "Date:                    Tue, 03 Nov 2020   Prob (F-statistic):            0.00201\n",
            "Time:                            23:52:22   Log-Likelihood:                -735.68\n",
            "No. Observations:                     122   AIC:                             1475.\n",
            "Df Residuals:                         120   BIC:                             1481.\n",
            "Df Model:                               1                                         \n",
            "Covariance Type:                nonrobust                                         \n",
            "=====================================================================================\n",
            "                        coef    std err          t      P>|t|      [0.025      0.975]\n",
            "-------------------------------------------------------------------------------------\n",
            "Intercept           424.5828     20.796     20.417      0.000     383.408     465.757\n",
            "qtde_anos_exposto    -4.1846      1.325     -3.158      0.002      -6.808      -1.561\n",
            "==============================================================================\n",
            "Omnibus:                        0.767   Durbin-Watson:                   1.111\n",
            "Prob(Omnibus):                  0.681   Jarque-Bera (JB):                0.891\n",
            "Skew:                          -0.162   Prob(JB):                        0.641\n",
            "Kurtosis:                       2.734   Cond. No.                         35.7\n",
            "==============================================================================\n",
            "\n",
            "Warnings:\n",
            "[1] Standard Errors assume that the covariance matrix of the errors is correctly specified.\n"
          ],
          "name": "stdout"
        }
      ]
    }
  ]
}