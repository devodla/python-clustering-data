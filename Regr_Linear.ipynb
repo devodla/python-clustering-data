{
  "nbformat": 4,
  "nbformat_minor": 0,
  "metadata": {
    "colab": {
      "name": "Regr. Linear.ipynb",
      "provenance": [],
      "mount_file_id": "1z1zsIkssOqNnB22RMGcPA9A50KbcG0Df",
      "authorship_tag": "ABX9TyPK/38aSsmmDJNNC/51Nq2b",
      "include_colab_link": true
    },
    "kernelspec": {
      "name": "python3",
      "display_name": "Python 3"
    }
  },
  "cells": [
    {
      "cell_type": "markdown",
      "metadata": {
        "id": "view-in-github",
        "colab_type": "text"
      },
      "source": [
        "<a href=\"https://colab.research.google.com/github/onlyreynaldo/python-clustering-data/blob/main/Regr_Linear.ipynb\" target=\"_parent\"><img src=\"https://colab.research.google.com/assets/colab-badge.svg\" alt=\"Open In Colab\"/></a>"
      ]
    },
    {
      "cell_type": "markdown",
      "metadata": {
        "id": "FaE75fZDRx8f"
      },
      "source": [
        "# Regressão Linear Simples"
      ]
    },
    {
      "cell_type": "code",
      "metadata": {
        "id": "jWGn2nsTRXYz"
      },
      "source": [
        "import pandas as pd"
      ],
      "execution_count": 1,
      "outputs": []
    },
    {
      "cell_type": "code",
      "metadata": {
        "id": "NfQBteCwR6nj"
      },
      "source": [
        "pasta_raiz = '/content/drive/My Drive/datasets'"
      ],
      "execution_count": 2,
      "outputs": []
    },
    {
      "cell_type": "code",
      "metadata": {
        "id": "zVX7sKffSE1t",
        "outputId": "68ad205c-3924-40f8-acde-2102641db436",
        "colab": {
          "base_uri": "https://localhost:8080/",
          "height": 204
        }
      },
      "source": [
        "df = pd.read_csv(f'{pasta_raiz}/base_pulmao.csv')\n",
        "df.head()"
      ],
      "execution_count": 3,
      "outputs": [
        {
          "output_type": "execute_result",
          "data": {
            "text/html": [
              "<div>\n",
              "<style scoped>\n",
              "    .dataframe tbody tr th:only-of-type {\n",
              "        vertical-align: middle;\n",
              "    }\n",
              "\n",
              "    .dataframe tbody tr th {\n",
              "        vertical-align: top;\n",
              "    }\n",
              "\n",
              "    .dataframe thead th {\n",
              "        text-align: right;\n",
              "    }\n",
              "</style>\n",
              "<table border=\"1\" class=\"dataframe\">\n",
              "  <thead>\n",
              "    <tr style=\"text-align: right;\">\n",
              "      <th></th>\n",
              "      <th>taxa_fluxo_expiratorio</th>\n",
              "      <th>qtde_anos_exposto</th>\n",
              "    </tr>\n",
              "  </thead>\n",
              "  <tbody>\n",
              "    <tr>\n",
              "      <th>0</th>\n",
              "      <td>390</td>\n",
              "      <td>0</td>\n",
              "    </tr>\n",
              "    <tr>\n",
              "      <th>1</th>\n",
              "      <td>410</td>\n",
              "      <td>0</td>\n",
              "    </tr>\n",
              "    <tr>\n",
              "      <th>2</th>\n",
              "      <td>430</td>\n",
              "      <td>0</td>\n",
              "    </tr>\n",
              "    <tr>\n",
              "      <th>3</th>\n",
              "      <td>460</td>\n",
              "      <td>0</td>\n",
              "    </tr>\n",
              "    <tr>\n",
              "      <th>4</th>\n",
              "      <td>420</td>\n",
              "      <td>1</td>\n",
              "    </tr>\n",
              "  </tbody>\n",
              "</table>\n",
              "</div>"
            ],
            "text/plain": [
              "   taxa_fluxo_expiratorio  qtde_anos_exposto\n",
              "0                     390                  0\n",
              "1                     410                  0\n",
              "2                     430                  0\n",
              "3                     460                  0\n",
              "4                     420                  1"
            ]
          },
          "metadata": {
            "tags": []
          },
          "execution_count": 3
        }
      ]
    },
    {
      "cell_type": "code",
      "metadata": {
        "id": "tbfhP5uVTbWK",
        "outputId": "258ee7ca-5f87-4464-a8f0-f0d371fac381",
        "colab": {
          "base_uri": "https://localhost:8080/",
          "height": 297
        }
      },
      "source": [
        "df.describe()"
      ],
      "execution_count": 4,
      "outputs": [
        {
          "output_type": "execute_result",
          "data": {
            "text/html": [
              "<div>\n",
              "<style scoped>\n",
              "    .dataframe tbody tr th:only-of-type {\n",
              "        vertical-align: middle;\n",
              "    }\n",
              "\n",
              "    .dataframe tbody tr th {\n",
              "        vertical-align: top;\n",
              "    }\n",
              "\n",
              "    .dataframe thead th {\n",
              "        text-align: right;\n",
              "    }\n",
              "</style>\n",
              "<table border=\"1\" class=\"dataframe\">\n",
              "  <thead>\n",
              "    <tr style=\"text-align: right;\">\n",
              "      <th></th>\n",
              "      <th>taxa_fluxo_expiratorio</th>\n",
              "      <th>qtde_anos_exposto</th>\n",
              "    </tr>\n",
              "  </thead>\n",
              "  <tbody>\n",
              "    <tr>\n",
              "      <th>count</th>\n",
              "      <td>122.000000</td>\n",
              "      <td>122.000000</td>\n",
              "    </tr>\n",
              "    <tr>\n",
              "      <th>mean</th>\n",
              "      <td>365.655738</td>\n",
              "      <td>14.081967</td>\n",
              "    </tr>\n",
              "    <tr>\n",
              "      <th>std</th>\n",
              "      <td>105.132641</td>\n",
              "      <td>6.959850</td>\n",
              "    </tr>\n",
              "    <tr>\n",
              "      <th>min</th>\n",
              "      <td>110.000000</td>\n",
              "      <td>0.000000</td>\n",
              "    </tr>\n",
              "    <tr>\n",
              "      <th>25%</th>\n",
              "      <td>300.000000</td>\n",
              "      <td>7.000000</td>\n",
              "    </tr>\n",
              "    <tr>\n",
              "      <th>50%</th>\n",
              "      <td>365.000000</td>\n",
              "      <td>17.000000</td>\n",
              "    </tr>\n",
              "    <tr>\n",
              "      <th>75%</th>\n",
              "      <td>430.000000</td>\n",
              "      <td>20.000000</td>\n",
              "    </tr>\n",
              "    <tr>\n",
              "      <th>max</th>\n",
              "      <td>610.000000</td>\n",
              "      <td>23.000000</td>\n",
              "    </tr>\n",
              "  </tbody>\n",
              "</table>\n",
              "</div>"
            ],
            "text/plain": [
              "       taxa_fluxo_expiratorio  qtde_anos_exposto\n",
              "count              122.000000         122.000000\n",
              "mean               365.655738          14.081967\n",
              "std                105.132641           6.959850\n",
              "min                110.000000           0.000000\n",
              "25%                300.000000           7.000000\n",
              "50%                365.000000          17.000000\n",
              "75%                430.000000          20.000000\n",
              "max                610.000000          23.000000"
            ]
          },
          "metadata": {
            "tags": []
          },
          "execution_count": 4
        }
      ]
    },
    {
      "cell_type": "code",
      "metadata": {
        "id": "6APtF8aMTqw6",
        "outputId": "997f8166-7f8b-4177-a4c8-046c15234a4c",
        "colab": {
          "base_uri": "https://localhost:8080/",
          "height": 297
        }
      },
      "source": [
        "%matplotlib inline \n",
        "#se utiliza para versiones anteriores, en los mas nuevos no es necesario, era para decir a Jupiter renderizar su imagen\n",
        "df.plot(kind='scatter', x='qtde_anos_exposto', y='taxa_fluxo_expiratorio')"
      ],
      "execution_count": 5,
      "outputs": [
        {
          "output_type": "execute_result",
          "data": {
            "text/plain": [
              "<matplotlib.axes._subplots.AxesSubplot at 0x7f5c873bc128>"
            ]
          },
          "metadata": {
            "tags": []
          },
          "execution_count": 5
        },
        {
          "output_type": "display_data",
          "data": {
            "image/png": "[encoded data removed]",
            "text/plain": [
              "<Figure size 432x288 with 1 Axes>"
            ]
          },
          "metadata": {
            "tags": [],
            "needs_background": "light"
          }
        }
      ]
    },
    {
      "cell_type": "code",
      "metadata": {
        "id": "0AEkBlnPUazr"
      },
      "source": [
        "X = df['qtde_anos_exposto'].copy()\n",
        "y = df['taxa_fluxo_expiratorio'].copy()"
      ],
      "execution_count": 6,
      "outputs": []
    },
    {
      "cell_type": "code",
      "metadata": {
        "id": "hArFbQRgU1ZG",
        "outputId": "1e46cf0f-2026-4a32-ae38-4a3e42fef870",
        "colab": {
          "base_uri": "https://localhost:8080/"
        }
      },
      "source": [
        "import statsmodels.api as sm"
      ],
      "execution_count": 7,
      "outputs": [
        {
          "output_type": "stream",
          "text": [
            "/usr/local/lib/python3.6/dist-packages/statsmodels/tools/_testing.py:19: FutureWarning: pandas.util.testing is deprecated. Use the functions in the public API at pandas.testing instead.\n",
            "  import pandas.util.testing as tm\n"
          ],
          "name": "stderr"
        }
      ]
    },
    {
      "cell_type": "code",
      "metadata": {
        "id": "88LS6cFsYA3I"
      },
      "source": [
        "X = sm.add_constant(X)"
      ],
      "execution_count": 8,
      "outputs": []
    },
    {
      "cell_type": "code",
      "metadata": {
        "id": "Tt4vp2gxYFdv",
        "outputId": "5b7be47d-c6c1-47a0-aa61-886e912ea51d",
        "colab": {
          "base_uri": "https://localhost:8080/",
          "height": 204
        }
      },
      "source": [
        "X.head()"
      ],
      "execution_count": 9,
      "outputs": [
        {
          "output_type": "execute_result",
          "data": {
            "text/html": [
              "<div>\n",
              "<style scoped>\n",
              "    .dataframe tbody tr th:only-of-type {\n",
              "        vertical-align: middle;\n",
              "    }\n",
              "\n",
              "    .dataframe tbody tr th {\n",
              "        vertical-align: top;\n",
              "    }\n",
              "\n",
              "    .dataframe thead th {\n",
              "        text-align: right;\n",
              "    }\n",
              "</style>\n",
              "<table border=\"1\" class=\"dataframe\">\n",
              "  <thead>\n",
              "    <tr style=\"text-align: right;\">\n",
              "      <th></th>\n",
              "      <th>const</th>\n",
              "      <th>qtde_anos_exposto</th>\n",
              "    </tr>\n",
              "  </thead>\n",
              "  <tbody>\n",
              "    <tr>\n",
              "      <th>0</th>\n",
              "      <td>1.0</td>\n",
              "      <td>0</td>\n",
              "    </tr>\n",
              "    <tr>\n",
              "      <th>1</th>\n",
              "      <td>1.0</td>\n",
              "      <td>0</td>\n",
              "    </tr>\n",
              "    <tr>\n",
              "      <th>2</th>\n",
              "      <td>1.0</td>\n",
              "      <td>0</td>\n",
              "    </tr>\n",
              "    <tr>\n",
              "      <th>3</th>\n",
              "      <td>1.0</td>\n",
              "      <td>0</td>\n",
              "    </tr>\n",
              "    <tr>\n",
              "      <th>4</th>\n",
              "      <td>1.0</td>\n",
              "      <td>1</td>\n",
              "    </tr>\n",
              "  </tbody>\n",
              "</table>\n",
              "</div>"
            ],
            "text/plain": [
              "   const  qtde_anos_exposto\n",
              "0    1.0                  0\n",
              "1    1.0                  0\n",
              "2    1.0                  0\n",
              "3    1.0                  0\n",
              "4    1.0                  1"
            ]
          },
          "metadata": {
            "tags": []
          },
          "execution_count": 9
        }
      ]
    },
    {
      "cell_type": "code",
      "metadata": {
        "id": "2c5VpVCKYIUi"
      },
      "source": [
        "modelo_rls = sm.regression.linear_model.OLS(y, X).fit()\n",
        "# .fit para executar la instancia, hasta la parte de OLS(y, X) instancia para guardarlo en memoria"
      ],
      "execution_count": 10,
      "outputs": []
    },
    {
      "cell_type": "code",
      "metadata": {
        "id": "s3AEEOLRYQeu",
        "outputId": "b5c35b2f-0d4b-464c-fbe4-398279b0ba13",
        "colab": {
          "base_uri": "https://localhost:8080/"
        }
      },
      "source": [
        "print(modelo_rls.summary());"
      ],
      "execution_count": 11,
      "outputs": [
        {
          "output_type": "stream",
          "text": [
            "                              OLS Regression Results                              \n",
            "==================================================================================\n",
            "Dep. Variable:     taxa_fluxo_expiratorio   R-squared:                       0.077\n",
            "Model:                                OLS   Adj. R-squared:                  0.069\n",
            "Method:                     Least Squares   F-statistic:                     9.974\n",
            "Date:                    Wed, 04 Nov 2020   Prob (F-statistic):            0.00201\n",
            "Time:                            02:27:25   Log-Likelihood:                -735.68\n",
            "No. Observations:                     122   AIC:                             1475.\n",
            "Df Residuals:                         120   BIC:                             1481.\n",
            "Df Model:                               1                                         \n",
            "Covariance Type:                nonrobust                                         \n",
            "=====================================================================================\n",
            "                        coef    std err          t      P>|t|      [0.025      0.975]\n",
            "-------------------------------------------------------------------------------------\n",
            "const               424.5828     20.796     20.417      0.000     383.408     465.757\n",
            "qtde_anos_exposto    -4.1846      1.325     -3.158      0.002      -6.808      -1.561\n",
            "==============================================================================\n",
            "Omnibus:                        0.767   Durbin-Watson:                   1.111\n",
            "Prob(Omnibus):                  0.681   Jarque-Bera (JB):                0.891\n",
            "Skew:                          -0.162   Prob(JB):                        0.641\n",
            "Kurtosis:                       2.734   Cond. No.                         35.7\n",
            "==============================================================================\n",
            "\n",
            "Warnings:\n",
            "[1] Standard Errors assume that the covariance matrix of the errors is correctly specified.\n"
          ],
          "name": "stdout"
        }
      ]
    },
    {
      "cell_type": "code",
      "metadata": {
        "id": "r0ikn4rWYXC-",
        "outputId": "06295171-c3b2-465c-f340-140430e08fed",
        "colab": {
          "base_uri": "https://localhost:8080/"
        }
      },
      "source": [
        "print(modelo_rls.summary2())"
      ],
      "execution_count": 12,
      "outputs": [
        {
          "output_type": "stream",
          "text": [
            "                    Results: Ordinary least squares\n",
            "========================================================================\n",
            "Model:              OLS                    Adj. R-squared:     0.069    \n",
            "Dependent Variable: taxa_fluxo_expiratorio AIC:                1475.3501\n",
            "Date:               2020-11-04 02:27       BIC:                1480.9581\n",
            "No. Observations:   122                    Log-Likelihood:     -735.68  \n",
            "Df Model:           1                      F-statistic:        9.974    \n",
            "Df Residuals:       120                    Prob (F-statistic): 0.00201  \n",
            "R-squared:          0.077                  Scale:              10290.   \n",
            "------------------------------------------------------------------------\n",
            "                       Coef.   Std.Err.    t    P>|t|   [0.025   0.975] \n",
            "------------------------------------------------------------------------\n",
            "const                 424.5828  20.7960 20.4165 0.0000 383.4081 465.7575\n",
            "qtde_anos_exposto      -4.1846   1.3250 -3.1582 0.0020  -6.8079  -1.5612\n",
            "------------------------------------------------------------------------\n",
            "Omnibus:                0.767           Durbin-Watson:             1.111\n",
            "Prob(Omnibus):          0.681           Jarque-Bera (JB):          0.891\n",
            "Skew:                   -0.162          Prob(JB):                  0.641\n",
            "Kurtosis:               2.734           Condition No.:             36   \n",
            "========================================================================\n",
            "\n"
          ],
          "name": "stdout"
        }
      ]
    },
    {
      "cell_type": "code",
      "metadata": {
        "id": "qAaUaP5GZGKe",
        "outputId": "872112f2-7806-46eb-bedb-8e1502582a97",
        "colab": {
          "base_uri": "https://localhost:8080/"
        }
      },
      "source": [
        "# outra forma de fazer a regressao linear\n",
        "import statsmodels.formula.api as smf\n",
        "\n",
        "modelo = smf.ols('taxa_fluxo_expiratorio ~ qtde_anos_exposto', data=df).fit()\n",
        "print(modelo.summary())"
      ],
      "execution_count": 13,
      "outputs": [
        {
          "output_type": "stream",
          "text": [
            "                              OLS Regression Results                              \n",
            "==================================================================================\n",
            "Dep. Variable:     taxa_fluxo_expiratorio   R-squared:                       0.077\n",
            "Model:                                OLS   Adj. R-squared:                  0.069\n",
            "Method:                     Least Squares   F-statistic:                     9.974\n",
            "Date:                    Wed, 04 Nov 2020   Prob (F-statistic):            0.00201\n",
            "Time:                            02:27:29   Log-Likelihood:                -735.68\n",
            "No. Observations:                     122   AIC:                             1475.\n",
            "Df Residuals:                         120   BIC:                             1481.\n",
            "Df Model:                               1                                         \n",
            "Covariance Type:                nonrobust                                         \n",
            "=====================================================================================\n",
            "                        coef    std err          t      P>|t|      [0.025      0.975]\n",
            "-------------------------------------------------------------------------------------\n",
            "Intercept           424.5828     20.796     20.417      0.000     383.408     465.757\n",
            "qtde_anos_exposto    -4.1846      1.325     -3.158      0.002      -6.808      -1.561\n",
            "==============================================================================\n",
            "Omnibus:                        0.767   Durbin-Watson:                   1.111\n",
            "Prob(Omnibus):                  0.681   Jarque-Bera (JB):                0.891\n",
            "Skew:                          -0.162   Prob(JB):                        0.641\n",
            "Kurtosis:                       2.734   Cond. No.                         35.7\n",
            "==============================================================================\n",
            "\n",
            "Warnings:\n",
            "[1] Standard Errors assume that the covariance matrix of the errors is correctly specified.\n"
          ],
          "name": "stdout"
        }
      ]
    },
    {
      "cell_type": "markdown",
      "metadata": {
        "id": "wX2Dgu9wEgUl"
      },
      "source": [
        "# Regressão linear multipla"
      ]
    },
    {
      "cell_type": "code",
      "metadata": {
        "id": "qxcF1cUqEbYo",
        "outputId": "94d24345-b230-443b-c3b3-94ccf5e24627",
        "colab": {
          "base_uri": "https://localhost:8080/",
          "height": 204
        }
      },
      "source": [
        "dados = pd.read_excel(f'{pasta_raiz}/base_cheque.xls', sheet_name='cheque-especial')\n",
        "dados.head()"
      ],
      "execution_count": 14,
      "outputs": [
        {
          "output_type": "execute_result",
          "data": {
            "text/html": [
              "<div>\n",
              "<style scoped>\n",
              "    .dataframe tbody tr th:only-of-type {\n",
              "        vertical-align: middle;\n",
              "    }\n",
              "\n",
              "    .dataframe tbody tr th {\n",
              "        vertical-align: top;\n",
              "    }\n",
              "\n",
              "    .dataframe thead th {\n",
              "        text-align: right;\n",
              "    }\n",
              "</style>\n",
              "<table border=\"1\" class=\"dataframe\">\n",
              "  <thead>\n",
              "    <tr style=\"text-align: right;\">\n",
              "      <th></th>\n",
              "      <th>Código do Cliente</th>\n",
              "      <th>Idade</th>\n",
              "      <th>Rendimento\\nTotal</th>\n",
              "      <th>Salário</th>\n",
              "      <th>Limite de Crédito Imediato</th>\n",
              "      <th>Valor Total\\ndo Patrimônio</th>\n",
              "      <th>Limite do Cheque Especial</th>\n",
              "    </tr>\n",
              "  </thead>\n",
              "  <tbody>\n",
              "    <tr>\n",
              "      <th>0</th>\n",
              "      <td>1</td>\n",
              "      <td>81</td>\n",
              "      <td>6800.0</td>\n",
              "      <td>6800.0</td>\n",
              "      <td>380</td>\n",
              "      <td>299109</td>\n",
              "      <td>2000</td>\n",
              "    </tr>\n",
              "    <tr>\n",
              "      <th>1</th>\n",
              "      <td>2</td>\n",
              "      <td>35</td>\n",
              "      <td>5000.0</td>\n",
              "      <td>5000.0</td>\n",
              "      <td>1000</td>\n",
              "      <td>120000</td>\n",
              "      <td>1000</td>\n",
              "    </tr>\n",
              "    <tr>\n",
              "      <th>2</th>\n",
              "      <td>3</td>\n",
              "      <td>39</td>\n",
              "      <td>6320.0</td>\n",
              "      <td>6320.0</td>\n",
              "      <td>1550</td>\n",
              "      <td>100000</td>\n",
              "      <td>1640</td>\n",
              "    </tr>\n",
              "    <tr>\n",
              "      <th>3</th>\n",
              "      <td>4</td>\n",
              "      <td>70</td>\n",
              "      <td>10736.0</td>\n",
              "      <td>5214.0</td>\n",
              "      <td>400</td>\n",
              "      <td>100000</td>\n",
              "      <td>500</td>\n",
              "    </tr>\n",
              "    <tr>\n",
              "      <th>4</th>\n",
              "      <td>5</td>\n",
              "      <td>54</td>\n",
              "      <td>6000.0</td>\n",
              "      <td>6000.0</td>\n",
              "      <td>1790</td>\n",
              "      <td>171745</td>\n",
              "      <td>3600</td>\n",
              "    </tr>\n",
              "  </tbody>\n",
              "</table>\n",
              "</div>"
            ],
            "text/plain": [
              "   Código do Cliente  ...  Limite do Cheque Especial\n",
              "0                  1  ...                       2000\n",
              "1                  2  ...                       1000\n",
              "2                  3  ...                       1640\n",
              "3                  4  ...                        500\n",
              "4                  5  ...                       3600\n",
              "\n",
              "[5 rows x 7 columns]"
            ]
          },
          "metadata": {
            "tags": []
          },
          "execution_count": 14
        }
      ]
    },
    {
      "cell_type": "code",
      "metadata": {
        "id": "Rcvh5VWMEmYy",
        "outputId": "34e9a4e4-b71d-447b-e0ce-27a4a2ed750a",
        "colab": {
          "base_uri": "https://localhost:8080/"
        }
      },
      "source": [
        "!pip install pyjanitor"
      ],
      "execution_count": 15,
      "outputs": [
        {
          "output_type": "stream",
          "text": [
            "Requirement already satisfied: pyjanitor in /usr/local/lib/python3.6/dist-packages (0.20.10)\n",
            "Requirement already satisfied: pytest-azurepipelines in /usr/local/lib/python3.6/dist-packages (from pyjanitor) (0.8.0)\n",
            "Requirement already satisfied: sphinxcontrib-fulltoc==1.2.0 in /usr/local/lib/python3.6/dist-packages (from pyjanitor) (1.2.0)\n",
            "Requirement already satisfied: lxml in /usr/local/lib/python3.6/dist-packages (from pyjanitor) (4.2.6)\n",
            "Requirement already satisfied: isort>=4.3.18 in /usr/local/lib/python3.6/dist-packages (from pyjanitor) (5.6.4)\n",
            "Requirement already satisfied: pandas-flavor in /usr/local/lib/python3.6/dist-packages (from pyjanitor) (0.2.0)\n",
            "Requirement already satisfied: pyspark in /usr/local/lib/python3.6/dist-packages (from pyjanitor) (3.0.1)\n",
            "Requirement already satisfied: natsort in /usr/local/lib/python3.6/dist-packages (from pyjanitor) (5.5.0)\n",
            "Requirement already satisfied: pre-commit in /usr/local/lib/python3.6/dist-packages (from pyjanitor) (2.8.2)\n",
            "Requirement already satisfied: pytest-cov in /usr/local/lib/python3.6/dist-packages (from pyjanitor) (2.10.1)\n",
            "Requirement already satisfied: xarray in /usr/local/lib/python3.6/dist-packages (from pyjanitor) (0.15.1)\n",
            "Requirement already satisfied: jupyter-client in /usr/local/lib/python3.6/dist-packages (from pyjanitor) (5.3.5)\n",
            "Requirement already satisfied: seaborn in /usr/local/lib/python3.6/dist-packages (from pyjanitor) (0.11.0)\n",
            "Requirement already satisfied: interrogate in /usr/local/lib/python3.6/dist-packages (from pyjanitor) (1.3.2)\n",
            "Requirement already satisfied: setuptools>=38.5.2 in /usr/local/lib/python3.6/dist-packages (from pyjanitor) (50.3.2)\n",
            "Requirement already satisfied: scikit-learn in /usr/local/lib/python3.6/dist-packages (from pyjanitor) (0.22.2.post1)\n",
            "Requirement already satisfied: unyt in /usr/local/lib/python3.6/dist-packages (from pyjanitor) (2.8.0)\n",
            "Requirement already satisfied: hypothesis>=4.4.0 in /usr/local/lib/python3.6/dist-packages (from pyjanitor) (5.41.1)\n",
            "Requirement already satisfied: ipykernel in /usr/local/lib/python3.6/dist-packages (from pyjanitor) (4.10.1)\n",
            "Requirement already satisfied: nbsphinx>=0.4.2 in /usr/local/lib/python3.6/dist-packages (from pyjanitor) (0.8.0)\n",
            "Requirement already satisfied: pytest>=3.4.2 in /usr/local/lib/python3.6/dist-packages (from pyjanitor) (3.6.4)\n",
            "Requirement already satisfied: black>=19.3b0 in /usr/local/lib/python3.6/dist-packages (from pyjanitor) (20.8b1)\n",
            "Requirement already satisfied: pandas-vet in /usr/local/lib/python3.6/dist-packages (from pyjanitor) (0.2.2)\n",
            "Requirement already satisfied: pandas in /usr/local/lib/python3.6/dist-packages (from pandas-flavor->pyjanitor) (1.1.3)\n",
            "Requirement already satisfied: py4j==0.10.9 in /usr/local/lib/python3.6/dist-packages (from pyspark->pyjanitor) (0.10.9)\n",
            "Requirement already satisfied: pyyaml>=5.1 in /usr/local/lib/python3.6/dist-packages (from pre-commit->pyjanitor) (5.3.1)\n",
            "Requirement already satisfied: importlib-metadata; python_version < \"3.8\" in /usr/local/lib/python3.6/dist-packages (from pre-commit->pyjanitor) (2.0.0)\n",
            "Requirement already satisfied: importlib-resources; python_version < \"3.7\" in /usr/local/lib/python3.6/dist-packages (from pre-commit->pyjanitor) (3.1.0)\n",
            "Requirement already satisfied: nodeenv>=0.11.1 in /usr/local/lib/python3.6/dist-packages (from pre-commit->pyjanitor) (1.5.0)\n",
            "Requirement already satisfied: identify>=1.0.0 in /usr/local/lib/python3.6/dist-packages (from pre-commit->pyjanitor) (1.5.9)\n",
            "Requirement already satisfied: virtualenv>=20.0.8 in /usr/local/lib/python3.6/dist-packages (from pre-commit->pyjanitor) (20.1.0)\n",
            "Requirement already satisfied: cfgv>=2.0.0 in /usr/local/lib/python3.6/dist-packages (from pre-commit->pyjanitor) (3.2.0)\n",
            "Requirement already satisfied: toml in /usr/local/lib/python3.6/dist-packages (from pre-commit->pyjanitor) (0.10.1)\n",
            "Requirement already satisfied: coverage>=4.4 in /usr/local/lib/python3.6/dist-packages (from pytest-cov->pyjanitor) (5.3)\n",
            "Requirement already satisfied: numpy>=1.15 in /usr/local/lib/python3.6/dist-packages (from xarray->pyjanitor) (1.18.5)\n",
            "Requirement already satisfied: jupyter-core>=4.6.0 in /usr/local/lib/python3.6/dist-packages (from jupyter-client->pyjanitor) (4.6.3)\n",
            "Requirement already satisfied: python-dateutil>=2.1 in /usr/local/lib/python3.6/dist-packages (from jupyter-client->pyjanitor) (2.8.1)\n",
            "Requirement already satisfied: traitlets in /usr/local/lib/python3.6/dist-packages (from jupyter-client->pyjanitor) (4.3.3)\n",
            "Requirement already satisfied: pyzmq>=13 in /usr/local/lib/python3.6/dist-packages (from jupyter-client->pyjanitor) (19.0.2)\n",
            "Requirement already satisfied: tornado>=4.1 in /usr/local/lib/python3.6/dist-packages (from jupyter-client->pyjanitor) (5.1.1)\n",
            "Requirement already satisfied: scipy>=1.0 in /usr/local/lib/python3.6/dist-packages (from seaborn->pyjanitor) (1.4.1)\n",
            "Requirement already satisfied: matplotlib>=2.2 in /usr/local/lib/python3.6/dist-packages (from seaborn->pyjanitor) (3.2.2)\n",
            "Requirement already satisfied: attrs in /usr/local/lib/python3.6/dist-packages (from interrogate->pyjanitor) (20.2.0)\n",
            "Requirement already satisfied: click in /usr/local/lib/python3.6/dist-packages (from interrogate->pyjanitor) (7.1.2)\n",
            "Requirement already satisfied: colorama in /usr/local/lib/python3.6/dist-packages (from interrogate->pyjanitor) (0.4.4)\n",
            "Requirement already satisfied: py in /usr/local/lib/python3.6/dist-packages (from interrogate->pyjanitor) (1.9.0)\n",
            "Requirement already satisfied: tabulate in /usr/local/lib/python3.6/dist-packages (from interrogate->pyjanitor) (0.8.7)\n",
            "Requirement already satisfied: joblib>=0.11 in /usr/local/lib/python3.6/dist-packages (from scikit-learn->pyjanitor) (0.17.0)\n",
            "Requirement already satisfied: sympy>=1.2 in /usr/local/lib/python3.6/dist-packages (from unyt->pyjanitor) (1.6.2)\n",
            "Requirement already satisfied: sortedcontainers<3.0.0,>=2.1.0 in /usr/local/lib/python3.6/dist-packages (from hypothesis>=4.4.0->pyjanitor) (2.2.2)\n",
            "Requirement already satisfied: ipython>=4.0.0 in /usr/local/lib/python3.6/dist-packages (from ipykernel->pyjanitor) (5.5.0)\n",
            "Requirement already satisfied: jinja2 in /usr/local/lib/python3.6/dist-packages (from nbsphinx>=0.4.2->pyjanitor) (2.11.2)\n",
            "Requirement already satisfied: nbformat in /usr/local/lib/python3.6/dist-packages (from nbsphinx>=0.4.2->pyjanitor) (5.0.8)\n",
            "Requirement already satisfied: docutils in /usr/local/lib/python3.6/dist-packages (from nbsphinx>=0.4.2->pyjanitor) (0.16)\n",
            "Requirement already satisfied: nbconvert!=5.4 in /usr/local/lib/python3.6/dist-packages (from nbsphinx>=0.4.2->pyjanitor) (5.6.1)\n",
            "Requirement already satisfied: sphinx>=1.8 in /usr/local/lib/python3.6/dist-packages (from nbsphinx>=0.4.2->pyjanitor) (1.8.5)\n",
            "Requirement already satisfied: atomicwrites>=1.0 in /usr/local/lib/python3.6/dist-packages (from pytest>=3.4.2->pyjanitor) (1.4.0)\n",
            "Requirement already satisfied: six>=1.10.0 in /usr/local/lib/python3.6/dist-packages (from pytest>=3.4.2->pyjanitor) (1.15.0)\n",
            "Requirement already satisfied: pluggy<0.8,>=0.5 in /usr/local/lib/python3.6/dist-packages (from pytest>=3.4.2->pyjanitor) (0.7.1)\n",
            "Requirement already satisfied: more-itertools>=4.0.0 in /usr/local/lib/python3.6/dist-packages (from pytest>=3.4.2->pyjanitor) (8.5.0)\n",
            "Requirement already satisfied: dataclasses>=0.6; python_version < \"3.7\" in /usr/local/lib/python3.6/dist-packages (from black>=19.3b0->pyjanitor) (0.7)\n",
            "Requirement already satisfied: appdirs in /usr/local/lib/python3.6/dist-packages (from black>=19.3b0->pyjanitor) (1.4.4)\n",
            "Requirement already satisfied: typing-extensions>=3.7.4 in /usr/local/lib/python3.6/dist-packages (from black>=19.3b0->pyjanitor) (3.7.4.3)\n",
            "Requirement already satisfied: mypy-extensions>=0.4.3 in /usr/local/lib/python3.6/dist-packages (from black>=19.3b0->pyjanitor) (0.4.3)\n",
            "Requirement already satisfied: regex>=2020.1.8 in /usr/local/lib/python3.6/dist-packages (from black>=19.3b0->pyjanitor) (2020.10.28)\n",
            "Requirement already satisfied: typed-ast>=1.4.0 in /usr/local/lib/python3.6/dist-packages (from black>=19.3b0->pyjanitor) (1.4.1)\n",
            "Requirement already satisfied: pathspec<1,>=0.6 in /usr/local/lib/python3.6/dist-packages (from black>=19.3b0->pyjanitor) (0.8.0)\n",
            "Requirement already satisfied: flake8>3.0.0 in /usr/local/lib/python3.6/dist-packages (from pandas-vet->pyjanitor) (3.8.4)\n",
            "Requirement already satisfied: pytz>=2017.2 in /usr/local/lib/python3.6/dist-packages (from pandas->pandas-flavor->pyjanitor) (2018.9)\n",
            "Requirement already satisfied: zipp>=0.5 in /usr/local/lib/python3.6/dist-packages (from importlib-metadata; python_version < \"3.8\"->pre-commit->pyjanitor) (3.3.1)\n",
            "Requirement already satisfied: distlib<1,>=0.3.1 in /usr/local/lib/python3.6/dist-packages (from virtualenv>=20.0.8->pre-commit->pyjanitor) (0.3.1)\n",
            "Requirement already satisfied: filelock<4,>=3.0.0 in /usr/local/lib/python3.6/dist-packages (from virtualenv>=20.0.8->pre-commit->pyjanitor) (3.0.12)\n",
            "Requirement already satisfied: decorator in /usr/local/lib/python3.6/dist-packages (from traitlets->jupyter-client->pyjanitor) (4.4.2)\n",
            "Requirement already satisfied: ipython-genutils in /usr/local/lib/python3.6/dist-packages (from traitlets->jupyter-client->pyjanitor) (0.2.0)\n",
            "Requirement already satisfied: kiwisolver>=1.0.1 in /usr/local/lib/python3.6/dist-packages (from matplotlib>=2.2->seaborn->pyjanitor) (1.2.0)\n",
            "Requirement already satisfied: cycler>=0.10 in /usr/local/lib/python3.6/dist-packages (from matplotlib>=2.2->seaborn->pyjanitor) (0.10.0)\n",
            "Requirement already satisfied: pyparsing!=2.0.4,!=2.1.2,!=2.1.6,>=2.0.1 in /usr/local/lib/python3.6/dist-packages (from matplotlib>=2.2->seaborn->pyjanitor) (2.4.7)\n",
            "Requirement already satisfied: mpmath>=0.19 in /usr/local/lib/python3.6/dist-packages (from sympy>=1.2->unyt->pyjanitor) (1.1.0)\n",
            "Requirement already satisfied: pickleshare in /usr/local/lib/python3.6/dist-packages (from ipython>=4.0.0->ipykernel->pyjanitor) (0.7.5)\n",
            "Requirement already satisfied: prompt-toolkit<2.0.0,>=1.0.4 in /usr/local/lib/python3.6/dist-packages (from ipython>=4.0.0->ipykernel->pyjanitor) (1.0.18)\n",
            "Requirement already satisfied: pexpect; sys_platform != \"win32\" in /usr/local/lib/python3.6/dist-packages (from ipython>=4.0.0->ipykernel->pyjanitor) (4.8.0)\n",
            "Requirement already satisfied: pygments in /usr/local/lib/python3.6/dist-packages (from ipython>=4.0.0->ipykernel->pyjanitor) (2.6.1)\n",
            "Requirement already satisfied: simplegeneric>0.8 in /usr/local/lib/python3.6/dist-packages (from ipython>=4.0.0->ipykernel->pyjanitor) (0.8.1)\n",
            "Requirement already satisfied: MarkupSafe>=0.23 in /usr/local/lib/python3.6/dist-packages (from jinja2->nbsphinx>=0.4.2->pyjanitor) (1.1.1)\n",
            "Requirement already satisfied: jsonschema!=2.5.0,>=2.4 in /usr/local/lib/python3.6/dist-packages (from nbformat->nbsphinx>=0.4.2->pyjanitor) (2.6.0)\n",
            "Requirement already satisfied: pandocfilters>=1.4.1 in /usr/local/lib/python3.6/dist-packages (from nbconvert!=5.4->nbsphinx>=0.4.2->pyjanitor) (1.4.2)\n",
            "Requirement already satisfied: mistune<2,>=0.8.1 in /usr/local/lib/python3.6/dist-packages (from nbconvert!=5.4->nbsphinx>=0.4.2->pyjanitor) (0.8.4)\n",
            "Requirement already satisfied: bleach in /usr/local/lib/python3.6/dist-packages (from nbconvert!=5.4->nbsphinx>=0.4.2->pyjanitor) (3.2.1)\n",
            "Requirement already satisfied: entrypoints>=0.2.2 in /usr/local/lib/python3.6/dist-packages (from nbconvert!=5.4->nbsphinx>=0.4.2->pyjanitor) (0.3)\n",
            "Requirement already satisfied: testpath in /usr/local/lib/python3.6/dist-packages (from nbconvert!=5.4->nbsphinx>=0.4.2->pyjanitor) (0.4.4)\n",
            "Requirement already satisfied: defusedxml in /usr/local/lib/python3.6/dist-packages (from nbconvert!=5.4->nbsphinx>=0.4.2->pyjanitor) (0.6.0)\n",
            "Requirement already satisfied: requests>=2.0.0 in /usr/local/lib/python3.6/dist-packages (from sphinx>=1.8->nbsphinx>=0.4.2->pyjanitor) (2.23.0)\n",
            "Requirement already satisfied: sphinxcontrib-websupport in /usr/local/lib/python3.6/dist-packages (from sphinx>=1.8->nbsphinx>=0.4.2->pyjanitor) (1.2.4)\n",
            "Requirement already satisfied: babel!=2.0,>=1.3 in /usr/local/lib/python3.6/dist-packages (from sphinx>=1.8->nbsphinx>=0.4.2->pyjanitor) (2.8.0)\n",
            "Requirement already satisfied: imagesize in /usr/local/lib/python3.6/dist-packages (from sphinx>=1.8->nbsphinx>=0.4.2->pyjanitor) (1.2.0)\n",
            "Requirement already satisfied: packaging in /usr/local/lib/python3.6/dist-packages (from sphinx>=1.8->nbsphinx>=0.4.2->pyjanitor) (20.4)\n",
            "Requirement already satisfied: snowballstemmer>=1.1 in /usr/local/lib/python3.6/dist-packages (from sphinx>=1.8->nbsphinx>=0.4.2->pyjanitor) (2.0.0)\n",
            "Requirement already satisfied: alabaster<0.8,>=0.7 in /usr/local/lib/python3.6/dist-packages (from sphinx>=1.8->nbsphinx>=0.4.2->pyjanitor) (0.7.12)\n",
            "Requirement already satisfied: pycodestyle<2.7.0,>=2.6.0a1 in /usr/local/lib/python3.6/dist-packages (from flake8>3.0.0->pandas-vet->pyjanitor) (2.6.0)\n",
            "Requirement already satisfied: pyflakes<2.3.0,>=2.2.0 in /usr/local/lib/python3.6/dist-packages (from flake8>3.0.0->pandas-vet->pyjanitor) (2.2.0)\n",
            "Requirement already satisfied: mccabe<0.7.0,>=0.6.0 in /usr/local/lib/python3.6/dist-packages (from flake8>3.0.0->pandas-vet->pyjanitor) (0.6.1)\n",
            "Requirement already satisfied: wcwidth in /usr/local/lib/python3.6/dist-packages (from prompt-toolkit<2.0.0,>=1.0.4->ipython>=4.0.0->ipykernel->pyjanitor) (0.2.5)\n",
            "Requirement already satisfied: ptyprocess>=0.5 in /usr/local/lib/python3.6/dist-packages (from pexpect; sys_platform != \"win32\"->ipython>=4.0.0->ipykernel->pyjanitor) (0.6.0)\n",
            "Requirement already satisfied: webencodings in /usr/local/lib/python3.6/dist-packages (from bleach->nbconvert!=5.4->nbsphinx>=0.4.2->pyjanitor) (0.5.1)\n",
            "Requirement already satisfied: urllib3!=1.25.0,!=1.25.1,<1.26,>=1.21.1 in /usr/local/lib/python3.6/dist-packages (from requests>=2.0.0->sphinx>=1.8->nbsphinx>=0.4.2->pyjanitor) (1.24.3)\n",
            "Requirement already satisfied: idna<3,>=2.5 in /usr/local/lib/python3.6/dist-packages (from requests>=2.0.0->sphinx>=1.8->nbsphinx>=0.4.2->pyjanitor) (2.10)\n",
            "Requirement already satisfied: certifi>=2017.4.17 in /usr/local/lib/python3.6/dist-packages (from requests>=2.0.0->sphinx>=1.8->nbsphinx>=0.4.2->pyjanitor) (2020.6.20)\n",
            "Requirement already satisfied: chardet<4,>=3.0.2 in /usr/local/lib/python3.6/dist-packages (from requests>=2.0.0->sphinx>=1.8->nbsphinx>=0.4.2->pyjanitor) (3.0.4)\n",
            "Requirement already satisfied: sphinxcontrib-serializinghtml in /usr/local/lib/python3.6/dist-packages (from sphinxcontrib-websupport->sphinx>=1.8->nbsphinx>=0.4.2->pyjanitor) (1.1.4)\n"
          ],
          "name": "stdout"
        }
      ]
    },
    {
      "cell_type": "code",
      "metadata": {
        "id": "StveR6QaEpTj",
        "outputId": "9cbe6616-3b68-4246-b09c-8d6e807fbfb1",
        "colab": {
          "base_uri": "https://localhost:8080/",
          "height": 238
        }
      },
      "source": [
        "# limpando o nome das colunas\n",
        "import janitor\n",
        "\n",
        "dados = dados.clean_names().rename(columns={'rendimento\\ntotal': 'rendimento_total', 'valor_total\\ndo_patrimonio': 'valor_total_patrimonion'})\n",
        "dados.head()"
      ],
      "execution_count": 16,
      "outputs": [
        {
          "output_type": "stream",
          "text": [
            "/usr/local/lib/python3.6/dist-packages/distributed/config.py:20: YAMLLoadWarning: calling yaml.load() without Loader=... is deprecated, as the default Loader is unsafe. Please read https://msg.pyyaml.org/load for full details.\n",
            "  defaults = yaml.load(f)\n"
          ],
          "name": "stderr"
        },
        {
          "output_type": "execute_result",
          "data": {
            "text/html": [
              "<div>\n",
              "<style scoped>\n",
              "    .dataframe tbody tr th:only-of-type {\n",
              "        vertical-align: middle;\n",
              "    }\n",
              "\n",
              "    .dataframe tbody tr th {\n",
              "        vertical-align: top;\n",
              "    }\n",
              "\n",
              "    .dataframe thead th {\n",
              "        text-align: right;\n",
              "    }\n",
              "</style>\n",
              "<table border=\"1\" class=\"dataframe\">\n",
              "  <thead>\n",
              "    <tr style=\"text-align: right;\">\n",
              "      <th></th>\n",
              "      <th>codigo_do_cliente</th>\n",
              "      <th>idade</th>\n",
              "      <th>rendimento_total</th>\n",
              "      <th>salario</th>\n",
              "      <th>limite_de_credito_imediato</th>\n",
              "      <th>valor_total_patrimonion</th>\n",
              "      <th>limite_do_cheque_especial</th>\n",
              "    </tr>\n",
              "  </thead>\n",
              "  <tbody>\n",
              "    <tr>\n",
              "      <th>0</th>\n",
              "      <td>1</td>\n",
              "      <td>81</td>\n",
              "      <td>6800.0</td>\n",
              "      <td>6800.0</td>\n",
              "      <td>380</td>\n",
              "      <td>299109</td>\n",
              "      <td>2000</td>\n",
              "    </tr>\n",
              "    <tr>\n",
              "      <th>1</th>\n",
              "      <td>2</td>\n",
              "      <td>35</td>\n",
              "      <td>5000.0</td>\n",
              "      <td>5000.0</td>\n",
              "      <td>1000</td>\n",
              "      <td>120000</td>\n",
              "      <td>1000</td>\n",
              "    </tr>\n",
              "    <tr>\n",
              "      <th>2</th>\n",
              "      <td>3</td>\n",
              "      <td>39</td>\n",
              "      <td>6320.0</td>\n",
              "      <td>6320.0</td>\n",
              "      <td>1550</td>\n",
              "      <td>100000</td>\n",
              "      <td>1640</td>\n",
              "    </tr>\n",
              "    <tr>\n",
              "      <th>3</th>\n",
              "      <td>4</td>\n",
              "      <td>70</td>\n",
              "      <td>10736.0</td>\n",
              "      <td>5214.0</td>\n",
              "      <td>400</td>\n",
              "      <td>100000</td>\n",
              "      <td>500</td>\n",
              "    </tr>\n",
              "    <tr>\n",
              "      <th>4</th>\n",
              "      <td>5</td>\n",
              "      <td>54</td>\n",
              "      <td>6000.0</td>\n",
              "      <td>6000.0</td>\n",
              "      <td>1790</td>\n",
              "      <td>171745</td>\n",
              "      <td>3600</td>\n",
              "    </tr>\n",
              "  </tbody>\n",
              "</table>\n",
              "</div>"
            ],
            "text/plain": [
              "   codigo_do_cliente  idade  ...  valor_total_patrimonion  limite_do_cheque_especial\n",
              "0                  1     81  ...                   299109                       2000\n",
              "1                  2     35  ...                   120000                       1000\n",
              "2                  3     39  ...                   100000                       1640\n",
              "3                  4     70  ...                   100000                        500\n",
              "4                  5     54  ...                   171745                       3600\n",
              "\n",
              "[5 rows x 7 columns]"
            ]
          },
          "metadata": {
            "tags": []
          },
          "execution_count": 16
        }
      ]
    },
    {
      "cell_type": "code",
      "metadata": {
        "id": "QpJNDt_NEvUJ",
        "outputId": "11b45202-5c61-4ea5-ffe8-069f410ad68f",
        "colab": {
          "base_uri": "https://localhost:8080/"
        }
      },
      "source": [
        "y = dados['limite_do_cheque_especial'].copy()\n",
        "X = dados.drop(['codigo_do_cliente', 'limite_do_cheque_especial'], axis=1)\n",
        "X = sm.add_constant(X)\n",
        "\n",
        "modelo_rlm = sm.regression.linear_model.OLS(y, X).fit()\n",
        "print(modelo_rlm.summary())"
      ],
      "execution_count": 17,
      "outputs": [
        {
          "output_type": "stream",
          "text": [
            "                                OLS Regression Results                               \n",
            "=====================================================================================\n",
            "Dep. Variable:     limite_do_cheque_especial   R-squared:                       0.845\n",
            "Model:                                   OLS   Adj. R-squared:                  0.827\n",
            "Method:                        Least Squares   F-statistic:                     45.92\n",
            "Date:                       Wed, 04 Nov 2020   Prob (F-statistic):           5.87e-16\n",
            "Time:                               02:27:49   Log-Likelihood:                -441.42\n",
            "No. Observations:                         48   AIC:                             894.8\n",
            "Df Residuals:                             42   BIC:                             906.1\n",
            "Df Model:                                  5                                         \n",
            "Covariance Type:                   nonrobust                                         \n",
            "==============================================================================================\n",
            "                                 coef    std err          t      P>|t|      [0.025      0.975]\n",
            "----------------------------------------------------------------------------------------------\n",
            "const                      -2218.7812   1766.471     -1.256      0.216   -5783.663    1346.101\n",
            "idade                          6.9218     24.853      0.279      0.782     -43.233      57.077\n",
            "rendimento_total              -0.2697      0.163     -1.659      0.105      -0.598       0.058\n",
            "salario                        0.7154      0.169      4.245      0.000       0.375       1.056\n",
            "limite_de_credito_imediato     1.0696      0.405      2.642      0.012       0.253       1.886\n",
            "valor_total_patrimonion        0.0011      0.000      2.828      0.007       0.000       0.002\n",
            "==============================================================================\n",
            "Omnibus:                        4.846   Durbin-Watson:                   2.282\n",
            "Prob(Omnibus):                  0.089   Jarque-Bera (JB):                3.865\n",
            "Skew:                           0.673   Prob(JB):                        0.145\n",
            "Kurtosis:                       3.344   Cond. No.                     1.14e+07\n",
            "==============================================================================\n",
            "\n",
            "Warnings:\n",
            "[1] Standard Errors assume that the covariance matrix of the errors is correctly specified.\n",
            "[2] The condition number is large, 1.14e+07. This might indicate that there are\n",
            "strong multicollinearity or other numerical problems.\n"
          ],
          "name": "stdout"
        }
      ]
    },
    {
      "cell_type": "markdown",
      "metadata": {
        "id": "cpbE5Nq6EyR2"
      },
      "source": [
        "# Ajustando o modelo"
      ]
    },
    {
      "cell_type": "code",
      "metadata": {
        "id": "2KAdgn8gEwlP",
        "outputId": "a14e70d3-d711-479d-ca6e-dd2ae6b44136",
        "colab": {
          "base_uri": "https://localhost:8080/"
        }
      },
      "source": [
        "y = dados['limite_do_cheque_especial'].copy()\n",
        "X = dados.drop(['codigo_do_cliente', 'limite_do_cheque_especial', 'idade'], axis=1)\n",
        "X = sm.add_constant(X)\n",
        "\n",
        "modelo_rlm = sm.regression.linear_model.OLS(y, X).fit()\n",
        "print(modelo_rlm.summary())"
      ],
      "execution_count": 18,
      "outputs": [
        {
          "output_type": "stream",
          "text": [
            "                                OLS Regression Results                               \n",
            "=====================================================================================\n",
            "Dep. Variable:     limite_do_cheque_especial   R-squared:                       0.845\n",
            "Model:                                   OLS   Adj. R-squared:                  0.831\n",
            "Method:                        Least Squares   F-statistic:                     58.64\n",
            "Date:                       Wed, 04 Nov 2020   Prob (F-statistic):           7.41e-17\n",
            "Time:                               02:27:52   Log-Likelihood:                -441.47\n",
            "No. Observations:                         48   AIC:                             892.9\n",
            "Df Residuals:                             43   BIC:                             902.3\n",
            "Df Model:                                  4                                         \n",
            "Covariance Type:                   nonrobust                                         \n",
            "==============================================================================================\n",
            "                                 coef    std err          t      P>|t|      [0.025      0.975]\n",
            "----------------------------------------------------------------------------------------------\n",
            "const                      -1821.4240   1030.359     -1.768      0.084   -3899.342     256.494\n",
            "rendimento_total              -0.2672      0.161     -1.664      0.103      -0.591       0.057\n",
            "salario                        0.7138      0.167      4.284      0.000       0.378       1.050\n",
            "limite_de_credito_imediato     1.0767      0.400      2.694      0.010       0.271       1.883\n",
            "valor_total_patrimonion        0.0011      0.000      2.849      0.007       0.000       0.002\n",
            "==============================================================================\n",
            "Omnibus:                        5.285   Durbin-Watson:                   2.264\n",
            "Prob(Omnibus):                  0.071   Jarque-Bera (JB):                4.335\n",
            "Skew:                           0.717   Prob(JB):                        0.114\n",
            "Kurtosis:                       3.333   Cond. No.                     6.70e+06\n",
            "==============================================================================\n",
            "\n",
            "Warnings:\n",
            "[1] Standard Errors assume that the covariance matrix of the errors is correctly specified.\n",
            "[2] The condition number is large, 6.7e+06. This might indicate that there are\n",
            "strong multicollinearity or other numerical problems.\n"
          ],
          "name": "stdout"
        }
      ]
    },
    {
      "cell_type": "code",
      "metadata": {
        "id": "PO6rOnx1E76q",
        "outputId": "3f0dbf4d-2f28-4099-e047-ca5a6cf35428",
        "colab": {
          "base_uri": "https://localhost:8080/"
        }
      },
      "source": [
        "y = dados['limite_do_cheque_especial'].copy()\n",
        "X = dados.drop(['codigo_do_cliente', 'limite_do_cheque_especial', 'idade', 'rendimento_total'], axis=1)\n",
        "X = sm.add_constant(X)\n",
        "\n",
        "modelo_rlm = sm.regression.linear_model.OLS(y, X).fit()\n",
        "print(modelo_rlm.summary())"
      ],
      "execution_count": 19,
      "outputs": [
        {
          "output_type": "stream",
          "text": [
            "                                OLS Regression Results                               \n",
            "=====================================================================================\n",
            "Dep. Variable:     limite_do_cheque_especial   R-squared:                       0.835\n",
            "Model:                                   OLS   Adj. R-squared:                  0.824\n",
            "Method:                        Least Squares   F-statistic:                     74.28\n",
            "Date:                       Wed, 04 Nov 2020   Prob (F-statistic):           2.97e-17\n",
            "Time:                               02:27:55   Log-Likelihood:                -442.97\n",
            "No. Observations:                         48   AIC:                             893.9\n",
            "Df Residuals:                             44   BIC:                             901.4\n",
            "Df Model:                                  3                                         \n",
            "Covariance Type:                   nonrobust                                         \n",
            "==============================================================================================\n",
            "                                 coef    std err          t      P>|t|      [0.025      0.975]\n",
            "----------------------------------------------------------------------------------------------\n",
            "const                      -2170.9877   1028.808     -2.110      0.041   -4244.414     -97.562\n",
            "salario                        0.4571      0.064      7.115      0.000       0.328       0.587\n",
            "limite_de_credito_imediato     1.1467      0.405      2.829      0.007       0.330       1.963\n",
            "valor_total_patrimonion        0.0006      0.000      2.373      0.022    9.48e-05       0.001\n",
            "==============================================================================\n",
            "Omnibus:                        3.894   Durbin-Watson:                   2.122\n",
            "Prob(Omnibus):                  0.143   Jarque-Bera (JB):                3.047\n",
            "Skew:                           0.343   Prob(JB):                        0.218\n",
            "Kurtosis:                       4.026   Cond. No.                     6.56e+06\n",
            "==============================================================================\n",
            "\n",
            "Warnings:\n",
            "[1] Standard Errors assume that the covariance matrix of the errors is correctly specified.\n",
            "[2] The condition number is large, 6.56e+06. This might indicate that there are\n",
            "strong multicollinearity or other numerical problems.\n"
          ],
          "name": "stdout"
        }
      ]
    }
  ]
}