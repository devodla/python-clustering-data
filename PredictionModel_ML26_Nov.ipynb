{
  "nbformat": 4,
  "nbformat_minor": 0,
  "metadata": {
    "colab": {
      "name": "PredictionModel-ML26-Nov",
      "provenance": [],
      "toc_visible": true,
      "mount_file_id": "1We4hICo1ig_Z7KfgINCRFQJzBeOrAzKL",
      "authorship_tag": "ABX9TyMNaF2ntCe1otLnFIn0/TuT",
      "include_colab_link": true
    },
    "kernelspec": {
      "name": "python3",
      "display_name": "Python 3"
    }
  },
  "cells": [
    {
      "cell_type": "markdown",
      "metadata": {
        "id": "view-in-github",
        "colab_type": "text"
      },
      "source": [
        "<a href=\"https://colab.research.google.com/github/onlyreynaldo/python-clustering-data/blob/main/PredictionModel_ML26_Nov.ipynb\" target=\"_parent\"><img src=\"https://colab.research.google.com/assets/colab-badge.svg\" alt=\"Open In Colab\"/></a>"
      ]
    },
    {
      "cell_type": "code",
      "metadata": {
        "id": "PAZV0_H-Fe07"
      },
      "source": [
        "import numpy as np\n",
        "import pandas as pd"
      ],
      "execution_count": null,
      "outputs": []
    },
    {
      "cell_type": "code",
      "metadata": {
        "colab": {
          "base_uri": "https://localhost:8080/",
          "height": 204
        },
        "id": "07TgeNGtF6ls",
        "outputId": "ad961f63-3777-4358-b24e-136a03f3c63c"
      },
      "source": [
        "df_abt = pd.read_csv('/content/drive/MyDrive/datasets/olist/abt_classificacao_churn_train.csv')\n",
        "df_abt.head()"
      ],
      "execution_count": null,
      "outputs": [
        {
          "output_type": "execute_result",
          "data": {
            "text/html": [
              "<div>\n",
              "<style scoped>\n",
              "    .dataframe tbody tr th:only-of-type {\n",
              "        vertical-align: middle;\n",
              "    }\n",
              "\n",
              "    .dataframe tbody tr th {\n",
              "        vertical-align: top;\n",
              "    }\n",
              "\n",
              "    .dataframe thead th {\n",
              "        text-align: right;\n",
              "    }\n",
              "</style>\n",
              "<table border=\"1\" class=\"dataframe\">\n",
              "  <thead>\n",
              "    <tr style=\"text-align: right;\">\n",
              "      <th></th>\n",
              "      <th>data_ref</th>\n",
              "      <th>seller_id</th>\n",
              "      <th>uf</th>\n",
              "      <th>tot_orders_12m</th>\n",
              "      <th>tot_items_12m</th>\n",
              "      <th>tot_items_dist_12m</th>\n",
              "      <th>receita_12m</th>\n",
              "      <th>recencia</th>\n",
              "      <th>churn_6m</th>\n",
              "    </tr>\n",
              "  </thead>\n",
              "  <tbody>\n",
              "    <tr>\n",
              "      <th>0</th>\n",
              "      <td>2018-01-01</td>\n",
              "      <td>0015a82c2db000af6aaaf3ae2ecb0532</td>\n",
              "      <td>SP</td>\n",
              "      <td>3</td>\n",
              "      <td>3</td>\n",
              "      <td>1</td>\n",
              "      <td>2685.00</td>\n",
              "      <td>74</td>\n",
              "      <td>1</td>\n",
              "    </tr>\n",
              "    <tr>\n",
              "      <th>1</th>\n",
              "      <td>2018-01-01</td>\n",
              "      <td>001cca7ae9ae17fb1caed9dfb1094831</td>\n",
              "      <td>ES</td>\n",
              "      <td>171</td>\n",
              "      <td>207</td>\n",
              "      <td>9</td>\n",
              "      <td>21275.23</td>\n",
              "      <td>2</td>\n",
              "      <td>0</td>\n",
              "    </tr>\n",
              "    <tr>\n",
              "      <th>2</th>\n",
              "      <td>2018-01-01</td>\n",
              "      <td>002100f778ceb8431b7a1020ff7ab48f</td>\n",
              "      <td>SP</td>\n",
              "      <td>38</td>\n",
              "      <td>42</td>\n",
              "      <td>15</td>\n",
              "      <td>781.80</td>\n",
              "      <td>2</td>\n",
              "      <td>0</td>\n",
              "    </tr>\n",
              "    <tr>\n",
              "      <th>3</th>\n",
              "      <td>2018-01-01</td>\n",
              "      <td>003554e2dce176b5555353e4f3555ac8</td>\n",
              "      <td>GO</td>\n",
              "      <td>1</td>\n",
              "      <td>1</td>\n",
              "      <td>1</td>\n",
              "      <td>120.00</td>\n",
              "      <td>16</td>\n",
              "      <td>1</td>\n",
              "    </tr>\n",
              "    <tr>\n",
              "      <th>4</th>\n",
              "      <td>2018-01-01</td>\n",
              "      <td>004c9cd9d87a3c30c522c48c4fc07416</td>\n",
              "      <td>SP</td>\n",
              "      <td>130</td>\n",
              "      <td>141</td>\n",
              "      <td>75</td>\n",
              "      <td>16228.88</td>\n",
              "      <td>8</td>\n",
              "      <td>0</td>\n",
              "    </tr>\n",
              "  </tbody>\n",
              "</table>\n",
              "</div>"
            ],
            "text/plain": [
              "     data_ref                         seller_id  ... recencia  churn_6m\n",
              "0  2018-01-01  0015a82c2db000af6aaaf3ae2ecb0532  ...       74         1\n",
              "1  2018-01-01  001cca7ae9ae17fb1caed9dfb1094831  ...        2         0\n",
              "2  2018-01-01  002100f778ceb8431b7a1020ff7ab48f  ...        2         0\n",
              "3  2018-01-01  003554e2dce176b5555353e4f3555ac8  ...       16         1\n",
              "4  2018-01-01  004c9cd9d87a3c30c522c48c4fc07416  ...        8         0\n",
              "\n",
              "[5 rows x 9 columns]"
            ]
          },
          "metadata": {
            "tags": []
          },
          "execution_count": 2
        }
      ]
    },
    {
      "cell_type": "code",
      "metadata": {
        "colab": {
          "base_uri": "https://localhost:8080/"
        },
        "id": "MQCpd0asGtFn",
        "outputId": "4c52b51a-3b41-4e1b-90dc-c5d76e58dddb"
      },
      "source": [
        "df_abt.shape"
      ],
      "execution_count": null,
      "outputs": [
        {
          "output_type": "execute_result",
          "data": {
            "text/plain": [
              "(1690, 9)"
            ]
          },
          "metadata": {
            "tags": []
          },
          "execution_count": 3
        }
      ]
    },
    {
      "cell_type": "markdown",
      "metadata": {
        "id": "1TuD_pIaG1Nq"
      },
      "source": [
        "# Train Test Split"
      ]
    },
    {
      "cell_type": "code",
      "metadata": {
        "id": "VF6byCSFGzzY"
      },
      "source": [
        "key_vars = ['data_ref','seller_id']\n",
        "cat_vars = ['uf']\n",
        "num_vars = ['tot_orders_12m','tot_items_12m','tot_items_dist_12m','receita_12m','recencia']\n",
        "features = cat_vars + num_vars\n",
        "target = 'churn_6m'\n",
        "\n",
        "# seleciona as colunas com as features\n",
        "X = df_abt[features].copy()\n",
        "# seleciona o target\n",
        "y = df_abt[target].copy()"
      ],
      "execution_count": null,
      "outputs": []
    },
    {
      "cell_type": "code",
      "metadata": {
        "id": "izxwc6GoFdu6"
      },
      "source": [
        "from sklearn.model_selection import train_test_split\n",
        "\n",
        "X_train, X_test, y_train, y_test = train_test_split(X, y, test_size=0.2, stratify=y, random_state=2020)"
      ],
      "execution_count": null,
      "outputs": []
    },
    {
      "cell_type": "markdown",
      "metadata": {
        "id": "9x2M2ZzcF9UK"
      },
      "source": [
        "# Feature Engineering"
      ]
    },
    {
      "cell_type": "code",
      "metadata": {
        "colab": {
          "base_uri": "https://localhost:8080/"
        },
        "id": "_BGEV2bTGA5G",
        "outputId": "2a18d057-0417-4f53-f432-331f742288f9"
      },
      "source": [
        "!pip install feature-engine"
      ],
      "execution_count": null,
      "outputs": [
        {
          "output_type": "stream",
          "text": [
            "Collecting feature-engine\n",
            "  Downloading https://files.pythonhosted.org/packages/14/ed/5680bf401855b788f79cadc1298c210c5860eb5d54c4008cfa234b752ef1/feature_engine-0.6.1-py2.py3-none-any.whl\n",
            "Requirement already satisfied: pandas>=1.0.3 in /usr/local/lib/python3.6/dist-packages (from feature-engine) (1.1.4)\n",
            "Collecting statsmodels>=0.11.1\n",
            "\u001b[?25l  Downloading https://files.pythonhosted.org/packages/be/4c/9e2435ca6645d6bafa2b51bb11f0a365b28934a2ffe9d6e339d67130926d/statsmodels-0.12.1-cp36-cp36m-manylinux1_x86_64.whl (9.5MB)\n",
            "\u001b[K     |████████████████████████████████| 9.5MB 6.8MB/s \n",
            "\u001b[?25hRequirement already satisfied: numpy>=1.18.2 in /usr/local/lib/python3.6/dist-packages (from feature-engine) (1.18.5)\n",
            "Requirement already satisfied: scikit-learn>=0.22.2 in /usr/local/lib/python3.6/dist-packages (from feature-engine) (0.22.2.post1)\n",
            "Requirement already satisfied: scipy>=1.4.1 in /usr/local/lib/python3.6/dist-packages (from feature-engine) (1.4.1)\n",
            "Requirement already satisfied: pytz>=2017.2 in /usr/local/lib/python3.6/dist-packages (from pandas>=1.0.3->feature-engine) (2018.9)\n",
            "Requirement already satisfied: python-dateutil>=2.7.3 in /usr/local/lib/python3.6/dist-packages (from pandas>=1.0.3->feature-engine) (2.8.1)\n",
            "Requirement already satisfied: patsy>=0.5 in /usr/local/lib/python3.6/dist-packages (from statsmodels>=0.11.1->feature-engine) (0.5.1)\n",
            "Requirement already satisfied: joblib>=0.11 in /usr/local/lib/python3.6/dist-packages (from scikit-learn>=0.22.2->feature-engine) (0.17.0)\n",
            "Requirement already satisfied: six>=1.5 in /usr/local/lib/python3.6/dist-packages (from python-dateutil>=2.7.3->pandas>=1.0.3->feature-engine) (1.15.0)\n",
            "Installing collected packages: statsmodels, feature-engine\n",
            "  Found existing installation: statsmodels 0.10.2\n",
            "    Uninstalling statsmodels-0.10.2:\n",
            "      Successfully uninstalled statsmodels-0.10.2\n",
            "Successfully installed feature-engine-0.6.1 statsmodels-0.12.1\n"
          ],
          "name": "stdout"
        }
      ]
    },
    {
      "cell_type": "code",
      "metadata": {
        "id": "kyeBSJGsGfER"
      },
      "source": [
        "from sklearn.pipeline import Pipeline\n",
        "from feature_engine.missing_data_imputers import ArbitraryNumberImputer\n",
        "from feature_engine.wrappers import SklearnTransformerWrapper\n",
        "from sklearn.preprocessing import StandardScaler\n",
        "from feature_engine.missing_data_imputers import CategoricalVariableImputer\n",
        "from feature_engine.categorical_encoders import OneHotCategoricalEncoder"
      ],
      "execution_count": null,
      "outputs": []
    },
    {
      "cell_type": "code",
      "metadata": {
        "id": "-fjzdlKoMsdS"
      },
      "source": [
        "data_pipe = Pipeline(steps=[\n",
        "    ('numeric_imputer', ArbitraryNumberImputer(variables=num_vars, arbitrary_number=-999)),\n",
        "    ('numeric_scaler', SklearnTransformerWrapper(variables=num_vars, transformer=StandardScaler())),\n",
        "    ('categoric_imputer', CategoricalVariableImputer(variables=cat_vars, return_object=True)),\n",
        "    ('one_hot_encoder', OneHotCategoricalEncoder(variables=cat_vars))\n",
        "])"
      ],
      "execution_count": null,
      "outputs": []
    },
    {
      "cell_type": "code",
      "metadata": {
        "colab": {
          "base_uri": "https://localhost:8080/",
          "height": 204
        },
        "id": "a32CMq4hNZtT",
        "outputId": "6f6e1c2e-0f05-40cb-d7eb-4d84a2289b85"
      },
      "source": [
        "X_train.head()"
      ],
      "execution_count": null,
      "outputs": [
        {
          "output_type": "execute_result",
          "data": {
            "text/html": [
              "<div>\n",
              "<style scoped>\n",
              "    .dataframe tbody tr th:only-of-type {\n",
              "        vertical-align: middle;\n",
              "    }\n",
              "\n",
              "    .dataframe tbody tr th {\n",
              "        vertical-align: top;\n",
              "    }\n",
              "\n",
              "    .dataframe thead th {\n",
              "        text-align: right;\n",
              "    }\n",
              "</style>\n",
              "<table border=\"1\" class=\"dataframe\">\n",
              "  <thead>\n",
              "    <tr style=\"text-align: right;\">\n",
              "      <th></th>\n",
              "      <th>uf</th>\n",
              "      <th>tot_orders_12m</th>\n",
              "      <th>tot_items_12m</th>\n",
              "      <th>tot_items_dist_12m</th>\n",
              "      <th>receita_12m</th>\n",
              "      <th>recencia</th>\n",
              "    </tr>\n",
              "  </thead>\n",
              "  <tbody>\n",
              "    <tr>\n",
              "      <th>428</th>\n",
              "      <td>SP</td>\n",
              "      <td>2</td>\n",
              "      <td>2</td>\n",
              "      <td>1</td>\n",
              "      <td>109.80</td>\n",
              "      <td>4</td>\n",
              "    </tr>\n",
              "    <tr>\n",
              "      <th>12</th>\n",
              "      <td>GO</td>\n",
              "      <td>8</td>\n",
              "      <td>8</td>\n",
              "      <td>2</td>\n",
              "      <td>1105.96</td>\n",
              "      <td>74</td>\n",
              "    </tr>\n",
              "    <tr>\n",
              "      <th>387</th>\n",
              "      <td>SP</td>\n",
              "      <td>277</td>\n",
              "      <td>331</td>\n",
              "      <td>98</td>\n",
              "      <td>21932.61</td>\n",
              "      <td>4</td>\n",
              "    </tr>\n",
              "    <tr>\n",
              "      <th>1617</th>\n",
              "      <td>SP</td>\n",
              "      <td>16</td>\n",
              "      <td>16</td>\n",
              "      <td>12</td>\n",
              "      <td>1990.79</td>\n",
              "      <td>25</td>\n",
              "    </tr>\n",
              "    <tr>\n",
              "      <th>887</th>\n",
              "      <td>SP</td>\n",
              "      <td>20</td>\n",
              "      <td>22</td>\n",
              "      <td>12</td>\n",
              "      <td>2018.26</td>\n",
              "      <td>0</td>\n",
              "    </tr>\n",
              "  </tbody>\n",
              "</table>\n",
              "</div>"
            ],
            "text/plain": [
              "      uf  tot_orders_12m  ...  receita_12m  recencia\n",
              "428   SP               2  ...       109.80         4\n",
              "12    GO               8  ...      1105.96        74\n",
              "387   SP             277  ...     21932.61         4\n",
              "1617  SP              16  ...      1990.79        25\n",
              "887   SP              20  ...      2018.26         0\n",
              "\n",
              "[5 rows x 6 columns]"
            ]
          },
          "metadata": {
            "tags": []
          },
          "execution_count": 9
        }
      ]
    },
    {
      "cell_type": "code",
      "metadata": {
        "colab": {
          "base_uri": "https://localhost:8080/",
          "height": 204
        },
        "id": "eQtMrir-NcZY",
        "outputId": "6d7ce082-358e-4173-c2a8-28d1d89a9ec7"
      },
      "source": [
        "data_pipe.fit_transform(X_train).head()"
      ],
      "execution_count": null,
      "outputs": [
        {
          "output_type": "execute_result",
          "data": {
            "text/html": [
              "<div>\n",
              "<style scoped>\n",
              "    .dataframe tbody tr th:only-of-type {\n",
              "        vertical-align: middle;\n",
              "    }\n",
              "\n",
              "    .dataframe tbody tr th {\n",
              "        vertical-align: top;\n",
              "    }\n",
              "\n",
              "    .dataframe thead th {\n",
              "        text-align: right;\n",
              "    }\n",
              "</style>\n",
              "<table border=\"1\" class=\"dataframe\">\n",
              "  <thead>\n",
              "    <tr style=\"text-align: right;\">\n",
              "      <th></th>\n",
              "      <th>tot_orders_12m</th>\n",
              "      <th>tot_items_12m</th>\n",
              "      <th>tot_items_dist_12m</th>\n",
              "      <th>receita_12m</th>\n",
              "      <th>recencia</th>\n",
              "      <th>uf_SP</th>\n",
              "      <th>uf_GO</th>\n",
              "      <th>uf_PR</th>\n",
              "      <th>uf_MG</th>\n",
              "      <th>uf_RJ</th>\n",
              "      <th>uf_BA</th>\n",
              "      <th>uf_SC</th>\n",
              "      <th>uf_PB</th>\n",
              "      <th>uf_RS</th>\n",
              "      <th>uf_MS</th>\n",
              "      <th>uf_DF</th>\n",
              "      <th>uf_MT</th>\n",
              "      <th>uf_CE</th>\n",
              "      <th>uf_PE</th>\n",
              "      <th>uf_SE</th>\n",
              "      <th>uf_PA</th>\n",
              "      <th>uf_ES</th>\n",
              "      <th>uf_AM</th>\n",
              "      <th>uf_RN</th>\n",
              "      <th>uf_RO</th>\n",
              "    </tr>\n",
              "  </thead>\n",
              "  <tbody>\n",
              "    <tr>\n",
              "      <th>428</th>\n",
              "      <td>-0.345054</td>\n",
              "      <td>-0.344061</td>\n",
              "      <td>-0.431087</td>\n",
              "      <td>-0.346404</td>\n",
              "      <td>-0.741236</td>\n",
              "      <td>1</td>\n",
              "      <td>0</td>\n",
              "      <td>0</td>\n",
              "      <td>0</td>\n",
              "      <td>0</td>\n",
              "      <td>0</td>\n",
              "      <td>0</td>\n",
              "      <td>0</td>\n",
              "      <td>0</td>\n",
              "      <td>0</td>\n",
              "      <td>0</td>\n",
              "      <td>0</td>\n",
              "      <td>0</td>\n",
              "      <td>0</td>\n",
              "      <td>0</td>\n",
              "      <td>0</td>\n",
              "      <td>0</td>\n",
              "      <td>0</td>\n",
              "      <td>0</td>\n",
              "      <td>0</td>\n",
              "    </tr>\n",
              "    <tr>\n",
              "      <th>12</th>\n",
              "      <td>-0.257630</td>\n",
              "      <td>-0.268243</td>\n",
              "      <td>-0.385613</td>\n",
              "      <td>-0.244749</td>\n",
              "      <td>0.008036</td>\n",
              "      <td>0</td>\n",
              "      <td>1</td>\n",
              "      <td>0</td>\n",
              "      <td>0</td>\n",
              "      <td>0</td>\n",
              "      <td>0</td>\n",
              "      <td>0</td>\n",
              "      <td>0</td>\n",
              "      <td>0</td>\n",
              "      <td>0</td>\n",
              "      <td>0</td>\n",
              "      <td>0</td>\n",
              "      <td>0</td>\n",
              "      <td>0</td>\n",
              "      <td>0</td>\n",
              "      <td>0</td>\n",
              "      <td>0</td>\n",
              "      <td>0</td>\n",
              "      <td>0</td>\n",
              "      <td>0</td>\n",
              "    </tr>\n",
              "    <tr>\n",
              "      <th>387</th>\n",
              "      <td>3.661917</td>\n",
              "      <td>3.813306</td>\n",
              "      <td>3.979806</td>\n",
              "      <td>1.880539</td>\n",
              "      <td>-0.741236</td>\n",
              "      <td>1</td>\n",
              "      <td>0</td>\n",
              "      <td>0</td>\n",
              "      <td>0</td>\n",
              "      <td>0</td>\n",
              "      <td>0</td>\n",
              "      <td>0</td>\n",
              "      <td>0</td>\n",
              "      <td>0</td>\n",
              "      <td>0</td>\n",
              "      <td>0</td>\n",
              "      <td>0</td>\n",
              "      <td>0</td>\n",
              "      <td>0</td>\n",
              "      <td>0</td>\n",
              "      <td>0</td>\n",
              "      <td>0</td>\n",
              "      <td>0</td>\n",
              "      <td>0</td>\n",
              "      <td>0</td>\n",
              "    </tr>\n",
              "    <tr>\n",
              "      <th>1617</th>\n",
              "      <td>-0.141063</td>\n",
              "      <td>-0.167152</td>\n",
              "      <td>0.069118</td>\n",
              "      <td>-0.154455</td>\n",
              "      <td>-0.516455</td>\n",
              "      <td>1</td>\n",
              "      <td>0</td>\n",
              "      <td>0</td>\n",
              "      <td>0</td>\n",
              "      <td>0</td>\n",
              "      <td>0</td>\n",
              "      <td>0</td>\n",
              "      <td>0</td>\n",
              "      <td>0</td>\n",
              "      <td>0</td>\n",
              "      <td>0</td>\n",
              "      <td>0</td>\n",
              "      <td>0</td>\n",
              "      <td>0</td>\n",
              "      <td>0</td>\n",
              "      <td>0</td>\n",
              "      <td>0</td>\n",
              "      <td>0</td>\n",
              "      <td>0</td>\n",
              "      <td>0</td>\n",
              "    </tr>\n",
              "    <tr>\n",
              "      <th>887</th>\n",
              "      <td>-0.082780</td>\n",
              "      <td>-0.091333</td>\n",
              "      <td>0.069118</td>\n",
              "      <td>-0.151652</td>\n",
              "      <td>-0.784052</td>\n",
              "      <td>1</td>\n",
              "      <td>0</td>\n",
              "      <td>0</td>\n",
              "      <td>0</td>\n",
              "      <td>0</td>\n",
              "      <td>0</td>\n",
              "      <td>0</td>\n",
              "      <td>0</td>\n",
              "      <td>0</td>\n",
              "      <td>0</td>\n",
              "      <td>0</td>\n",
              "      <td>0</td>\n",
              "      <td>0</td>\n",
              "      <td>0</td>\n",
              "      <td>0</td>\n",
              "      <td>0</td>\n",
              "      <td>0</td>\n",
              "      <td>0</td>\n",
              "      <td>0</td>\n",
              "      <td>0</td>\n",
              "    </tr>\n",
              "  </tbody>\n",
              "</table>\n",
              "</div>"
            ],
            "text/plain": [
              "      tot_orders_12m  tot_items_12m  tot_items_dist_12m  ...  uf_AM  uf_RN  uf_RO\n",
              "428        -0.345054      -0.344061           -0.431087  ...      0      0      0\n",
              "12         -0.257630      -0.268243           -0.385613  ...      0      0      0\n",
              "387         3.661917       3.813306            3.979806  ...      0      0      0\n",
              "1617       -0.141063      -0.167152            0.069118  ...      0      0      0\n",
              "887        -0.082780      -0.091333            0.069118  ...      0      0      0\n",
              "\n",
              "[5 rows x 25 columns]"
            ]
          },
          "metadata": {
            "tags": []
          },
          "execution_count": 10
        }
      ]
    },
    {
      "cell_type": "code",
      "metadata": {
        "colab": {
          "base_uri": "https://localhost:8080/",
          "height": 419
        },
        "id": "lNE__1mKNh3X",
        "outputId": "380d9818-26bb-4f81-99d2-afd7ff79c93f"
      },
      "source": [
        "data_pipe.transform(X_test)"
      ],
      "execution_count": null,
      "outputs": [
        {
          "output_type": "execute_result",
          "data": {
            "text/html": [
              "<div>\n",
              "<style scoped>\n",
              "    .dataframe tbody tr th:only-of-type {\n",
              "        vertical-align: middle;\n",
              "    }\n",
              "\n",
              "    .dataframe tbody tr th {\n",
              "        vertical-align: top;\n",
              "    }\n",
              "\n",
              "    .dataframe thead th {\n",
              "        text-align: right;\n",
              "    }\n",
              "</style>\n",
              "<table border=\"1\" class=\"dataframe\">\n",
              "  <thead>\n",
              "    <tr style=\"text-align: right;\">\n",
              "      <th></th>\n",
              "      <th>tot_orders_12m</th>\n",
              "      <th>tot_items_12m</th>\n",
              "      <th>tot_items_dist_12m</th>\n",
              "      <th>receita_12m</th>\n",
              "      <th>recencia</th>\n",
              "      <th>uf_SP</th>\n",
              "      <th>uf_GO</th>\n",
              "      <th>uf_PR</th>\n",
              "      <th>uf_MG</th>\n",
              "      <th>uf_RJ</th>\n",
              "      <th>uf_BA</th>\n",
              "      <th>uf_SC</th>\n",
              "      <th>uf_PB</th>\n",
              "      <th>uf_RS</th>\n",
              "      <th>uf_MS</th>\n",
              "      <th>uf_DF</th>\n",
              "      <th>uf_MT</th>\n",
              "      <th>uf_CE</th>\n",
              "      <th>uf_PE</th>\n",
              "      <th>uf_SE</th>\n",
              "      <th>uf_PA</th>\n",
              "      <th>uf_ES</th>\n",
              "      <th>uf_AM</th>\n",
              "      <th>uf_RN</th>\n",
              "      <th>uf_RO</th>\n",
              "    </tr>\n",
              "  </thead>\n",
              "  <tbody>\n",
              "    <tr>\n",
              "      <th>224</th>\n",
              "      <td>-0.345054</td>\n",
              "      <td>-0.306152</td>\n",
              "      <td>-0.385613</td>\n",
              "      <td>-0.330197</td>\n",
              "      <td>-0.473639</td>\n",
              "      <td>0</td>\n",
              "      <td>0</td>\n",
              "      <td>1</td>\n",
              "      <td>0</td>\n",
              "      <td>0</td>\n",
              "      <td>0</td>\n",
              "      <td>0</td>\n",
              "      <td>0</td>\n",
              "      <td>0</td>\n",
              "      <td>0</td>\n",
              "      <td>0</td>\n",
              "      <td>0</td>\n",
              "      <td>0</td>\n",
              "      <td>0</td>\n",
              "      <td>0</td>\n",
              "      <td>0</td>\n",
              "      <td>0</td>\n",
              "      <td>0</td>\n",
              "      <td>0</td>\n",
              "      <td>0</td>\n",
              "    </tr>\n",
              "    <tr>\n",
              "      <th>1546</th>\n",
              "      <td>-0.359625</td>\n",
              "      <td>-0.356697</td>\n",
              "      <td>-0.431087</td>\n",
              "      <td>-0.349955</td>\n",
              "      <td>-0.280969</td>\n",
              "      <td>0</td>\n",
              "      <td>0</td>\n",
              "      <td>0</td>\n",
              "      <td>0</td>\n",
              "      <td>1</td>\n",
              "      <td>0</td>\n",
              "      <td>0</td>\n",
              "      <td>0</td>\n",
              "      <td>0</td>\n",
              "      <td>0</td>\n",
              "      <td>0</td>\n",
              "      <td>0</td>\n",
              "      <td>0</td>\n",
              "      <td>0</td>\n",
              "      <td>0</td>\n",
              "      <td>0</td>\n",
              "      <td>0</td>\n",
              "      <td>0</td>\n",
              "      <td>0</td>\n",
              "      <td>0</td>\n",
              "    </tr>\n",
              "    <tr>\n",
              "      <th>1262</th>\n",
              "      <td>-0.359625</td>\n",
              "      <td>-0.344061</td>\n",
              "      <td>-0.385613</td>\n",
              "      <td>-0.355588</td>\n",
              "      <td>0.628861</td>\n",
              "      <td>1</td>\n",
              "      <td>0</td>\n",
              "      <td>0</td>\n",
              "      <td>0</td>\n",
              "      <td>0</td>\n",
              "      <td>0</td>\n",
              "      <td>0</td>\n",
              "      <td>0</td>\n",
              "      <td>0</td>\n",
              "      <td>0</td>\n",
              "      <td>0</td>\n",
              "      <td>0</td>\n",
              "      <td>0</td>\n",
              "      <td>0</td>\n",
              "      <td>0</td>\n",
              "      <td>0</td>\n",
              "      <td>0</td>\n",
              "      <td>0</td>\n",
              "      <td>0</td>\n",
              "      <td>0</td>\n",
              "    </tr>\n",
              "    <tr>\n",
              "      <th>1603</th>\n",
              "      <td>-0.359625</td>\n",
              "      <td>-0.356697</td>\n",
              "      <td>-0.431087</td>\n",
              "      <td>-0.351904</td>\n",
              "      <td>-0.741236</td>\n",
              "      <td>1</td>\n",
              "      <td>0</td>\n",
              "      <td>0</td>\n",
              "      <td>0</td>\n",
              "      <td>0</td>\n",
              "      <td>0</td>\n",
              "      <td>0</td>\n",
              "      <td>0</td>\n",
              "      <td>0</td>\n",
              "      <td>0</td>\n",
              "      <td>0</td>\n",
              "      <td>0</td>\n",
              "      <td>0</td>\n",
              "      <td>0</td>\n",
              "      <td>0</td>\n",
              "      <td>0</td>\n",
              "      <td>0</td>\n",
              "      <td>0</td>\n",
              "      <td>0</td>\n",
              "      <td>0</td>\n",
              "    </tr>\n",
              "    <tr>\n",
              "      <th>1157</th>\n",
              "      <td>-0.301342</td>\n",
              "      <td>-0.217697</td>\n",
              "      <td>-0.340140</td>\n",
              "      <td>-0.314361</td>\n",
              "      <td>-0.120411</td>\n",
              "      <td>0</td>\n",
              "      <td>0</td>\n",
              "      <td>0</td>\n",
              "      <td>0</td>\n",
              "      <td>0</td>\n",
              "      <td>0</td>\n",
              "      <td>0</td>\n",
              "      <td>0</td>\n",
              "      <td>1</td>\n",
              "      <td>0</td>\n",
              "      <td>0</td>\n",
              "      <td>0</td>\n",
              "      <td>0</td>\n",
              "      <td>0</td>\n",
              "      <td>0</td>\n",
              "      <td>0</td>\n",
              "      <td>0</td>\n",
              "      <td>0</td>\n",
              "      <td>0</td>\n",
              "      <td>0</td>\n",
              "    </tr>\n",
              "    <tr>\n",
              "      <th>...</th>\n",
              "      <td>...</td>\n",
              "      <td>...</td>\n",
              "      <td>...</td>\n",
              "      <td>...</td>\n",
              "      <td>...</td>\n",
              "      <td>...</td>\n",
              "      <td>...</td>\n",
              "      <td>...</td>\n",
              "      <td>...</td>\n",
              "      <td>...</td>\n",
              "      <td>...</td>\n",
              "      <td>...</td>\n",
              "      <td>...</td>\n",
              "      <td>...</td>\n",
              "      <td>...</td>\n",
              "      <td>...</td>\n",
              "      <td>...</td>\n",
              "      <td>...</td>\n",
              "      <td>...</td>\n",
              "      <td>...</td>\n",
              "      <td>...</td>\n",
              "      <td>...</td>\n",
              "      <td>...</td>\n",
              "      <td>...</td>\n",
              "      <td>...</td>\n",
              "    </tr>\n",
              "    <tr>\n",
              "      <th>1641</th>\n",
              "      <td>-0.345054</td>\n",
              "      <td>-0.331424</td>\n",
              "      <td>-0.385613</td>\n",
              "      <td>-0.335179</td>\n",
              "      <td>-0.784052</td>\n",
              "      <td>1</td>\n",
              "      <td>0</td>\n",
              "      <td>0</td>\n",
              "      <td>0</td>\n",
              "      <td>0</td>\n",
              "      <td>0</td>\n",
              "      <td>0</td>\n",
              "      <td>0</td>\n",
              "      <td>0</td>\n",
              "      <td>0</td>\n",
              "      <td>0</td>\n",
              "      <td>0</td>\n",
              "      <td>0</td>\n",
              "      <td>0</td>\n",
              "      <td>0</td>\n",
              "      <td>0</td>\n",
              "      <td>0</td>\n",
              "      <td>0</td>\n",
              "      <td>0</td>\n",
              "      <td>0</td>\n",
              "    </tr>\n",
              "    <tr>\n",
              "      <th>982</th>\n",
              "      <td>-0.315913</td>\n",
              "      <td>-0.318788</td>\n",
              "      <td>-0.385613</td>\n",
              "      <td>-0.276288</td>\n",
              "      <td>-0.751940</td>\n",
              "      <td>0</td>\n",
              "      <td>0</td>\n",
              "      <td>0</td>\n",
              "      <td>0</td>\n",
              "      <td>0</td>\n",
              "      <td>0</td>\n",
              "      <td>1</td>\n",
              "      <td>0</td>\n",
              "      <td>0</td>\n",
              "      <td>0</td>\n",
              "      <td>0</td>\n",
              "      <td>0</td>\n",
              "      <td>0</td>\n",
              "      <td>0</td>\n",
              "      <td>0</td>\n",
              "      <td>0</td>\n",
              "      <td>0</td>\n",
              "      <td>0</td>\n",
              "      <td>0</td>\n",
              "      <td>0</td>\n",
              "    </tr>\n",
              "    <tr>\n",
              "      <th>765</th>\n",
              "      <td>0.121211</td>\n",
              "      <td>0.161394</td>\n",
              "      <td>0.114591</td>\n",
              "      <td>-0.229742</td>\n",
              "      <td>0.318449</td>\n",
              "      <td>1</td>\n",
              "      <td>0</td>\n",
              "      <td>0</td>\n",
              "      <td>0</td>\n",
              "      <td>0</td>\n",
              "      <td>0</td>\n",
              "      <td>0</td>\n",
              "      <td>0</td>\n",
              "      <td>0</td>\n",
              "      <td>0</td>\n",
              "      <td>0</td>\n",
              "      <td>0</td>\n",
              "      <td>0</td>\n",
              "      <td>0</td>\n",
              "      <td>0</td>\n",
              "      <td>0</td>\n",
              "      <td>0</td>\n",
              "      <td>0</td>\n",
              "      <td>0</td>\n",
              "      <td>0</td>\n",
              "    </tr>\n",
              "    <tr>\n",
              "      <th>491</th>\n",
              "      <td>-0.053638</td>\n",
              "      <td>-0.091333</td>\n",
              "      <td>-0.158248</td>\n",
              "      <td>-0.020141</td>\n",
              "      <td>-0.398712</td>\n",
              "      <td>0</td>\n",
              "      <td>0</td>\n",
              "      <td>0</td>\n",
              "      <td>0</td>\n",
              "      <td>0</td>\n",
              "      <td>0</td>\n",
              "      <td>1</td>\n",
              "      <td>0</td>\n",
              "      <td>0</td>\n",
              "      <td>0</td>\n",
              "      <td>0</td>\n",
              "      <td>0</td>\n",
              "      <td>0</td>\n",
              "      <td>0</td>\n",
              "      <td>0</td>\n",
              "      <td>0</td>\n",
              "      <td>0</td>\n",
              "      <td>0</td>\n",
              "      <td>0</td>\n",
              "      <td>0</td>\n",
              "    </tr>\n",
              "    <tr>\n",
              "      <th>1574</th>\n",
              "      <td>-0.301342</td>\n",
              "      <td>-0.306152</td>\n",
              "      <td>-0.294667</td>\n",
              "      <td>0.091243</td>\n",
              "      <td>0.789420</td>\n",
              "      <td>0</td>\n",
              "      <td>0</td>\n",
              "      <td>0</td>\n",
              "      <td>0</td>\n",
              "      <td>0</td>\n",
              "      <td>0</td>\n",
              "      <td>1</td>\n",
              "      <td>0</td>\n",
              "      <td>0</td>\n",
              "      <td>0</td>\n",
              "      <td>0</td>\n",
              "      <td>0</td>\n",
              "      <td>0</td>\n",
              "      <td>0</td>\n",
              "      <td>0</td>\n",
              "      <td>0</td>\n",
              "      <td>0</td>\n",
              "      <td>0</td>\n",
              "      <td>0</td>\n",
              "      <td>0</td>\n",
              "    </tr>\n",
              "  </tbody>\n",
              "</table>\n",
              "<p>338 rows × 25 columns</p>\n",
              "</div>"
            ],
            "text/plain": [
              "      tot_orders_12m  tot_items_12m  tot_items_dist_12m  ...  uf_AM  uf_RN  uf_RO\n",
              "224        -0.345054      -0.306152           -0.385613  ...      0      0      0\n",
              "1546       -0.359625      -0.356697           -0.431087  ...      0      0      0\n",
              "1262       -0.359625      -0.344061           -0.385613  ...      0      0      0\n",
              "1603       -0.359625      -0.356697           -0.431087  ...      0      0      0\n",
              "1157       -0.301342      -0.217697           -0.340140  ...      0      0      0\n",
              "...              ...            ...                 ...  ...    ...    ...    ...\n",
              "1641       -0.345054      -0.331424           -0.385613  ...      0      0      0\n",
              "982        -0.315913      -0.318788           -0.385613  ...      0      0      0\n",
              "765         0.121211       0.161394            0.114591  ...      0      0      0\n",
              "491        -0.053638      -0.091333           -0.158248  ...      0      0      0\n",
              "1574       -0.301342      -0.306152           -0.294667  ...      0      0      0\n",
              "\n",
              "[338 rows x 25 columns]"
            ]
          },
          "metadata": {
            "tags": []
          },
          "execution_count": 11
        }
      ]
    },
    {
      "cell_type": "markdown",
      "metadata": {
        "id": "FdibtMNLNrmD"
      },
      "source": [
        "# Treinando o Modelo"
      ]
    },
    {
      "cell_type": "markdown",
      "metadata": {
        "id": "_xrsmWv5Nw_V"
      },
      "source": [
        "model_pipe = data_pipe + algoritmo"
      ]
    },
    {
      "cell_type": "code",
      "metadata": {
        "id": "k1YBZTmeNpAA"
      },
      "source": [
        "from sklearn.linear_model import LogisticRegression\n",
        "\n",
        "model_pipe = Pipeline(steps=[\n",
        "    ('numeric_imputer', ArbitraryNumberImputer(variables=num_vars, arbitrary_number=-999)),\n",
        "    ('numeric_scaler', SklearnTransformerWrapper(variables=num_vars, transformer=StandardScaler())),\n",
        "    ('categoric_imputer', CategoricalVariableImputer(variables=cat_vars, return_object=True)),\n",
        "    ('one_hot_encoder', OneHotCategoricalEncoder(variables=cat_vars)),\n",
        "    ('model', LogisticRegression(random_state=2020))\n",
        "])"
      ],
      "execution_count": null,
      "outputs": []
    },
    {
      "cell_type": "code",
      "metadata": {
        "colab": {
          "base_uri": "https://localhost:8080/"
        },
        "id": "6WJkS9trOvfp",
        "outputId": "4cbb5188-40e2-4556-ca53-dfb8703ae0de"
      },
      "source": [
        "model_pipe.fit(X_train, y_train)"
      ],
      "execution_count": null,
      "outputs": [
        {
          "output_type": "execute_result",
          "data": {
            "text/plain": [
              "Pipeline(memory=None,\n",
              "         steps=[('numeric_imputer',\n",
              "                 ArbitraryNumberImputer(arbitrary_number=-999,\n",
              "                                        imputer_dict=None,\n",
              "                                        variables=['tot_orders_12m',\n",
              "                                                   'tot_items_12m',\n",
              "                                                   'tot_items_dist_12m',\n",
              "                                                   'receita_12m',\n",
              "                                                   'recencia'])),\n",
              "                ('numeric_scaler',\n",
              "                 SklearnTransformerWrapper(transformer=StandardScaler(copy=True,\n",
              "                                                                      with_mean=True,\n",
              "                                                                      with_std=True),\n",
              "                                           variables=['tot_orders_12m',\n",
              "                                                      'tot_ite...\n",
              "                ('one_hot_encoder',\n",
              "                 OneHotCategoricalEncoder(drop_last=False, top_categories=None,\n",
              "                                          variables=['uf'])),\n",
              "                ('model',\n",
              "                 LogisticRegression(C=1.0, class_weight=None, dual=False,\n",
              "                                    fit_intercept=True, intercept_scaling=1,\n",
              "                                    l1_ratio=None, max_iter=100,\n",
              "                                    multi_class='auto', n_jobs=None,\n",
              "                                    penalty='l2', random_state=2020,\n",
              "                                    solver='lbfgs', tol=0.0001, verbose=0,\n",
              "                                    warm_start=False))],\n",
              "         verbose=False)"
            ]
          },
          "metadata": {
            "tags": []
          },
          "execution_count": 13
        }
      ]
    },
    {
      "cell_type": "code",
      "metadata": {
        "id": "qtMDhSK2O3no"
      },
      "source": [
        "y_pred_train = model_pipe.predict(X_train)\n",
        "y_pred_test  = model_pipe.predict(X_test)"
      ],
      "execution_count": null,
      "outputs": []
    },
    {
      "cell_type": "code",
      "metadata": {
        "colab": {
          "base_uri": "https://localhost:8080/",
          "height": 204
        },
        "id": "TE08_TRTPGZu",
        "outputId": "b6696793-310c-4760-cf26-a547000bae52"
      },
      "source": [
        "(\n",
        "    X_train\n",
        "    .assign(label = model_pipe.predict(X_train))\n",
        "    .assign(score = model_pipe.predict_proba(X_train)[:,1])\n",
        "    .assign(new_label = np.where(model_pipe.predict_proba(X_train)[:,1] > 0.3, 1, 0))\n",
        ").head()"
      ],
      "execution_count": null,
      "outputs": [
        {
          "output_type": "execute_result",
          "data": {
            "text/html": [
              "<div>\n",
              "<style scoped>\n",
              "    .dataframe tbody tr th:only-of-type {\n",
              "        vertical-align: middle;\n",
              "    }\n",
              "\n",
              "    .dataframe tbody tr th {\n",
              "        vertical-align: top;\n",
              "    }\n",
              "\n",
              "    .dataframe thead th {\n",
              "        text-align: right;\n",
              "    }\n",
              "</style>\n",
              "<table border=\"1\" class=\"dataframe\">\n",
              "  <thead>\n",
              "    <tr style=\"text-align: right;\">\n",
              "      <th></th>\n",
              "      <th>uf</th>\n",
              "      <th>tot_orders_12m</th>\n",
              "      <th>tot_items_12m</th>\n",
              "      <th>tot_items_dist_12m</th>\n",
              "      <th>receita_12m</th>\n",
              "      <th>recencia</th>\n",
              "      <th>label</th>\n",
              "      <th>score</th>\n",
              "      <th>new_label</th>\n",
              "    </tr>\n",
              "  </thead>\n",
              "  <tbody>\n",
              "    <tr>\n",
              "      <th>428</th>\n",
              "      <td>SP</td>\n",
              "      <td>2</td>\n",
              "      <td>2</td>\n",
              "      <td>1</td>\n",
              "      <td>109.80</td>\n",
              "      <td>4</td>\n",
              "      <td>0</td>\n",
              "      <td>0.201655</td>\n",
              "      <td>0</td>\n",
              "    </tr>\n",
              "    <tr>\n",
              "      <th>12</th>\n",
              "      <td>GO</td>\n",
              "      <td>8</td>\n",
              "      <td>8</td>\n",
              "      <td>2</td>\n",
              "      <td>1105.96</td>\n",
              "      <td>74</td>\n",
              "      <td>0</td>\n",
              "      <td>0.357481</td>\n",
              "      <td>1</td>\n",
              "    </tr>\n",
              "    <tr>\n",
              "      <th>387</th>\n",
              "      <td>SP</td>\n",
              "      <td>277</td>\n",
              "      <td>331</td>\n",
              "      <td>98</td>\n",
              "      <td>21932.61</td>\n",
              "      <td>4</td>\n",
              "      <td>0</td>\n",
              "      <td>0.000381</td>\n",
              "      <td>0</td>\n",
              "    </tr>\n",
              "    <tr>\n",
              "      <th>1617</th>\n",
              "      <td>SP</td>\n",
              "      <td>16</td>\n",
              "      <td>16</td>\n",
              "      <td>12</td>\n",
              "      <td>1990.79</td>\n",
              "      <td>25</td>\n",
              "      <td>0</td>\n",
              "      <td>0.189691</td>\n",
              "      <td>0</td>\n",
              "    </tr>\n",
              "    <tr>\n",
              "      <th>887</th>\n",
              "      <td>SP</td>\n",
              "      <td>20</td>\n",
              "      <td>22</td>\n",
              "      <td>12</td>\n",
              "      <td>2018.26</td>\n",
              "      <td>0</td>\n",
              "      <td>0</td>\n",
              "      <td>0.113137</td>\n",
              "      <td>0</td>\n",
              "    </tr>\n",
              "  </tbody>\n",
              "</table>\n",
              "</div>"
            ],
            "text/plain": [
              "      uf  tot_orders_12m  tot_items_12m  ...  label     score  new_label\n",
              "428   SP               2              2  ...      0  0.201655          0\n",
              "12    GO               8              8  ...      0  0.357481          1\n",
              "387   SP             277            331  ...      0  0.000381          0\n",
              "1617  SP              16             16  ...      0  0.189691          0\n",
              "887   SP              20             22  ...      0  0.113137          0\n",
              "\n",
              "[5 rows x 9 columns]"
            ]
          },
          "metadata": {
            "tags": []
          },
          "execution_count": 15
        }
      ]
    },
    {
      "cell_type": "code",
      "metadata": {
        "id": "eLtmsbVLWh7p"
      },
      "source": [
        "from sklearn.metrics import accuracy_score, balanced_accuracy_score, precision_score, recall_score, f1_score, roc_auc_score"
      ],
      "execution_count": null,
      "outputs": []
    },
    {
      "cell_type": "code",
      "metadata": {
        "colab": {
          "base_uri": "https://localhost:8080/"
        },
        "id": "rXi7bhpHPwm_",
        "outputId": "b712aafc-ee3e-4b7c-d66b-6fae3e479334"
      },
      "source": [
        "# model_pipe.predict() é igual ao\n",
        "# model_pipe.predict_proba()[:,1] com um ponto de corte igual a 0.5\n",
        "\n",
        "accuracy_score(model_pipe.predict(X_train), np.where(model_pipe.predict_proba(X_train)[:,1] > 0.5, 1, 0))"
      ],
      "execution_count": null,
      "outputs": [
        {
          "output_type": "execute_result",
          "data": {
            "text/plain": [
              "1.0"
            ]
          },
          "metadata": {
            "tags": []
          },
          "execution_count": 17
        }
      ]
    },
    {
      "cell_type": "code",
      "metadata": {
        "colab": {
          "base_uri": "https://localhost:8080/"
        },
        "id": "n223QrO5WknE",
        "outputId": "31dbb64c-d7d6-47b1-d63b-bf6265723f52"
      },
      "source": [
        "print(f\"Acurácia (Treino): {accuracy_score(y_train, model_pipe.predict(X_train))}\")\n",
        "print(f\"Acurácia (Teste): {accuracy_score(y_test, model_pipe.predict(X_test))}\")\n",
        "print(\"====================================\")\n",
        "print(f\"Acurácia Balanceada (Treino): {balanced_accuracy_score(y_train, model_pipe.predict(X_train))}\")\n",
        "print(f\"Acurácia Balanceada (Teste): {balanced_accuracy_score(y_test, model_pipe.predict(X_test))}\")\n",
        "print(\"====================================\")\n",
        "print(f\"Precision (Treino): {precision_score(y_train, model_pipe.predict(X_train))}\")\n",
        "print(f\"Precision (Teste): {precision_score(y_test, model_pipe.predict(X_test))}\")\n",
        "print(\"====================================\")\n",
        "print(f\"Recall (Treino): {recall_score(y_train, model_pipe.predict(X_train))}\")\n",
        "print(f\"Recall (Teste): {recall_score(y_test, model_pipe.predict(X_test))}\")\n",
        "print(\"====================================\")\n",
        "print(f\"F1-Score (Treino): {f1_score(y_train, model_pipe.predict(X_train))}\")\n",
        "print(f\"F1-Score (Teste): {f1_score(y_test, model_pipe.predict(X_test))}\")\n",
        "print(\"====================================\")\n",
        "print(f\"ROCAUC (Treino): {roc_auc_score(y_train, model_pipe.predict_proba(X_train)[:,1])}\")\n",
        "print(f\"ROCAUC (Teste): {roc_auc_score(y_test, model_pipe.predict_proba(X_test)[:,1])}\")"
      ],
      "execution_count": null,
      "outputs": [
        {
          "output_type": "stream",
          "text": [
            "Acurácia (Treino): 0.8298816568047337\n",
            "Acurácia (Teste): 0.7928994082840237\n",
            "====================================\n",
            "Acurácia Balanceada (Treino): 0.795083514532018\n",
            "Acurácia Balanceada (Teste): 0.7620255998805836\n",
            "====================================\n",
            "Precision (Treino): 0.8604651162790697\n",
            "Precision (Teste): 0.7714285714285715\n",
            "====================================\n",
            "Recall (Treino): 0.6542239685658153\n",
            "Recall (Teste): 0.6377952755905512\n",
            "====================================\n",
            "F1-Score (Treino): 0.7433035714285714\n",
            "F1-Score (Teste): 0.6982758620689654\n",
            "====================================\n",
            "ROCAUC (Treino): 0.9033925520931653\n",
            "ROCAUC (Teste): 0.8644997574355338\n"
          ],
          "name": "stdout"
        }
      ]
    },
    {
      "cell_type": "code",
      "metadata": {
        "colab": {
          "base_uri": "https://localhost:8080/",
          "height": 111
        },
        "id": "46vSgPYGWpO6",
        "outputId": "fce0803b-ae80-485c-af96-7672a675b9f6"
      },
      "source": [
        "metricas = {\n",
        "    'model': ['Logistic Regression', 'Logistic Regression'],\n",
        "    'modo': ['treino', 'teste'],\n",
        "    'accuracy': [accuracy_score(y_train, model_pipe.predict(X_train)), accuracy_score(y_test, model_pipe.predict(X_test))],\n",
        "    'balanced_accuracy': [balanced_accuracy_score(y_train, model_pipe.predict(X_train)), balanced_accuracy_score(y_test, model_pipe.predict(X_test))],\n",
        "    'precision': [precision_score(y_train, model_pipe.predict(X_train)), precision_score(y_test, model_pipe.predict(X_test))],\n",
        "    'recall': [recall_score(y_train, model_pipe.predict(X_train)), recall_score(y_test, model_pipe.predict(X_test))],\n",
        "    'f1_score': [f1_score(y_train, model_pipe.predict(X_train)), f1_score(y_test, model_pipe.predict(X_test))],\n",
        "    'rocauc': [roc_auc_score(y_train, model_pipe.predict_proba(X_train)[:,1]), roc_auc_score(y_test, model_pipe.predict_proba(X_test)[:,1])]\n",
        "}\n",
        "\n",
        "pd.DataFrame(metricas)"
      ],
      "execution_count": null,
      "outputs": [
        {
          "output_type": "execute_result",
          "data": {
            "text/html": [
              "<div>\n",
              "<style scoped>\n",
              "    .dataframe tbody tr th:only-of-type {\n",
              "        vertical-align: middle;\n",
              "    }\n",
              "\n",
              "    .dataframe tbody tr th {\n",
              "        vertical-align: top;\n",
              "    }\n",
              "\n",
              "    .dataframe thead th {\n",
              "        text-align: right;\n",
              "    }\n",
              "</style>\n",
              "<table border=\"1\" class=\"dataframe\">\n",
              "  <thead>\n",
              "    <tr style=\"text-align: right;\">\n",
              "      <th></th>\n",
              "      <th>model</th>\n",
              "      <th>modo</th>\n",
              "      <th>accuracy</th>\n",
              "      <th>balanced_accuracy</th>\n",
              "      <th>precision</th>\n",
              "      <th>recall</th>\n",
              "      <th>f1_score</th>\n",
              "      <th>rocauc</th>\n",
              "    </tr>\n",
              "  </thead>\n",
              "  <tbody>\n",
              "    <tr>\n",
              "      <th>0</th>\n",
              "      <td>Logistic Regression</td>\n",
              "      <td>treino</td>\n",
              "      <td>0.829882</td>\n",
              "      <td>0.795084</td>\n",
              "      <td>0.860465</td>\n",
              "      <td>0.654224</td>\n",
              "      <td>0.743304</td>\n",
              "      <td>0.903393</td>\n",
              "    </tr>\n",
              "    <tr>\n",
              "      <th>1</th>\n",
              "      <td>Logistic Regression</td>\n",
              "      <td>teste</td>\n",
              "      <td>0.792899</td>\n",
              "      <td>0.762026</td>\n",
              "      <td>0.771429</td>\n",
              "      <td>0.637795</td>\n",
              "      <td>0.698276</td>\n",
              "      <td>0.864500</td>\n",
              "    </tr>\n",
              "  </tbody>\n",
              "</table>\n",
              "</div>"
            ],
            "text/plain": [
              "                 model    modo  accuracy  ...    recall  f1_score    rocauc\n",
              "0  Logistic Regression  treino  0.829882  ...  0.654224  0.743304  0.903393\n",
              "1  Logistic Regression   teste  0.792899  ...  0.637795  0.698276  0.864500\n",
              "\n",
              "[2 rows x 8 columns]"
            ]
          },
          "metadata": {
            "tags": []
          },
          "execution_count": 18
        }
      ]
    },
    {
      "cell_type": "code",
      "metadata": {
        "colab": {
          "base_uri": "https://localhost:8080/",
          "height": 296
        },
        "id": "oJvf1frHdtKf",
        "outputId": "07b7afbe-9738-4824-a8e8-ff85420e02d3"
      },
      "source": [
        "from sklearn.metrics import plot_confusion_matrix\n",
        "\n",
        "plot_confusion_matrix(model_pipe, X_test, y_test, values_format='d')"
      ],
      "execution_count": null,
      "outputs": [
        {
          "output_type": "execute_result",
          "data": {
            "text/plain": [
              "<sklearn.metrics._plot.confusion_matrix.ConfusionMatrixDisplay at 0x7f01ca2962e8>"
            ]
          },
          "metadata": {
            "tags": []
          },
          "execution_count": 19
        },
        {
          "output_type": "display_data",
          "data": {
            "image/png": "[encoded data removed]",
            "text/plain": [
              "<Figure size 432x288 with 2 Axes>"
            ]
          },
          "metadata": {
            "tags": [],
            "needs_background": "light"
          }
        }
      ]
    },
    {
      "cell_type": "code",
      "metadata": {
        "colab": {
          "base_uri": "https://localhost:8080/",
          "height": 279
        },
        "id": "AFjS_N7veAWC",
        "outputId": "a34ef4ad-ad62-4073-8e09-83a31465edba"
      },
      "source": [
        "from sklearn.metrics import plot_roc_curve\n",
        "\n",
        "plot_roc_curve(model_pipe, X_test, y_test);"
      ],
      "execution_count": null,
      "outputs": [
        {
          "output_type": "display_data",
          "data": {
            "image/png": "[encoded data removed]",
            "text/plain": [
              "<Figure size 432x288 with 1 Axes>"
            ]
          },
          "metadata": {
            "tags": [],
            "needs_background": "light"
          }
        }
      ]
    },
    {
      "cell_type": "markdown",
      "metadata": {
        "id": "Is3Utx2IeRJL"
      },
      "source": [
        "**[Responda]** Calcule todas as métricas acima na base out of Time `abt_classificacao_churn_oot.csv`"
      ]
    },
    {
      "cell_type": "code",
      "metadata": {
        "id": "hNToPhVUePAB"
      },
      "source": [
        ""
      ],
      "execution_count": null,
      "outputs": []
    },
    {
      "cell_type": "markdown",
      "metadata": {
        "id": "u49hWq_geXLT"
      },
      "source": [
        "**[Responda]** Execute uma árvore de decisão ao invés de uma regressão logística na base. Obs: algoritmos baseados em árvores não precisam de feature scaling! Pode também reutilizar os códigos acima!"
      ]
    },
    {
      "cell_type": "code",
      "metadata": {
        "id": "uFLOujFiWYhG"
      },
      "source": [
        ""
      ],
      "execution_count": null,
      "outputs": []
    }
  ]
}