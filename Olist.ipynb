{
  "nbformat": 4,
  "nbformat_minor": 0,
  "metadata": {
    "colab": {
      "name": "Olist.ipynb",
      "provenance": [],
      "mount_file_id": "1f8ya6SKkzvCcHaEFHP2l1EpquNctQu7E",
      "authorship_tag": "ABX9TyOZyHFYK97IYTSLD2ah1k37",
      "include_colab_link": true
    },
    "kernelspec": {
      "name": "python3",
      "display_name": "Python 3"
    }
  },
  "cells": [
    {
      "cell_type": "markdown",
      "metadata": {
        "id": "view-in-github",
        "colab_type": "text"
      },
      "source": [
        "<a href=\"https://colab.research.google.com/github/onlyreynaldo/python-clustering-data/blob/main/Olist.ipynb\" target=\"_parent\"><img src=\"https://colab.research.google.com/assets/colab-badge.svg\" alt=\"Open In Colab\"/></a>"
      ]
    },
    {
      "cell_type": "markdown",
      "metadata": {
        "id": "ZwfAM6UXyiL6"
      },
      "source": [
        ""
      ]
    },
    {
      "cell_type": "code",
      "metadata": {
        "id": "2eU9l7zToD7C"
      },
      "source": [
        "import numpy as np\n",
        "import pandas as pd"
      ],
      "execution_count": 1,
      "outputs": []
    },
    {
      "cell_type": "markdown",
      "metadata": {
        "id": "xMFXIe0Pyvtk"
      },
      "source": [
        "# **Carregando os Dados**"
      ]
    },
    {
      "cell_type": "markdown",
      "metadata": {
        "id": "bEiS4ZMgy6kn"
      },
      "source": [
        "## Tabela de Pedidos"
      ]
    },
    {
      "cell_type": "code",
      "metadata": {
        "colab": {
          "base_uri": "https://localhost:8080/",
          "height": 224
        },
        "id": "mSvGctOZyqbn",
        "outputId": "f8c1fdcf-d74f-4091-c5fe-7d3db5c7ae0b"
      },
      "source": [
        "df_orders = pd.read_csv('/content/drive/MyDrive/datasets/olist/olist_orders_dataset.csv', parse_dates=['order_approved_at'])\n",
        "df_orders.head()"
      ],
      "execution_count": 13,
      "outputs": [
        {
          "output_type": "execute_result",
          "data": {
            "text/html": [
              "<div>\n",
              "<style scoped>\n",
              "    .dataframe tbody tr th:only-of-type {\n",
              "        vertical-align: middle;\n",
              "    }\n",
              "\n",
              "    .dataframe tbody tr th {\n",
              "        vertical-align: top;\n",
              "    }\n",
              "\n",
              "    .dataframe thead th {\n",
              "        text-align: right;\n",
              "    }\n",
              "</style>\n",
              "<table border=\"1\" class=\"dataframe\">\n",
              "  <thead>\n",
              "    <tr style=\"text-align: right;\">\n",
              "      <th></th>\n",
              "      <th>order_id</th>\n",
              "      <th>customer_id</th>\n",
              "      <th>order_status</th>\n",
              "      <th>order_purchase_timestamp</th>\n",
              "      <th>order_approved_at</th>\n",
              "      <th>order_delivered_carrier_date</th>\n",
              "      <th>order_delivered_customer_date</th>\n",
              "      <th>order_estimated_delivery_date</th>\n",
              "    </tr>\n",
              "  </thead>\n",
              "  <tbody>\n",
              "    <tr>\n",
              "      <th>0</th>\n",
              "      <td>e481f51cbdc54678b7cc49136f2d6af7</td>\n",
              "      <td>9ef432eb6251297304e76186b10a928d</td>\n",
              "      <td>delivered</td>\n",
              "      <td>2017-10-02 10:56:33</td>\n",
              "      <td>2017-10-02 11:07:15</td>\n",
              "      <td>2017-10-04 19:55:00</td>\n",
              "      <td>2017-10-10 21:25:13</td>\n",
              "      <td>2017-10-18 00:00:00</td>\n",
              "    </tr>\n",
              "    <tr>\n",
              "      <th>1</th>\n",
              "      <td>53cdb2fc8bc7dce0b6741e2150273451</td>\n",
              "      <td>b0830fb4747a6c6d20dea0b8c802d7ef</td>\n",
              "      <td>delivered</td>\n",
              "      <td>2018-07-24 20:41:37</td>\n",
              "      <td>2018-07-26 03:24:27</td>\n",
              "      <td>2018-07-26 14:31:00</td>\n",
              "      <td>2018-08-07 15:27:45</td>\n",
              "      <td>2018-08-13 00:00:00</td>\n",
              "    </tr>\n",
              "    <tr>\n",
              "      <th>2</th>\n",
              "      <td>47770eb9100c2d0c44946d9cf07ec65d</td>\n",
              "      <td>41ce2a54c0b03bf3443c3d931a367089</td>\n",
              "      <td>delivered</td>\n",
              "      <td>2018-08-08 08:38:49</td>\n",
              "      <td>2018-08-08 08:55:23</td>\n",
              "      <td>2018-08-08 13:50:00</td>\n",
              "      <td>2018-08-17 18:06:29</td>\n",
              "      <td>2018-09-04 00:00:00</td>\n",
              "    </tr>\n",
              "    <tr>\n",
              "      <th>3</th>\n",
              "      <td>949d5b44dbf5de918fe9c16f97b45f8a</td>\n",
              "      <td>f88197465ea7920adcdbec7375364d82</td>\n",
              "      <td>delivered</td>\n",
              "      <td>2017-11-18 19:28:06</td>\n",
              "      <td>2017-11-18 19:45:59</td>\n",
              "      <td>2017-11-22 13:39:59</td>\n",
              "      <td>2017-12-02 00:28:42</td>\n",
              "      <td>2017-12-15 00:00:00</td>\n",
              "    </tr>\n",
              "    <tr>\n",
              "      <th>4</th>\n",
              "      <td>ad21c59c0840e6cb83a9ceb5573f8159</td>\n",
              "      <td>8ab97904e6daea8866dbdbc4fb7aad2c</td>\n",
              "      <td>delivered</td>\n",
              "      <td>2018-02-13 21:18:39</td>\n",
              "      <td>2018-02-13 22:20:29</td>\n",
              "      <td>2018-02-14 19:46:34</td>\n",
              "      <td>2018-02-16 18:17:02</td>\n",
              "      <td>2018-02-26 00:00:00</td>\n",
              "    </tr>\n",
              "  </tbody>\n",
              "</table>\n",
              "</div>"
            ],
            "text/plain": [
              "                           order_id  ... order_estimated_delivery_date\n",
              "0  e481f51cbdc54678b7cc49136f2d6af7  ...           2017-10-18 00:00:00\n",
              "1  53cdb2fc8bc7dce0b6741e2150273451  ...           2018-08-13 00:00:00\n",
              "2  47770eb9100c2d0c44946d9cf07ec65d  ...           2018-09-04 00:00:00\n",
              "3  949d5b44dbf5de918fe9c16f97b45f8a  ...           2017-12-15 00:00:00\n",
              "4  ad21c59c0840e6cb83a9ceb5573f8159  ...           2018-02-26 00:00:00\n",
              "\n",
              "[5 rows x 8 columns]"
            ]
          },
          "metadata": {
            "tags": []
          },
          "execution_count": 13
        }
      ]
    },
    {
      "cell_type": "markdown",
      "metadata": {
        "id": "-1lr7PnqzEaQ"
      },
      "source": [
        "# Tabela de Item-Pedidos"
      ]
    },
    {
      "cell_type": "code",
      "metadata": {
        "colab": {
          "base_uri": "https://localhost:8080/",
          "height": 204
        },
        "id": "jHtzo3y8y-vF",
        "outputId": "25f44e5d-49d2-40a2-84bd-35fb363feff0"
      },
      "source": [
        "df_order_items = pd.read_csv('/content/drive/MyDrive/datasets/olist/olist_order_items_dataset.csv')\n",
        "df_order_items.head()"
      ],
      "execution_count": 14,
      "outputs": [
        {
          "output_type": "execute_result",
          "data": {
            "text/html": [
              "<div>\n",
              "<style scoped>\n",
              "    .dataframe tbody tr th:only-of-type {\n",
              "        vertical-align: middle;\n",
              "    }\n",
              "\n",
              "    .dataframe tbody tr th {\n",
              "        vertical-align: top;\n",
              "    }\n",
              "\n",
              "    .dataframe thead th {\n",
              "        text-align: right;\n",
              "    }\n",
              "</style>\n",
              "<table border=\"1\" class=\"dataframe\">\n",
              "  <thead>\n",
              "    <tr style=\"text-align: right;\">\n",
              "      <th></th>\n",
              "      <th>order_id</th>\n",
              "      <th>order_item_id</th>\n",
              "      <th>product_id</th>\n",
              "      <th>seller_id</th>\n",
              "      <th>shipping_limit_date</th>\n",
              "      <th>price</th>\n",
              "      <th>freight_value</th>\n",
              "    </tr>\n",
              "  </thead>\n",
              "  <tbody>\n",
              "    <tr>\n",
              "      <th>0</th>\n",
              "      <td>00010242fe8c5a6d1ba2dd792cb16214</td>\n",
              "      <td>1</td>\n",
              "      <td>4244733e06e7ecb4970a6e2683c13e61</td>\n",
              "      <td>48436dade18ac8b2bce089ec2a041202</td>\n",
              "      <td>2017-09-19 09:45:35</td>\n",
              "      <td>58.90</td>\n",
              "      <td>13.29</td>\n",
              "    </tr>\n",
              "    <tr>\n",
              "      <th>1</th>\n",
              "      <td>00018f77f2f0320c557190d7a144bdd3</td>\n",
              "      <td>1</td>\n",
              "      <td>e5f2d52b802189ee658865ca93d83a8f</td>\n",
              "      <td>dd7ddc04e1b6c2c614352b383efe2d36</td>\n",
              "      <td>2017-05-03 11:05:13</td>\n",
              "      <td>239.90</td>\n",
              "      <td>19.93</td>\n",
              "    </tr>\n",
              "    <tr>\n",
              "      <th>2</th>\n",
              "      <td>000229ec398224ef6ca0657da4fc703e</td>\n",
              "      <td>1</td>\n",
              "      <td>c777355d18b72b67abbeef9df44fd0fd</td>\n",
              "      <td>5b51032eddd242adc84c38acab88f23d</td>\n",
              "      <td>2018-01-18 14:48:30</td>\n",
              "      <td>199.00</td>\n",
              "      <td>17.87</td>\n",
              "    </tr>\n",
              "    <tr>\n",
              "      <th>3</th>\n",
              "      <td>00024acbcdf0a6daa1e931b038114c75</td>\n",
              "      <td>1</td>\n",
              "      <td>7634da152a4610f1595efa32f14722fc</td>\n",
              "      <td>9d7a1d34a5052409006425275ba1c2b4</td>\n",
              "      <td>2018-08-15 10:10:18</td>\n",
              "      <td>12.99</td>\n",
              "      <td>12.79</td>\n",
              "    </tr>\n",
              "    <tr>\n",
              "      <th>4</th>\n",
              "      <td>00042b26cf59d7ce69dfabb4e55b4fd9</td>\n",
              "      <td>1</td>\n",
              "      <td>ac6c3623068f30de03045865e4e10089</td>\n",
              "      <td>df560393f3a51e74553ab94004ba5c87</td>\n",
              "      <td>2017-02-13 13:57:51</td>\n",
              "      <td>199.90</td>\n",
              "      <td>18.14</td>\n",
              "    </tr>\n",
              "  </tbody>\n",
              "</table>\n",
              "</div>"
            ],
            "text/plain": [
              "                           order_id  order_item_id  ...   price freight_value\n",
              "0  00010242fe8c5a6d1ba2dd792cb16214              1  ...   58.90         13.29\n",
              "1  00018f77f2f0320c557190d7a144bdd3              1  ...  239.90         19.93\n",
              "2  000229ec398224ef6ca0657da4fc703e              1  ...  199.00         17.87\n",
              "3  00024acbcdf0a6daa1e931b038114c75              1  ...   12.99         12.79\n",
              "4  00042b26cf59d7ce69dfabb4e55b4fd9              1  ...  199.90         18.14\n",
              "\n",
              "[5 rows x 7 columns]"
            ]
          },
          "metadata": {
            "tags": []
          },
          "execution_count": 14
        }
      ]
    },
    {
      "cell_type": "markdown",
      "metadata": {
        "id": "SO-2MplX1sgK"
      },
      "source": [
        "# Tabela de Cadastro de Sellers"
      ]
    },
    {
      "cell_type": "code",
      "metadata": {
        "colab": {
          "base_uri": "https://localhost:8080/",
          "height": 204
        },
        "id": "AOrOzZgi1wBM",
        "outputId": "19dd71c0-fab4-417a-d493-b662d4b1b5d6"
      },
      "source": [
        "df_sellers = pd.read_csv('/content/drive/MyDrive/datasets/olist/olist_sellers_dataset.csv')\n",
        "df_sellers.head()"
      ],
      "execution_count": 15,
      "outputs": [
        {
          "output_type": "execute_result",
          "data": {
            "text/html": [
              "<div>\n",
              "<style scoped>\n",
              "    .dataframe tbody tr th:only-of-type {\n",
              "        vertical-align: middle;\n",
              "    }\n",
              "\n",
              "    .dataframe tbody tr th {\n",
              "        vertical-align: top;\n",
              "    }\n",
              "\n",
              "    .dataframe thead th {\n",
              "        text-align: right;\n",
              "    }\n",
              "</style>\n",
              "<table border=\"1\" class=\"dataframe\">\n",
              "  <thead>\n",
              "    <tr style=\"text-align: right;\">\n",
              "      <th></th>\n",
              "      <th>seller_id</th>\n",
              "      <th>seller_zip_code_prefix</th>\n",
              "      <th>seller_city</th>\n",
              "      <th>seller_state</th>\n",
              "    </tr>\n",
              "  </thead>\n",
              "  <tbody>\n",
              "    <tr>\n",
              "      <th>0</th>\n",
              "      <td>3442f8959a84dea7ee197c632cb2df15</td>\n",
              "      <td>13023</td>\n",
              "      <td>campinas</td>\n",
              "      <td>SP</td>\n",
              "    </tr>\n",
              "    <tr>\n",
              "      <th>1</th>\n",
              "      <td>d1b65fc7debc3361ea86b5f14c68d2e2</td>\n",
              "      <td>13844</td>\n",
              "      <td>mogi guacu</td>\n",
              "      <td>SP</td>\n",
              "    </tr>\n",
              "    <tr>\n",
              "      <th>2</th>\n",
              "      <td>ce3ad9de960102d0677a81f5d0bb7b2d</td>\n",
              "      <td>20031</td>\n",
              "      <td>rio de janeiro</td>\n",
              "      <td>RJ</td>\n",
              "    </tr>\n",
              "    <tr>\n",
              "      <th>3</th>\n",
              "      <td>c0f3eea2e14555b6faeea3dd58c1b1c3</td>\n",
              "      <td>4195</td>\n",
              "      <td>sao paulo</td>\n",
              "      <td>SP</td>\n",
              "    </tr>\n",
              "    <tr>\n",
              "      <th>4</th>\n",
              "      <td>51a04a8a6bdcb23deccc82b0b80742cf</td>\n",
              "      <td>12914</td>\n",
              "      <td>braganca paulista</td>\n",
              "      <td>SP</td>\n",
              "    </tr>\n",
              "  </tbody>\n",
              "</table>\n",
              "</div>"
            ],
            "text/plain": [
              "                          seller_id  ...  seller_state\n",
              "0  3442f8959a84dea7ee197c632cb2df15  ...            SP\n",
              "1  d1b65fc7debc3361ea86b5f14c68d2e2  ...            SP\n",
              "2  ce3ad9de960102d0677a81f5d0bb7b2d  ...            RJ\n",
              "3  c0f3eea2e14555b6faeea3dd58c1b1c3  ...            SP\n",
              "4  51a04a8a6bdcb23deccc82b0b80742cf  ...            SP\n",
              "\n",
              "[5 rows x 4 columns]"
            ]
          },
          "metadata": {
            "tags": []
          },
          "execution_count": 15
        }
      ]
    },
    {
      "cell_type": "markdown",
      "metadata": {
        "id": "bbH0m490zONm"
      },
      "source": [
        "# Criando a ABT de Classificação"
      ]
    },
    {
      "cell_type": "code",
      "metadata": {
        "colab": {
          "base_uri": "https://localhost:8080/",
          "height": 224
        },
        "id": "dRp7EurrzHiE",
        "outputId": "8a56aecd-e1f5-4870-d105-0b0ff6ee510a"
      },
      "source": [
        "# criando histórico da abt de trino\n",
        "df_historico_abt_train = (\n",
        "    df_order_items\n",
        "    .merge(df_orders, on='order_id', how='left')\n",
        "    .query('order_status == \"delivered\"')\n",
        "    .query('order_approved_at >= \"2017-01-01\" & order_approved_at < \"2018-07-01\"')\n",
        "    .merge(df_sellers, on='seller_id', how='left')\n",
        ")\n",
        "df_historico_abt_train.head()"
      ],
      "execution_count": 17,
      "outputs": [
        {
          "output_type": "execute_result",
          "data": {
            "text/html": [
              "<div>\n",
              "<style scoped>\n",
              "    .dataframe tbody tr th:only-of-type {\n",
              "        vertical-align: middle;\n",
              "    }\n",
              "\n",
              "    .dataframe tbody tr th {\n",
              "        vertical-align: top;\n",
              "    }\n",
              "\n",
              "    .dataframe thead th {\n",
              "        text-align: right;\n",
              "    }\n",
              "</style>\n",
              "<table border=\"1\" class=\"dataframe\">\n",
              "  <thead>\n",
              "    <tr style=\"text-align: right;\">\n",
              "      <th></th>\n",
              "      <th>order_id</th>\n",
              "      <th>order_item_id</th>\n",
              "      <th>product_id</th>\n",
              "      <th>seller_id</th>\n",
              "      <th>shipping_limit_date</th>\n",
              "      <th>price</th>\n",
              "      <th>freight_value</th>\n",
              "      <th>customer_id</th>\n",
              "      <th>order_status</th>\n",
              "      <th>order_purchase_timestamp</th>\n",
              "      <th>order_approved_at</th>\n",
              "      <th>order_delivered_carrier_date</th>\n",
              "      <th>order_delivered_customer_date</th>\n",
              "      <th>order_estimated_delivery_date</th>\n",
              "      <th>seller_zip_code_prefix</th>\n",
              "      <th>seller_city</th>\n",
              "      <th>seller_state</th>\n",
              "    </tr>\n",
              "  </thead>\n",
              "  <tbody>\n",
              "    <tr>\n",
              "      <th>0</th>\n",
              "      <td>00010242fe8c5a6d1ba2dd792cb16214</td>\n",
              "      <td>1</td>\n",
              "      <td>4244733e06e7ecb4970a6e2683c13e61</td>\n",
              "      <td>48436dade18ac8b2bce089ec2a041202</td>\n",
              "      <td>2017-09-19 09:45:35</td>\n",
              "      <td>58.9</td>\n",
              "      <td>13.29</td>\n",
              "      <td>3ce436f183e68e07877b285a838db11a</td>\n",
              "      <td>delivered</td>\n",
              "      <td>2017-09-13 08:59:02</td>\n",
              "      <td>2017-09-13 09:45:35</td>\n",
              "      <td>2017-09-19 18:34:16</td>\n",
              "      <td>2017-09-20 23:43:48</td>\n",
              "      <td>2017-09-29 00:00:00</td>\n",
              "      <td>27277</td>\n",
              "      <td>volta redonda</td>\n",
              "      <td>SP</td>\n",
              "    </tr>\n",
              "    <tr>\n",
              "      <th>1</th>\n",
              "      <td>00018f77f2f0320c557190d7a144bdd3</td>\n",
              "      <td>1</td>\n",
              "      <td>e5f2d52b802189ee658865ca93d83a8f</td>\n",
              "      <td>dd7ddc04e1b6c2c614352b383efe2d36</td>\n",
              "      <td>2017-05-03 11:05:13</td>\n",
              "      <td>239.9</td>\n",
              "      <td>19.93</td>\n",
              "      <td>f6dd3ec061db4e3987629fe6b26e5cce</td>\n",
              "      <td>delivered</td>\n",
              "      <td>2017-04-26 10:53:06</td>\n",
              "      <td>2017-04-26 11:05:13</td>\n",
              "      <td>2017-05-04 14:35:00</td>\n",
              "      <td>2017-05-12 16:04:24</td>\n",
              "      <td>2017-05-15 00:00:00</td>\n",
              "      <td>3471</td>\n",
              "      <td>sao paulo</td>\n",
              "      <td>SP</td>\n",
              "    </tr>\n",
              "    <tr>\n",
              "      <th>2</th>\n",
              "      <td>000229ec398224ef6ca0657da4fc703e</td>\n",
              "      <td>1</td>\n",
              "      <td>c777355d18b72b67abbeef9df44fd0fd</td>\n",
              "      <td>5b51032eddd242adc84c38acab88f23d</td>\n",
              "      <td>2018-01-18 14:48:30</td>\n",
              "      <td>199.0</td>\n",
              "      <td>17.87</td>\n",
              "      <td>6489ae5e4333f3693df5ad4372dab6d3</td>\n",
              "      <td>delivered</td>\n",
              "      <td>2018-01-14 14:33:31</td>\n",
              "      <td>2018-01-14 14:48:30</td>\n",
              "      <td>2018-01-16 12:36:48</td>\n",
              "      <td>2018-01-22 13:19:16</td>\n",
              "      <td>2018-02-05 00:00:00</td>\n",
              "      <td>37564</td>\n",
              "      <td>borda da mata</td>\n",
              "      <td>MG</td>\n",
              "    </tr>\n",
              "    <tr>\n",
              "      <th>3</th>\n",
              "      <td>00042b26cf59d7ce69dfabb4e55b4fd9</td>\n",
              "      <td>1</td>\n",
              "      <td>ac6c3623068f30de03045865e4e10089</td>\n",
              "      <td>df560393f3a51e74553ab94004ba5c87</td>\n",
              "      <td>2017-02-13 13:57:51</td>\n",
              "      <td>199.9</td>\n",
              "      <td>18.14</td>\n",
              "      <td>58dbd0b2d70206bf40e62cd34e84d795</td>\n",
              "      <td>delivered</td>\n",
              "      <td>2017-02-04 13:57:51</td>\n",
              "      <td>2017-02-04 14:10:13</td>\n",
              "      <td>2017-02-16 09:46:09</td>\n",
              "      <td>2017-03-01 16:42:31</td>\n",
              "      <td>2017-03-17 00:00:00</td>\n",
              "      <td>87900</td>\n",
              "      <td>loanda</td>\n",
              "      <td>PR</td>\n",
              "    </tr>\n",
              "    <tr>\n",
              "      <th>4</th>\n",
              "      <td>00048cc3ae777c65dbb7d2a0634bc1ea</td>\n",
              "      <td>1</td>\n",
              "      <td>ef92defde845ab8450f9d70c526ef70f</td>\n",
              "      <td>6426d21aca402a131fc0a5d0960a3c90</td>\n",
              "      <td>2017-05-23 03:55:27</td>\n",
              "      <td>21.9</td>\n",
              "      <td>12.69</td>\n",
              "      <td>816cbea969fe5b689b39cfc97a506742</td>\n",
              "      <td>delivered</td>\n",
              "      <td>2017-05-15 21:42:34</td>\n",
              "      <td>2017-05-17 03:55:27</td>\n",
              "      <td>2017-05-17 11:05:55</td>\n",
              "      <td>2017-05-22 13:44:35</td>\n",
              "      <td>2017-06-06 00:00:00</td>\n",
              "      <td>14091</td>\n",
              "      <td>ribeirao preto</td>\n",
              "      <td>SP</td>\n",
              "    </tr>\n",
              "  </tbody>\n",
              "</table>\n",
              "</div>"
            ],
            "text/plain": [
              "                           order_id  order_item_id  ...     seller_city seller_state\n",
              "0  00010242fe8c5a6d1ba2dd792cb16214              1  ...   volta redonda           SP\n",
              "1  00018f77f2f0320c557190d7a144bdd3              1  ...       sao paulo           SP\n",
              "2  000229ec398224ef6ca0657da4fc703e              1  ...   borda da mata           MG\n",
              "3  00042b26cf59d7ce69dfabb4e55b4fd9              1  ...          loanda           PR\n",
              "4  00048cc3ae777c65dbb7d2a0634bc1ea              1  ...  ribeirao preto           SP\n",
              "\n",
              "[5 rows x 17 columns]"
            ]
          },
          "metadata": {
            "tags": []
          },
          "execution_count": 17
        }
      ]
    },
    {
      "cell_type": "code",
      "metadata": {
        "colab": {
          "base_uri": "https://localhost:8080/",
          "height": 204
        },
        "id": "5vnldbPz2fPm",
        "outputId": "2de76d58-2433-4da7-9c01-e22bad45c504"
      },
      "source": [
        "# criando as features\n",
        "df_features_train = (\n",
        "    df_historico_abt_train\n",
        "    .query('order_approved_at < \"2018-01-01\"')\n",
        "    .groupby('seller_id')\n",
        "    .agg(uf = ('seller_state', 'first'),\n",
        "         tot_orders_12m = ('order_id', 'nunique'),\n",
        "         tot_items_12m = ('product_id', 'count'),\n",
        "         tot_items_dist_12m = ('product_id', 'nunique'),\n",
        "         receita_12m = ('price', 'sum'),\n",
        "         data_ult_vnd = ('order_approved_at', 'max'))\n",
        "    .reset_index()\n",
        "    .assign(data_ref = pd.to_datetime('2018-01-01 00:00:00'))\n",
        "    .assign(recencia = lambda df: (df['data_ref'] - df['data_ult_vnd']).dt.days)\n",
        ")\n",
        "df_features_train.head()"
      ],
      "execution_count": 19,
      "outputs": [
        {
          "output_type": "execute_result",
          "data": {
            "text/html": [
              "<div>\n",
              "<style scoped>\n",
              "    .dataframe tbody tr th:only-of-type {\n",
              "        vertical-align: middle;\n",
              "    }\n",
              "\n",
              "    .dataframe tbody tr th {\n",
              "        vertical-align: top;\n",
              "    }\n",
              "\n",
              "    .dataframe thead th {\n",
              "        text-align: right;\n",
              "    }\n",
              "</style>\n",
              "<table border=\"1\" class=\"dataframe\">\n",
              "  <thead>\n",
              "    <tr style=\"text-align: right;\">\n",
              "      <th></th>\n",
              "      <th>seller_id</th>\n",
              "      <th>uf</th>\n",
              "      <th>tot_orders_12m</th>\n",
              "      <th>tot_items_12m</th>\n",
              "      <th>tot_items_dist_12m</th>\n",
              "      <th>receita_12m</th>\n",
              "      <th>data_ult_vnd</th>\n",
              "      <th>data_ref</th>\n",
              "      <th>recencia</th>\n",
              "    </tr>\n",
              "  </thead>\n",
              "  <tbody>\n",
              "    <tr>\n",
              "      <th>0</th>\n",
              "      <td>0015a82c2db000af6aaaf3ae2ecb0532</td>\n",
              "      <td>SP</td>\n",
              "      <td>3</td>\n",
              "      <td>3</td>\n",
              "      <td>1</td>\n",
              "      <td>2685.00</td>\n",
              "      <td>2017-10-18 23:56:20</td>\n",
              "      <td>2018-01-01</td>\n",
              "      <td>74</td>\n",
              "    </tr>\n",
              "    <tr>\n",
              "      <th>1</th>\n",
              "      <td>001cca7ae9ae17fb1caed9dfb1094831</td>\n",
              "      <td>ES</td>\n",
              "      <td>171</td>\n",
              "      <td>207</td>\n",
              "      <td>9</td>\n",
              "      <td>21275.23</td>\n",
              "      <td>2017-12-29 02:09:49</td>\n",
              "      <td>2018-01-01</td>\n",
              "      <td>2</td>\n",
              "    </tr>\n",
              "    <tr>\n",
              "      <th>2</th>\n",
              "      <td>002100f778ceb8431b7a1020ff7ab48f</td>\n",
              "      <td>SP</td>\n",
              "      <td>38</td>\n",
              "      <td>42</td>\n",
              "      <td>15</td>\n",
              "      <td>781.80</td>\n",
              "      <td>2017-12-29 02:10:04</td>\n",
              "      <td>2018-01-01</td>\n",
              "      <td>2</td>\n",
              "    </tr>\n",
              "    <tr>\n",
              "      <th>3</th>\n",
              "      <td>003554e2dce176b5555353e4f3555ac8</td>\n",
              "      <td>GO</td>\n",
              "      <td>1</td>\n",
              "      <td>1</td>\n",
              "      <td>1</td>\n",
              "      <td>120.00</td>\n",
              "      <td>2017-12-15 07:11:03</td>\n",
              "      <td>2018-01-01</td>\n",
              "      <td>16</td>\n",
              "    </tr>\n",
              "    <tr>\n",
              "      <th>4</th>\n",
              "      <td>004c9cd9d87a3c30c522c48c4fc07416</td>\n",
              "      <td>SP</td>\n",
              "      <td>130</td>\n",
              "      <td>141</td>\n",
              "      <td>75</td>\n",
              "      <td>16228.88</td>\n",
              "      <td>2017-12-23 21:49:44</td>\n",
              "      <td>2018-01-01</td>\n",
              "      <td>8</td>\n",
              "    </tr>\n",
              "  </tbody>\n",
              "</table>\n",
              "</div>"
            ],
            "text/plain": [
              "                          seller_id  uf  ...   data_ref  recencia\n",
              "0  0015a82c2db000af6aaaf3ae2ecb0532  SP  ... 2018-01-01        74\n",
              "1  001cca7ae9ae17fb1caed9dfb1094831  ES  ... 2018-01-01         2\n",
              "2  002100f778ceb8431b7a1020ff7ab48f  SP  ... 2018-01-01         2\n",
              "3  003554e2dce176b5555353e4f3555ac8  GO  ... 2018-01-01        16\n",
              "4  004c9cd9d87a3c30c522c48c4fc07416  SP  ... 2018-01-01         8\n",
              "\n",
              "[5 rows x 9 columns]"
            ]
          },
          "metadata": {
            "tags": []
          },
          "execution_count": 19
        }
      ]
    },
    {
      "cell_type": "code",
      "metadata": {
        "id": "IHTg-lHl5Ho3"
      },
      "source": [
        "# df_orders = pd.read_csv('/content/drive/MyDrive/datasets/olist/olist_orders_dataset.csv', parse_dates=['order_approved_at'])\n",
        "# Declarar nuevamente para hacer la operacion de la resta de los dias. Recordar que una vez hecho esto correr todo de nuevo."
      ],
      "execution_count": 12,
      "outputs": []
    },
    {
      "cell_type": "code",
      "metadata": {
        "colab": {
          "base_uri": "https://localhost:8080/",
          "height": 204
        },
        "id": "-ULZ3MsgDu0q",
        "outputId": "b4a1dbf5-d455-4b63-8fb9-a0192d5f1e90"
      },
      "source": [
        "df_features_train.sort_values('recencia', ascending=False).head()"
      ],
      "execution_count": 20,
      "outputs": [
        {
          "output_type": "execute_result",
          "data": {
            "text/html": [
              "<div>\n",
              "<style scoped>\n",
              "    .dataframe tbody tr th:only-of-type {\n",
              "        vertical-align: middle;\n",
              "    }\n",
              "\n",
              "    .dataframe tbody tr th {\n",
              "        vertical-align: top;\n",
              "    }\n",
              "\n",
              "    .dataframe thead th {\n",
              "        text-align: right;\n",
              "    }\n",
              "</style>\n",
              "<table border=\"1\" class=\"dataframe\">\n",
              "  <thead>\n",
              "    <tr style=\"text-align: right;\">\n",
              "      <th></th>\n",
              "      <th>seller_id</th>\n",
              "      <th>uf</th>\n",
              "      <th>tot_orders_12m</th>\n",
              "      <th>tot_items_12m</th>\n",
              "      <th>tot_items_dist_12m</th>\n",
              "      <th>receita_12m</th>\n",
              "      <th>data_ult_vnd</th>\n",
              "      <th>data_ref</th>\n",
              "      <th>recencia</th>\n",
              "    </tr>\n",
              "  </thead>\n",
              "  <tbody>\n",
              "    <tr>\n",
              "      <th>1342</th>\n",
              "      <td>c9a06ece156bb057372c68718ec8909b</td>\n",
              "      <td>DF</td>\n",
              "      <td>9</td>\n",
              "      <td>9</td>\n",
              "      <td>1</td>\n",
              "      <td>3420.00</td>\n",
              "      <td>2017-01-15 18:05:14</td>\n",
              "      <td>2018-01-01</td>\n",
              "      <td>350</td>\n",
              "    </tr>\n",
              "    <tr>\n",
              "      <th>456</th>\n",
              "      <td>436bf27f2f18474fc6047702e9f8a866</td>\n",
              "      <td>SP</td>\n",
              "      <td>1</td>\n",
              "      <td>1</td>\n",
              "      <td>1</td>\n",
              "      <td>29.90</td>\n",
              "      <td>2017-01-18 13:05:15</td>\n",
              "      <td>2018-01-01</td>\n",
              "      <td>347</td>\n",
              "    </tr>\n",
              "    <tr>\n",
              "      <th>1453</th>\n",
              "      <td>dd264199fc8b687ad029de7de6d760e6</td>\n",
              "      <td>PR</td>\n",
              "      <td>1</td>\n",
              "      <td>1</td>\n",
              "      <td>1</td>\n",
              "      <td>87.90</td>\n",
              "      <td>2017-01-19 13:30:21</td>\n",
              "      <td>2018-01-01</td>\n",
              "      <td>346</td>\n",
              "    </tr>\n",
              "    <tr>\n",
              "      <th>1589</th>\n",
              "      <td>f235413f677777a0738ff215d0184901</td>\n",
              "      <td>SP</td>\n",
              "      <td>2</td>\n",
              "      <td>2</td>\n",
              "      <td>1</td>\n",
              "      <td>1191.98</td>\n",
              "      <td>2017-01-23 19:45:12</td>\n",
              "      <td>2018-01-01</td>\n",
              "      <td>342</td>\n",
              "    </tr>\n",
              "    <tr>\n",
              "      <th>880</th>\n",
              "      <td>822b63912576852aea9a8436d72317b7</td>\n",
              "      <td>SP</td>\n",
              "      <td>3</td>\n",
              "      <td>4</td>\n",
              "      <td>2</td>\n",
              "      <td>615.96</td>\n",
              "      <td>2017-01-24 12:25:27</td>\n",
              "      <td>2018-01-01</td>\n",
              "      <td>341</td>\n",
              "    </tr>\n",
              "  </tbody>\n",
              "</table>\n",
              "</div>"
            ],
            "text/plain": [
              "                             seller_id  uf  ...   data_ref  recencia\n",
              "1342  c9a06ece156bb057372c68718ec8909b  DF  ... 2018-01-01       350\n",
              "456   436bf27f2f18474fc6047702e9f8a866  SP  ... 2018-01-01       347\n",
              "1453  dd264199fc8b687ad029de7de6d760e6  PR  ... 2018-01-01       346\n",
              "1589  f235413f677777a0738ff215d0184901  SP  ... 2018-01-01       342\n",
              "880   822b63912576852aea9a8436d72317b7  SP  ... 2018-01-01       341\n",
              "\n",
              "[5 rows x 9 columns]"
            ]
          },
          "metadata": {
            "tags": []
          },
          "execution_count": 20
        }
      ]
    },
    {
      "cell_type": "code",
      "metadata": {
        "colab": {
          "base_uri": "https://localhost:8080/",
          "height": 419
        },
        "id": "P_H-xpIEGjgo",
        "outputId": "fa2c793f-05c6-4d06-fca0-fc588734e7f7"
      },
      "source": [
        "# criando o target\n",
        "(\n",
        "    df_historico_abt_train\n",
        "    .query('order_approved_at >= \"2018-01-01\" & order_approved_at < \"2018-07-01\"')\n",
        "    .filter(['seller_id'])\n",
        "    .drop_duplicates()\n",
        ")"
      ],
      "execution_count": 21,
      "outputs": [
        {
          "output_type": "execute_result",
          "data": {
            "text/html": [
              "<div>\n",
              "<style scoped>\n",
              "    .dataframe tbody tr th:only-of-type {\n",
              "        vertical-align: middle;\n",
              "    }\n",
              "\n",
              "    .dataframe tbody tr th {\n",
              "        vertical-align: top;\n",
              "    }\n",
              "\n",
              "    .dataframe thead th {\n",
              "        text-align: right;\n",
              "    }\n",
              "</style>\n",
              "<table border=\"1\" class=\"dataframe\">\n",
              "  <thead>\n",
              "    <tr style=\"text-align: right;\">\n",
              "      <th></th>\n",
              "      <th>seller_id</th>\n",
              "    </tr>\n",
              "  </thead>\n",
              "  <tbody>\n",
              "    <tr>\n",
              "      <th>2</th>\n",
              "      <td>5b51032eddd242adc84c38acab88f23d</td>\n",
              "    </tr>\n",
              "    <tr>\n",
              "      <th>6</th>\n",
              "      <td>a416b6a846a11724393025641d4edd5e</td>\n",
              "    </tr>\n",
              "    <tr>\n",
              "      <th>7</th>\n",
              "      <td>cc419e0650a3c5ba77189a1882b7556a</td>\n",
              "    </tr>\n",
              "    <tr>\n",
              "      <th>8</th>\n",
              "      <td>1f50f920176fa81dab994f9023523100</td>\n",
              "    </tr>\n",
              "    <tr>\n",
              "      <th>10</th>\n",
              "      <td>fcb5ace8bcc92f75707dc0f01a27d269</td>\n",
              "    </tr>\n",
              "    <tr>\n",
              "      <th>...</th>\n",
              "      <td>...</td>\n",
              "    </tr>\n",
              "    <tr>\n",
              "      <th>93845</th>\n",
              "      <td>686886775c8f6b1191c7b953fb52708c</td>\n",
              "    </tr>\n",
              "    <tr>\n",
              "      <th>94206</th>\n",
              "      <td>83e197e95a1bbabc8c75e883ed016c47</td>\n",
              "    </tr>\n",
              "    <tr>\n",
              "      <th>95493</th>\n",
              "      <td>3e35a8bb43569389d3cebef0ce820f69</td>\n",
              "    </tr>\n",
              "    <tr>\n",
              "      <th>95641</th>\n",
              "      <td>4391ea5c5990502176a1dcda44a2373d</td>\n",
              "    </tr>\n",
              "    <tr>\n",
              "      <th>95682</th>\n",
              "      <td>777a0c55737f34ffeb78010f7542ab41</td>\n",
              "    </tr>\n",
              "  </tbody>\n",
              "</table>\n",
              "<p>1971 rows × 1 columns</p>\n",
              "</div>"
            ],
            "text/plain": [
              "                              seller_id\n",
              "2      5b51032eddd242adc84c38acab88f23d\n",
              "6      a416b6a846a11724393025641d4edd5e\n",
              "7      cc419e0650a3c5ba77189a1882b7556a\n",
              "8      1f50f920176fa81dab994f9023523100\n",
              "10     fcb5ace8bcc92f75707dc0f01a27d269\n",
              "...                                 ...\n",
              "93845  686886775c8f6b1191c7b953fb52708c\n",
              "94206  83e197e95a1bbabc8c75e883ed016c47\n",
              "95493  3e35a8bb43569389d3cebef0ce820f69\n",
              "95641  4391ea5c5990502176a1dcda44a2373d\n",
              "95682  777a0c55737f34ffeb78010f7542ab41\n",
              "\n",
              "[1971 rows x 1 columns]"
            ]
          },
          "metadata": {
            "tags": []
          },
          "execution_count": 21
        }
      ]
    },
    {
      "cell_type": "code",
      "metadata": {
        "colab": {
          "base_uri": "https://localhost:8080/",
          "height": 48
        },
        "id": "2zRmlYgrGuRJ",
        "outputId": "2f8fbe3e-36cb-4a38-84d0-08732971ee62"
      },
      "source": [
        "# criando o target\n",
        "(\n",
        "    df_historico_abt_train\n",
        "    .query('order_approved_at >= \"2018-01-01\" & order_approved_at < \"2018-07-01\"')\n",
        "    .filter(['seller_id'])\n",
        "    .drop_duplicates()\n",
        "    .query('seller_id == \"c9a06ece156bb057372c68718ec8909b\"')\n",
        ")"
      ],
      "execution_count": 22,
      "outputs": [
        {
          "output_type": "execute_result",
          "data": {
            "text/html": [
              "<div>\n",
              "<style scoped>\n",
              "    .dataframe tbody tr th:only-of-type {\n",
              "        vertical-align: middle;\n",
              "    }\n",
              "\n",
              "    .dataframe tbody tr th {\n",
              "        vertical-align: top;\n",
              "    }\n",
              "\n",
              "    .dataframe thead th {\n",
              "        text-align: right;\n",
              "    }\n",
              "</style>\n",
              "<table border=\"1\" class=\"dataframe\">\n",
              "  <thead>\n",
              "    <tr style=\"text-align: right;\">\n",
              "      <th></th>\n",
              "      <th>seller_id</th>\n",
              "    </tr>\n",
              "  </thead>\n",
              "  <tbody>\n",
              "  </tbody>\n",
              "</table>\n",
              "</div>"
            ],
            "text/plain": [
              "Empty DataFrame\n",
              "Columns: [seller_id]\n",
              "Index: []"
            ]
          },
          "metadata": {
            "tags": []
          },
          "execution_count": 22
        }
      ]
    },
    {
      "cell_type": "code",
      "metadata": {
        "colab": {
          "base_uri": "https://localhost:8080/",
          "height": 204
        },
        "id": "r6TZ9YpPG6qI",
        "outputId": "5a1c6406-82a4-495e-ff05-31fd57b1b827"
      },
      "source": [
        "# criando o target\n",
        "df_target_train = (\n",
        "    df_historico_abt_train\n",
        "    .query('order_approved_at >= \"2018-01-01\" & order_approved_at < \"2018-07-01\"')\n",
        "    .filter(['seller_id'])\n",
        "    .drop_duplicates()\n",
        ")\n",
        "df_target_train.head()"
      ],
      "execution_count": 23,
      "outputs": [
        {
          "output_type": "execute_result",
          "data": {
            "text/html": [
              "<div>\n",
              "<style scoped>\n",
              "    .dataframe tbody tr th:only-of-type {\n",
              "        vertical-align: middle;\n",
              "    }\n",
              "\n",
              "    .dataframe tbody tr th {\n",
              "        vertical-align: top;\n",
              "    }\n",
              "\n",
              "    .dataframe thead th {\n",
              "        text-align: right;\n",
              "    }\n",
              "</style>\n",
              "<table border=\"1\" class=\"dataframe\">\n",
              "  <thead>\n",
              "    <tr style=\"text-align: right;\">\n",
              "      <th></th>\n",
              "      <th>seller_id</th>\n",
              "    </tr>\n",
              "  </thead>\n",
              "  <tbody>\n",
              "    <tr>\n",
              "      <th>2</th>\n",
              "      <td>5b51032eddd242adc84c38acab88f23d</td>\n",
              "    </tr>\n",
              "    <tr>\n",
              "      <th>6</th>\n",
              "      <td>a416b6a846a11724393025641d4edd5e</td>\n",
              "    </tr>\n",
              "    <tr>\n",
              "      <th>7</th>\n",
              "      <td>cc419e0650a3c5ba77189a1882b7556a</td>\n",
              "    </tr>\n",
              "    <tr>\n",
              "      <th>8</th>\n",
              "      <td>1f50f920176fa81dab994f9023523100</td>\n",
              "    </tr>\n",
              "    <tr>\n",
              "      <th>10</th>\n",
              "      <td>fcb5ace8bcc92f75707dc0f01a27d269</td>\n",
              "    </tr>\n",
              "  </tbody>\n",
              "</table>\n",
              "</div>"
            ],
            "text/plain": [
              "                           seller_id\n",
              "2   5b51032eddd242adc84c38acab88f23d\n",
              "6   a416b6a846a11724393025641d4edd5e\n",
              "7   cc419e0650a3c5ba77189a1882b7556a\n",
              "8   1f50f920176fa81dab994f9023523100\n",
              "10  fcb5ace8bcc92f75707dc0f01a27d269"
            ]
          },
          "metadata": {
            "tags": []
          },
          "execution_count": 23
        }
      ]
    },
    {
      "cell_type": "code",
      "metadata": {
        "colab": {
          "base_uri": "https://localhost:8080/",
          "height": 204
        },
        "id": "ElZN14hSHOow",
        "outputId": "94a48a27-f710-4914-c6c7-b0679b8ad062"
      },
      "source": [
        "# criando a abt de fato\n",
        "(\n",
        "    df_features_train\n",
        "    .merge(df_target_train, on='seller_id', how='left', indicator=True)\n",
        ").head()"
      ],
      "execution_count": 24,
      "outputs": [
        {
          "output_type": "execute_result",
          "data": {
            "text/html": [
              "<div>\n",
              "<style scoped>\n",
              "    .dataframe tbody tr th:only-of-type {\n",
              "        vertical-align: middle;\n",
              "    }\n",
              "\n",
              "    .dataframe tbody tr th {\n",
              "        vertical-align: top;\n",
              "    }\n",
              "\n",
              "    .dataframe thead th {\n",
              "        text-align: right;\n",
              "    }\n",
              "</style>\n",
              "<table border=\"1\" class=\"dataframe\">\n",
              "  <thead>\n",
              "    <tr style=\"text-align: right;\">\n",
              "      <th></th>\n",
              "      <th>seller_id</th>\n",
              "      <th>uf</th>\n",
              "      <th>tot_orders_12m</th>\n",
              "      <th>tot_items_12m</th>\n",
              "      <th>tot_items_dist_12m</th>\n",
              "      <th>receita_12m</th>\n",
              "      <th>data_ult_vnd</th>\n",
              "      <th>data_ref</th>\n",
              "      <th>recencia</th>\n",
              "      <th>_merge</th>\n",
              "    </tr>\n",
              "  </thead>\n",
              "  <tbody>\n",
              "    <tr>\n",
              "      <th>0</th>\n",
              "      <td>0015a82c2db000af6aaaf3ae2ecb0532</td>\n",
              "      <td>SP</td>\n",
              "      <td>3</td>\n",
              "      <td>3</td>\n",
              "      <td>1</td>\n",
              "      <td>2685.00</td>\n",
              "      <td>2017-10-18 23:56:20</td>\n",
              "      <td>2018-01-01</td>\n",
              "      <td>74</td>\n",
              "      <td>left_only</td>\n",
              "    </tr>\n",
              "    <tr>\n",
              "      <th>1</th>\n",
              "      <td>001cca7ae9ae17fb1caed9dfb1094831</td>\n",
              "      <td>ES</td>\n",
              "      <td>171</td>\n",
              "      <td>207</td>\n",
              "      <td>9</td>\n",
              "      <td>21275.23</td>\n",
              "      <td>2017-12-29 02:09:49</td>\n",
              "      <td>2018-01-01</td>\n",
              "      <td>2</td>\n",
              "      <td>both</td>\n",
              "    </tr>\n",
              "    <tr>\n",
              "      <th>2</th>\n",
              "      <td>002100f778ceb8431b7a1020ff7ab48f</td>\n",
              "      <td>SP</td>\n",
              "      <td>38</td>\n",
              "      <td>42</td>\n",
              "      <td>15</td>\n",
              "      <td>781.80</td>\n",
              "      <td>2017-12-29 02:10:04</td>\n",
              "      <td>2018-01-01</td>\n",
              "      <td>2</td>\n",
              "      <td>both</td>\n",
              "    </tr>\n",
              "    <tr>\n",
              "      <th>3</th>\n",
              "      <td>003554e2dce176b5555353e4f3555ac8</td>\n",
              "      <td>GO</td>\n",
              "      <td>1</td>\n",
              "      <td>1</td>\n",
              "      <td>1</td>\n",
              "      <td>120.00</td>\n",
              "      <td>2017-12-15 07:11:03</td>\n",
              "      <td>2018-01-01</td>\n",
              "      <td>16</td>\n",
              "      <td>left_only</td>\n",
              "    </tr>\n",
              "    <tr>\n",
              "      <th>4</th>\n",
              "      <td>004c9cd9d87a3c30c522c48c4fc07416</td>\n",
              "      <td>SP</td>\n",
              "      <td>130</td>\n",
              "      <td>141</td>\n",
              "      <td>75</td>\n",
              "      <td>16228.88</td>\n",
              "      <td>2017-12-23 21:49:44</td>\n",
              "      <td>2018-01-01</td>\n",
              "      <td>8</td>\n",
              "      <td>both</td>\n",
              "    </tr>\n",
              "  </tbody>\n",
              "</table>\n",
              "</div>"
            ],
            "text/plain": [
              "                          seller_id  uf  ...  recencia     _merge\n",
              "0  0015a82c2db000af6aaaf3ae2ecb0532  SP  ...        74  left_only\n",
              "1  001cca7ae9ae17fb1caed9dfb1094831  ES  ...         2       both\n",
              "2  002100f778ceb8431b7a1020ff7ab48f  SP  ...         2       both\n",
              "3  003554e2dce176b5555353e4f3555ac8  GO  ...        16  left_only\n",
              "4  004c9cd9d87a3c30c522c48c4fc07416  SP  ...         8       both\n",
              "\n",
              "[5 rows x 10 columns]"
            ]
          },
          "metadata": {
            "tags": []
          },
          "execution_count": 24
        }
      ]
    },
    {
      "cell_type": "code",
      "metadata": {
        "colab": {
          "base_uri": "https://localhost:8080/",
          "height": 204
        },
        "id": "MQ5m6wWcIUaT",
        "outputId": "07685b8f-82cc-4a77-fd13-4fd87d5b7fc7"
      },
      "source": [
        "# criando a abt de fato\n",
        "(\n",
        "    df_features_train\n",
        "    .merge(df_target_train, on='seller_id', how='left', indicator=True)\n",
        "    .assign(churn_6m = lambda df: np.where(df['_merge'] == \"left_only\", 1, 0))\n",
        ").head()"
      ],
      "execution_count": 25,
      "outputs": [
        {
          "output_type": "execute_result",
          "data": {
            "text/html": [
              "<div>\n",
              "<style scoped>\n",
              "    .dataframe tbody tr th:only-of-type {\n",
              "        vertical-align: middle;\n",
              "    }\n",
              "\n",
              "    .dataframe tbody tr th {\n",
              "        vertical-align: top;\n",
              "    }\n",
              "\n",
              "    .dataframe thead th {\n",
              "        text-align: right;\n",
              "    }\n",
              "</style>\n",
              "<table border=\"1\" class=\"dataframe\">\n",
              "  <thead>\n",
              "    <tr style=\"text-align: right;\">\n",
              "      <th></th>\n",
              "      <th>seller_id</th>\n",
              "      <th>uf</th>\n",
              "      <th>tot_orders_12m</th>\n",
              "      <th>tot_items_12m</th>\n",
              "      <th>tot_items_dist_12m</th>\n",
              "      <th>receita_12m</th>\n",
              "      <th>data_ult_vnd</th>\n",
              "      <th>data_ref</th>\n",
              "      <th>recencia</th>\n",
              "      <th>_merge</th>\n",
              "      <th>churn_6m</th>\n",
              "    </tr>\n",
              "  </thead>\n",
              "  <tbody>\n",
              "    <tr>\n",
              "      <th>0</th>\n",
              "      <td>0015a82c2db000af6aaaf3ae2ecb0532</td>\n",
              "      <td>SP</td>\n",
              "      <td>3</td>\n",
              "      <td>3</td>\n",
              "      <td>1</td>\n",
              "      <td>2685.00</td>\n",
              "      <td>2017-10-18 23:56:20</td>\n",
              "      <td>2018-01-01</td>\n",
              "      <td>74</td>\n",
              "      <td>left_only</td>\n",
              "      <td>1</td>\n",
              "    </tr>\n",
              "    <tr>\n",
              "      <th>1</th>\n",
              "      <td>001cca7ae9ae17fb1caed9dfb1094831</td>\n",
              "      <td>ES</td>\n",
              "      <td>171</td>\n",
              "      <td>207</td>\n",
              "      <td>9</td>\n",
              "      <td>21275.23</td>\n",
              "      <td>2017-12-29 02:09:49</td>\n",
              "      <td>2018-01-01</td>\n",
              "      <td>2</td>\n",
              "      <td>both</td>\n",
              "      <td>0</td>\n",
              "    </tr>\n",
              "    <tr>\n",
              "      <th>2</th>\n",
              "      <td>002100f778ceb8431b7a1020ff7ab48f</td>\n",
              "      <td>SP</td>\n",
              "      <td>38</td>\n",
              "      <td>42</td>\n",
              "      <td>15</td>\n",
              "      <td>781.80</td>\n",
              "      <td>2017-12-29 02:10:04</td>\n",
              "      <td>2018-01-01</td>\n",
              "      <td>2</td>\n",
              "      <td>both</td>\n",
              "      <td>0</td>\n",
              "    </tr>\n",
              "    <tr>\n",
              "      <th>3</th>\n",
              "      <td>003554e2dce176b5555353e4f3555ac8</td>\n",
              "      <td>GO</td>\n",
              "      <td>1</td>\n",
              "      <td>1</td>\n",
              "      <td>1</td>\n",
              "      <td>120.00</td>\n",
              "      <td>2017-12-15 07:11:03</td>\n",
              "      <td>2018-01-01</td>\n",
              "      <td>16</td>\n",
              "      <td>left_only</td>\n",
              "      <td>1</td>\n",
              "    </tr>\n",
              "    <tr>\n",
              "      <th>4</th>\n",
              "      <td>004c9cd9d87a3c30c522c48c4fc07416</td>\n",
              "      <td>SP</td>\n",
              "      <td>130</td>\n",
              "      <td>141</td>\n",
              "      <td>75</td>\n",
              "      <td>16228.88</td>\n",
              "      <td>2017-12-23 21:49:44</td>\n",
              "      <td>2018-01-01</td>\n",
              "      <td>8</td>\n",
              "      <td>both</td>\n",
              "      <td>0</td>\n",
              "    </tr>\n",
              "  </tbody>\n",
              "</table>\n",
              "</div>"
            ],
            "text/plain": [
              "                          seller_id  uf  ...     _merge  churn_6m\n",
              "0  0015a82c2db000af6aaaf3ae2ecb0532  SP  ...  left_only         1\n",
              "1  001cca7ae9ae17fb1caed9dfb1094831  ES  ...       both         0\n",
              "2  002100f778ceb8431b7a1020ff7ab48f  SP  ...       both         0\n",
              "3  003554e2dce176b5555353e4f3555ac8  GO  ...  left_only         1\n",
              "4  004c9cd9d87a3c30c522c48c4fc07416  SP  ...       both         0\n",
              "\n",
              "[5 rows x 11 columns]"
            ]
          },
          "metadata": {
            "tags": []
          },
          "execution_count": 25
        }
      ]
    },
    {
      "cell_type": "code",
      "metadata": {
        "colab": {
          "base_uri": "https://localhost:8080/",
          "height": 204
        },
        "id": "x9zBQNwrKE8G",
        "outputId": "f0571171-671b-4ba4-d18e-1bba5c3c1303"
      },
      "source": [
        "# criando a abt de fato\n",
        "df_abt_churn_train = (\n",
        "    df_features_train\n",
        "    .merge(df_target_train, on='seller_id', how='left', indicator=True)\n",
        "    # left_only = churn (1), both = não churn (0)\n",
        "    .assign(churn_6m = lambda df: np.where(df['_merge'] == \"left_only\", 1, 0))\n",
        "    .filter(['data_ref', \n",
        "             'seller_id',\n",
        "             'uf',\n",
        "             'tot_orders_12m',\n",
        "             'tot_items_12m',\n",
        "             'tot_items_dist_12m',\n",
        "             'receita_12m',\n",
        "             'recencia',\n",
        "             'churn_6m'])\n",
        ")\n",
        "df_abt_churn_train.head()"
      ],
      "execution_count": 27,
      "outputs": [
        {
          "output_type": "execute_result",
          "data": {
            "text/html": [
              "<div>\n",
              "<style scoped>\n",
              "    .dataframe tbody tr th:only-of-type {\n",
              "        vertical-align: middle;\n",
              "    }\n",
              "\n",
              "    .dataframe tbody tr th {\n",
              "        vertical-align: top;\n",
              "    }\n",
              "\n",
              "    .dataframe thead th {\n",
              "        text-align: right;\n",
              "    }\n",
              "</style>\n",
              "<table border=\"1\" class=\"dataframe\">\n",
              "  <thead>\n",
              "    <tr style=\"text-align: right;\">\n",
              "      <th></th>\n",
              "      <th>data_ref</th>\n",
              "      <th>seller_id</th>\n",
              "      <th>uf</th>\n",
              "      <th>tot_orders_12m</th>\n",
              "      <th>tot_items_12m</th>\n",
              "      <th>tot_items_dist_12m</th>\n",
              "      <th>receita_12m</th>\n",
              "      <th>recencia</th>\n",
              "      <th>churn_6m</th>\n",
              "    </tr>\n",
              "  </thead>\n",
              "  <tbody>\n",
              "    <tr>\n",
              "      <th>0</th>\n",
              "      <td>2018-01-01</td>\n",
              "      <td>0015a82c2db000af6aaaf3ae2ecb0532</td>\n",
              "      <td>SP</td>\n",
              "      <td>3</td>\n",
              "      <td>3</td>\n",
              "      <td>1</td>\n",
              "      <td>2685.00</td>\n",
              "      <td>74</td>\n",
              "      <td>1</td>\n",
              "    </tr>\n",
              "    <tr>\n",
              "      <th>1</th>\n",
              "      <td>2018-01-01</td>\n",
              "      <td>001cca7ae9ae17fb1caed9dfb1094831</td>\n",
              "      <td>ES</td>\n",
              "      <td>171</td>\n",
              "      <td>207</td>\n",
              "      <td>9</td>\n",
              "      <td>21275.23</td>\n",
              "      <td>2</td>\n",
              "      <td>0</td>\n",
              "    </tr>\n",
              "    <tr>\n",
              "      <th>2</th>\n",
              "      <td>2018-01-01</td>\n",
              "      <td>002100f778ceb8431b7a1020ff7ab48f</td>\n",
              "      <td>SP</td>\n",
              "      <td>38</td>\n",
              "      <td>42</td>\n",
              "      <td>15</td>\n",
              "      <td>781.80</td>\n",
              "      <td>2</td>\n",
              "      <td>0</td>\n",
              "    </tr>\n",
              "    <tr>\n",
              "      <th>3</th>\n",
              "      <td>2018-01-01</td>\n",
              "      <td>003554e2dce176b5555353e4f3555ac8</td>\n",
              "      <td>GO</td>\n",
              "      <td>1</td>\n",
              "      <td>1</td>\n",
              "      <td>1</td>\n",
              "      <td>120.00</td>\n",
              "      <td>16</td>\n",
              "      <td>1</td>\n",
              "    </tr>\n",
              "    <tr>\n",
              "      <th>4</th>\n",
              "      <td>2018-01-01</td>\n",
              "      <td>004c9cd9d87a3c30c522c48c4fc07416</td>\n",
              "      <td>SP</td>\n",
              "      <td>130</td>\n",
              "      <td>141</td>\n",
              "      <td>75</td>\n",
              "      <td>16228.88</td>\n",
              "      <td>8</td>\n",
              "      <td>0</td>\n",
              "    </tr>\n",
              "  </tbody>\n",
              "</table>\n",
              "</div>"
            ],
            "text/plain": [
              "    data_ref                         seller_id  ... recencia  churn_6m\n",
              "0 2018-01-01  0015a82c2db000af6aaaf3ae2ecb0532  ...       74         1\n",
              "1 2018-01-01  001cca7ae9ae17fb1caed9dfb1094831  ...        2         0\n",
              "2 2018-01-01  002100f778ceb8431b7a1020ff7ab48f  ...        2         0\n",
              "3 2018-01-01  003554e2dce176b5555353e4f3555ac8  ...       16         1\n",
              "4 2018-01-01  004c9cd9d87a3c30c522c48c4fc07416  ...        8         0\n",
              "\n",
              "[5 rows x 9 columns]"
            ]
          },
          "metadata": {
            "tags": []
          },
          "execution_count": 27
        }
      ]
    },
    {
      "cell_type": "markdown",
      "metadata": {
        "id": "f_BKfBd9PRhw"
      },
      "source": [
        "# Criando a ABT Out of Time (Validação ou Teste)"
      ]
    },
    {
      "cell_type": "code",
      "metadata": {
        "colab": {
          "base_uri": "https://localhost:8080/",
          "height": 224
        },
        "id": "R2WPsdwkPFyz",
        "outputId": "4e5f0f15-6d33-46a9-cc67-3f7dab08d510"
      },
      "source": [
        "# criando histórico da abt de treino\n",
        "df_historico_abt_oot = (\n",
        "    df_order_items\n",
        "    .merge(df_orders, on='order_id', how='left')\n",
        "    .query('order_status == \"delivered\"')\n",
        "    .query('order_approved_at >= \"2017-02-01\" & order_approved_at < \"2018-08-01\"')\n",
        "    .merge(df_sellers, on='seller_id', how='left')\n",
        ")\n",
        "df_historico_abt_train.head()"
      ],
      "execution_count": 28,
      "outputs": [
        {
          "output_type": "execute_result",
          "data": {
            "text/html": [
              "<div>\n",
              "<style scoped>\n",
              "    .dataframe tbody tr th:only-of-type {\n",
              "        vertical-align: middle;\n",
              "    }\n",
              "\n",
              "    .dataframe tbody tr th {\n",
              "        vertical-align: top;\n",
              "    }\n",
              "\n",
              "    .dataframe thead th {\n",
              "        text-align: right;\n",
              "    }\n",
              "</style>\n",
              "<table border=\"1\" class=\"dataframe\">\n",
              "  <thead>\n",
              "    <tr style=\"text-align: right;\">\n",
              "      <th></th>\n",
              "      <th>order_id</th>\n",
              "      <th>order_item_id</th>\n",
              "      <th>product_id</th>\n",
              "      <th>seller_id</th>\n",
              "      <th>shipping_limit_date</th>\n",
              "      <th>price</th>\n",
              "      <th>freight_value</th>\n",
              "      <th>customer_id</th>\n",
              "      <th>order_status</th>\n",
              "      <th>order_purchase_timestamp</th>\n",
              "      <th>order_approved_at</th>\n",
              "      <th>order_delivered_carrier_date</th>\n",
              "      <th>order_delivered_customer_date</th>\n",
              "      <th>order_estimated_delivery_date</th>\n",
              "      <th>seller_zip_code_prefix</th>\n",
              "      <th>seller_city</th>\n",
              "      <th>seller_state</th>\n",
              "    </tr>\n",
              "  </thead>\n",
              "  <tbody>\n",
              "    <tr>\n",
              "      <th>0</th>\n",
              "      <td>00010242fe8c5a6d1ba2dd792cb16214</td>\n",
              "      <td>1</td>\n",
              "      <td>4244733e06e7ecb4970a6e2683c13e61</td>\n",
              "      <td>48436dade18ac8b2bce089ec2a041202</td>\n",
              "      <td>2017-09-19 09:45:35</td>\n",
              "      <td>58.9</td>\n",
              "      <td>13.29</td>\n",
              "      <td>3ce436f183e68e07877b285a838db11a</td>\n",
              "      <td>delivered</td>\n",
              "      <td>2017-09-13 08:59:02</td>\n",
              "      <td>2017-09-13 09:45:35</td>\n",
              "      <td>2017-09-19 18:34:16</td>\n",
              "      <td>2017-09-20 23:43:48</td>\n",
              "      <td>2017-09-29 00:00:00</td>\n",
              "      <td>27277</td>\n",
              "      <td>volta redonda</td>\n",
              "      <td>SP</td>\n",
              "    </tr>\n",
              "    <tr>\n",
              "      <th>1</th>\n",
              "      <td>00018f77f2f0320c557190d7a144bdd3</td>\n",
              "      <td>1</td>\n",
              "      <td>e5f2d52b802189ee658865ca93d83a8f</td>\n",
              "      <td>dd7ddc04e1b6c2c614352b383efe2d36</td>\n",
              "      <td>2017-05-03 11:05:13</td>\n",
              "      <td>239.9</td>\n",
              "      <td>19.93</td>\n",
              "      <td>f6dd3ec061db4e3987629fe6b26e5cce</td>\n",
              "      <td>delivered</td>\n",
              "      <td>2017-04-26 10:53:06</td>\n",
              "      <td>2017-04-26 11:05:13</td>\n",
              "      <td>2017-05-04 14:35:00</td>\n",
              "      <td>2017-05-12 16:04:24</td>\n",
              "      <td>2017-05-15 00:00:00</td>\n",
              "      <td>3471</td>\n",
              "      <td>sao paulo</td>\n",
              "      <td>SP</td>\n",
              "    </tr>\n",
              "    <tr>\n",
              "      <th>2</th>\n",
              "      <td>000229ec398224ef6ca0657da4fc703e</td>\n",
              "      <td>1</td>\n",
              "      <td>c777355d18b72b67abbeef9df44fd0fd</td>\n",
              "      <td>5b51032eddd242adc84c38acab88f23d</td>\n",
              "      <td>2018-01-18 14:48:30</td>\n",
              "      <td>199.0</td>\n",
              "      <td>17.87</td>\n",
              "      <td>6489ae5e4333f3693df5ad4372dab6d3</td>\n",
              "      <td>delivered</td>\n",
              "      <td>2018-01-14 14:33:31</td>\n",
              "      <td>2018-01-14 14:48:30</td>\n",
              "      <td>2018-01-16 12:36:48</td>\n",
              "      <td>2018-01-22 13:19:16</td>\n",
              "      <td>2018-02-05 00:00:00</td>\n",
              "      <td>37564</td>\n",
              "      <td>borda da mata</td>\n",
              "      <td>MG</td>\n",
              "    </tr>\n",
              "    <tr>\n",
              "      <th>3</th>\n",
              "      <td>00042b26cf59d7ce69dfabb4e55b4fd9</td>\n",
              "      <td>1</td>\n",
              "      <td>ac6c3623068f30de03045865e4e10089</td>\n",
              "      <td>df560393f3a51e74553ab94004ba5c87</td>\n",
              "      <td>2017-02-13 13:57:51</td>\n",
              "      <td>199.9</td>\n",
              "      <td>18.14</td>\n",
              "      <td>58dbd0b2d70206bf40e62cd34e84d795</td>\n",
              "      <td>delivered</td>\n",
              "      <td>2017-02-04 13:57:51</td>\n",
              "      <td>2017-02-04 14:10:13</td>\n",
              "      <td>2017-02-16 09:46:09</td>\n",
              "      <td>2017-03-01 16:42:31</td>\n",
              "      <td>2017-03-17 00:00:00</td>\n",
              "      <td>87900</td>\n",
              "      <td>loanda</td>\n",
              "      <td>PR</td>\n",
              "    </tr>\n",
              "    <tr>\n",
              "      <th>4</th>\n",
              "      <td>00048cc3ae777c65dbb7d2a0634bc1ea</td>\n",
              "      <td>1</td>\n",
              "      <td>ef92defde845ab8450f9d70c526ef70f</td>\n",
              "      <td>6426d21aca402a131fc0a5d0960a3c90</td>\n",
              "      <td>2017-05-23 03:55:27</td>\n",
              "      <td>21.9</td>\n",
              "      <td>12.69</td>\n",
              "      <td>816cbea969fe5b689b39cfc97a506742</td>\n",
              "      <td>delivered</td>\n",
              "      <td>2017-05-15 21:42:34</td>\n",
              "      <td>2017-05-17 03:55:27</td>\n",
              "      <td>2017-05-17 11:05:55</td>\n",
              "      <td>2017-05-22 13:44:35</td>\n",
              "      <td>2017-06-06 00:00:00</td>\n",
              "      <td>14091</td>\n",
              "      <td>ribeirao preto</td>\n",
              "      <td>SP</td>\n",
              "    </tr>\n",
              "  </tbody>\n",
              "</table>\n",
              "</div>"
            ],
            "text/plain": [
              "                           order_id  order_item_id  ...     seller_city seller_state\n",
              "0  00010242fe8c5a6d1ba2dd792cb16214              1  ...   volta redonda           SP\n",
              "1  00018f77f2f0320c557190d7a144bdd3              1  ...       sao paulo           SP\n",
              "2  000229ec398224ef6ca0657da4fc703e              1  ...   borda da mata           MG\n",
              "3  00042b26cf59d7ce69dfabb4e55b4fd9              1  ...          loanda           PR\n",
              "4  00048cc3ae777c65dbb7d2a0634bc1ea              1  ...  ribeirao preto           SP\n",
              "\n",
              "[5 rows x 17 columns]"
            ]
          },
          "metadata": {
            "tags": []
          },
          "execution_count": 28
        }
      ]
    },
    {
      "cell_type": "code",
      "metadata": {
        "colab": {
          "base_uri": "https://localhost:8080/",
          "height": 111
        },
        "id": "3RIR6x7TPVTO",
        "outputId": "06c5cb5b-d34b-4b01-aaf2-cb07776c8c17"
      },
      "source": [
        "df_historico_abt_oot.agg({'order_approved_at': ['min', 'max']})"
      ],
      "execution_count": 29,
      "outputs": [
        {
          "output_type": "execute_result",
          "data": {
            "text/html": [
              "<div>\n",
              "<style scoped>\n",
              "    .dataframe tbody tr th:only-of-type {\n",
              "        vertical-align: middle;\n",
              "    }\n",
              "\n",
              "    .dataframe tbody tr th {\n",
              "        vertical-align: top;\n",
              "    }\n",
              "\n",
              "    .dataframe thead th {\n",
              "        text-align: right;\n",
              "    }\n",
              "</style>\n",
              "<table border=\"1\" class=\"dataframe\">\n",
              "  <thead>\n",
              "    <tr style=\"text-align: right;\">\n",
              "      <th></th>\n",
              "      <th>order_approved_at</th>\n",
              "    </tr>\n",
              "  </thead>\n",
              "  <tbody>\n",
              "    <tr>\n",
              "      <th>min</th>\n",
              "      <td>2017-02-01 02:35:18</td>\n",
              "    </tr>\n",
              "    <tr>\n",
              "      <th>max</th>\n",
              "      <td>2018-07-31 23:55:18</td>\n",
              "    </tr>\n",
              "  </tbody>\n",
              "</table>\n",
              "</div>"
            ],
            "text/plain": [
              "      order_approved_at\n",
              "min 2017-02-01 02:35:18\n",
              "max 2018-07-31 23:55:18"
            ]
          },
          "metadata": {
            "tags": []
          },
          "execution_count": 29
        }
      ]
    },
    {
      "cell_type": "code",
      "metadata": {
        "colab": {
          "base_uri": "https://localhost:8080/",
          "height": 204
        },
        "id": "f5OKGfBISMSy",
        "outputId": "fc9a2ba2-0115-4329-e71d-1fabd7aa8180"
      },
      "source": [
        "# criando as features\n",
        "df_features_oot = (\n",
        "    df_historico_abt_oot\n",
        "    .query('order_approved_at < \"2018-02-01\"')\n",
        "    .groupby('seller_id')\n",
        "    .agg(uf = ('seller_state', 'first'),\n",
        "         tot_orders_12m = ('order_id', 'nunique'),\n",
        "         tot_items_12m = ('product_id', 'count'),\n",
        "         tot_items_dist_12m = ('product_id', 'nunique'),\n",
        "         receita_12m = ('price', 'sum'),\n",
        "         data_ult_vnd = ('order_approved_at', 'max'))\n",
        "    .reset_index()   \n",
        "    .assign(data_ref = pd.to_datetime('2018-02-01 00:00:00'))\n",
        "    .assign(recencia = lambda df: (df['data_ref'] - df['data_ult_vnd']).dt.days)\n",
        ")\n",
        "df_features_oot.head()"
      ],
      "execution_count": 30,
      "outputs": [
        {
          "output_type": "execute_result",
          "data": {
            "text/html": [
              "<div>\n",
              "<style scoped>\n",
              "    .dataframe tbody tr th:only-of-type {\n",
              "        vertical-align: middle;\n",
              "    }\n",
              "\n",
              "    .dataframe tbody tr th {\n",
              "        vertical-align: top;\n",
              "    }\n",
              "\n",
              "    .dataframe thead th {\n",
              "        text-align: right;\n",
              "    }\n",
              "</style>\n",
              "<table border=\"1\" class=\"dataframe\">\n",
              "  <thead>\n",
              "    <tr style=\"text-align: right;\">\n",
              "      <th></th>\n",
              "      <th>seller_id</th>\n",
              "      <th>uf</th>\n",
              "      <th>tot_orders_12m</th>\n",
              "      <th>tot_items_12m</th>\n",
              "      <th>tot_items_dist_12m</th>\n",
              "      <th>receita_12m</th>\n",
              "      <th>data_ult_vnd</th>\n",
              "      <th>data_ref</th>\n",
              "      <th>recencia</th>\n",
              "    </tr>\n",
              "  </thead>\n",
              "  <tbody>\n",
              "    <tr>\n",
              "      <th>0</th>\n",
              "      <td>0015a82c2db000af6aaaf3ae2ecb0532</td>\n",
              "      <td>SP</td>\n",
              "      <td>3</td>\n",
              "      <td>3</td>\n",
              "      <td>1</td>\n",
              "      <td>2685.00</td>\n",
              "      <td>2017-10-18 23:56:20</td>\n",
              "      <td>2018-02-01</td>\n",
              "      <td>105</td>\n",
              "    </tr>\n",
              "    <tr>\n",
              "      <th>1</th>\n",
              "      <td>001cca7ae9ae17fb1caed9dfb1094831</td>\n",
              "      <td>ES</td>\n",
              "      <td>179</td>\n",
              "      <td>215</td>\n",
              "      <td>9</td>\n",
              "      <td>22189.23</td>\n",
              "      <td>2018-01-29 21:13:27</td>\n",
              "      <td>2018-02-01</td>\n",
              "      <td>2</td>\n",
              "    </tr>\n",
              "    <tr>\n",
              "      <th>2</th>\n",
              "      <td>002100f778ceb8431b7a1020ff7ab48f</td>\n",
              "      <td>SP</td>\n",
              "      <td>41</td>\n",
              "      <td>45</td>\n",
              "      <td>18</td>\n",
              "      <td>859.50</td>\n",
              "      <td>2018-01-15 17:18:23</td>\n",
              "      <td>2018-02-01</td>\n",
              "      <td>16</td>\n",
              "    </tr>\n",
              "    <tr>\n",
              "      <th>3</th>\n",
              "      <td>003554e2dce176b5555353e4f3555ac8</td>\n",
              "      <td>GO</td>\n",
              "      <td>1</td>\n",
              "      <td>1</td>\n",
              "      <td>1</td>\n",
              "      <td>120.00</td>\n",
              "      <td>2017-12-15 07:11:03</td>\n",
              "      <td>2018-02-01</td>\n",
              "      <td>47</td>\n",
              "    </tr>\n",
              "    <tr>\n",
              "      <th>4</th>\n",
              "      <td>004c9cd9d87a3c30c522c48c4fc07416</td>\n",
              "      <td>SP</td>\n",
              "      <td>132</td>\n",
              "      <td>143</td>\n",
              "      <td>77</td>\n",
              "      <td>16619.10</td>\n",
              "      <td>2018-01-31 13:32:35</td>\n",
              "      <td>2018-02-01</td>\n",
              "      <td>0</td>\n",
              "    </tr>\n",
              "  </tbody>\n",
              "</table>\n",
              "</div>"
            ],
            "text/plain": [
              "                          seller_id  uf  ...   data_ref  recencia\n",
              "0  0015a82c2db000af6aaaf3ae2ecb0532  SP  ... 2018-02-01       105\n",
              "1  001cca7ae9ae17fb1caed9dfb1094831  ES  ... 2018-02-01         2\n",
              "2  002100f778ceb8431b7a1020ff7ab48f  SP  ... 2018-02-01        16\n",
              "3  003554e2dce176b5555353e4f3555ac8  GO  ... 2018-02-01        47\n",
              "4  004c9cd9d87a3c30c522c48c4fc07416  SP  ... 2018-02-01         0\n",
              "\n",
              "[5 rows x 9 columns]"
            ]
          },
          "metadata": {
            "tags": []
          },
          "execution_count": 30
        }
      ]
    },
    {
      "cell_type": "code",
      "metadata": {
        "colab": {
          "base_uri": "https://localhost:8080/",
          "height": 204
        },
        "id": "yGiMTmFxSPV6",
        "outputId": "b089d766-d9d9-45ae-b11b-db2356b373e6"
      },
      "source": [
        "# criando o target\n",
        "df_target_oot = (\n",
        "    df_historico_abt_oot\n",
        "    .query('order_approved_at >= \"2018-02-01\" & order_approved_at < \"2018-08-01\"')\n",
        "    .filter(['seller_id'])\n",
        "    .drop_duplicates()\n",
        ")\n",
        "df_target_oot.head()"
      ],
      "execution_count": 31,
      "outputs": [
        {
          "output_type": "execute_result",
          "data": {
            "text/html": [
              "<div>\n",
              "<style scoped>\n",
              "    .dataframe tbody tr th:only-of-type {\n",
              "        vertical-align: middle;\n",
              "    }\n",
              "\n",
              "    .dataframe tbody tr th {\n",
              "        vertical-align: top;\n",
              "    }\n",
              "\n",
              "    .dataframe thead th {\n",
              "        text-align: right;\n",
              "    }\n",
              "</style>\n",
              "<table border=\"1\" class=\"dataframe\">\n",
              "  <thead>\n",
              "    <tr style=\"text-align: right;\">\n",
              "      <th></th>\n",
              "      <th>seller_id</th>\n",
              "    </tr>\n",
              "  </thead>\n",
              "  <tbody>\n",
              "    <tr>\n",
              "      <th>6</th>\n",
              "      <td>5996cddab893a4652a15592fb58ab8db</td>\n",
              "    </tr>\n",
              "    <tr>\n",
              "      <th>7</th>\n",
              "      <td>a416b6a846a11724393025641d4edd5e</td>\n",
              "    </tr>\n",
              "    <tr>\n",
              "      <th>8</th>\n",
              "      <td>ba143b05f0110f0dc71ad71b4466ce92</td>\n",
              "    </tr>\n",
              "    <tr>\n",
              "      <th>9</th>\n",
              "      <td>cc419e0650a3c5ba77189a1882b7556a</td>\n",
              "    </tr>\n",
              "    <tr>\n",
              "      <th>10</th>\n",
              "      <td>8602a61d680a10a82cceeeda0d99ea3d</td>\n",
              "    </tr>\n",
              "  </tbody>\n",
              "</table>\n",
              "</div>"
            ],
            "text/plain": [
              "                           seller_id\n",
              "6   5996cddab893a4652a15592fb58ab8db\n",
              "7   a416b6a846a11724393025641d4edd5e\n",
              "8   ba143b05f0110f0dc71ad71b4466ce92\n",
              "9   cc419e0650a3c5ba77189a1882b7556a\n",
              "10  8602a61d680a10a82cceeeda0d99ea3d"
            ]
          },
          "metadata": {
            "tags": []
          },
          "execution_count": 31
        }
      ]
    },
    {
      "cell_type": "code",
      "metadata": {
        "colab": {
          "base_uri": "https://localhost:8080/",
          "height": 204
        },
        "id": "rQ3riXOlSVU_",
        "outputId": "4d156514-da2e-46e8-9a44-dffab0156a97"
      },
      "source": [
        "# criando a abt out of time\n",
        "df_abt_churn_oot = (\n",
        "    df_features_oot\n",
        "    .merge(df_target_oot, on='seller_id', how='left', indicator=True)\n",
        "    # left_only = churn (1), both = não churn (0)\n",
        "    .assign(churn_6m = lambda df: np.where(df['_merge'] == \"left_only\", 1, 0))\n",
        "    .filter(['data_ref', \n",
        "             'seller_id',\n",
        "             'uf',\n",
        "             'tot_orders_12m',\n",
        "             'tot_items_12m',\n",
        "             'tot_items_dist_12m',\n",
        "             'receita_12m',\n",
        "             'recencia',\n",
        "             'churn_6m'])\n",
        ")\n",
        "df_abt_churn_oot.head()"
      ],
      "execution_count": 32,
      "outputs": [
        {
          "output_type": "execute_result",
          "data": {
            "text/html": [
              "<div>\n",
              "<style scoped>\n",
              "    .dataframe tbody tr th:only-of-type {\n",
              "        vertical-align: middle;\n",
              "    }\n",
              "\n",
              "    .dataframe tbody tr th {\n",
              "        vertical-align: top;\n",
              "    }\n",
              "\n",
              "    .dataframe thead th {\n",
              "        text-align: right;\n",
              "    }\n",
              "</style>\n",
              "<table border=\"1\" class=\"dataframe\">\n",
              "  <thead>\n",
              "    <tr style=\"text-align: right;\">\n",
              "      <th></th>\n",
              "      <th>data_ref</th>\n",
              "      <th>seller_id</th>\n",
              "      <th>uf</th>\n",
              "      <th>tot_orders_12m</th>\n",
              "      <th>tot_items_12m</th>\n",
              "      <th>tot_items_dist_12m</th>\n",
              "      <th>receita_12m</th>\n",
              "      <th>recencia</th>\n",
              "      <th>churn_6m</th>\n",
              "    </tr>\n",
              "  </thead>\n",
              "  <tbody>\n",
              "    <tr>\n",
              "      <th>0</th>\n",
              "      <td>2018-02-01</td>\n",
              "      <td>0015a82c2db000af6aaaf3ae2ecb0532</td>\n",
              "      <td>SP</td>\n",
              "      <td>3</td>\n",
              "      <td>3</td>\n",
              "      <td>1</td>\n",
              "      <td>2685.00</td>\n",
              "      <td>105</td>\n",
              "      <td>1</td>\n",
              "    </tr>\n",
              "    <tr>\n",
              "      <th>1</th>\n",
              "      <td>2018-02-01</td>\n",
              "      <td>001cca7ae9ae17fb1caed9dfb1094831</td>\n",
              "      <td>ES</td>\n",
              "      <td>179</td>\n",
              "      <td>215</td>\n",
              "      <td>9</td>\n",
              "      <td>22189.23</td>\n",
              "      <td>2</td>\n",
              "      <td>0</td>\n",
              "    </tr>\n",
              "    <tr>\n",
              "      <th>2</th>\n",
              "      <td>2018-02-01</td>\n",
              "      <td>002100f778ceb8431b7a1020ff7ab48f</td>\n",
              "      <td>SP</td>\n",
              "      <td>41</td>\n",
              "      <td>45</td>\n",
              "      <td>18</td>\n",
              "      <td>859.50</td>\n",
              "      <td>16</td>\n",
              "      <td>0</td>\n",
              "    </tr>\n",
              "    <tr>\n",
              "      <th>3</th>\n",
              "      <td>2018-02-01</td>\n",
              "      <td>003554e2dce176b5555353e4f3555ac8</td>\n",
              "      <td>GO</td>\n",
              "      <td>1</td>\n",
              "      <td>1</td>\n",
              "      <td>1</td>\n",
              "      <td>120.00</td>\n",
              "      <td>47</td>\n",
              "      <td>1</td>\n",
              "    </tr>\n",
              "    <tr>\n",
              "      <th>4</th>\n",
              "      <td>2018-02-01</td>\n",
              "      <td>004c9cd9d87a3c30c522c48c4fc07416</td>\n",
              "      <td>SP</td>\n",
              "      <td>132</td>\n",
              "      <td>143</td>\n",
              "      <td>77</td>\n",
              "      <td>16619.10</td>\n",
              "      <td>0</td>\n",
              "      <td>0</td>\n",
              "    </tr>\n",
              "  </tbody>\n",
              "</table>\n",
              "</div>"
            ],
            "text/plain": [
              "    data_ref                         seller_id  ... recencia  churn_6m\n",
              "0 2018-02-01  0015a82c2db000af6aaaf3ae2ecb0532  ...      105         1\n",
              "1 2018-02-01  001cca7ae9ae17fb1caed9dfb1094831  ...        2         0\n",
              "2 2018-02-01  002100f778ceb8431b7a1020ff7ab48f  ...       16         0\n",
              "3 2018-02-01  003554e2dce176b5555353e4f3555ac8  ...       47         1\n",
              "4 2018-02-01  004c9cd9d87a3c30c522c48c4fc07416  ...        0         0\n",
              "\n",
              "[5 rows x 9 columns]"
            ]
          },
          "metadata": {
            "tags": []
          },
          "execution_count": 32
        }
      ]
    },
    {
      "cell_type": "markdown",
      "metadata": {
        "id": "NAgHOBJBTu9j"
      },
      "source": [
        "# Verificando as Distribuições da Variável Target"
      ]
    },
    {
      "cell_type": "code",
      "metadata": {
        "colab": {
          "base_uri": "https://localhost:8080/"
        },
        "id": "YOKVTN7zSpUS",
        "outputId": "bc198fc0-eff3-4d6d-ae0c-fb1f12228c1b"
      },
      "source": [
        "df_abt_churn_train['churn_6m'].value_counts(normalize=True)"
      ],
      "execution_count": 33,
      "outputs": [
        {
          "output_type": "execute_result",
          "data": {
            "text/plain": [
              "0    0.623669\n",
              "1    0.376331\n",
              "Name: churn_6m, dtype: float64"
            ]
          },
          "metadata": {
            "tags": []
          },
          "execution_count": 33
        }
      ]
    },
    {
      "cell_type": "code",
      "metadata": {
        "colab": {
          "base_uri": "https://localhost:8080/"
        },
        "id": "t9AGEXZbTyMr",
        "outputId": "011441f8-3d96-4f45-a338-068a69815eaf"
      },
      "source": [
        "df_abt_churn_oot['churn_6m'].value_counts(normalize=True)"
      ],
      "execution_count": 34,
      "outputs": [
        {
          "output_type": "execute_result",
          "data": {
            "text/plain": [
              "0    0.614404\n",
              "1    0.385596\n",
              "Name: churn_6m, dtype: float64"
            ]
          },
          "metadata": {
            "tags": []
          },
          "execution_count": 34
        }
      ]
    },
    {
      "cell_type": "code",
      "metadata": {
        "colab": {
          "base_uri": "https://localhost:8080/"
        },
        "id": "lLQBVWwTT0Pe",
        "outputId": "8be711a4-55f6-4664-fbef-0a6e4f072f0b"
      },
      "source": [
        "df_abt_churn_oot['churn_6m'].value_counts()"
      ],
      "execution_count": 35,
      "outputs": [
        {
          "output_type": "execute_result",
          "data": {
            "text/plain": [
              "0    1109\n",
              "1     696\n",
              "Name: churn_6m, dtype: int64"
            ]
          },
          "metadata": {
            "tags": []
          },
          "execution_count": 35
        }
      ]
    },
    {
      "cell_type": "code",
      "metadata": {
        "colab": {
          "base_uri": "https://localhost:8080/"
        },
        "id": "C8zxW-BuT2b6",
        "outputId": "e97bc7a7-2369-4813-f527-5ae38b49ea33"
      },
      "source": [
        "df_abt_churn_train['churn_6m'].value_counts()"
      ],
      "execution_count": 36,
      "outputs": [
        {
          "output_type": "execute_result",
          "data": {
            "text/plain": [
              "0    1054\n",
              "1     636\n",
              "Name: churn_6m, dtype: int64"
            ]
          },
          "metadata": {
            "tags": []
          },
          "execution_count": 36
        }
      ]
    },
    {
      "cell_type": "markdown",
      "metadata": {
        "id": "Tjbc2ceyT8Ax"
      },
      "source": [
        "# Salvando as ABTs"
      ]
    },
    {
      "cell_type": "code",
      "metadata": {
        "colab": {
          "base_uri": "https://localhost:8080/"
        },
        "id": "4tLpTdKCMNma",
        "outputId": "3e0560ee-f512-4a58-ebdc-f3e5dc37bec6"
      },
      "source": [
        "import joblib\n",
        "\n",
        "joblib.dump(df_abt_churn_train, '/content/drive/MyDrive/datasets/olist/abt_classificacao_churn_train.pkl')"
      ],
      "execution_count": 39,
      "outputs": [
        {
          "output_type": "execute_result",
          "data": {
            "text/plain": [
              "['/content/drive/MyDrive/datasets/olist/abt_classificacao_churn_train.pkl']"
            ]
          },
          "metadata": {
            "tags": []
          },
          "execution_count": 39
        }
      ]
    },
    {
      "cell_type": "code",
      "metadata": {
        "colab": {
          "base_uri": "https://localhost:8080/",
          "height": 419
        },
        "id": "k-7Uurqj58TY",
        "outputId": "f3983c3b-9bcd-45e6-b251-b26cf791b21c"
      },
      "source": [
        "joblib.load('/content/drive/MyDrive/datasets/olist/abt_classificacao_churn_train.pkl')"
      ],
      "execution_count": 41,
      "outputs": [
        {
          "output_type": "execute_result",
          "data": {
            "text/html": [
              "<div>\n",
              "<style scoped>\n",
              "    .dataframe tbody tr th:only-of-type {\n",
              "        vertical-align: middle;\n",
              "    }\n",
              "\n",
              "    .dataframe tbody tr th {\n",
              "        vertical-align: top;\n",
              "    }\n",
              "\n",
              "    .dataframe thead th {\n",
              "        text-align: right;\n",
              "    }\n",
              "</style>\n",
              "<table border=\"1\" class=\"dataframe\">\n",
              "  <thead>\n",
              "    <tr style=\"text-align: right;\">\n",
              "      <th></th>\n",
              "      <th>data_ref</th>\n",
              "      <th>seller_id</th>\n",
              "      <th>uf</th>\n",
              "      <th>tot_orders_12m</th>\n",
              "      <th>tot_items_12m</th>\n",
              "      <th>tot_items_dist_12m</th>\n",
              "      <th>receita_12m</th>\n",
              "      <th>recencia</th>\n",
              "      <th>churn_6m</th>\n",
              "    </tr>\n",
              "  </thead>\n",
              "  <tbody>\n",
              "    <tr>\n",
              "      <th>0</th>\n",
              "      <td>2018-01-01</td>\n",
              "      <td>0015a82c2db000af6aaaf3ae2ecb0532</td>\n",
              "      <td>SP</td>\n",
              "      <td>3</td>\n",
              "      <td>3</td>\n",
              "      <td>1</td>\n",
              "      <td>2685.00</td>\n",
              "      <td>74</td>\n",
              "      <td>1</td>\n",
              "    </tr>\n",
              "    <tr>\n",
              "      <th>1</th>\n",
              "      <td>2018-01-01</td>\n",
              "      <td>001cca7ae9ae17fb1caed9dfb1094831</td>\n",
              "      <td>ES</td>\n",
              "      <td>171</td>\n",
              "      <td>207</td>\n",
              "      <td>9</td>\n",
              "      <td>21275.23</td>\n",
              "      <td>2</td>\n",
              "      <td>0</td>\n",
              "    </tr>\n",
              "    <tr>\n",
              "      <th>2</th>\n",
              "      <td>2018-01-01</td>\n",
              "      <td>002100f778ceb8431b7a1020ff7ab48f</td>\n",
              "      <td>SP</td>\n",
              "      <td>38</td>\n",
              "      <td>42</td>\n",
              "      <td>15</td>\n",
              "      <td>781.80</td>\n",
              "      <td>2</td>\n",
              "      <td>0</td>\n",
              "    </tr>\n",
              "    <tr>\n",
              "      <th>3</th>\n",
              "      <td>2018-01-01</td>\n",
              "      <td>003554e2dce176b5555353e4f3555ac8</td>\n",
              "      <td>GO</td>\n",
              "      <td>1</td>\n",
              "      <td>1</td>\n",
              "      <td>1</td>\n",
              "      <td>120.00</td>\n",
              "      <td>16</td>\n",
              "      <td>1</td>\n",
              "    </tr>\n",
              "    <tr>\n",
              "      <th>4</th>\n",
              "      <td>2018-01-01</td>\n",
              "      <td>004c9cd9d87a3c30c522c48c4fc07416</td>\n",
              "      <td>SP</td>\n",
              "      <td>130</td>\n",
              "      <td>141</td>\n",
              "      <td>75</td>\n",
              "      <td>16228.88</td>\n",
              "      <td>8</td>\n",
              "      <td>0</td>\n",
              "    </tr>\n",
              "    <tr>\n",
              "      <th>...</th>\n",
              "      <td>...</td>\n",
              "      <td>...</td>\n",
              "      <td>...</td>\n",
              "      <td>...</td>\n",
              "      <td>...</td>\n",
              "      <td>...</td>\n",
              "      <td>...</td>\n",
              "      <td>...</td>\n",
              "      <td>...</td>\n",
              "    </tr>\n",
              "    <tr>\n",
              "      <th>1685</th>\n",
              "      <td>2018-01-01</td>\n",
              "      <td>ff82e8873fba613f2261a9acc896fd84</td>\n",
              "      <td>MG</td>\n",
              "      <td>1</td>\n",
              "      <td>1</td>\n",
              "      <td>1</td>\n",
              "      <td>14.90</td>\n",
              "      <td>25</td>\n",
              "      <td>0</td>\n",
              "    </tr>\n",
              "    <tr>\n",
              "      <th>1686</th>\n",
              "      <td>2018-01-01</td>\n",
              "      <td>ffdd9f82b9a447f6f8d4b91554cc7dd3</td>\n",
              "      <td>PR</td>\n",
              "      <td>8</td>\n",
              "      <td>9</td>\n",
              "      <td>7</td>\n",
              "      <td>1254.10</td>\n",
              "      <td>34</td>\n",
              "      <td>0</td>\n",
              "    </tr>\n",
              "    <tr>\n",
              "      <th>1687</th>\n",
              "      <td>2018-01-01</td>\n",
              "      <td>ffeee66ac5d5a62fe688b9d26f83f534</td>\n",
              "      <td>SP</td>\n",
              "      <td>8</td>\n",
              "      <td>8</td>\n",
              "      <td>2</td>\n",
              "      <td>1099.92</td>\n",
              "      <td>8</td>\n",
              "      <td>0</td>\n",
              "    </tr>\n",
              "    <tr>\n",
              "      <th>1688</th>\n",
              "      <td>2018-01-01</td>\n",
              "      <td>fffd5413c0700ac820c7069d66d98c89</td>\n",
              "      <td>SP</td>\n",
              "      <td>19</td>\n",
              "      <td>20</td>\n",
              "      <td>15</td>\n",
              "      <td>3374.30</td>\n",
              "      <td>6</td>\n",
              "      <td>0</td>\n",
              "    </tr>\n",
              "    <tr>\n",
              "      <th>1689</th>\n",
              "      <td>2018-01-01</td>\n",
              "      <td>ffff564a4f9085cd26170f4732393726</td>\n",
              "      <td>SP</td>\n",
              "      <td>6</td>\n",
              "      <td>6</td>\n",
              "      <td>4</td>\n",
              "      <td>238.50</td>\n",
              "      <td>340</td>\n",
              "      <td>1</td>\n",
              "    </tr>\n",
              "  </tbody>\n",
              "</table>\n",
              "<p>1690 rows × 9 columns</p>\n",
              "</div>"
            ],
            "text/plain": [
              "       data_ref                         seller_id  ... recencia  churn_6m\n",
              "0    2018-01-01  0015a82c2db000af6aaaf3ae2ecb0532  ...       74         1\n",
              "1    2018-01-01  001cca7ae9ae17fb1caed9dfb1094831  ...        2         0\n",
              "2    2018-01-01  002100f778ceb8431b7a1020ff7ab48f  ...        2         0\n",
              "3    2018-01-01  003554e2dce176b5555353e4f3555ac8  ...       16         1\n",
              "4    2018-01-01  004c9cd9d87a3c30c522c48c4fc07416  ...        8         0\n",
              "...         ...                               ...  ...      ...       ...\n",
              "1685 2018-01-01  ff82e8873fba613f2261a9acc896fd84  ...       25         0\n",
              "1686 2018-01-01  ffdd9f82b9a447f6f8d4b91554cc7dd3  ...       34         0\n",
              "1687 2018-01-01  ffeee66ac5d5a62fe688b9d26f83f534  ...        8         0\n",
              "1688 2018-01-01  fffd5413c0700ac820c7069d66d98c89  ...        6         0\n",
              "1689 2018-01-01  ffff564a4f9085cd26170f4732393726  ...      340         1\n",
              "\n",
              "[1690 rows x 9 columns]"
            ]
          },
          "metadata": {
            "tags": []
          },
          "execution_count": 41
        }
      ]
    },
    {
      "cell_type": "code",
      "metadata": {
        "id": "V4IiVYy04-vp"
      },
      "source": [
        "df_abt_churn_train.to_csv('/content/drive/MyDrive/datasets/olist/abt_classificacao_churn_train.csv', index=False)"
      ],
      "execution_count": 37,
      "outputs": []
    },
    {
      "cell_type": "code",
      "metadata": {
        "id": "fy6dE5nbWEzE"
      },
      "source": [
        "df_abt_churn_oot.to_csv('/content/drive/MyDrive/datasets/olist/abt_classificacao_churn_oot.csv', index=False)"
      ],
      "execution_count": 38,
      "outputs": []
    }
  ]
}