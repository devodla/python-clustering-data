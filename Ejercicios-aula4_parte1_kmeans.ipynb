{
  "nbformat": 4,
  "nbformat_minor": 0,
  "metadata": {
    "colab": {
      "name": "aula4-parte1-kmeans.ipynb",
      "provenance": [],
      "toc_visible": true,
      "include_colab_link": true
    },
    "kernelspec": {
      "display_name": "Python 3",
      "language": "python",
      "name": "python3"
    },
    "language_info": {
      "codemirror_mode": {
        "name": "ipython",
        "version": 3
      },
      "file_extension": ".py",
      "mimetype": "text/x-python",
      "name": "python",
      "nbconvert_exporter": "python",
      "pygments_lexer": "ipython3",
      "version": "3.7.8"
    }
  },
  "cells": [
    {
      "cell_type": "markdown",
      "metadata": {
        "id": "view-in-github",
        "colab_type": "text"
      },
      "source": [
        "<a href=\"https://colab.research.google.com/github/onlyreynaldo/python-clustering-data/blob/main/Ejercicios-aula4_parte1_kmeans.ipynb\" target=\"_parent\"><img src=\"https://colab.research.google.com/assets/colab-badge.svg\" alt=\"Open In Colab\"/></a>"
      ]
    },
    {
      "cell_type": "markdown",
      "metadata": {
        "id": "43fbk8TQ4K61"
      },
      "source": [
        "---\n",
        "**Autor**: Prof. Dino Magri\n",
        "\n",
        "**Contato**: `professor.dinomagri@gmail.com`\n",
        "\n",
        "**Licença deste notebook**: \n",
        "<br>\n",
        "<img align=\"left\" width=\"80\" src=\"https://licensebuttons.net/l/by/3.0/88x31.png\" />\n",
        "\n",
        "<br>\n",
        "<br>\n",
        "\n",
        "[Clique aqui para saber mais sobre a licença CC BY v4.0](https://creativecommons.org/licenses/by/4.0/legalcode.pt)\n",
        "\n",
        "\n",
        "---"
      ]
    },
    {
      "cell_type": "markdown",
      "metadata": {
        "id": "Z0ExQ8_wTIwl"
      },
      "source": [
        "# Análise de Cluster"
      ]
    },
    {
      "cell_type": "code",
      "metadata": {
        "id": "xO5AC4mNJXT7",
        "outputId": "27d439b3-a23a-4904-fa68-5a8fd48174ac",
        "colab": {
          "base_uri": "https://localhost:8080/"
        }
      },
      "source": [
        "from google.colab import drive\n",
        "drive.mount('/content/drive')"
      ],
      "execution_count": 1,
      "outputs": [
        {
          "output_type": "stream",
          "text": [
            "Mounted at /content/drive\n"
          ],
          "name": "stdout"
        }
      ]
    },
    {
      "cell_type": "code",
      "metadata": {
        "id": "jRj99dJ6JoJB"
      },
      "source": [
        "pasta_raiz = '/content/drive/My Drive/datasets'"
      ],
      "execution_count": 2,
      "outputs": []
    },
    {
      "cell_type": "code",
      "metadata": {
        "id": "yPJO69QpJs8e"
      },
      "source": [
        "import pandas as pd\n",
        "import matplotlib.pyplot as plt"
      ],
      "execution_count": 3,
      "outputs": []
    },
    {
      "cell_type": "code",
      "metadata": {
        "id": "w-sgoIcOJuul"
      },
      "source": [
        "dados = pd.read_csv(f'{pasta_raiz}/entregas.csv', sep=',')"
      ],
      "execution_count": null,
      "outputs": []
    },
    {
      "cell_type": "code",
      "metadata": {
        "id": "XDJqW6m4Ju-6"
      },
      "source": [
        "dados.head()"
      ],
      "execution_count": null,
      "outputs": []
    },
    {
      "cell_type": "code",
      "metadata": {
        "id": "fTUADSLJJyqI"
      },
      "source": [
        "dados.shape"
      ],
      "execution_count": null,
      "outputs": []
    },
    {
      "cell_type": "code",
      "metadata": {
        "id": "_UrLnTegJz2d"
      },
      "source": [
        "dados.plot(\n",
        "    kind='scatter',\n",
        "    x='distancia',\n",
        "    y='tempo'\n",
        ");"
      ],
      "execution_count": null,
      "outputs": []
    },
    {
      "cell_type": "code",
      "metadata": {
        "id": "FsYCmmEMJ14O"
      },
      "source": [
        "from sklearn.cluster import KMeans"
      ],
      "execution_count": null,
      "outputs": []
    },
    {
      "cell_type": "code",
      "metadata": {
        "id": "0Bw7flJlKTBJ"
      },
      "source": [
        "dados = dados.drop(columns='id_motorista')"
      ],
      "execution_count": null,
      "outputs": []
    },
    {
      "cell_type": "code",
      "metadata": {
        "id": "3tvAz9mmJ3vn"
      },
      "source": [
        "kmeans = KMeans(n_clusters=2)"
      ],
      "execution_count": null,
      "outputs": []
    },
    {
      "cell_type": "code",
      "metadata": {
        "id": "9T_cHwaMJ6tO"
      },
      "source": [
        "kmeans.fit(dados)"
      ],
      "execution_count": null,
      "outputs": []
    },
    {
      "cell_type": "code",
      "metadata": {
        "id": "fhujALscJ99d"
      },
      "source": [
        "kmeans.cluster_centers_"
      ],
      "execution_count": null,
      "outputs": []
    },
    {
      "cell_type": "code",
      "metadata": {
        "id": "TY-hg6uFKAqF"
      },
      "source": [
        "kmeans.labels_"
      ],
      "execution_count": null,
      "outputs": []
    },
    {
      "cell_type": "code",
      "metadata": {
        "id": "e0fnT_gMKBm0"
      },
      "source": [
        "centroides = kmeans.cluster_centers_"
      ],
      "execution_count": null,
      "outputs": []
    },
    {
      "cell_type": "code",
      "metadata": {
        "id": "gxZiKjRtKCjG"
      },
      "source": [
        "print(centroides)"
      ],
      "execution_count": null,
      "outputs": []
    },
    {
      "cell_type": "code",
      "metadata": {
        "id": "w5xJ0uAUKDSm"
      },
      "source": [
        "plt.scatter(dados['distancia'], dados['tempo'], c=kmeans.labels_, s=50, alpha=0.7)\n",
        "plt.scatter(centroides[:, 0], centroides[:, 1], c='red', s=50)"
      ],
      "execution_count": null,
      "outputs": []
    },
    {
      "cell_type": "markdown",
      "metadata": {
        "id": "on1yeGW0KKRx"
      },
      "source": [
        "### Com 3 clusters"
      ]
    },
    {
      "cell_type": "code",
      "metadata": {
        "id": "kg1xInhfKLe5"
      },
      "source": [
        "kmeans = KMeans(n_clusters=3).fit(dados)\n",
        "centroides = kmeans.cluster_centers_"
      ],
      "execution_count": null,
      "outputs": []
    },
    {
      "cell_type": "code",
      "metadata": {
        "id": "r0Lo-E4zKcwg"
      },
      "source": [
        "plt.scatter(dados['distancia'], dados['tempo'], c=kmeans.labels_, s=50, alpha=0.7)\n",
        "plt.scatter(centroides[:, 0], centroides[:, 1], c='red', s=50)"
      ],
      "execution_count": null,
      "outputs": []
    },
    {
      "cell_type": "markdown",
      "metadata": {
        "id": "4odc2CzNKMD1"
      },
      "source": [
        "### Com 4 clusters"
      ]
    },
    {
      "cell_type": "code",
      "metadata": {
        "id": "IfLj0wkWKNhi"
      },
      "source": [
        "kmeans = KMeans(n_clusters=4).fit(dados)\n",
        "centroides = kmeans.cluster_centers_"
      ],
      "execution_count": null,
      "outputs": []
    },
    {
      "cell_type": "code",
      "metadata": {
        "id": "j2r1WTpcKgPT"
      },
      "source": [
        "plt.scatter(dados['distancia'], dados['tempo'], c=kmeans.labels_, s=50, alpha=0.7)\n",
        "plt.scatter(centroides[:, 0], centroides[:, 1], c='red', s=50)"
      ],
      "execution_count": null,
      "outputs": []
    },
    {
      "cell_type": "markdown",
      "metadata": {
        "id": "SnHSNTZrKkMf"
      },
      "source": [
        "## Definir o valor de k\n",
        "\n",
        "Podemos utilizar o método \"Elbow\" (cotovelo) para visualizar qual a quantidade de de clusters que seria o ideal."
      ]
    },
    {
      "cell_type": "code",
      "metadata": {
        "id": "mt5M9Bo_KhXH"
      },
      "source": [
        "# Within Sum of Square\n",
        "n_clusters = []\n",
        "sse = []\n",
        "\n",
        "for i in range(2, 19):\n",
        "    kmeans = KMeans(n_clusters=i).fit(dados)\n",
        "    n_clusters.append(i)\n",
        "    sse.append(kmeans.inertia_)"
      ],
      "execution_count": null,
      "outputs": []
    },
    {
      "cell_type": "code",
      "metadata": {
        "id": "kdGtSvTdKlu1"
      },
      "source": [
        "plt.plot(n_clusters, sse, marker=\"X\");\n",
        "plt.xlabel(\"Número de clusters\")\n",
        "plt.ylabel(\"WSS - Within Sum of Square\")\n",
        "plt.title(\"Método Elbow para KMeans\");"
      ],
      "execution_count": null,
      "outputs": []
    },
    {
      "cell_type": "markdown",
      "metadata": {
        "id": "spM6l4zdQlbi"
      },
      "source": [
        "### Avaliando\n",
        "\n",
        "Iremos utilizar o método de interpretação e validação chamadado Silhouette (silhueta em ptBR). Ese método oferece uma representação sucinta de quão bem cada ponto foi classificado.\n",
        "\n",
        "O valor calculado é uma medida de quão semelhando um objeto é ao seu próprio cluster em comparação com outros clusters. **O valor varia entre -1 até +1**, onde um valor alto indica que o objeto é bem correspondido ao seu próprio cluster e mal correspondido aos agrupamentos vizinhos.\n",
        "\n",
        "Se a maioria dos objetos tiver um valor alto, a configuração do cluster está apropriada.\n",
        "\n",
        "Se muitos pontos tiverem um valor baixo ou negativo, a configuração de cluster pode ter muitos ou poucos clusters, será necessário ajustar.\n",
        "\n",
        "Valor perto do 0, indica que existem grupos que se sobrepõem."
      ]
    },
    {
      "cell_type": "code",
      "metadata": {
        "id": "PikE_fdaKns2"
      },
      "source": [
        "from sklearn.metrics import silhouette_score"
      ],
      "execution_count": null,
      "outputs": []
    },
    {
      "cell_type": "code",
      "metadata": {
        "id": "11kf3uGoKmbE"
      },
      "source": [
        "silhouette_coefficients = []\n",
        "n_clusters = []\n",
        "\n",
        "for i in range(2, 19):\n",
        "    kmeans = KMeans(n_clusters=i).fit(dados)\n",
        "    n_clusters.append(i)\n",
        "    r = silhouette_score(dados, kmeans.labels_)\n",
        "    silhouette_coefficients.append(r)"
      ],
      "execution_count": null,
      "outputs": []
    },
    {
      "cell_type": "code",
      "metadata": {
        "id": "imVPUS3ASRt0"
      },
      "source": [
        "plt.plot(n_clusters, silhouette_coefficients, marker=\"X\");\n",
        "plt.xlabel(\"Número de clusters\")\n",
        "plt.ylabel(\"Silhouette Coefficients\")\n",
        "plt.title(\"Silhouette Score\");"
      ],
      "execution_count": null,
      "outputs": []
    },
    {
      "cell_type": "markdown",
      "metadata": {
        "id": "Bi11xLhLUbT2"
      },
      "source": [
        "### Comparando os dois resultados"
      ]
    },
    {
      "cell_type": "code",
      "metadata": {
        "id": "WVSipROvSfnf"
      },
      "source": [
        "fig, axs = plt.subplots(2,1, figsize=(8,8))\n",
        "axs[0].plot(n_clusters, sse, marker=\"X\");\n",
        "axs[0].title.set_text(\"Método Elbow para KMeans\")\n",
        "\n",
        "axs[1].plot(n_clusters, silhouette_coefficients, marker=\"X\")\n",
        "axs[1].title.set_text(\"Silhouette Score\");"
      ],
      "execution_count": null,
      "outputs": []
    },
    {
      "cell_type": "markdown",
      "metadata": {
        "id": "5LS01QJpUk0T"
      },
      "source": [
        "# Exercício\n",
        "\n",
        "Utilizando a base `olist.csv` realize a análise de cluster utilizando o método K-Means.\n",
        "\n",
        "\n",
        "**1) Carregue o conjunto de dados na variável `df_olist`**"
      ]
    },
    {
      "cell_type": "code",
      "metadata": {
        "id": "BBYZHkUOVnra"
      },
      "source": [
        "import pandas as pd\n",
        "import matplotlib.pyplot as plt\n",
        "\n",
        "pasta_raiz = '/content/drive/My Drive/datasets'\n",
        "\n",
        "df_olist = pd.read_csv(f'{pasta_raiz}/olist.csv', sep=';')"
      ],
      "execution_count": 1,
      "outputs": []
    },
    {
      "cell_type": "code",
      "metadata": {
        "id": "u94lwF7ZXXK5",
        "outputId": "28639747-23cd-4421-86b3-541fa0bbf029",
        "colab": {
          "base_uri": "https://localhost:8080/",
          "height": 224
        }
      },
      "source": [
        "df_olist.head()"
      ],
      "execution_count": 2,
      "outputs": [
        {
          "output_type": "execute_result",
          "data": {
            "text/html": [
              "<div>\n",
              "<style scoped>\n",
              "    .dataframe tbody tr th:only-of-type {\n",
              "        vertical-align: middle;\n",
              "    }\n",
              "\n",
              "    .dataframe tbody tr th {\n",
              "        vertical-align: top;\n",
              "    }\n",
              "\n",
              "    .dataframe thead th {\n",
              "        text-align: right;\n",
              "    }\n",
              "</style>\n",
              "<table border=\"1\" class=\"dataframe\">\n",
              "  <thead>\n",
              "    <tr style=\"text-align: right;\">\n",
              "      <th></th>\n",
              "      <th>id_pedido</th>\n",
              "      <th>id_cliente</th>\n",
              "      <th>status_pedido</th>\n",
              "      <th>data_hora_compra_pedido</th>\n",
              "      <th>pedido_aprovado_em</th>\n",
              "      <th>pedido_entregue_na_transportadora</th>\n",
              "      <th>data_realizada_entrega_pedido</th>\n",
              "      <th>data_prevista_entrega_pedido</th>\n",
              "      <th>id_exclusivo_cliente</th>\n",
              "      <th>prefixo_cep_cliente</th>\n",
              "      <th>cidade_cliente</th>\n",
              "      <th>estado_cliente</th>\n",
              "      <th>id_revisao</th>\n",
              "      <th>pontuacao_revisao</th>\n",
              "      <th>sequencial_pagamento</th>\n",
              "      <th>tipo_pagamento</th>\n",
              "      <th>parcelas_pagamento</th>\n",
              "      <th>valor_pagamento</th>\n",
              "      <th>id_item_pedido</th>\n",
              "      <th>id_produto</th>\n",
              "      <th>id_vendedor</th>\n",
              "      <th>data_limite_envio</th>\n",
              "      <th>preco</th>\n",
              "      <th>preco_frete</th>\n",
              "      <th>nome_categoria_produto</th>\n",
              "      <th>comprimento_nome_produto</th>\n",
              "      <th>comprimento_descricao_produto</th>\n",
              "      <th>qtde_fotos_produto</th>\n",
              "      <th>peso_gramas_produto</th>\n",
              "      <th>comprimento_cm_produto</th>\n",
              "      <th>altura_cm_produto</th>\n",
              "      <th>largura_cm_produto</th>\n",
              "      <th>prefixo_cep_vendedor</th>\n",
              "      <th>cidade_vendedor</th>\n",
              "      <th>estado_vendedor</th>\n",
              "    </tr>\n",
              "  </thead>\n",
              "  <tbody>\n",
              "    <tr>\n",
              "      <th>0</th>\n",
              "      <td>e481f51cbdc54678b7cc49136f2d6af7</td>\n",
              "      <td>9ef432eb6251297304e76186b10a928d</td>\n",
              "      <td>entregue</td>\n",
              "      <td>2017-10-02 10:56:33</td>\n",
              "      <td>2017-10-02 11:07:15</td>\n",
              "      <td>2017-10-04 19:55:00</td>\n",
              "      <td>2017-10-10 21:25:13</td>\n",
              "      <td>2017-10-18 00:00:00</td>\n",
              "      <td>7c396fd4830fd04220f754e42b4e5bff</td>\n",
              "      <td>3149</td>\n",
              "      <td>sao paulo</td>\n",
              "      <td>SP</td>\n",
              "      <td>a54f0611adc9ed256b57ede6b6eb5114</td>\n",
              "      <td>4</td>\n",
              "      <td>1</td>\n",
              "      <td>credit_card</td>\n",
              "      <td>1</td>\n",
              "      <td>18.12</td>\n",
              "      <td>1</td>\n",
              "      <td>87285b34884572647811a353c7ac498a</td>\n",
              "      <td>3504c0cb71d7fa48d967e0e4c94d59d9</td>\n",
              "      <td>2017-10-06 11:07:15</td>\n",
              "      <td>29.99</td>\n",
              "      <td>8.72</td>\n",
              "      <td>utilidades_domesticas</td>\n",
              "      <td>40.0</td>\n",
              "      <td>268.0</td>\n",
              "      <td>4.0</td>\n",
              "      <td>500.0</td>\n",
              "      <td>19.0</td>\n",
              "      <td>8.0</td>\n",
              "      <td>13.0</td>\n",
              "      <td>9350</td>\n",
              "      <td>maua</td>\n",
              "      <td>SP</td>\n",
              "    </tr>\n",
              "    <tr>\n",
              "      <th>1</th>\n",
              "      <td>e481f51cbdc54678b7cc49136f2d6af7</td>\n",
              "      <td>9ef432eb6251297304e76186b10a928d</td>\n",
              "      <td>entregue</td>\n",
              "      <td>2017-10-02 10:56:33</td>\n",
              "      <td>2017-10-02 11:07:15</td>\n",
              "      <td>2017-10-04 19:55:00</td>\n",
              "      <td>2017-10-10 21:25:13</td>\n",
              "      <td>2017-10-18 00:00:00</td>\n",
              "      <td>7c396fd4830fd04220f754e42b4e5bff</td>\n",
              "      <td>3149</td>\n",
              "      <td>sao paulo</td>\n",
              "      <td>SP</td>\n",
              "      <td>a54f0611adc9ed256b57ede6b6eb5114</td>\n",
              "      <td>4</td>\n",
              "      <td>3</td>\n",
              "      <td>voucher</td>\n",
              "      <td>1</td>\n",
              "      <td>2.00</td>\n",
              "      <td>1</td>\n",
              "      <td>87285b34884572647811a353c7ac498a</td>\n",
              "      <td>3504c0cb71d7fa48d967e0e4c94d59d9</td>\n",
              "      <td>2017-10-06 11:07:15</td>\n",
              "      <td>29.99</td>\n",
              "      <td>8.72</td>\n",
              "      <td>utilidades_domesticas</td>\n",
              "      <td>40.0</td>\n",
              "      <td>268.0</td>\n",
              "      <td>4.0</td>\n",
              "      <td>500.0</td>\n",
              "      <td>19.0</td>\n",
              "      <td>8.0</td>\n",
              "      <td>13.0</td>\n",
              "      <td>9350</td>\n",
              "      <td>maua</td>\n",
              "      <td>SP</td>\n",
              "    </tr>\n",
              "    <tr>\n",
              "      <th>2</th>\n",
              "      <td>e481f51cbdc54678b7cc49136f2d6af7</td>\n",
              "      <td>9ef432eb6251297304e76186b10a928d</td>\n",
              "      <td>entregue</td>\n",
              "      <td>2017-10-02 10:56:33</td>\n",
              "      <td>2017-10-02 11:07:15</td>\n",
              "      <td>2017-10-04 19:55:00</td>\n",
              "      <td>2017-10-10 21:25:13</td>\n",
              "      <td>2017-10-18 00:00:00</td>\n",
              "      <td>7c396fd4830fd04220f754e42b4e5bff</td>\n",
              "      <td>3149</td>\n",
              "      <td>sao paulo</td>\n",
              "      <td>SP</td>\n",
              "      <td>a54f0611adc9ed256b57ede6b6eb5114</td>\n",
              "      <td>4</td>\n",
              "      <td>2</td>\n",
              "      <td>voucher</td>\n",
              "      <td>1</td>\n",
              "      <td>18.59</td>\n",
              "      <td>1</td>\n",
              "      <td>87285b34884572647811a353c7ac498a</td>\n",
              "      <td>3504c0cb71d7fa48d967e0e4c94d59d9</td>\n",
              "      <td>2017-10-06 11:07:15</td>\n",
              "      <td>29.99</td>\n",
              "      <td>8.72</td>\n",
              "      <td>utilidades_domesticas</td>\n",
              "      <td>40.0</td>\n",
              "      <td>268.0</td>\n",
              "      <td>4.0</td>\n",
              "      <td>500.0</td>\n",
              "      <td>19.0</td>\n",
              "      <td>8.0</td>\n",
              "      <td>13.0</td>\n",
              "      <td>9350</td>\n",
              "      <td>maua</td>\n",
              "      <td>SP</td>\n",
              "    </tr>\n",
              "    <tr>\n",
              "      <th>3</th>\n",
              "      <td>128e10d95713541c87cd1a2e48201934</td>\n",
              "      <td>a20e8105f23924cd00833fd87daa0831</td>\n",
              "      <td>entregue</td>\n",
              "      <td>2017-08-15 18:29:31</td>\n",
              "      <td>2017-08-15 20:05:16</td>\n",
              "      <td>2017-08-17 15:28:33</td>\n",
              "      <td>2017-08-18 14:44:43</td>\n",
              "      <td>2017-08-28 00:00:00</td>\n",
              "      <td>3a51803cc0d012c3b5dc8b7528cb05f7</td>\n",
              "      <td>3366</td>\n",
              "      <td>sao paulo</td>\n",
              "      <td>SP</td>\n",
              "      <td>b46f1e34512b0f4c74a72398b03ca788</td>\n",
              "      <td>4</td>\n",
              "      <td>1</td>\n",
              "      <td>credit_card</td>\n",
              "      <td>3</td>\n",
              "      <td>37.77</td>\n",
              "      <td>1</td>\n",
              "      <td>87285b34884572647811a353c7ac498a</td>\n",
              "      <td>3504c0cb71d7fa48d967e0e4c94d59d9</td>\n",
              "      <td>2017-08-21 20:05:16</td>\n",
              "      <td>29.99</td>\n",
              "      <td>7.78</td>\n",
              "      <td>utilidades_domesticas</td>\n",
              "      <td>40.0</td>\n",
              "      <td>268.0</td>\n",
              "      <td>4.0</td>\n",
              "      <td>500.0</td>\n",
              "      <td>19.0</td>\n",
              "      <td>8.0</td>\n",
              "      <td>13.0</td>\n",
              "      <td>9350</td>\n",
              "      <td>maua</td>\n",
              "      <td>SP</td>\n",
              "    </tr>\n",
              "    <tr>\n",
              "      <th>4</th>\n",
              "      <td>0e7e841ddf8f8f2de2bad69267ecfbcf</td>\n",
              "      <td>26c7ac168e1433912a51b924fbd34d34</td>\n",
              "      <td>entregue</td>\n",
              "      <td>2017-08-02 18:24:47</td>\n",
              "      <td>2017-08-02 18:43:15</td>\n",
              "      <td>2017-08-04 17:35:43</td>\n",
              "      <td>2017-08-07 18:30:01</td>\n",
              "      <td>2017-08-15 00:00:00</td>\n",
              "      <td>ef0996a1a279c26e7ecbd737be23d235</td>\n",
              "      <td>2290</td>\n",
              "      <td>sao paulo</td>\n",
              "      <td>SP</td>\n",
              "      <td>dc90f19c2806f1abba9e72ad3c350073</td>\n",
              "      <td>5</td>\n",
              "      <td>1</td>\n",
              "      <td>credit_card</td>\n",
              "      <td>1</td>\n",
              "      <td>37.77</td>\n",
              "      <td>1</td>\n",
              "      <td>87285b34884572647811a353c7ac498a</td>\n",
              "      <td>3504c0cb71d7fa48d967e0e4c94d59d9</td>\n",
              "      <td>2017-08-08 18:37:31</td>\n",
              "      <td>29.99</td>\n",
              "      <td>7.78</td>\n",
              "      <td>utilidades_domesticas</td>\n",
              "      <td>40.0</td>\n",
              "      <td>268.0</td>\n",
              "      <td>4.0</td>\n",
              "      <td>500.0</td>\n",
              "      <td>19.0</td>\n",
              "      <td>8.0</td>\n",
              "      <td>13.0</td>\n",
              "      <td>9350</td>\n",
              "      <td>maua</td>\n",
              "      <td>SP</td>\n",
              "    </tr>\n",
              "  </tbody>\n",
              "</table>\n",
              "</div>"
            ],
            "text/plain": [
              "                          id_pedido  ... estado_vendedor\n",
              "0  e481f51cbdc54678b7cc49136f2d6af7  ...              SP\n",
              "1  e481f51cbdc54678b7cc49136f2d6af7  ...              SP\n",
              "2  e481f51cbdc54678b7cc49136f2d6af7  ...              SP\n",
              "3  128e10d95713541c87cd1a2e48201934  ...              SP\n",
              "4  0e7e841ddf8f8f2de2bad69267ecfbcf  ...              SP\n",
              "\n",
              "[5 rows x 35 columns]"
            ]
          },
          "metadata": {
            "tags": []
          },
          "execution_count": 2
        }
      ]
    },
    {
      "cell_type": "markdown",
      "metadata": {
        "id": "TvRlx8EBV9Ee"
      },
      "source": [
        "**2) Imprime as 5 primeiras linhas**"
      ]
    },
    {
      "cell_type": "code",
      "metadata": {
        "id": "EnB_bcKSTDar",
        "outputId": "06b58971-c78a-4cfa-a49b-36d5c6d74243",
        "colab": {
          "base_uri": "https://localhost:8080/",
          "height": 224
        }
      },
      "source": [
        "df_olist.head()"
      ],
      "execution_count": 3,
      "outputs": [
        {
          "output_type": "execute_result",
          "data": {
            "text/html": [
              "<div>\n",
              "<style scoped>\n",
              "    .dataframe tbody tr th:only-of-type {\n",
              "        vertical-align: middle;\n",
              "    }\n",
              "\n",
              "    .dataframe tbody tr th {\n",
              "        vertical-align: top;\n",
              "    }\n",
              "\n",
              "    .dataframe thead th {\n",
              "        text-align: right;\n",
              "    }\n",
              "</style>\n",
              "<table border=\"1\" class=\"dataframe\">\n",
              "  <thead>\n",
              "    <tr style=\"text-align: right;\">\n",
              "      <th></th>\n",
              "      <th>id_pedido</th>\n",
              "      <th>id_cliente</th>\n",
              "      <th>status_pedido</th>\n",
              "      <th>data_hora_compra_pedido</th>\n",
              "      <th>pedido_aprovado_em</th>\n",
              "      <th>pedido_entregue_na_transportadora</th>\n",
              "      <th>data_realizada_entrega_pedido</th>\n",
              "      <th>data_prevista_entrega_pedido</th>\n",
              "      <th>id_exclusivo_cliente</th>\n",
              "      <th>prefixo_cep_cliente</th>\n",
              "      <th>cidade_cliente</th>\n",
              "      <th>estado_cliente</th>\n",
              "      <th>id_revisao</th>\n",
              "      <th>pontuacao_revisao</th>\n",
              "      <th>sequencial_pagamento</th>\n",
              "      <th>tipo_pagamento</th>\n",
              "      <th>parcelas_pagamento</th>\n",
              "      <th>valor_pagamento</th>\n",
              "      <th>id_item_pedido</th>\n",
              "      <th>id_produto</th>\n",
              "      <th>id_vendedor</th>\n",
              "      <th>data_limite_envio</th>\n",
              "      <th>preco</th>\n",
              "      <th>preco_frete</th>\n",
              "      <th>nome_categoria_produto</th>\n",
              "      <th>comprimento_nome_produto</th>\n",
              "      <th>comprimento_descricao_produto</th>\n",
              "      <th>qtde_fotos_produto</th>\n",
              "      <th>peso_gramas_produto</th>\n",
              "      <th>comprimento_cm_produto</th>\n",
              "      <th>altura_cm_produto</th>\n",
              "      <th>largura_cm_produto</th>\n",
              "      <th>prefixo_cep_vendedor</th>\n",
              "      <th>cidade_vendedor</th>\n",
              "      <th>estado_vendedor</th>\n",
              "    </tr>\n",
              "  </thead>\n",
              "  <tbody>\n",
              "    <tr>\n",
              "      <th>0</th>\n",
              "      <td>e481f51cbdc54678b7cc49136f2d6af7</td>\n",
              "      <td>9ef432eb6251297304e76186b10a928d</td>\n",
              "      <td>entregue</td>\n",
              "      <td>2017-10-02 10:56:33</td>\n",
              "      <td>2017-10-02 11:07:15</td>\n",
              "      <td>2017-10-04 19:55:00</td>\n",
              "      <td>2017-10-10 21:25:13</td>\n",
              "      <td>2017-10-18 00:00:00</td>\n",
              "      <td>7c396fd4830fd04220f754e42b4e5bff</td>\n",
              "      <td>3149</td>\n",
              "      <td>sao paulo</td>\n",
              "      <td>SP</td>\n",
              "      <td>a54f0611adc9ed256b57ede6b6eb5114</td>\n",
              "      <td>4</td>\n",
              "      <td>1</td>\n",
              "      <td>credit_card</td>\n",
              "      <td>1</td>\n",
              "      <td>18.12</td>\n",
              "      <td>1</td>\n",
              "      <td>87285b34884572647811a353c7ac498a</td>\n",
              "      <td>3504c0cb71d7fa48d967e0e4c94d59d9</td>\n",
              "      <td>2017-10-06 11:07:15</td>\n",
              "      <td>29.99</td>\n",
              "      <td>8.72</td>\n",
              "      <td>utilidades_domesticas</td>\n",
              "      <td>40.0</td>\n",
              "      <td>268.0</td>\n",
              "      <td>4.0</td>\n",
              "      <td>500.0</td>\n",
              "      <td>19.0</td>\n",
              "      <td>8.0</td>\n",
              "      <td>13.0</td>\n",
              "      <td>9350</td>\n",
              "      <td>maua</td>\n",
              "      <td>SP</td>\n",
              "    </tr>\n",
              "    <tr>\n",
              "      <th>1</th>\n",
              "      <td>e481f51cbdc54678b7cc49136f2d6af7</td>\n",
              "      <td>9ef432eb6251297304e76186b10a928d</td>\n",
              "      <td>entregue</td>\n",
              "      <td>2017-10-02 10:56:33</td>\n",
              "      <td>2017-10-02 11:07:15</td>\n",
              "      <td>2017-10-04 19:55:00</td>\n",
              "      <td>2017-10-10 21:25:13</td>\n",
              "      <td>2017-10-18 00:00:00</td>\n",
              "      <td>7c396fd4830fd04220f754e42b4e5bff</td>\n",
              "      <td>3149</td>\n",
              "      <td>sao paulo</td>\n",
              "      <td>SP</td>\n",
              "      <td>a54f0611adc9ed256b57ede6b6eb5114</td>\n",
              "      <td>4</td>\n",
              "      <td>3</td>\n",
              "      <td>voucher</td>\n",
              "      <td>1</td>\n",
              "      <td>2.00</td>\n",
              "      <td>1</td>\n",
              "      <td>87285b34884572647811a353c7ac498a</td>\n",
              "      <td>3504c0cb71d7fa48d967e0e4c94d59d9</td>\n",
              "      <td>2017-10-06 11:07:15</td>\n",
              "      <td>29.99</td>\n",
              "      <td>8.72</td>\n",
              "      <td>utilidades_domesticas</td>\n",
              "      <td>40.0</td>\n",
              "      <td>268.0</td>\n",
              "      <td>4.0</td>\n",
              "      <td>500.0</td>\n",
              "      <td>19.0</td>\n",
              "      <td>8.0</td>\n",
              "      <td>13.0</td>\n",
              "      <td>9350</td>\n",
              "      <td>maua</td>\n",
              "      <td>SP</td>\n",
              "    </tr>\n",
              "    <tr>\n",
              "      <th>2</th>\n",
              "      <td>e481f51cbdc54678b7cc49136f2d6af7</td>\n",
              "      <td>9ef432eb6251297304e76186b10a928d</td>\n",
              "      <td>entregue</td>\n",
              "      <td>2017-10-02 10:56:33</td>\n",
              "      <td>2017-10-02 11:07:15</td>\n",
              "      <td>2017-10-04 19:55:00</td>\n",
              "      <td>2017-10-10 21:25:13</td>\n",
              "      <td>2017-10-18 00:00:00</td>\n",
              "      <td>7c396fd4830fd04220f754e42b4e5bff</td>\n",
              "      <td>3149</td>\n",
              "      <td>sao paulo</td>\n",
              "      <td>SP</td>\n",
              "      <td>a54f0611adc9ed256b57ede6b6eb5114</td>\n",
              "      <td>4</td>\n",
              "      <td>2</td>\n",
              "      <td>voucher</td>\n",
              "      <td>1</td>\n",
              "      <td>18.59</td>\n",
              "      <td>1</td>\n",
              "      <td>87285b34884572647811a353c7ac498a</td>\n",
              "      <td>3504c0cb71d7fa48d967e0e4c94d59d9</td>\n",
              "      <td>2017-10-06 11:07:15</td>\n",
              "      <td>29.99</td>\n",
              "      <td>8.72</td>\n",
              "      <td>utilidades_domesticas</td>\n",
              "      <td>40.0</td>\n",
              "      <td>268.0</td>\n",
              "      <td>4.0</td>\n",
              "      <td>500.0</td>\n",
              "      <td>19.0</td>\n",
              "      <td>8.0</td>\n",
              "      <td>13.0</td>\n",
              "      <td>9350</td>\n",
              "      <td>maua</td>\n",
              "      <td>SP</td>\n",
              "    </tr>\n",
              "    <tr>\n",
              "      <th>3</th>\n",
              "      <td>128e10d95713541c87cd1a2e48201934</td>\n",
              "      <td>a20e8105f23924cd00833fd87daa0831</td>\n",
              "      <td>entregue</td>\n",
              "      <td>2017-08-15 18:29:31</td>\n",
              "      <td>2017-08-15 20:05:16</td>\n",
              "      <td>2017-08-17 15:28:33</td>\n",
              "      <td>2017-08-18 14:44:43</td>\n",
              "      <td>2017-08-28 00:00:00</td>\n",
              "      <td>3a51803cc0d012c3b5dc8b7528cb05f7</td>\n",
              "      <td>3366</td>\n",
              "      <td>sao paulo</td>\n",
              "      <td>SP</td>\n",
              "      <td>b46f1e34512b0f4c74a72398b03ca788</td>\n",
              "      <td>4</td>\n",
              "      <td>1</td>\n",
              "      <td>credit_card</td>\n",
              "      <td>3</td>\n",
              "      <td>37.77</td>\n",
              "      <td>1</td>\n",
              "      <td>87285b34884572647811a353c7ac498a</td>\n",
              "      <td>3504c0cb71d7fa48d967e0e4c94d59d9</td>\n",
              "      <td>2017-08-21 20:05:16</td>\n",
              "      <td>29.99</td>\n",
              "      <td>7.78</td>\n",
              "      <td>utilidades_domesticas</td>\n",
              "      <td>40.0</td>\n",
              "      <td>268.0</td>\n",
              "      <td>4.0</td>\n",
              "      <td>500.0</td>\n",
              "      <td>19.0</td>\n",
              "      <td>8.0</td>\n",
              "      <td>13.0</td>\n",
              "      <td>9350</td>\n",
              "      <td>maua</td>\n",
              "      <td>SP</td>\n",
              "    </tr>\n",
              "    <tr>\n",
              "      <th>4</th>\n",
              "      <td>0e7e841ddf8f8f2de2bad69267ecfbcf</td>\n",
              "      <td>26c7ac168e1433912a51b924fbd34d34</td>\n",
              "      <td>entregue</td>\n",
              "      <td>2017-08-02 18:24:47</td>\n",
              "      <td>2017-08-02 18:43:15</td>\n",
              "      <td>2017-08-04 17:35:43</td>\n",
              "      <td>2017-08-07 18:30:01</td>\n",
              "      <td>2017-08-15 00:00:00</td>\n",
              "      <td>ef0996a1a279c26e7ecbd737be23d235</td>\n",
              "      <td>2290</td>\n",
              "      <td>sao paulo</td>\n",
              "      <td>SP</td>\n",
              "      <td>dc90f19c2806f1abba9e72ad3c350073</td>\n",
              "      <td>5</td>\n",
              "      <td>1</td>\n",
              "      <td>credit_card</td>\n",
              "      <td>1</td>\n",
              "      <td>37.77</td>\n",
              "      <td>1</td>\n",
              "      <td>87285b34884572647811a353c7ac498a</td>\n",
              "      <td>3504c0cb71d7fa48d967e0e4c94d59d9</td>\n",
              "      <td>2017-08-08 18:37:31</td>\n",
              "      <td>29.99</td>\n",
              "      <td>7.78</td>\n",
              "      <td>utilidades_domesticas</td>\n",
              "      <td>40.0</td>\n",
              "      <td>268.0</td>\n",
              "      <td>4.0</td>\n",
              "      <td>500.0</td>\n",
              "      <td>19.0</td>\n",
              "      <td>8.0</td>\n",
              "      <td>13.0</td>\n",
              "      <td>9350</td>\n",
              "      <td>maua</td>\n",
              "      <td>SP</td>\n",
              "    </tr>\n",
              "  </tbody>\n",
              "</table>\n",
              "</div>"
            ],
            "text/plain": [
              "                          id_pedido  ... estado_vendedor\n",
              "0  e481f51cbdc54678b7cc49136f2d6af7  ...              SP\n",
              "1  e481f51cbdc54678b7cc49136f2d6af7  ...              SP\n",
              "2  e481f51cbdc54678b7cc49136f2d6af7  ...              SP\n",
              "3  128e10d95713541c87cd1a2e48201934  ...              SP\n",
              "4  0e7e841ddf8f8f2de2bad69267ecfbcf  ...              SP\n",
              "\n",
              "[5 rows x 35 columns]"
            ]
          },
          "metadata": {
            "tags": []
          },
          "execution_count": 3
        }
      ]
    },
    {
      "cell_type": "markdown",
      "metadata": {
        "id": "XJv5Uq1ZV_jb"
      },
      "source": [
        "**3) Quantas linhas e colunas existem no DataFrame criado?**"
      ]
    },
    {
      "cell_type": "code",
      "metadata": {
        "id": "FBlEXXxMVdP3",
        "outputId": "8a6c1f1b-56fe-4928-fa17-0dba718d3c1d",
        "colab": {
          "base_uri": "https://localhost:8080/"
        }
      },
      "source": [
        "df_olist.shape"
      ],
      "execution_count": 4,
      "outputs": [
        {
          "output_type": "execute_result",
          "data": {
            "text/plain": [
              "(116591, 35)"
            ]
          },
          "metadata": {
            "tags": []
          },
          "execution_count": 4
        }
      ]
    },
    {
      "cell_type": "markdown",
      "metadata": {
        "id": "UbJYLpEdWO3n"
      },
      "source": [
        "**5) Selecione apenas as colunas na variável `df_olist`**\n",
        "\n",
        "`['id_exclusivo_cliente','id_cliente','valor_pagamento','preco_frete']`"
      ]
    },
    {
      "cell_type": "code",
      "metadata": {
        "id": "cQLHaZqrVlgv"
      },
      "source": [
        "df_olist_formatado = df_olist[['id_exclusivo_cliente','id_cliente','valor_pagamento','preco_frete']]\n",
        "df_olist_formatado = df_olist[['id_exclusivo_cliente','id_cliente','valor_pagamento','preco_frete']].copy()"
      ],
      "execution_count": 5,
      "outputs": []
    },
    {
      "cell_type": "code",
      "metadata": {
        "id": "-ieqYK3uESz2",
        "outputId": "0016e514-2c85-49ac-a81a-f19d52bdb20d",
        "colab": {
          "base_uri": "https://localhost:8080/",
          "height": 204
        }
      },
      "source": [
        "df_olist_formatado.head()"
      ],
      "execution_count": 6,
      "outputs": [
        {
          "output_type": "execute_result",
          "data": {
            "text/html": [
              "<div>\n",
              "<style scoped>\n",
              "    .dataframe tbody tr th:only-of-type {\n",
              "        vertical-align: middle;\n",
              "    }\n",
              "\n",
              "    .dataframe tbody tr th {\n",
              "        vertical-align: top;\n",
              "    }\n",
              "\n",
              "    .dataframe thead th {\n",
              "        text-align: right;\n",
              "    }\n",
              "</style>\n",
              "<table border=\"1\" class=\"dataframe\">\n",
              "  <thead>\n",
              "    <tr style=\"text-align: right;\">\n",
              "      <th></th>\n",
              "      <th>id_exclusivo_cliente</th>\n",
              "      <th>id_cliente</th>\n",
              "      <th>valor_pagamento</th>\n",
              "      <th>preco_frete</th>\n",
              "    </tr>\n",
              "  </thead>\n",
              "  <tbody>\n",
              "    <tr>\n",
              "      <th>0</th>\n",
              "      <td>7c396fd4830fd04220f754e42b4e5bff</td>\n",
              "      <td>9ef432eb6251297304e76186b10a928d</td>\n",
              "      <td>18.12</td>\n",
              "      <td>8.72</td>\n",
              "    </tr>\n",
              "    <tr>\n",
              "      <th>1</th>\n",
              "      <td>7c396fd4830fd04220f754e42b4e5bff</td>\n",
              "      <td>9ef432eb6251297304e76186b10a928d</td>\n",
              "      <td>2.00</td>\n",
              "      <td>8.72</td>\n",
              "    </tr>\n",
              "    <tr>\n",
              "      <th>2</th>\n",
              "      <td>7c396fd4830fd04220f754e42b4e5bff</td>\n",
              "      <td>9ef432eb6251297304e76186b10a928d</td>\n",
              "      <td>18.59</td>\n",
              "      <td>8.72</td>\n",
              "    </tr>\n",
              "    <tr>\n",
              "      <th>3</th>\n",
              "      <td>3a51803cc0d012c3b5dc8b7528cb05f7</td>\n",
              "      <td>a20e8105f23924cd00833fd87daa0831</td>\n",
              "      <td>37.77</td>\n",
              "      <td>7.78</td>\n",
              "    </tr>\n",
              "    <tr>\n",
              "      <th>4</th>\n",
              "      <td>ef0996a1a279c26e7ecbd737be23d235</td>\n",
              "      <td>26c7ac168e1433912a51b924fbd34d34</td>\n",
              "      <td>37.77</td>\n",
              "      <td>7.78</td>\n",
              "    </tr>\n",
              "  </tbody>\n",
              "</table>\n",
              "</div>"
            ],
            "text/plain": [
              "               id_exclusivo_cliente  ... preco_frete\n",
              "0  7c396fd4830fd04220f754e42b4e5bff  ...        8.72\n",
              "1  7c396fd4830fd04220f754e42b4e5bff  ...        8.72\n",
              "2  7c396fd4830fd04220f754e42b4e5bff  ...        8.72\n",
              "3  3a51803cc0d012c3b5dc8b7528cb05f7  ...        7.78\n",
              "4  ef0996a1a279c26e7ecbd737be23d235  ...        7.78\n",
              "\n",
              "[5 rows x 4 columns]"
            ]
          },
          "metadata": {
            "tags": []
          },
          "execution_count": 6
        }
      ]
    },
    {
      "cell_type": "markdown",
      "metadata": {
        "id": "_Ceu3e7GWl9Q"
      },
      "source": [
        "**6) Faça o agrupamento pela coluna `id_exclusivo_cliente` e aplique as seguintes funções de agregação para as respectivas colunas**\n",
        "\n",
        "* valor_pagamento: `sum`\n",
        "* preco_frete: `sum`\n",
        "* id_cliente: `count`\n",
        "    \n",
        "Lembre-se de reinicar o indice do DataFrame criado."
      ]
    },
    {
      "cell_type": "code",
      "metadata": {
        "id": "5QnY5ZBwWT8H",
        "outputId": "b9a03c17-bfcf-4648-c404-d19cce8cd82b",
        "colab": {
          "base_uri": "https://localhost:8080/",
          "height": 204
        }
      },
      "source": [
        "## Otra forma\n",
        "import numpy as np\n",
        "\n",
        "(\n",
        "    df_olist\n",
        "      .groupby(df_olist[\"id_exclusivo_cliente\"])\n",
        "      .agg({\"valor_pagamento\": [np.sum],\n",
        "            \"preco_frete\": [np.sum],\n",
        "            \"id_cliente\": [np.size]})\n",
        "      .head(3)\n",
        ")"
      ],
      "execution_count": 7,
      "outputs": [
        {
          "output_type": "execute_result",
          "data": {
            "text/html": [
              "<div>\n",
              "<style scoped>\n",
              "    .dataframe tbody tr th:only-of-type {\n",
              "        vertical-align: middle;\n",
              "    }\n",
              "\n",
              "    .dataframe tbody tr th {\n",
              "        vertical-align: top;\n",
              "    }\n",
              "\n",
              "    .dataframe thead tr th {\n",
              "        text-align: left;\n",
              "    }\n",
              "\n",
              "    .dataframe thead tr:last-of-type th {\n",
              "        text-align: right;\n",
              "    }\n",
              "</style>\n",
              "<table border=\"1\" class=\"dataframe\">\n",
              "  <thead>\n",
              "    <tr>\n",
              "      <th></th>\n",
              "      <th>valor_pagamento</th>\n",
              "      <th>preco_frete</th>\n",
              "      <th>id_cliente</th>\n",
              "    </tr>\n",
              "    <tr>\n",
              "      <th></th>\n",
              "      <th>sum</th>\n",
              "      <th>sum</th>\n",
              "      <th>size</th>\n",
              "    </tr>\n",
              "    <tr>\n",
              "      <th>id_exclusivo_cliente</th>\n",
              "      <th></th>\n",
              "      <th></th>\n",
              "      <th></th>\n",
              "    </tr>\n",
              "  </thead>\n",
              "  <tbody>\n",
              "    <tr>\n",
              "      <th>0000366f3b9a7992bf8c76cfdf3221e2</th>\n",
              "      <td>141.90</td>\n",
              "      <td>12.00</td>\n",
              "      <td>1</td>\n",
              "    </tr>\n",
              "    <tr>\n",
              "      <th>0000b849f77a49e4a4ce2b2a4ca5be3f</th>\n",
              "      <td>27.19</td>\n",
              "      <td>8.29</td>\n",
              "      <td>1</td>\n",
              "    </tr>\n",
              "    <tr>\n",
              "      <th>0000f46a3911fa3c0805444483337064</th>\n",
              "      <td>86.22</td>\n",
              "      <td>17.22</td>\n",
              "      <td>1</td>\n",
              "    </tr>\n",
              "  </tbody>\n",
              "</table>\n",
              "</div>"
            ],
            "text/plain": [
              "                                 valor_pagamento preco_frete id_cliente\n",
              "                                             sum         sum       size\n",
              "id_exclusivo_cliente                                                   \n",
              "0000366f3b9a7992bf8c76cfdf3221e2          141.90       12.00          1\n",
              "0000b849f77a49e4a4ce2b2a4ca5be3f           27.19        8.29          1\n",
              "0000f46a3911fa3c0805444483337064           86.22       17.22          1"
            ]
          },
          "metadata": {
            "tags": []
          },
          "execution_count": 7
        }
      ]
    },
    {
      "cell_type": "code",
      "metadata": {
        "id": "oWAA0hvhHUlF"
      },
      "source": [
        "## Otra forma \n",
        "\n",
        "df_agrupado = (\n",
        "  df_olist\n",
        "    .groupby('id_exclusivo_cliente')\n",
        "    .agg({\n",
        "        'valor_pagamento':'sum',\n",
        "        'preco_frete':'sum',\n",
        "        'id_cliente':'count'})\n",
        "     .reset_index()\n",
        ")  \n",
        "## Reset_Index es para mantener a la columa y no convertirse en index la primera columna"
      ],
      "execution_count": 7,
      "outputs": []
    },
    {
      "cell_type": "code",
      "metadata": {
        "id": "jOgAcKPjP_TX",
        "outputId": "4cee634d-5cd1-4535-ee99-cc0c63d01f0b",
        "colab": {
          "base_uri": "https://localhost:8080/",
          "height": 204
        }
      },
      "source": [
        "df_agrupado.head()"
      ],
      "execution_count": 8,
      "outputs": [
        {
          "output_type": "execute_result",
          "data": {
            "text/html": [
              "<div>\n",
              "<style scoped>\n",
              "    .dataframe tbody tr th:only-of-type {\n",
              "        vertical-align: middle;\n",
              "    }\n",
              "\n",
              "    .dataframe tbody tr th {\n",
              "        vertical-align: top;\n",
              "    }\n",
              "\n",
              "    .dataframe thead th {\n",
              "        text-align: right;\n",
              "    }\n",
              "</style>\n",
              "<table border=\"1\" class=\"dataframe\">\n",
              "  <thead>\n",
              "    <tr style=\"text-align: right;\">\n",
              "      <th></th>\n",
              "      <th>id_exclusivo_cliente</th>\n",
              "      <th>valor_pagamento</th>\n",
              "      <th>preco_frete</th>\n",
              "      <th>id_cliente</th>\n",
              "    </tr>\n",
              "  </thead>\n",
              "  <tbody>\n",
              "    <tr>\n",
              "      <th>0</th>\n",
              "      <td>0000366f3b9a7992bf8c76cfdf3221e2</td>\n",
              "      <td>141.90</td>\n",
              "      <td>12.00</td>\n",
              "      <td>1</td>\n",
              "    </tr>\n",
              "    <tr>\n",
              "      <th>1</th>\n",
              "      <td>0000b849f77a49e4a4ce2b2a4ca5be3f</td>\n",
              "      <td>27.19</td>\n",
              "      <td>8.29</td>\n",
              "      <td>1</td>\n",
              "    </tr>\n",
              "    <tr>\n",
              "      <th>2</th>\n",
              "      <td>0000f46a3911fa3c0805444483337064</td>\n",
              "      <td>86.22</td>\n",
              "      <td>17.22</td>\n",
              "      <td>1</td>\n",
              "    </tr>\n",
              "    <tr>\n",
              "      <th>3</th>\n",
              "      <td>0000f6ccb0745a6a4b88665a16c9f078</td>\n",
              "      <td>43.62</td>\n",
              "      <td>17.63</td>\n",
              "      <td>1</td>\n",
              "    </tr>\n",
              "    <tr>\n",
              "      <th>4</th>\n",
              "      <td>0004aac84e0df4da2b147fca70cf8255</td>\n",
              "      <td>196.89</td>\n",
              "      <td>16.89</td>\n",
              "      <td>1</td>\n",
              "    </tr>\n",
              "  </tbody>\n",
              "</table>\n",
              "</div>"
            ],
            "text/plain": [
              "               id_exclusivo_cliente  valor_pagamento  preco_frete  id_cliente\n",
              "0  0000366f3b9a7992bf8c76cfdf3221e2           141.90        12.00           1\n",
              "1  0000b849f77a49e4a4ce2b2a4ca5be3f            27.19         8.29           1\n",
              "2  0000f46a3911fa3c0805444483337064            86.22        17.22           1\n",
              "3  0000f6ccb0745a6a4b88665a16c9f078            43.62        17.63           1\n",
              "4  0004aac84e0df4da2b147fca70cf8255           196.89        16.89           1"
            ]
          },
          "metadata": {
            "tags": []
          },
          "execution_count": 8
        }
      ]
    },
    {
      "cell_type": "code",
      "metadata": {
        "id": "VFkrRlawQEZQ",
        "outputId": "9cd26899-8dc5-4d5e-cbb1-3d0b97d9d633",
        "colab": {
          "base_uri": "https://localhost:8080/"
        }
      },
      "source": [
        "df_agrupado.shape"
      ],
      "execution_count": 9,
      "outputs": [
        {
          "output_type": "execute_result",
          "data": {
            "text/plain": [
              "(94094, 4)"
            ]
          },
          "metadata": {
            "tags": []
          },
          "execution_count": 9
        }
      ]
    },
    {
      "cell_type": "markdown",
      "metadata": {
        "id": "CeTBf-hbXuBT"
      },
      "source": [
        "**7) Crie o gráfico de dispersão para as variáveis `valor_pagamento` e `preco_frete`**\n"
      ]
    },
    {
      "cell_type": "code",
      "metadata": {
        "id": "YogtD6lLWkar",
        "outputId": "e47b4c6c-d344-48d9-9ee0-b27b796b981d",
        "colab": {
          "base_uri": "https://localhost:8080/",
          "height": 280
        }
      },
      "source": [
        "df_agrupado.plot(kind='scatter', x='valor_pagamento', y='preco_frete');"
      ],
      "execution_count": 10,
      "outputs": [
        {
          "output_type": "display_data",
          "data": {
            "image/png": "[encoded data removed]",
            "text/plain": [
              "<Figure size 432x288 with 1 Axes>"
            ]
          },
          "metadata": {
            "tags": [],
            "needs_background": "light"
          }
        }
      ]
    },
    {
      "cell_type": "markdown",
      "metadata": {
        "id": "_qFtvUoVYRz-"
      },
      "source": [
        "**8) Defina o valor de k**\n",
        "\n",
        "Utilize o método \"Elbow\" (cotovelo) para visualizar qual a quantidade de de clusters. Teste com 2 até 21 clusters. Utilize as variáveis `valor_pagamento` e `preco_frete`"
      ]
    },
    {
      "cell_type": "code",
      "metadata": {
        "id": "HkVUUtpxXxq1",
        "outputId": "3a100e53-15a1-4bb0-a0f1-509c258b50ab",
        "colab": {
          "base_uri": "https://localhost:8080/",
          "height": 204
        }
      },
      "source": [
        "df_agrupado.head()"
      ],
      "execution_count": 11,
      "outputs": [
        {
          "output_type": "execute_result",
          "data": {
            "text/html": [
              "<div>\n",
              "<style scoped>\n",
              "    .dataframe tbody tr th:only-of-type {\n",
              "        vertical-align: middle;\n",
              "    }\n",
              "\n",
              "    .dataframe tbody tr th {\n",
              "        vertical-align: top;\n",
              "    }\n",
              "\n",
              "    .dataframe thead th {\n",
              "        text-align: right;\n",
              "    }\n",
              "</style>\n",
              "<table border=\"1\" class=\"dataframe\">\n",
              "  <thead>\n",
              "    <tr style=\"text-align: right;\">\n",
              "      <th></th>\n",
              "      <th>id_exclusivo_cliente</th>\n",
              "      <th>valor_pagamento</th>\n",
              "      <th>preco_frete</th>\n",
              "      <th>id_cliente</th>\n",
              "    </tr>\n",
              "  </thead>\n",
              "  <tbody>\n",
              "    <tr>\n",
              "      <th>0</th>\n",
              "      <td>0000366f3b9a7992bf8c76cfdf3221e2</td>\n",
              "      <td>141.90</td>\n",
              "      <td>12.00</td>\n",
              "      <td>1</td>\n",
              "    </tr>\n",
              "    <tr>\n",
              "      <th>1</th>\n",
              "      <td>0000b849f77a49e4a4ce2b2a4ca5be3f</td>\n",
              "      <td>27.19</td>\n",
              "      <td>8.29</td>\n",
              "      <td>1</td>\n",
              "    </tr>\n",
              "    <tr>\n",
              "      <th>2</th>\n",
              "      <td>0000f46a3911fa3c0805444483337064</td>\n",
              "      <td>86.22</td>\n",
              "      <td>17.22</td>\n",
              "      <td>1</td>\n",
              "    </tr>\n",
              "    <tr>\n",
              "      <th>3</th>\n",
              "      <td>0000f6ccb0745a6a4b88665a16c9f078</td>\n",
              "      <td>43.62</td>\n",
              "      <td>17.63</td>\n",
              "      <td>1</td>\n",
              "    </tr>\n",
              "    <tr>\n",
              "      <th>4</th>\n",
              "      <td>0004aac84e0df4da2b147fca70cf8255</td>\n",
              "      <td>196.89</td>\n",
              "      <td>16.89</td>\n",
              "      <td>1</td>\n",
              "    </tr>\n",
              "  </tbody>\n",
              "</table>\n",
              "</div>"
            ],
            "text/plain": [
              "               id_exclusivo_cliente  valor_pagamento  preco_frete  id_cliente\n",
              "0  0000366f3b9a7992bf8c76cfdf3221e2           141.90        12.00           1\n",
              "1  0000b849f77a49e4a4ce2b2a4ca5be3f            27.19         8.29           1\n",
              "2  0000f46a3911fa3c0805444483337064            86.22        17.22           1\n",
              "3  0000f6ccb0745a6a4b88665a16c9f078            43.62        17.63           1\n",
              "4  0004aac84e0df4da2b147fca70cf8255           196.89        16.89           1"
            ]
          },
          "metadata": {
            "tags": []
          },
          "execution_count": 11
        }
      ]
    },
    {
      "cell_type": "code",
      "metadata": {
        "id": "YpGkE46rYa_R",
        "outputId": "a91df655-4c02-4b7f-e4ec-3630f097a9a4",
        "colab": {
          "base_uri": "https://localhost:8080/",
          "height": 204
        }
      },
      "source": [
        "X = df_agrupado.drop(columns=['id_exclusivo_cliente','id_cliente'])\n",
        "X.head()"
      ],
      "execution_count": 12,
      "outputs": [
        {
          "output_type": "execute_result",
          "data": {
            "text/html": [
              "<div>\n",
              "<style scoped>\n",
              "    .dataframe tbody tr th:only-of-type {\n",
              "        vertical-align: middle;\n",
              "    }\n",
              "\n",
              "    .dataframe tbody tr th {\n",
              "        vertical-align: top;\n",
              "    }\n",
              "\n",
              "    .dataframe thead th {\n",
              "        text-align: right;\n",
              "    }\n",
              "</style>\n",
              "<table border=\"1\" class=\"dataframe\">\n",
              "  <thead>\n",
              "    <tr style=\"text-align: right;\">\n",
              "      <th></th>\n",
              "      <th>valor_pagamento</th>\n",
              "      <th>preco_frete</th>\n",
              "    </tr>\n",
              "  </thead>\n",
              "  <tbody>\n",
              "    <tr>\n",
              "      <th>0</th>\n",
              "      <td>141.90</td>\n",
              "      <td>12.00</td>\n",
              "    </tr>\n",
              "    <tr>\n",
              "      <th>1</th>\n",
              "      <td>27.19</td>\n",
              "      <td>8.29</td>\n",
              "    </tr>\n",
              "    <tr>\n",
              "      <th>2</th>\n",
              "      <td>86.22</td>\n",
              "      <td>17.22</td>\n",
              "    </tr>\n",
              "    <tr>\n",
              "      <th>3</th>\n",
              "      <td>43.62</td>\n",
              "      <td>17.63</td>\n",
              "    </tr>\n",
              "    <tr>\n",
              "      <th>4</th>\n",
              "      <td>196.89</td>\n",
              "      <td>16.89</td>\n",
              "    </tr>\n",
              "  </tbody>\n",
              "</table>\n",
              "</div>"
            ],
            "text/plain": [
              "   valor_pagamento  preco_frete\n",
              "0           141.90        12.00\n",
              "1            27.19         8.29\n",
              "2            86.22        17.22\n",
              "3            43.62        17.63\n",
              "4           196.89        16.89"
            ]
          },
          "metadata": {
            "tags": []
          },
          "execution_count": 12
        }
      ]
    },
    {
      "cell_type": "code",
      "metadata": {
        "id": "t_ylI39iReb6",
        "outputId": "42b4c20d-56cf-42ee-8fe8-acecfd8c4441",
        "colab": {
          "base_uri": "https://localhost:8080/"
        }
      },
      "source": [
        "from sklearn.cluster import KMeans\n",
        "kmeans = KMeans(n_clusters=2)\n",
        "kmeans.fit(X)"
      ],
      "execution_count": 13,
      "outputs": [
        {
          "output_type": "execute_result",
          "data": {
            "text/plain": [
              "KMeans(algorithm='auto', copy_x=True, init='k-means++', max_iter=300,\n",
              "       n_clusters=2, n_init=10, n_jobs=None, precompute_distances='auto',\n",
              "       random_state=None, tol=0.0001, verbose=0)"
            ]
          },
          "metadata": {
            "tags": []
          },
          "execution_count": 13
        }
      ]
    },
    {
      "cell_type": "code",
      "metadata": {
        "id": "_QVCb0XBYcJh",
        "outputId": "df04ebd6-3473-44b2-c7d3-894a50b19b06",
        "colab": {
          "base_uri": "https://localhost:8080/"
        }
      },
      "source": [
        "!pip install yellowbrick==1.2"
      ],
      "execution_count": 18,
      "outputs": [
        {
          "output_type": "stream",
          "text": [
            "Requirement already satisfied: yellowbrick==1.2 in /usr/local/lib/python3.6/dist-packages (1.2)\n",
            "Requirement already satisfied: matplotlib!=3.0.0,>=2.0.2 in /usr/local/lib/python3.6/dist-packages (from yellowbrick==1.2) (3.2.2)\n",
            "Requirement already satisfied: cycler>=0.10.0 in /usr/local/lib/python3.6/dist-packages (from yellowbrick==1.2) (0.10.0)\n",
            "Requirement already satisfied: scipy>=1.0.0 in /usr/local/lib/python3.6/dist-packages (from yellowbrick==1.2) (1.4.1)\n",
            "Requirement already satisfied: scikit-learn>=0.20 in /usr/local/lib/python3.6/dist-packages (from yellowbrick==1.2) (0.22.2.post1)\n",
            "Requirement already satisfied: numpy>=1.13.0 in /usr/local/lib/python3.6/dist-packages (from yellowbrick==1.2) (1.18.5)\n",
            "Requirement already satisfied: pyparsing!=2.0.4,!=2.1.2,!=2.1.6,>=2.0.1 in /usr/local/lib/python3.6/dist-packages (from matplotlib!=3.0.0,>=2.0.2->yellowbrick==1.2) (2.4.7)\n",
            "Requirement already satisfied: kiwisolver>=1.0.1 in /usr/local/lib/python3.6/dist-packages (from matplotlib!=3.0.0,>=2.0.2->yellowbrick==1.2) (1.2.0)\n",
            "Requirement already satisfied: python-dateutil>=2.1 in /usr/local/lib/python3.6/dist-packages (from matplotlib!=3.0.0,>=2.0.2->yellowbrick==1.2) (2.8.1)\n",
            "Requirement already satisfied: six in /usr/local/lib/python3.6/dist-packages (from cycler>=0.10.0->yellowbrick==1.2) (1.15.0)\n",
            "Requirement already satisfied: joblib>=0.11 in /usr/local/lib/python3.6/dist-packages (from scikit-learn>=0.20->yellowbrick==1.2) (0.17.0)\n"
          ],
          "name": "stdout"
        }
      ]
    },
    {
      "cell_type": "code",
      "metadata": {
        "id": "Z9kA5xZPYlpp",
        "outputId": "dfaa8a67-f8f6-420f-e1c8-4b844322ae6a",
        "colab": {
          "base_uri": "https://localhost:8080/",
          "height": 376
        }
      },
      "source": [
        "from yellowbrick.cluster import KElbowVisualizer\n",
        "from sklearn.cluster import KMeans\n",
        "\n",
        "model = KMeans()\n",
        "visualizer = KElbowVisualizer(model, k=(2, 21))\n",
        "visualizer.fit(X)\n",
        "visualizer.show();"
      ],
      "execution_count": 15,
      "outputs": [
        {
          "output_type": "display_data",
          "data": {
            "image/png": "[encoded data removed]",
            "text/plain": [
              "<Figure size 576x396 with 2 Axes>"
            ]
          },
          "metadata": {
            "tags": []
          }
        }
      ]
    },
    {
      "cell_type": "code",
      "metadata": {
        "id": "VOgTDqtZVIUT",
        "outputId": "d37abff2-f697-47a2-9ac9-02580cdd58d2",
        "colab": {
          "base_uri": "https://localhost:8080/",
          "height": 376
        }
      },
      "source": [
        "n_clusters = []\n",
        "wss = [] # within sum of squares\n",
        "\n",
        "for i in range(2,21):\n",
        "  kmeans = KMeans(n_clusters=i).fit(X)\n",
        "  wss.append(kmeans.inertia_)\n",
        "  n_clusters.append(i)\n",
        "\n",
        "plt.plot(n_clusters, wss, marker='X');\n",
        "plt.xlabel('Numero de Clusters');\n",
        "plt.ylabel('WSS = within Sum of Squares');\n",
        "plt.title('Metodo elBow para KMeans');"
      ],
      "execution_count": 21,
      "outputs": [
        {
          "output_type": "display_data",
          "data": {
            "image/png": "[encoded data removed]",
            "text/plain": [
              "<Figure size 576x396 with 1 Axes>"
            ]
          },
          "metadata": {
            "tags": []
          }
        }
      ]
    },
    {
      "cell_type": "code",
      "metadata": {
        "id": "Wl4sATD3Vnic",
        "outputId": "69969b40-d94f-49fe-8eab-9f93bfe0841c",
        "colab": {
          "base_uri": "https://localhost:8080/",
          "height": 376
        }
      },
      "source": [
        "df_agrup_clientes = df_agrupado[['valor_pagamento', 'preco_frete']].copy()\n",
        "\n",
        "sse = []\n",
        "n_clusters = []\n",
        "\n",
        "for i in range(2, 21):\n",
        "    kmeans = KMeans(n_clusters=i).fit(df_agrup_clientes)\n",
        "    sse.append(kmeans.inertia_)\n",
        "    n_clusters.append(i)\n",
        "\n",
        "plt.plot(n_clusters, sse, marker=\"X\");\n",
        "plt.xlabel(\"Número de clusters\")\n",
        "plt.ylabel(\"WSS - Within Sum of Square\")\n",
        "plt.title(\"Método Elbow para KMeans\");"
      ],
      "execution_count": 18,
      "outputs": [
        {
          "output_type": "display_data",
          "data": {
            "image/png": "[encoded data removed]",
            "text/plain": [
              "<Figure size 576x396 with 1 Axes>"
            ]
          },
          "metadata": {
            "tags": []
          }
        }
      ]
    },
    {
      "cell_type": "code",
      "metadata": {
        "id": "2BX4SX3qYsbI",
        "outputId": "07027fff-3871-49ef-b5fe-4e6a4510523f",
        "colab": {
          "base_uri": "https://localhost:8080/"
        }
      },
      "source": [
        "df_agrup_clientes.shape"
      ],
      "execution_count": 28,
      "outputs": [
        {
          "output_type": "execute_result",
          "data": {
            "text/plain": [
              "(94094, 2)"
            ]
          },
          "metadata": {
            "tags": []
          },
          "execution_count": 28
        }
      ]
    },
    {
      "cell_type": "code",
      "metadata": {
        "id": "tCUKoU7jYv98",
        "outputId": "6da95d46-d6c5-4ba7-e0c1-c4df0d7f4fa7",
        "colab": {
          "base_uri": "https://localhost:8080/"
        }
      },
      "source": [
        "df_agrupado.shape"
      ],
      "execution_count": 29,
      "outputs": [
        {
          "output_type": "execute_result",
          "data": {
            "text/plain": [
              "(94094, 4)"
            ]
          },
          "metadata": {
            "tags": []
          },
          "execution_count": 29
        }
      ]
    },
    {
      "cell_type": "code",
      "metadata": {
        "id": "8WtBkV9eY4GP",
        "outputId": "c4a3db8e-5d70-4fdc-c1d6-40cfce6f095e",
        "colab": {
          "base_uri": "https://localhost:8080/"
        }
      },
      "source": [
        "X.shape"
      ],
      "execution_count": 30,
      "outputs": [
        {
          "output_type": "execute_result",
          "data": {
            "text/plain": [
              "(94094, 2)"
            ]
          },
          "metadata": {
            "tags": []
          },
          "execution_count": 30
        }
      ]
    },
    {
      "cell_type": "markdown",
      "metadata": {
        "id": "xXW9UKhpZCxC"
      },
      "source": [
        "**9) Com base no método Elbow selecione a quantidade de clusters. Utilize o algoritmo `K-Means`. Também crie um gráfico de dispersão com a separação dos grupos. Utilize o método plt.scatter, com os seguintes parâmetros:**\n",
        "\n",
        "    c=kmeans.labels_\n",
        "    cmap='tab20'\n",
        "    s=50\n",
        "    alpha=0.7"
      ]
    },
    {
      "cell_type": "code",
      "metadata": {
        "id": "L59rfLkhY-1y"
      },
      "source": [
        "kmeans = KMeans(n_clusters=6).fit(X)"
      ],
      "execution_count": 31,
      "outputs": []
    },
    {
      "cell_type": "code",
      "metadata": {
        "id": "2iXBXIUZZQv6",
        "outputId": "d28add52-b83c-4ab6-90ca-69d317a17367",
        "colab": {
          "base_uri": "https://localhost:8080/",
          "height": 347
        }
      },
      "source": [
        "plt.scatter(\n",
        "    df_agrup_clientes['valor_pagamento'], \n",
        "    df_agrup_clientes['preco_frete'], \n",
        "    c=kmeans.labels_,\n",
        "    cmap='tab20',\n",
        "    s=50, \n",
        "    alpha=0.7\n",
        ");"
      ],
      "execution_count": 32,
      "outputs": [
        {
          "output_type": "display_data",
          "data": {
            "image/png": "[encoded data removed]",
            "text/plain": [
              "<Figure size 576x396 with 1 Axes>"
            ]
          },
          "metadata": {
            "tags": []
          }
        }
      ]
    },
    {
      "cell_type": "markdown",
      "metadata": {
        "id": "5e_vWAZwZxIc"
      },
      "source": [
        "**10) Utilize o método da Silhueta para verificar o quão bom está o agrupamento realizado.**"
      ]
    },
    {
      "cell_type": "code",
      "metadata": {
        "id": "PbIHPJGSZ_jy"
      },
      "source": [
        ""
      ],
      "execution_count": null,
      "outputs": []
    },
    {
      "cell_type": "markdown",
      "metadata": {
        "id": "YkjdhS4GZgTf"
      },
      "source": [
        "### Ajustando o modelo\n",
        "\n",
        "Note que as variáveis estão em escalas diferentes, para isso, será necessário transformar as variáveis numéricas para utilizar a mesma escala.\n",
        "\n",
        "É uma etapa de pré-processamento de dados para a maioria dos algoritmos e pode impactar significativamente o desempenho do seu algoritmo."
      ]
    },
    {
      "cell_type": "code",
      "metadata": {
        "id": "IlGZHvwjZUtX"
      },
      "source": [
        "from sklearn.preprocessing import StandardScaler"
      ],
      "execution_count": null,
      "outputs": []
    },
    {
      "cell_type": "markdown",
      "metadata": {
        "id": "3dF42M2Wbp26"
      },
      "source": [
        " Essa classe `StandardScaler` implementa um tipo de padronização dos dados. Essa padronização, define os valores de cada recurso numérico em seu conjunto de dados para que as variáveis (`features`) tenham uma média de 0 e desvio padrão 1."
      ]
    },
    {
      "cell_type": "code",
      "metadata": {
        "id": "4SqQokYQbPuv"
      },
      "source": [
        "scaler = StandardScaler()\n",
        "\n",
        "scaled_features = scaler.fit_transform(df_agrup_clientes)"
      ],
      "execution_count": null,
      "outputs": []
    },
    {
      "cell_type": "code",
      "metadata": {
        "id": "KjGTWE_odyhf"
      },
      "source": [
        "scaled_features[:, 0]"
      ],
      "execution_count": null,
      "outputs": []
    },
    {
      "cell_type": "code",
      "metadata": {
        "id": "4tq0cMawvcNB"
      },
      "source": [
        "scaled_features[:, 1]"
      ],
      "execution_count": null,
      "outputs": []
    },
    {
      "cell_type": "markdown",
      "metadata": {
        "id": "wKKRxYpLcmv-"
      },
      "source": [
        "**11) Aplique o KMeans, para o nome conjunto de dados scaled_features criado anteriormente.**"
      ]
    },
    {
      "cell_type": "code",
      "metadata": {
        "id": "UrfMCAp5biQ1"
      },
      "source": [
        ""
      ],
      "execution_count": null,
      "outputs": []
    },
    {
      "cell_type": "markdown",
      "metadata": {
        "id": "rnHiyS2gcg6f"
      },
      "source": [
        "**12) Faça a plotagem dos grupos. Utilize o método plt.scatter, com os seguintes parâmetros:**\n",
        "\n",
        "    c=kmeans.labels_\n",
        "    cmap='tab20'\n",
        "    s=50\n",
        "    alpha=0.7**"
      ]
    },
    {
      "cell_type": "code",
      "metadata": {
        "id": "y2IY4k50clOr"
      },
      "source": [
        ""
      ],
      "execution_count": null,
      "outputs": []
    },
    {
      "cell_type": "markdown",
      "metadata": {
        "id": "cRDcE1hCcqKQ"
      },
      "source": [
        "**13) Utilize o método da Silhueta para verificar o quão bom está o agrupamento realizado com a padronização dos dados**"
      ]
    },
    {
      "cell_type": "code",
      "metadata": {
        "id": "Sb7VxJjacrsC"
      },
      "source": [
        ""
      ],
      "execution_count": null,
      "outputs": []
    },
    {
      "cell_type": "code",
      "metadata": {
        "id": "yLuyRhqPgC07"
      },
      "source": [
        ""
      ],
      "execution_count": null,
      "outputs": []
    },
    {
      "cell_type": "markdown",
      "metadata": {
        "id": "t3n_ipmETw4X"
      },
      "source": [
        ""
      ]
    }
  ]
}