{
  "nbformat": 4,
  "nbformat_minor": 0,
  "metadata": {
    "colab": {
      "name": "Regressao Logistica.ipynb",
      "provenance": [],
      "mount_file_id": "18Jzsx775juCB7W3DHgcFZNmBUG1Tk1Zq",
      "authorship_tag": "ABX9TyM3nkowkjAT3MWJ4p52XI2u",
      "include_colab_link": true
    },
    "kernelspec": {
      "name": "python3",
      "display_name": "Python 3"
    }
  },
  "cells": [
    {
      "cell_type": "markdown",
      "metadata": {
        "id": "view-in-github",
        "colab_type": "text"
      },
      "source": [
        "<a href=\"https://colab.research.google.com/github/onlyreynaldo/python-clustering-data/blob/main/Regressao_Logistica.ipynb\" target=\"_parent\"><img src=\"https://colab.research.google.com/assets/colab-badge.svg\" alt=\"Open In Colab\"/></a>"
      ]
    },
    {
      "cell_type": "code",
      "metadata": {
        "id": "sdr_fIX966Sn"
      },
      "source": [
        "import numpy as np\n",
        "import pandas as pd"
      ],
      "execution_count": 2,
      "outputs": []
    },
    {
      "cell_type": "code",
      "metadata": {
        "id": "glbgM34oE8yt",
        "outputId": "e9fe9407-dc19-4ea2-dd8a-7d8594ea6915",
        "colab": {
          "base_uri": "https://localhost:8080/",
          "height": 204
        }
      },
      "source": [
        "# carregando a tabela de dados\n",
        "dados = pd.read_csv('/content/drive/My Drive/datasets/consorcio.csv', sep=';')\n",
        "dados.head()"
      ],
      "execution_count": 5,
      "outputs": [
        {
          "output_type": "execute_result",
          "data": {
            "text/html": [
              "<div>\n",
              "<style scoped>\n",
              "    .dataframe tbody tr th:only-of-type {\n",
              "        vertical-align: middle;\n",
              "    }\n",
              "\n",
              "    .dataframe tbody tr th {\n",
              "        vertical-align: top;\n",
              "    }\n",
              "\n",
              "    .dataframe thead th {\n",
              "        text-align: right;\n",
              "    }\n",
              "</style>\n",
              "<table border=\"1\" class=\"dataframe\">\n",
              "  <thead>\n",
              "    <tr style=\"text-align: right;\">\n",
              "      <th></th>\n",
              "      <th>fundo_di</th>\n",
              "      <th>financiamento</th>\n",
              "      <th>poupanca</th>\n",
              "      <th>salario</th>\n",
              "      <th>cc</th>\n",
              "      <th>y</th>\n",
              "    </tr>\n",
              "  </thead>\n",
              "  <tbody>\n",
              "    <tr>\n",
              "      <th>0</th>\n",
              "      <td>2953763.0</td>\n",
              "      <td>492379768.0</td>\n",
              "      <td>64868.0</td>\n",
              "      <td>9094336.0</td>\n",
              "      <td>539057.0</td>\n",
              "      <td>1</td>\n",
              "    </tr>\n",
              "    <tr>\n",
              "      <th>1</th>\n",
              "      <td>19675537.0</td>\n",
              "      <td>400651812.0</td>\n",
              "      <td>220824.0</td>\n",
              "      <td>8173548.0</td>\n",
              "      <td>463216.0</td>\n",
              "      <td>1</td>\n",
              "    </tr>\n",
              "    <tr>\n",
              "      <th>2</th>\n",
              "      <td>12087258.0</td>\n",
              "      <td>358313688.0</td>\n",
              "      <td>774786.0</td>\n",
              "      <td>8589278.0</td>\n",
              "      <td>580867.0</td>\n",
              "      <td>1</td>\n",
              "    </tr>\n",
              "    <tr>\n",
              "      <th>3</th>\n",
              "      <td>21531200.0</td>\n",
              "      <td>351625970.0</td>\n",
              "      <td>558400.0</td>\n",
              "      <td>377016.0</td>\n",
              "      <td>362261.0</td>\n",
              "      <td>1</td>\n",
              "    </tr>\n",
              "    <tr>\n",
              "      <th>4</th>\n",
              "      <td>73803814.0</td>\n",
              "      <td>324825780.0</td>\n",
              "      <td>6798618.0</td>\n",
              "      <td>131792.0</td>\n",
              "      <td>956052.0</td>\n",
              "      <td>1</td>\n",
              "    </tr>\n",
              "  </tbody>\n",
              "</table>\n",
              "</div>"
            ],
            "text/plain": [
              "     fundo_di  financiamento   poupanca    salario        cc  y\n",
              "0   2953763.0    492379768.0    64868.0  9094336.0  539057.0  1\n",
              "1  19675537.0    400651812.0   220824.0  8173548.0  463216.0  1\n",
              "2  12087258.0    358313688.0   774786.0  8589278.0  580867.0  1\n",
              "3  21531200.0    351625970.0   558400.0   377016.0  362261.0  1\n",
              "4  73803814.0    324825780.0  6798618.0   131792.0  956052.0  1"
            ]
          },
          "metadata": {
            "tags": []
          },
          "execution_count": 5
        }
      ]
    },
    {
      "cell_type": "code",
      "metadata": {
        "id": "7CA7QQ6GFVkK",
        "outputId": "f53fd297-cce5-4afa-ea62-e778f02bce13",
        "colab": {
          "base_uri": "https://localhost:8080/"
        }
      },
      "source": [
        "# pegando o shape da tabela\n",
        "dados.shape"
      ],
      "execution_count": 6,
      "outputs": [
        {
          "output_type": "execute_result",
          "data": {
            "text/plain": [
              "(89, 6)"
            ]
          },
          "metadata": {
            "tags": []
          },
          "execution_count": 6
        }
      ]
    },
    {
      "cell_type": "code",
      "metadata": {
        "id": "p7ahCQCfFaUk",
        "outputId": "2030cdad-f399-466e-cf3c-5d6cb03d4151",
        "colab": {
          "base_uri": "https://localhost:8080/"
        }
      },
      "source": [
        "# calculando a distribuicao de clientes que adquiriram o consorcio\n",
        "dados['y'].value_counts()"
      ],
      "execution_count": 7,
      "outputs": [
        {
          "output_type": "execute_result",
          "data": {
            "text/plain": [
              "1    49\n",
              "0    40\n",
              "Name: y, dtype: int64"
            ]
          },
          "metadata": {
            "tags": []
          },
          "execution_count": 7
        }
      ]
    },
    {
      "cell_type": "code",
      "metadata": {
        "id": "ootkeLMAGDlw",
        "outputId": "4458d459-af93-408d-b370-ad019e3066aa",
        "colab": {
          "base_uri": "https://localhost:8080/"
        }
      },
      "source": [
        "import statsmodels.api as sm"
      ],
      "execution_count": 9,
      "outputs": [
        {
          "output_type": "stream",
          "text": [
            "/usr/local/lib/python3.6/dist-packages/statsmodels/tools/_testing.py:19: FutureWarning: pandas.util.testing is deprecated. Use the functions in the public API at pandas.testing instead.\n",
            "  import pandas.util.testing as tm\n"
          ],
          "name": "stderr"
        }
      ]
    },
    {
      "cell_type": "code",
      "metadata": {
        "id": "Gn-IK5okFktc",
        "outputId": "b5a5a5d5-e647-4ef1-b7ee-98968057c8ae",
        "colab": {
          "base_uri": "https://localhost:8080/",
          "height": 204
        }
      },
      "source": [
        "# pegando apenas as features ou variables independientes\n",
        "X = dados.drop('y', axis=1).copy()\n",
        "X = sm.add_constant(X)\n",
        "\n",
        "X.head()"
      ],
      "execution_count": 10,
      "outputs": [
        {
          "output_type": "execute_result",
          "data": {
            "text/html": [
              "<div>\n",
              "<style scoped>\n",
              "    .dataframe tbody tr th:only-of-type {\n",
              "        vertical-align: middle;\n",
              "    }\n",
              "\n",
              "    .dataframe tbody tr th {\n",
              "        vertical-align: top;\n",
              "    }\n",
              "\n",
              "    .dataframe thead th {\n",
              "        text-align: right;\n",
              "    }\n",
              "</style>\n",
              "<table border=\"1\" class=\"dataframe\">\n",
              "  <thead>\n",
              "    <tr style=\"text-align: right;\">\n",
              "      <th></th>\n",
              "      <th>const</th>\n",
              "      <th>fundo_di</th>\n",
              "      <th>financiamento</th>\n",
              "      <th>poupanca</th>\n",
              "      <th>salario</th>\n",
              "      <th>cc</th>\n",
              "    </tr>\n",
              "  </thead>\n",
              "  <tbody>\n",
              "    <tr>\n",
              "      <th>0</th>\n",
              "      <td>1.0</td>\n",
              "      <td>2953763.0</td>\n",
              "      <td>492379768.0</td>\n",
              "      <td>64868.0</td>\n",
              "      <td>9094336.0</td>\n",
              "      <td>539057.0</td>\n",
              "    </tr>\n",
              "    <tr>\n",
              "      <th>1</th>\n",
              "      <td>1.0</td>\n",
              "      <td>19675537.0</td>\n",
              "      <td>400651812.0</td>\n",
              "      <td>220824.0</td>\n",
              "      <td>8173548.0</td>\n",
              "      <td>463216.0</td>\n",
              "    </tr>\n",
              "    <tr>\n",
              "      <th>2</th>\n",
              "      <td>1.0</td>\n",
              "      <td>12087258.0</td>\n",
              "      <td>358313688.0</td>\n",
              "      <td>774786.0</td>\n",
              "      <td>8589278.0</td>\n",
              "      <td>580867.0</td>\n",
              "    </tr>\n",
              "    <tr>\n",
              "      <th>3</th>\n",
              "      <td>1.0</td>\n",
              "      <td>21531200.0</td>\n",
              "      <td>351625970.0</td>\n",
              "      <td>558400.0</td>\n",
              "      <td>377016.0</td>\n",
              "      <td>362261.0</td>\n",
              "    </tr>\n",
              "    <tr>\n",
              "      <th>4</th>\n",
              "      <td>1.0</td>\n",
              "      <td>73803814.0</td>\n",
              "      <td>324825780.0</td>\n",
              "      <td>6798618.0</td>\n",
              "      <td>131792.0</td>\n",
              "      <td>956052.0</td>\n",
              "    </tr>\n",
              "  </tbody>\n",
              "</table>\n",
              "</div>"
            ],
            "text/plain": [
              "   const    fundo_di  financiamento   poupanca    salario        cc\n",
              "0    1.0   2953763.0    492379768.0    64868.0  9094336.0  539057.0\n",
              "1    1.0  19675537.0    400651812.0   220824.0  8173548.0  463216.0\n",
              "2    1.0  12087258.0    358313688.0   774786.0  8589278.0  580867.0\n",
              "3    1.0  21531200.0    351625970.0   558400.0   377016.0  362261.0\n",
              "4    1.0  73803814.0    324825780.0  6798618.0   131792.0  956052.0"
            ]
          },
          "metadata": {
            "tags": []
          },
          "execution_count": 10
        }
      ]
    },
    {
      "cell_type": "code",
      "metadata": {
        "id": "88cpHT4zGFwI"
      },
      "source": [
        "# pegando apenas a variável dependente\n",
        "y = dados['y'].copy()"
      ],
      "execution_count": 11,
      "outputs": []
    },
    {
      "cell_type": "markdown",
      "metadata": {
        "id": "3gc_5kmMGKnZ"
      },
      "source": [
        "Criando o Modelo"
      ]
    },
    {
      "cell_type": "code",
      "metadata": {
        "id": "vCjIzcENGI-g",
        "outputId": "e9ad960b-65e5-454b-cfd7-c00c5162cb09",
        "colab": {
          "base_uri": "https://localhost:8080/"
        }
      },
      "source": [
        "modelo = sm.Logit(y, X).fit()"
      ],
      "execution_count": 12,
      "outputs": [
        {
          "output_type": "stream",
          "text": [
            "Optimization terminated successfully.\n",
            "         Current function value: 0.218736\n",
            "         Iterations 8\n"
          ],
          "name": "stdout"
        }
      ]
    },
    {
      "cell_type": "code",
      "metadata": {
        "id": "8Ml8t2_WGRu4",
        "outputId": "dab2655e-24ed-49e0-a118-36598d3de077",
        "colab": {
          "base_uri": "https://localhost:8080/"
        }
      },
      "source": [
        "print(modelo.summary())"
      ],
      "execution_count": 13,
      "outputs": [
        {
          "output_type": "stream",
          "text": [
            "                           Logit Regression Results                           \n",
            "==============================================================================\n",
            "Dep. Variable:                      y   No. Observations:                   89\n",
            "Model:                          Logit   Df Residuals:                       83\n",
            "Method:                           MLE   Df Model:                            5\n",
            "Date:                Fri, 06 Nov 2020   Pseudo R-squ.:                  0.6821\n",
            "Time:                        01:08:44   Log-Likelihood:                -19.467\n",
            "converged:                       True   LL-Null:                       -61.234\n",
            "Covariance Type:            nonrobust   LLR p-value:                 1.528e-16\n",
            "=================================================================================\n",
            "                    coef    std err          z      P>|z|      [0.025      0.975]\n",
            "---------------------------------------------------------------------------------\n",
            "const            -3.4499      1.352     -2.552      0.011      -6.099      -0.800\n",
            "fundo_di      -4.269e-08   2.47e-08     -1.728      0.084   -9.11e-08    5.72e-09\n",
            "financiamento  5.792e-09   4.42e-09      1.310      0.190   -2.87e-09    1.45e-08\n",
            "poupanca       6.478e-07   2.43e-07      2.669      0.008    1.72e-07    1.12e-06\n",
            "salario        1.026e-06   2.64e-07      3.887      0.000    5.09e-07    1.54e-06\n",
            "cc             6.791e-07   1.03e-06      0.660      0.509   -1.34e-06     2.7e-06\n",
            "=================================================================================\n"
          ],
          "name": "stdout"
        }
      ]
    },
    {
      "cell_type": "code",
      "metadata": {
        "id": "_ozUZhILF6Ef",
        "outputId": "a8314ff4-2c0a-458b-8748-7179ed35c5b4",
        "colab": {
          "base_uri": "https://localhost:8080/",
          "height": 204
        }
      },
      "source": [
        "X.head()"
      ],
      "execution_count": 14,
      "outputs": [
        {
          "output_type": "execute_result",
          "data": {
            "text/html": [
              "<div>\n",
              "<style scoped>\n",
              "    .dataframe tbody tr th:only-of-type {\n",
              "        vertical-align: middle;\n",
              "    }\n",
              "\n",
              "    .dataframe tbody tr th {\n",
              "        vertical-align: top;\n",
              "    }\n",
              "\n",
              "    .dataframe thead th {\n",
              "        text-align: right;\n",
              "    }\n",
              "</style>\n",
              "<table border=\"1\" class=\"dataframe\">\n",
              "  <thead>\n",
              "    <tr style=\"text-align: right;\">\n",
              "      <th></th>\n",
              "      <th>const</th>\n",
              "      <th>fundo_di</th>\n",
              "      <th>financiamento</th>\n",
              "      <th>poupanca</th>\n",
              "      <th>salario</th>\n",
              "      <th>cc</th>\n",
              "    </tr>\n",
              "  </thead>\n",
              "  <tbody>\n",
              "    <tr>\n",
              "      <th>0</th>\n",
              "      <td>1.0</td>\n",
              "      <td>2953763.0</td>\n",
              "      <td>492379768.0</td>\n",
              "      <td>64868.0</td>\n",
              "      <td>9094336.0</td>\n",
              "      <td>539057.0</td>\n",
              "    </tr>\n",
              "    <tr>\n",
              "      <th>1</th>\n",
              "      <td>1.0</td>\n",
              "      <td>19675537.0</td>\n",
              "      <td>400651812.0</td>\n",
              "      <td>220824.0</td>\n",
              "      <td>8173548.0</td>\n",
              "      <td>463216.0</td>\n",
              "    </tr>\n",
              "    <tr>\n",
              "      <th>2</th>\n",
              "      <td>1.0</td>\n",
              "      <td>12087258.0</td>\n",
              "      <td>358313688.0</td>\n",
              "      <td>774786.0</td>\n",
              "      <td>8589278.0</td>\n",
              "      <td>580867.0</td>\n",
              "    </tr>\n",
              "    <tr>\n",
              "      <th>3</th>\n",
              "      <td>1.0</td>\n",
              "      <td>21531200.0</td>\n",
              "      <td>351625970.0</td>\n",
              "      <td>558400.0</td>\n",
              "      <td>377016.0</td>\n",
              "      <td>362261.0</td>\n",
              "    </tr>\n",
              "    <tr>\n",
              "      <th>4</th>\n",
              "      <td>1.0</td>\n",
              "      <td>73803814.0</td>\n",
              "      <td>324825780.0</td>\n",
              "      <td>6798618.0</td>\n",
              "      <td>131792.0</td>\n",
              "      <td>956052.0</td>\n",
              "    </tr>\n",
              "  </tbody>\n",
              "</table>\n",
              "</div>"
            ],
            "text/plain": [
              "   const    fundo_di  financiamento   poupanca    salario        cc\n",
              "0    1.0   2953763.0    492379768.0    64868.0  9094336.0  539057.0\n",
              "1    1.0  19675537.0    400651812.0   220824.0  8173548.0  463216.0\n",
              "2    1.0  12087258.0    358313688.0   774786.0  8589278.0  580867.0\n",
              "3    1.0  21531200.0    351625970.0   558400.0   377016.0  362261.0\n",
              "4    1.0  73803814.0    324825780.0  6798618.0   131792.0  956052.0"
            ]
          },
          "metadata": {
            "tags": []
          },
          "execution_count": 14
        }
      ]
    },
    {
      "cell_type": "code",
      "metadata": {
        "id": "4URbQhXlGWlT",
        "outputId": "d026157e-9a3d-4241-e363-4a0bae3b6e93",
        "colab": {
          "base_uri": "https://localhost:8080/"
        }
      },
      "source": [
        "modelo.predict(X)"
      ],
      "execution_count": 15,
      "outputs": [
        {
          "output_type": "execute_result",
          "data": {
            "text/plain": [
              "0     0.999878\n",
              "1     0.998965\n",
              "2     0.999597\n",
              "3     0.207852\n",
              "4     0.615280\n",
              "        ...   \n",
              "84    0.010103\n",
              "85    0.111276\n",
              "86    0.094947\n",
              "87    0.153116\n",
              "88    0.088635\n",
              "Length: 89, dtype: float64"
            ]
          },
          "metadata": {
            "tags": []
          },
          "execution_count": 15
        }
      ]
    },
    {
      "cell_type": "markdown",
      "metadata": {
        "id": "NcvOCixvGajq"
      },
      "source": [
        "# Scorando a Base"
      ]
    },
    {
      "cell_type": "code",
      "metadata": {
        "id": "27BQA54TGYcJ"
      },
      "source": [
        "dados['Probabilidade'] = modelo.predict(X)"
      ],
      "execution_count": 16,
      "outputs": []
    },
    {
      "cell_type": "code",
      "metadata": {
        "id": "nWOyn_lsFRbS",
        "outputId": "bf5d90f0-b4d4-420a-8bf5-440cd05a8497",
        "colab": {
          "base_uri": "https://localhost:8080/",
          "height": 419
        }
      },
      "source": [
        "dados"
      ],
      "execution_count": 17,
      "outputs": [
        {
          "output_type": "execute_result",
          "data": {
            "text/html": [
              "<div>\n",
              "<style scoped>\n",
              "    .dataframe tbody tr th:only-of-type {\n",
              "        vertical-align: middle;\n",
              "    }\n",
              "\n",
              "    .dataframe tbody tr th {\n",
              "        vertical-align: top;\n",
              "    }\n",
              "\n",
              "    .dataframe thead th {\n",
              "        text-align: right;\n",
              "    }\n",
              "</style>\n",
              "<table border=\"1\" class=\"dataframe\">\n",
              "  <thead>\n",
              "    <tr style=\"text-align: right;\">\n",
              "      <th></th>\n",
              "      <th>fundo_di</th>\n",
              "      <th>financiamento</th>\n",
              "      <th>poupanca</th>\n",
              "      <th>salario</th>\n",
              "      <th>cc</th>\n",
              "      <th>y</th>\n",
              "      <th>Probabilidade</th>\n",
              "    </tr>\n",
              "  </thead>\n",
              "  <tbody>\n",
              "    <tr>\n",
              "      <th>0</th>\n",
              "      <td>2953763.0</td>\n",
              "      <td>492379768.0</td>\n",
              "      <td>64868.0</td>\n",
              "      <td>9094336.0</td>\n",
              "      <td>539057.0</td>\n",
              "      <td>1</td>\n",
              "      <td>0.999878</td>\n",
              "    </tr>\n",
              "    <tr>\n",
              "      <th>1</th>\n",
              "      <td>19675537.0</td>\n",
              "      <td>400651812.0</td>\n",
              "      <td>220824.0</td>\n",
              "      <td>8173548.0</td>\n",
              "      <td>463216.0</td>\n",
              "      <td>1</td>\n",
              "      <td>0.998965</td>\n",
              "    </tr>\n",
              "    <tr>\n",
              "      <th>2</th>\n",
              "      <td>12087258.0</td>\n",
              "      <td>358313688.0</td>\n",
              "      <td>774786.0</td>\n",
              "      <td>8589278.0</td>\n",
              "      <td>580867.0</td>\n",
              "      <td>1</td>\n",
              "      <td>0.999597</td>\n",
              "    </tr>\n",
              "    <tr>\n",
              "      <th>3</th>\n",
              "      <td>21531200.0</td>\n",
              "      <td>351625970.0</td>\n",
              "      <td>558400.0</td>\n",
              "      <td>377016.0</td>\n",
              "      <td>362261.0</td>\n",
              "      <td>1</td>\n",
              "      <td>0.207852</td>\n",
              "    </tr>\n",
              "    <tr>\n",
              "      <th>4</th>\n",
              "      <td>73803814.0</td>\n",
              "      <td>324825780.0</td>\n",
              "      <td>6798618.0</td>\n",
              "      <td>131792.0</td>\n",
              "      <td>956052.0</td>\n",
              "      <td>1</td>\n",
              "      <td>0.615280</td>\n",
              "    </tr>\n",
              "    <tr>\n",
              "      <th>...</th>\n",
              "      <td>...</td>\n",
              "      <td>...</td>\n",
              "      <td>...</td>\n",
              "      <td>...</td>\n",
              "      <td>...</td>\n",
              "      <td>...</td>\n",
              "      <td>...</td>\n",
              "    </tr>\n",
              "    <tr>\n",
              "      <th>84</th>\n",
              "      <td>61944100.0</td>\n",
              "      <td>8363686.0</td>\n",
              "      <td>16291.0</td>\n",
              "      <td>1396408.0</td>\n",
              "      <td>26814.0</td>\n",
              "      <td>1</td>\n",
              "      <td>0.010103</td>\n",
              "    </tr>\n",
              "    <tr>\n",
              "      <th>85</th>\n",
              "      <td>322387.0</td>\n",
              "      <td>6620688.0</td>\n",
              "      <td>7739.0</td>\n",
              "      <td>131792.0</td>\n",
              "      <td>1777763.0</td>\n",
              "      <td>0</td>\n",
              "      <td>0.111276</td>\n",
              "    </tr>\n",
              "    <tr>\n",
              "      <th>86</th>\n",
              "      <td>354890.0</td>\n",
              "      <td>6436053.0</td>\n",
              "      <td>3637.0</td>\n",
              "      <td>229225.0</td>\n",
              "      <td>1377659.0</td>\n",
              "      <td>0</td>\n",
              "      <td>0.094947</td>\n",
              "    </tr>\n",
              "    <tr>\n",
              "      <th>87</th>\n",
              "      <td>309015.0</td>\n",
              "      <td>6347512.0</td>\n",
              "      <td>6538.0</td>\n",
              "      <td>131792.0</td>\n",
              "      <td>2321400.0</td>\n",
              "      <td>0</td>\n",
              "      <td>0.153116</td>\n",
              "    </tr>\n",
              "    <tr>\n",
              "      <th>88</th>\n",
              "      <td>401844.0</td>\n",
              "      <td>5838863.0</td>\n",
              "      <td>9061.0</td>\n",
              "      <td>377016.0</td>\n",
              "      <td>1045783.0</td>\n",
              "      <td>0</td>\n",
              "      <td>0.088635</td>\n",
              "    </tr>\n",
              "  </tbody>\n",
              "</table>\n",
              "<p>89 rows × 7 columns</p>\n",
              "</div>"
            ],
            "text/plain": [
              "      fundo_di  financiamento   poupanca  ...         cc  y  Probabilidade\n",
              "0    2953763.0    492379768.0    64868.0  ...   539057.0  1       0.999878\n",
              "1   19675537.0    400651812.0   220824.0  ...   463216.0  1       0.998965\n",
              "2   12087258.0    358313688.0   774786.0  ...   580867.0  1       0.999597\n",
              "3   21531200.0    351625970.0   558400.0  ...   362261.0  1       0.207852\n",
              "4   73803814.0    324825780.0  6798618.0  ...   956052.0  1       0.615280\n",
              "..         ...            ...        ...  ...        ... ..            ...\n",
              "84  61944100.0      8363686.0    16291.0  ...    26814.0  1       0.010103\n",
              "85    322387.0      6620688.0     7739.0  ...  1777763.0  0       0.111276\n",
              "86    354890.0      6436053.0     3637.0  ...  1377659.0  0       0.094947\n",
              "87    309015.0      6347512.0     6538.0  ...  2321400.0  0       0.153116\n",
              "88    401844.0      5838863.0     9061.0  ...  1045783.0  0       0.088635\n",
              "\n",
              "[89 rows x 7 columns]"
            ]
          },
          "metadata": {
            "tags": []
          },
          "execution_count": 17
        }
      ]
    },
    {
      "cell_type": "code",
      "metadata": {
        "id": "v4iuMLUwGkF1"
      },
      "source": [
        "dados['Label'] = np.where(dados['Probabilidade'] >= 0.5, 1, 0)"
      ],
      "execution_count": 18,
      "outputs": []
    },
    {
      "cell_type": "code",
      "metadata": {
        "id": "yNtK1BGZGoo9",
        "outputId": "2d64e862-1d64-44c2-d6f8-1d9a2d50371c",
        "colab": {
          "base_uri": "https://localhost:8080/",
          "height": 419
        }
      },
      "source": [
        "dados"
      ],
      "execution_count": 19,
      "outputs": [
        {
          "output_type": "execute_result",
          "data": {
            "text/html": [
              "<div>\n",
              "<style scoped>\n",
              "    .dataframe tbody tr th:only-of-type {\n",
              "        vertical-align: middle;\n",
              "    }\n",
              "\n",
              "    .dataframe tbody tr th {\n",
              "        vertical-align: top;\n",
              "    }\n",
              "\n",
              "    .dataframe thead th {\n",
              "        text-align: right;\n",
              "    }\n",
              "</style>\n",
              "<table border=\"1\" class=\"dataframe\">\n",
              "  <thead>\n",
              "    <tr style=\"text-align: right;\">\n",
              "      <th></th>\n",
              "      <th>fundo_di</th>\n",
              "      <th>financiamento</th>\n",
              "      <th>poupanca</th>\n",
              "      <th>salario</th>\n",
              "      <th>cc</th>\n",
              "      <th>y</th>\n",
              "      <th>Probabilidade</th>\n",
              "      <th>Label</th>\n",
              "    </tr>\n",
              "  </thead>\n",
              "  <tbody>\n",
              "    <tr>\n",
              "      <th>0</th>\n",
              "      <td>2953763.0</td>\n",
              "      <td>492379768.0</td>\n",
              "      <td>64868.0</td>\n",
              "      <td>9094336.0</td>\n",
              "      <td>539057.0</td>\n",
              "      <td>1</td>\n",
              "      <td>0.999878</td>\n",
              "      <td>1</td>\n",
              "    </tr>\n",
              "    <tr>\n",
              "      <th>1</th>\n",
              "      <td>19675537.0</td>\n",
              "      <td>400651812.0</td>\n",
              "      <td>220824.0</td>\n",
              "      <td>8173548.0</td>\n",
              "      <td>463216.0</td>\n",
              "      <td>1</td>\n",
              "      <td>0.998965</td>\n",
              "      <td>1</td>\n",
              "    </tr>\n",
              "    <tr>\n",
              "      <th>2</th>\n",
              "      <td>12087258.0</td>\n",
              "      <td>358313688.0</td>\n",
              "      <td>774786.0</td>\n",
              "      <td>8589278.0</td>\n",
              "      <td>580867.0</td>\n",
              "      <td>1</td>\n",
              "      <td>0.999597</td>\n",
              "      <td>1</td>\n",
              "    </tr>\n",
              "    <tr>\n",
              "      <th>3</th>\n",
              "      <td>21531200.0</td>\n",
              "      <td>351625970.0</td>\n",
              "      <td>558400.0</td>\n",
              "      <td>377016.0</td>\n",
              "      <td>362261.0</td>\n",
              "      <td>1</td>\n",
              "      <td>0.207852</td>\n",
              "      <td>0</td>\n",
              "    </tr>\n",
              "    <tr>\n",
              "      <th>4</th>\n",
              "      <td>73803814.0</td>\n",
              "      <td>324825780.0</td>\n",
              "      <td>6798618.0</td>\n",
              "      <td>131792.0</td>\n",
              "      <td>956052.0</td>\n",
              "      <td>1</td>\n",
              "      <td>0.615280</td>\n",
              "      <td>1</td>\n",
              "    </tr>\n",
              "    <tr>\n",
              "      <th>...</th>\n",
              "      <td>...</td>\n",
              "      <td>...</td>\n",
              "      <td>...</td>\n",
              "      <td>...</td>\n",
              "      <td>...</td>\n",
              "      <td>...</td>\n",
              "      <td>...</td>\n",
              "      <td>...</td>\n",
              "    </tr>\n",
              "    <tr>\n",
              "      <th>84</th>\n",
              "      <td>61944100.0</td>\n",
              "      <td>8363686.0</td>\n",
              "      <td>16291.0</td>\n",
              "      <td>1396408.0</td>\n",
              "      <td>26814.0</td>\n",
              "      <td>1</td>\n",
              "      <td>0.010103</td>\n",
              "      <td>0</td>\n",
              "    </tr>\n",
              "    <tr>\n",
              "      <th>85</th>\n",
              "      <td>322387.0</td>\n",
              "      <td>6620688.0</td>\n",
              "      <td>7739.0</td>\n",
              "      <td>131792.0</td>\n",
              "      <td>1777763.0</td>\n",
              "      <td>0</td>\n",
              "      <td>0.111276</td>\n",
              "      <td>0</td>\n",
              "    </tr>\n",
              "    <tr>\n",
              "      <th>86</th>\n",
              "      <td>354890.0</td>\n",
              "      <td>6436053.0</td>\n",
              "      <td>3637.0</td>\n",
              "      <td>229225.0</td>\n",
              "      <td>1377659.0</td>\n",
              "      <td>0</td>\n",
              "      <td>0.094947</td>\n",
              "      <td>0</td>\n",
              "    </tr>\n",
              "    <tr>\n",
              "      <th>87</th>\n",
              "      <td>309015.0</td>\n",
              "      <td>6347512.0</td>\n",
              "      <td>6538.0</td>\n",
              "      <td>131792.0</td>\n",
              "      <td>2321400.0</td>\n",
              "      <td>0</td>\n",
              "      <td>0.153116</td>\n",
              "      <td>0</td>\n",
              "    </tr>\n",
              "    <tr>\n",
              "      <th>88</th>\n",
              "      <td>401844.0</td>\n",
              "      <td>5838863.0</td>\n",
              "      <td>9061.0</td>\n",
              "      <td>377016.0</td>\n",
              "      <td>1045783.0</td>\n",
              "      <td>0</td>\n",
              "      <td>0.088635</td>\n",
              "      <td>0</td>\n",
              "    </tr>\n",
              "  </tbody>\n",
              "</table>\n",
              "<p>89 rows × 8 columns</p>\n",
              "</div>"
            ],
            "text/plain": [
              "      fundo_di  financiamento   poupanca  ...  y  Probabilidade  Label\n",
              "0    2953763.0    492379768.0    64868.0  ...  1       0.999878      1\n",
              "1   19675537.0    400651812.0   220824.0  ...  1       0.998965      1\n",
              "2   12087258.0    358313688.0   774786.0  ...  1       0.999597      1\n",
              "3   21531200.0    351625970.0   558400.0  ...  1       0.207852      0\n",
              "4   73803814.0    324825780.0  6798618.0  ...  1       0.615280      1\n",
              "..         ...            ...        ...  ... ..            ...    ...\n",
              "84  61944100.0      8363686.0    16291.0  ...  1       0.010103      0\n",
              "85    322387.0      6620688.0     7739.0  ...  0       0.111276      0\n",
              "86    354890.0      6436053.0     3637.0  ...  0       0.094947      0\n",
              "87    309015.0      6347512.0     6538.0  ...  0       0.153116      0\n",
              "88    401844.0      5838863.0     9061.0  ...  0       0.088635      0\n",
              "\n",
              "[89 rows x 8 columns]"
            ]
          },
          "metadata": {
            "tags": []
          },
          "execution_count": 19
        }
      ]
    },
    {
      "cell_type": "code",
      "metadata": {
        "id": "bGH35dwaGqQS",
        "outputId": "fe8eb120-a93a-4dba-ee5c-160ec49ed7e3",
        "colab": {
          "base_uri": "https://localhost:8080/",
          "height": 142
        }
      },
      "source": [
        "# matriz de confusão\n",
        "matriz_de_confusao = pd.crosstab(index=dados['y'], columns=dados['Label'])\n",
        "matriz_de_confusao"
      ],
      "execution_count": 20,
      "outputs": [
        {
          "output_type": "execute_result",
          "data": {
            "text/html": [
              "<div>\n",
              "<style scoped>\n",
              "    .dataframe tbody tr th:only-of-type {\n",
              "        vertical-align: middle;\n",
              "    }\n",
              "\n",
              "    .dataframe tbody tr th {\n",
              "        vertical-align: top;\n",
              "    }\n",
              "\n",
              "    .dataframe thead th {\n",
              "        text-align: right;\n",
              "    }\n",
              "</style>\n",
              "<table border=\"1\" class=\"dataframe\">\n",
              "  <thead>\n",
              "    <tr style=\"text-align: right;\">\n",
              "      <th>Label</th>\n",
              "      <th>0</th>\n",
              "      <th>1</th>\n",
              "    </tr>\n",
              "    <tr>\n",
              "      <th>y</th>\n",
              "      <th></th>\n",
              "      <th></th>\n",
              "    </tr>\n",
              "  </thead>\n",
              "  <tbody>\n",
              "    <tr>\n",
              "      <th>0</th>\n",
              "      <td>37</td>\n",
              "      <td>3</td>\n",
              "    </tr>\n",
              "    <tr>\n",
              "      <th>1</th>\n",
              "      <td>4</td>\n",
              "      <td>45</td>\n",
              "    </tr>\n",
              "  </tbody>\n",
              "</table>\n",
              "</div>"
            ],
            "text/plain": [
              "Label   0   1\n",
              "y            \n",
              "0      37   3\n",
              "1       4  45"
            ]
          },
          "metadata": {
            "tags": []
          },
          "execution_count": 20
        }
      ]
    },
    {
      "cell_type": "code",
      "metadata": {
        "id": "tGfEBu8VGsml",
        "outputId": "c228b14f-0142-4f52-fda9-2aa8a65a2434",
        "colab": {
          "base_uri": "https://localhost:8080/"
        }
      },
      "source": [
        "matriz_de_confusao.sum().sum()"
      ],
      "execution_count": 21,
      "outputs": [
        {
          "output_type": "execute_result",
          "data": {
            "text/plain": [
              "89"
            ]
          },
          "metadata": {
            "tags": []
          },
          "execution_count": 21
        }
      ]
    },
    {
      "cell_type": "code",
      "metadata": {
        "id": "KqozFYotGujY",
        "outputId": "e5aba958-cad6-4125-8d24-ff39094e89d4",
        "colab": {
          "base_uri": "https://localhost:8080/"
        }
      },
      "source": [
        "# acurácia\n",
        "(37 + 45) / matriz_de_confusao.sum().sum()"
      ],
      "execution_count": 22,
      "outputs": [
        {
          "output_type": "execute_result",
          "data": {
            "text/plain": [
              "0.9213483146067416"
            ]
          },
          "metadata": {
            "tags": []
          },
          "execution_count": 22
        }
      ]
    },
    {
      "cell_type": "markdown",
      "metadata": {
        "id": "Ab2_JgfWGysa"
      },
      "source": [
        "# Scorando um cliente novo"
      ]
    },
    {
      "cell_type": "code",
      "metadata": {
        "id": "PfSrpftcGxcJ",
        "outputId": "1ac5d0a3-a54b-4722-ae83-725419afea79",
        "colab": {
          "base_uri": "https://localhost:8080/",
          "height": 80
        }
      },
      "source": [
        "teste = pd.DataFrame({\n",
        "    'const': [1.0],\n",
        "    'fundo_di': [0],\n",
        "    'financiamento': [35000.0],\n",
        "    'poupanca': [70000.0],\n",
        "    'salario': [350000.0],\n",
        "    'cc': [53057.0]\n",
        "})\n",
        "teste"
      ],
      "execution_count": 23,
      "outputs": [
        {
          "output_type": "execute_result",
          "data": {
            "text/html": [
              "<div>\n",
              "<style scoped>\n",
              "    .dataframe tbody tr th:only-of-type {\n",
              "        vertical-align: middle;\n",
              "    }\n",
              "\n",
              "    .dataframe tbody tr th {\n",
              "        vertical-align: top;\n",
              "    }\n",
              "\n",
              "    .dataframe thead th {\n",
              "        text-align: right;\n",
              "    }\n",
              "</style>\n",
              "<table border=\"1\" class=\"dataframe\">\n",
              "  <thead>\n",
              "    <tr style=\"text-align: right;\">\n",
              "      <th></th>\n",
              "      <th>const</th>\n",
              "      <th>fundo_di</th>\n",
              "      <th>financiamento</th>\n",
              "      <th>poupanca</th>\n",
              "      <th>salario</th>\n",
              "      <th>cc</th>\n",
              "    </tr>\n",
              "  </thead>\n",
              "  <tbody>\n",
              "    <tr>\n",
              "      <th>0</th>\n",
              "      <td>1.0</td>\n",
              "      <td>0</td>\n",
              "      <td>35000.0</td>\n",
              "      <td>70000.0</td>\n",
              "      <td>350000.0</td>\n",
              "      <td>53057.0</td>\n",
              "    </tr>\n",
              "  </tbody>\n",
              "</table>\n",
              "</div>"
            ],
            "text/plain": [
              "   const  fundo_di  financiamento  poupanca   salario       cc\n",
              "0    1.0         0        35000.0   70000.0  350000.0  53057.0"
            ]
          },
          "metadata": {
            "tags": []
          },
          "execution_count": 23
        }
      ]
    },
    {
      "cell_type": "code",
      "metadata": {
        "id": "QYp-LY5gG8YQ",
        "outputId": "e1f8ff2b-6ca0-41ab-d9fe-0f0047367c94",
        "colab": {
          "base_uri": "https://localhost:8080/"
        }
      },
      "source": [
        "modelo.predict(teste).values[0]"
      ],
      "execution_count": 24,
      "outputs": [
        {
          "output_type": "execute_result",
          "data": {
            "text/plain": [
              "0.04700767345703363"
            ]
          },
          "metadata": {
            "tags": []
          },
          "execution_count": 24
        }
      ]
    },
    {
      "cell_type": "code",
      "metadata": {
        "id": "NhTn-5WVG_LY",
        "outputId": "d25e8bbf-fcaf-4d68-e821-bbf91846621a",
        "colab": {
          "base_uri": "https://localhost:8080/"
        }
      },
      "source": [
        "print(f\"A probabilidade desse cliente adquirir um consórcio é de {modelo.predict(teste).values[0]}\")"
      ],
      "execution_count": 25,
      "outputs": [
        {
          "output_type": "stream",
          "text": [
            "A probabilidade desse cliente adquirir um consórcio é de 0.04700767345703363\n"
          ],
          "name": "stdout"
        }
      ]
    },
    {
      "cell_type": "markdown",
      "metadata": {
        "id": "CDU-WZavHMTb"
      },
      "source": [
        "# Vamos remover a variavel com o paior p-value: cc"
      ]
    },
    {
      "cell_type": "code",
      "metadata": {
        "id": "9mZ_RVsXHAwK",
        "outputId": "b3ff86a5-f66a-4d35-ba3c-df37b95d5b6d",
        "colab": {
          "base_uri": "https://localhost:8080/"
        }
      },
      "source": [
        "X = X.drop('cc', axis=1)\n",
        "\n",
        "modelo = sm.Logit(y, X).fit()\n",
        "print(modelo.summary2())"
      ],
      "execution_count": 26,
      "outputs": [
        {
          "output_type": "stream",
          "text": [
            "Optimization terminated successfully.\n",
            "         Current function value: 0.221020\n",
            "         Iterations 8\n",
            "                         Results: Logit\n",
            "=================================================================\n",
            "Model:              Logit            Pseudo R-squared: 0.679     \n",
            "Dependent Variable: y                AIC:              49.3416   \n",
            "Date:               2020-11-06 01:13 BIC:              61.7848   \n",
            "No. Observations:   89               Log-Likelihood:   -19.671   \n",
            "Df Model:           4                LL-Null:          -61.234   \n",
            "Df Residuals:       84               LLR p-value:      3.7866e-17\n",
            "Converged:          1.0000           Scale:            1.0000    \n",
            "No. Iterations:     8.0000                                       \n",
            "-----------------------------------------------------------------\n",
            "                   Coef.  Std.Err.    z    P>|z|   [0.025  0.975]\n",
            "-----------------------------------------------------------------\n",
            "const             -2.9477   1.0752 -2.7415 0.0061 -5.0550 -0.8403\n",
            "fundo_di          -0.0000   0.0000 -2.0337 0.0420 -0.0000 -0.0000\n",
            "financiamento      0.0000   0.0000  1.2402 0.2149 -0.0000  0.0000\n",
            "poupanca           0.0000   0.0000  3.0022 0.0027  0.0000  0.0000\n",
            "salario            0.0000   0.0000  3.9676 0.0001  0.0000  0.0000\n",
            "=================================================================\n",
            "\n"
          ],
          "name": "stdout"
        }
      ]
    },
    {
      "cell_type": "code",
      "metadata": {
        "id": "PPSG3CRFHVgV",
        "outputId": "fa5da1f6-8572-403f-8112-f270538e7541",
        "colab": {
          "base_uri": "https://localhost:8080/"
        }
      },
      "source": [
        "X = X.drop('financiamento', axis=1)\n",
        "\n",
        "modelo = sm.Logit(y, X).fit()\n",
        "print(modelo.summary2())"
      ],
      "execution_count": 27,
      "outputs": [
        {
          "output_type": "stream",
          "text": [
            "Optimization terminated successfully.\n",
            "         Current function value: 0.229640\n",
            "         Iterations 8\n",
            "                         Results: Logit\n",
            "=================================================================\n",
            "Model:              Logit            Pseudo R-squared: 0.666     \n",
            "Dependent Variable: y                AIC:              48.8759   \n",
            "Date:               2020-11-06 01:13 BIC:              58.8304   \n",
            "No. Observations:   89               Log-Likelihood:   -20.438   \n",
            "Df Model:           3                LL-Null:          -61.234   \n",
            "Df Residuals:       85               LLR p-value:      1.3976e-17\n",
            "Converged:          1.0000           Scale:            1.0000    \n",
            "No. Iterations:     8.0000                                       \n",
            "------------------------------------------------------------------\n",
            "               Coef.   Std.Err.     z     P>|z|    [0.025   0.975]\n",
            "------------------------------------------------------------------\n",
            "const         -2.3707    0.8776  -2.7013  0.0069  -4.0908  -0.6506\n",
            "fundo_di      -0.0000    0.0000  -2.1423  0.0322  -0.0000  -0.0000\n",
            "poupanca       0.0000    0.0000   3.1708  0.0015   0.0000   0.0000\n",
            "salario        0.0000    0.0000   4.0537  0.0001   0.0000   0.0000\n",
            "=================================================================\n",
            "\n"
          ],
          "name": "stdout"
        }
      ]
    },
    {
      "cell_type": "markdown",
      "metadata": {
        "id": "abwzqD8FHaLC"
      },
      "source": [
        "# Normalizando as Variáveis"
      ]
    },
    {
      "cell_type": "code",
      "metadata": {
        "id": "aRuEj37fHYKK",
        "outputId": "e8f4c60c-c0db-4f3c-be08-97dfff61cd0c",
        "colab": {
          "base_uri": "https://localhost:8080/",
          "height": 297
        }
      },
      "source": [
        "X.describe()"
      ],
      "execution_count": 28,
      "outputs": [
        {
          "output_type": "execute_result",
          "data": {
            "text/html": [
              "<div>\n",
              "<style scoped>\n",
              "    .dataframe tbody tr th:only-of-type {\n",
              "        vertical-align: middle;\n",
              "    }\n",
              "\n",
              "    .dataframe tbody tr th {\n",
              "        vertical-align: top;\n",
              "    }\n",
              "\n",
              "    .dataframe thead th {\n",
              "        text-align: right;\n",
              "    }\n",
              "</style>\n",
              "<table border=\"1\" class=\"dataframe\">\n",
              "  <thead>\n",
              "    <tr style=\"text-align: right;\">\n",
              "      <th></th>\n",
              "      <th>const</th>\n",
              "      <th>fundo_di</th>\n",
              "      <th>poupanca</th>\n",
              "      <th>salario</th>\n",
              "    </tr>\n",
              "  </thead>\n",
              "  <tbody>\n",
              "    <tr>\n",
              "      <th>count</th>\n",
              "      <td>89.0</td>\n",
              "      <td>8.900000e+01</td>\n",
              "      <td>8.900000e+01</td>\n",
              "      <td>8.900000e+01</td>\n",
              "    </tr>\n",
              "    <tr>\n",
              "      <th>mean</th>\n",
              "      <td>1.0</td>\n",
              "      <td>3.014138e+07</td>\n",
              "      <td>1.977427e+06</td>\n",
              "      <td>3.435489e+06</td>\n",
              "    </tr>\n",
              "    <tr>\n",
              "      <th>std</th>\n",
              "      <td>0.0</td>\n",
              "      <td>2.495285e+07</td>\n",
              "      <td>3.162301e+06</td>\n",
              "      <td>2.930526e+06</td>\n",
              "    </tr>\n",
              "    <tr>\n",
              "      <th>min</th>\n",
              "      <td>1.0</td>\n",
              "      <td>3.090150e+05</td>\n",
              "      <td>3.637000e+03</td>\n",
              "      <td>1.200000e+05</td>\n",
              "    </tr>\n",
              "    <tr>\n",
              "      <th>25%</th>\n",
              "      <td>1.0</td>\n",
              "      <td>1.277208e+07</td>\n",
              "      <td>1.287100e+05</td>\n",
              "      <td>1.120055e+06</td>\n",
              "    </tr>\n",
              "    <tr>\n",
              "      <th>50%</th>\n",
              "      <td>1.0</td>\n",
              "      <td>2.032432e+07</td>\n",
              "      <td>3.757220e+05</td>\n",
              "      <td>2.228461e+06</td>\n",
              "    </tr>\n",
              "    <tr>\n",
              "      <th>75%</th>\n",
              "      <td>1.0</td>\n",
              "      <td>4.640226e+07</td>\n",
              "      <td>2.370538e+06</td>\n",
              "      <td>5.856501e+06</td>\n",
              "    </tr>\n",
              "    <tr>\n",
              "      <th>max</th>\n",
              "      <td>1.0</td>\n",
              "      <td>8.972397e+07</td>\n",
              "      <td>1.387173e+07</td>\n",
              "      <td>9.094336e+06</td>\n",
              "    </tr>\n",
              "  </tbody>\n",
              "</table>\n",
              "</div>"
            ],
            "text/plain": [
              "       const      fundo_di      poupanca       salario\n",
              "count   89.0  8.900000e+01  8.900000e+01  8.900000e+01\n",
              "mean     1.0  3.014138e+07  1.977427e+06  3.435489e+06\n",
              "std      0.0  2.495285e+07  3.162301e+06  2.930526e+06\n",
              "min      1.0  3.090150e+05  3.637000e+03  1.200000e+05\n",
              "25%      1.0  1.277208e+07  1.287100e+05  1.120055e+06\n",
              "50%      1.0  2.032432e+07  3.757220e+05  2.228461e+06\n",
              "75%      1.0  4.640226e+07  2.370538e+06  5.856501e+06\n",
              "max      1.0  8.972397e+07  1.387173e+07  9.094336e+06"
            ]
          },
          "metadata": {
            "tags": []
          },
          "execution_count": 28
        }
      ]
    },
    {
      "cell_type": "code",
      "metadata": {
        "id": "mDLupUTvHgVd"
      },
      "source": [
        "X['fundo_di_normalizado'] = (X['fundo_di'] - X['fundo_di'].mean()) / X['fundo_di'].std()\n",
        "X['poupanca_normalizado'] = (X['poupanca'] - X['poupanca'].mean()) / X['poupanca'].std()\n",
        "X['salario_normalizado'] = (X['salario'] - X['salario'].mean()) / X['salario'].std()"
      ],
      "execution_count": 29,
      "outputs": []
    },
    {
      "cell_type": "code",
      "metadata": {
        "id": "seBIId--Hiew",
        "outputId": "9830ef7b-808c-45cc-840c-ea8fa055d567",
        "colab": {
          "base_uri": "https://localhost:8080/",
          "height": 204
        }
      },
      "source": [
        "X.head()"
      ],
      "execution_count": 30,
      "outputs": [
        {
          "output_type": "execute_result",
          "data": {
            "text/html": [
              "<div>\n",
              "<style scoped>\n",
              "    .dataframe tbody tr th:only-of-type {\n",
              "        vertical-align: middle;\n",
              "    }\n",
              "\n",
              "    .dataframe tbody tr th {\n",
              "        vertical-align: top;\n",
              "    }\n",
              "\n",
              "    .dataframe thead th {\n",
              "        text-align: right;\n",
              "    }\n",
              "</style>\n",
              "<table border=\"1\" class=\"dataframe\">\n",
              "  <thead>\n",
              "    <tr style=\"text-align: right;\">\n",
              "      <th></th>\n",
              "      <th>const</th>\n",
              "      <th>fundo_di</th>\n",
              "      <th>poupanca</th>\n",
              "      <th>salario</th>\n",
              "      <th>fundo_di_normalizado</th>\n",
              "      <th>poupanca_normalizado</th>\n",
              "      <th>salario_normalizado</th>\n",
              "    </tr>\n",
              "  </thead>\n",
              "  <tbody>\n",
              "    <tr>\n",
              "      <th>0</th>\n",
              "      <td>1.0</td>\n",
              "      <td>2953763.0</td>\n",
              "      <td>64868.0</td>\n",
              "      <td>9094336.0</td>\n",
              "      <td>-1.089560</td>\n",
              "      <td>-0.604800</td>\n",
              "      <td>1.931000</td>\n",
              "    </tr>\n",
              "    <tr>\n",
              "      <th>1</th>\n",
              "      <td>1.0</td>\n",
              "      <td>19675537.0</td>\n",
              "      <td>220824.0</td>\n",
              "      <td>8173548.0</td>\n",
              "      <td>-0.419425</td>\n",
              "      <td>-0.555482</td>\n",
              "      <td>1.616795</td>\n",
              "    </tr>\n",
              "    <tr>\n",
              "      <th>2</th>\n",
              "      <td>1.0</td>\n",
              "      <td>12087258.0</td>\n",
              "      <td>774786.0</td>\n",
              "      <td>8589278.0</td>\n",
              "      <td>-0.723529</td>\n",
              "      <td>-0.380306</td>\n",
              "      <td>1.758657</td>\n",
              "    </tr>\n",
              "    <tr>\n",
              "      <th>3</th>\n",
              "      <td>1.0</td>\n",
              "      <td>21531200.0</td>\n",
              "      <td>558400.0</td>\n",
              "      <td>377016.0</td>\n",
              "      <td>-0.345058</td>\n",
              "      <td>-0.448732</td>\n",
              "      <td>-1.043660</td>\n",
              "    </tr>\n",
              "    <tr>\n",
              "      <th>4</th>\n",
              "      <td>1.0</td>\n",
              "      <td>73803814.0</td>\n",
              "      <td>6798618.0</td>\n",
              "      <td>131792.0</td>\n",
              "      <td>1.749798</td>\n",
              "      <td>1.524583</td>\n",
              "      <td>-1.127339</td>\n",
              "    </tr>\n",
              "  </tbody>\n",
              "</table>\n",
              "</div>"
            ],
            "text/plain": [
              "   const    fundo_di  ...  poupanca_normalizado  salario_normalizado\n",
              "0    1.0   2953763.0  ...             -0.604800             1.931000\n",
              "1    1.0  19675537.0  ...             -0.555482             1.616795\n",
              "2    1.0  12087258.0  ...             -0.380306             1.758657\n",
              "3    1.0  21531200.0  ...             -0.448732            -1.043660\n",
              "4    1.0  73803814.0  ...              1.524583            -1.127339\n",
              "\n",
              "[5 rows x 7 columns]"
            ]
          },
          "metadata": {
            "tags": []
          },
          "execution_count": 30
        }
      ]
    },
    {
      "cell_type": "code",
      "metadata": {
        "id": "likaWPcwHkOB",
        "outputId": "fd404669-1aaa-4bf2-e68c-189ec9915e09",
        "colab": {
          "base_uri": "https://localhost:8080/",
          "height": 297
        }
      },
      "source": [
        "X.describe()"
      ],
      "execution_count": 31,
      "outputs": [
        {
          "output_type": "execute_result",
          "data": {
            "text/html": [
              "<div>\n",
              "<style scoped>\n",
              "    .dataframe tbody tr th:only-of-type {\n",
              "        vertical-align: middle;\n",
              "    }\n",
              "\n",
              "    .dataframe tbody tr th {\n",
              "        vertical-align: top;\n",
              "    }\n",
              "\n",
              "    .dataframe thead th {\n",
              "        text-align: right;\n",
              "    }\n",
              "</style>\n",
              "<table border=\"1\" class=\"dataframe\">\n",
              "  <thead>\n",
              "    <tr style=\"text-align: right;\">\n",
              "      <th></th>\n",
              "      <th>const</th>\n",
              "      <th>fundo_di</th>\n",
              "      <th>poupanca</th>\n",
              "      <th>salario</th>\n",
              "      <th>fundo_di_normalizado</th>\n",
              "      <th>poupanca_normalizado</th>\n",
              "      <th>salario_normalizado</th>\n",
              "    </tr>\n",
              "  </thead>\n",
              "  <tbody>\n",
              "    <tr>\n",
              "      <th>count</th>\n",
              "      <td>89.0</td>\n",
              "      <td>8.900000e+01</td>\n",
              "      <td>8.900000e+01</td>\n",
              "      <td>8.900000e+01</td>\n",
              "      <td>8.900000e+01</td>\n",
              "      <td>8.900000e+01</td>\n",
              "      <td>8.900000e+01</td>\n",
              "    </tr>\n",
              "    <tr>\n",
              "      <th>mean</th>\n",
              "      <td>1.0</td>\n",
              "      <td>3.014138e+07</td>\n",
              "      <td>1.977427e+06</td>\n",
              "      <td>3.435489e+06</td>\n",
              "      <td>-1.022902e-16</td>\n",
              "      <td>-7.609394e-17</td>\n",
              "      <td>7.484650e-18</td>\n",
              "    </tr>\n",
              "    <tr>\n",
              "      <th>std</th>\n",
              "      <td>0.0</td>\n",
              "      <td>2.495285e+07</td>\n",
              "      <td>3.162301e+06</td>\n",
              "      <td>2.930526e+06</td>\n",
              "      <td>1.000000e+00</td>\n",
              "      <td>1.000000e+00</td>\n",
              "      <td>1.000000e+00</td>\n",
              "    </tr>\n",
              "    <tr>\n",
              "      <th>min</th>\n",
              "      <td>1.0</td>\n",
              "      <td>3.090150e+05</td>\n",
              "      <td>3.637000e+03</td>\n",
              "      <td>1.200000e+05</td>\n",
              "      <td>-1.195549e+00</td>\n",
              "      <td>-6.241625e-01</td>\n",
              "      <td>-1.131363e+00</td>\n",
              "    </tr>\n",
              "    <tr>\n",
              "      <th>25%</th>\n",
              "      <td>1.0</td>\n",
              "      <td>1.277208e+07</td>\n",
              "      <td>1.287100e+05</td>\n",
              "      <td>1.120055e+06</td>\n",
              "      <td>-6.960848e-01</td>\n",
              "      <td>-5.846112e-01</td>\n",
              "      <td>-7.901086e-01</td>\n",
              "    </tr>\n",
              "    <tr>\n",
              "      <th>50%</th>\n",
              "      <td>1.0</td>\n",
              "      <td>2.032432e+07</td>\n",
              "      <td>3.757220e+05</td>\n",
              "      <td>2.228461e+06</td>\n",
              "      <td>-3.934244e-01</td>\n",
              "      <td>-5.064997e-01</td>\n",
              "      <td>-4.118810e-01</td>\n",
              "    </tr>\n",
              "    <tr>\n",
              "      <th>75%</th>\n",
              "      <td>1.0</td>\n",
              "      <td>4.640226e+07</td>\n",
              "      <td>2.370538e+06</td>\n",
              "      <td>5.856501e+06</td>\n",
              "      <td>6.516643e-01</td>\n",
              "      <td>1.243118e-01</td>\n",
              "      <td>8.261356e-01</td>\n",
              "    </tr>\n",
              "    <tr>\n",
              "      <th>max</th>\n",
              "      <td>1.0</td>\n",
              "      <td>8.972397e+07</td>\n",
              "      <td>1.387173e+07</td>\n",
              "      <td>9.094336e+06</td>\n",
              "      <td>2.387807e+00</td>\n",
              "      <td>3.761281e+00</td>\n",
              "      <td>1.931000e+00</td>\n",
              "    </tr>\n",
              "  </tbody>\n",
              "</table>\n",
              "</div>"
            ],
            "text/plain": [
              "       const      fundo_di  ...  poupanca_normalizado  salario_normalizado\n",
              "count   89.0  8.900000e+01  ...          8.900000e+01         8.900000e+01\n",
              "mean     1.0  3.014138e+07  ...         -7.609394e-17         7.484650e-18\n",
              "std      0.0  2.495285e+07  ...          1.000000e+00         1.000000e+00\n",
              "min      1.0  3.090150e+05  ...         -6.241625e-01        -1.131363e+00\n",
              "25%      1.0  1.277208e+07  ...         -5.846112e-01        -7.901086e-01\n",
              "50%      1.0  2.032432e+07  ...         -5.064997e-01        -4.118810e-01\n",
              "75%      1.0  4.640226e+07  ...          1.243118e-01         8.261356e-01\n",
              "max      1.0  8.972397e+07  ...          3.761281e+00         1.931000e+00\n",
              "\n",
              "[8 rows x 7 columns]"
            ]
          },
          "metadata": {
            "tags": []
          },
          "execution_count": 31
        }
      ]
    },
    {
      "cell_type": "code",
      "metadata": {
        "id": "XIcVPeL-HmSN",
        "outputId": "eaad0287-d1e0-4f7b-de8b-b8bd6f38d539",
        "colab": {
          "base_uri": "https://localhost:8080/",
          "height": 204
        }
      },
      "source": [
        "X_normalizado = X.drop(['fundo_di', 'poupanca', 'salario'], axis=1)\n",
        "X_normalizado.head()"
      ],
      "execution_count": 32,
      "outputs": [
        {
          "output_type": "execute_result",
          "data": {
            "text/html": [
              "<div>\n",
              "<style scoped>\n",
              "    .dataframe tbody tr th:only-of-type {\n",
              "        vertical-align: middle;\n",
              "    }\n",
              "\n",
              "    .dataframe tbody tr th {\n",
              "        vertical-align: top;\n",
              "    }\n",
              "\n",
              "    .dataframe thead th {\n",
              "        text-align: right;\n",
              "    }\n",
              "</style>\n",
              "<table border=\"1\" class=\"dataframe\">\n",
              "  <thead>\n",
              "    <tr style=\"text-align: right;\">\n",
              "      <th></th>\n",
              "      <th>const</th>\n",
              "      <th>fundo_di_normalizado</th>\n",
              "      <th>poupanca_normalizado</th>\n",
              "      <th>salario_normalizado</th>\n",
              "    </tr>\n",
              "  </thead>\n",
              "  <tbody>\n",
              "    <tr>\n",
              "      <th>0</th>\n",
              "      <td>1.0</td>\n",
              "      <td>-1.089560</td>\n",
              "      <td>-0.604800</td>\n",
              "      <td>1.931000</td>\n",
              "    </tr>\n",
              "    <tr>\n",
              "      <th>1</th>\n",
              "      <td>1.0</td>\n",
              "      <td>-0.419425</td>\n",
              "      <td>-0.555482</td>\n",
              "      <td>1.616795</td>\n",
              "    </tr>\n",
              "    <tr>\n",
              "      <th>2</th>\n",
              "      <td>1.0</td>\n",
              "      <td>-0.723529</td>\n",
              "      <td>-0.380306</td>\n",
              "      <td>1.758657</td>\n",
              "    </tr>\n",
              "    <tr>\n",
              "      <th>3</th>\n",
              "      <td>1.0</td>\n",
              "      <td>-0.345058</td>\n",
              "      <td>-0.448732</td>\n",
              "      <td>-1.043660</td>\n",
              "    </tr>\n",
              "    <tr>\n",
              "      <th>4</th>\n",
              "      <td>1.0</td>\n",
              "      <td>1.749798</td>\n",
              "      <td>1.524583</td>\n",
              "      <td>-1.127339</td>\n",
              "    </tr>\n",
              "  </tbody>\n",
              "</table>\n",
              "</div>"
            ],
            "text/plain": [
              "   const  fundo_di_normalizado  poupanca_normalizado  salario_normalizado\n",
              "0    1.0             -1.089560             -0.604800             1.931000\n",
              "1    1.0             -0.419425             -0.555482             1.616795\n",
              "2    1.0             -0.723529             -0.380306             1.758657\n",
              "3    1.0             -0.345058             -0.448732            -1.043660\n",
              "4    1.0              1.749798              1.524583            -1.127339"
            ]
          },
          "metadata": {
            "tags": []
          },
          "execution_count": 32
        }
      ]
    },
    {
      "cell_type": "code",
      "metadata": {
        "id": "8a3HQeQBHxFZ",
        "outputId": "af591ce3-eebd-453e-9fe5-a83d9dce0d14",
        "colab": {
          "base_uri": "https://localhost:8080/"
        }
      },
      "source": [
        "modelo = sm.Logit(y, X_normalizado).fit()\n",
        "print(modelo.summary2())"
      ],
      "execution_count": 33,
      "outputs": [
        {
          "output_type": "stream",
          "text": [
            "Optimization terminated successfully.\n",
            "         Current function value: 0.229640\n",
            "         Iterations 8\n",
            "                           Results: Logit\n",
            "====================================================================\n",
            "Model:               Logit             Pseudo R-squared:  0.666     \n",
            "Dependent Variable:  y                 AIC:               48.8759   \n",
            "Date:                2020-11-06 01:15  BIC:               58.8304   \n",
            "No. Observations:    89                Log-Likelihood:    -20.438   \n",
            "Df Model:            3                 LL-Null:           -61.234   \n",
            "Df Residuals:        85                LLR p-value:       1.3976e-17\n",
            "Converged:           1.0000            Scale:             1.0000    \n",
            "No. Iterations:      8.0000                                         \n",
            "--------------------------------------------------------------------\n",
            "                      Coef.  Std.Err.    z    P>|z|   [0.025  0.975]\n",
            "--------------------------------------------------------------------\n",
            "const                 1.1073   0.5611  1.9734 0.0484  0.0075  2.2070\n",
            "fundo_di_normalizado -1.1874   0.5542 -2.1423 0.0322 -2.2737 -0.1011\n",
            "poupanca_normalizado  2.2701   0.7159  3.1708 0.0015  0.8669  3.6733\n",
            "salario_normalizado   2.9793   0.7350  4.0537 0.0001  1.5388  4.4198\n",
            "====================================================================\n",
            "\n"
          ],
          "name": "stdout"
        }
      ]
    },
    {
      "cell_type": "code",
      "metadata": {
        "id": "w14iYXQxHzIz",
        "outputId": "8feb98b7-2058-42d4-a841-9d20667ab269",
        "colab": {
          "base_uri": "https://localhost:8080/",
          "height": 204
        }
      },
      "source": [
        "dados['Probalidade_Modelo_Normalizadas'] = modelo.predict(X_normalizado)\n",
        "dados.head()"
      ],
      "execution_count": 36,
      "outputs": [
        {
          "output_type": "execute_result",
          "data": {
            "text/html": [
              "<div>\n",
              "<style scoped>\n",
              "    .dataframe tbody tr th:only-of-type {\n",
              "        vertical-align: middle;\n",
              "    }\n",
              "\n",
              "    .dataframe tbody tr th {\n",
              "        vertical-align: top;\n",
              "    }\n",
              "\n",
              "    .dataframe thead th {\n",
              "        text-align: right;\n",
              "    }\n",
              "</style>\n",
              "<table border=\"1\" class=\"dataframe\">\n",
              "  <thead>\n",
              "    <tr style=\"text-align: right;\">\n",
              "      <th></th>\n",
              "      <th>fundo_di</th>\n",
              "      <th>financiamento</th>\n",
              "      <th>poupanca</th>\n",
              "      <th>salario</th>\n",
              "      <th>cc</th>\n",
              "      <th>y</th>\n",
              "      <th>Probabilidade</th>\n",
              "      <th>Label</th>\n",
              "      <th>Proa</th>\n",
              "      <th>Label_</th>\n",
              "      <th>Probalidade_Modelo_Normalizadas</th>\n",
              "    </tr>\n",
              "  </thead>\n",
              "  <tbody>\n",
              "    <tr>\n",
              "      <th>0</th>\n",
              "      <td>2953763.0</td>\n",
              "      <td>492379768.0</td>\n",
              "      <td>64868.0</td>\n",
              "      <td>9094336.0</td>\n",
              "      <td>539057.0</td>\n",
              "      <td>1</td>\n",
              "      <td>0.999878</td>\n",
              "      <td>1</td>\n",
              "      <td>0.998866</td>\n",
              "      <td>1</td>\n",
              "      <td>0.998866</td>\n",
              "    </tr>\n",
              "    <tr>\n",
              "      <th>1</th>\n",
              "      <td>19675537.0</td>\n",
              "      <td>400651812.0</td>\n",
              "      <td>220824.0</td>\n",
              "      <td>8173548.0</td>\n",
              "      <td>463216.0</td>\n",
              "      <td>1</td>\n",
              "      <td>0.998965</td>\n",
              "      <td>1</td>\n",
              "      <td>0.994298</td>\n",
              "      <td>1</td>\n",
              "      <td>0.994298</td>\n",
              "    </tr>\n",
              "    <tr>\n",
              "      <th>2</th>\n",
              "      <td>12087258.0</td>\n",
              "      <td>358313688.0</td>\n",
              "      <td>774786.0</td>\n",
              "      <td>8589278.0</td>\n",
              "      <td>580867.0</td>\n",
              "      <td>1</td>\n",
              "      <td>0.999597</td>\n",
              "      <td>1</td>\n",
              "      <td>0.998243</td>\n",
              "      <td>1</td>\n",
              "      <td>0.998243</td>\n",
              "    </tr>\n",
              "    <tr>\n",
              "      <th>3</th>\n",
              "      <td>21531200.0</td>\n",
              "      <td>351625970.0</td>\n",
              "      <td>558400.0</td>\n",
              "      <td>377016.0</td>\n",
              "      <td>362261.0</td>\n",
              "      <td>1</td>\n",
              "      <td>0.207852</td>\n",
              "      <td>0</td>\n",
              "      <td>0.068427</td>\n",
              "      <td>0</td>\n",
              "      <td>0.068427</td>\n",
              "    </tr>\n",
              "    <tr>\n",
              "      <th>4</th>\n",
              "      <td>73803814.0</td>\n",
              "      <td>324825780.0</td>\n",
              "      <td>6798618.0</td>\n",
              "      <td>131792.0</td>\n",
              "      <td>956052.0</td>\n",
              "      <td>1</td>\n",
              "      <td>0.615280</td>\n",
              "      <td>1</td>\n",
              "      <td>0.295636</td>\n",
              "      <td>1</td>\n",
              "      <td>0.295636</td>\n",
              "    </tr>\n",
              "  </tbody>\n",
              "</table>\n",
              "</div>"
            ],
            "text/plain": [
              "     fundo_di  financiamento  ...  Label_  Probalidade_Modelo_Normalizadas\n",
              "0   2953763.0    492379768.0  ...       1                         0.998866\n",
              "1  19675537.0    400651812.0  ...       1                         0.994298\n",
              "2  12087258.0    358313688.0  ...       1                         0.998243\n",
              "3  21531200.0    351625970.0  ...       0                         0.068427\n",
              "4  73803814.0    324825780.0  ...       1                         0.295636\n",
              "\n",
              "[5 rows x 11 columns]"
            ]
          },
          "metadata": {
            "tags": []
          },
          "execution_count": 36
        }
      ]
    },
    {
      "cell_type": "code",
      "metadata": {
        "id": "Hi1d1keBICqx",
        "outputId": "14483847-dc7b-4aad-e647-eeeed1ec9eee",
        "colab": {
          "base_uri": "https://localhost:8080/",
          "height": 204
        }
      },
      "source": [
        "dados['Label_Modelo_Normalizadas'] = np.where(dados['Probalidade_Modelo_Normalizadas'] >= 0.5, 1, 0)\n",
        "dados.head()"
      ],
      "execution_count": 37,
      "outputs": [
        {
          "output_type": "execute_result",
          "data": {
            "text/html": [
              "<div>\n",
              "<style scoped>\n",
              "    .dataframe tbody tr th:only-of-type {\n",
              "        vertical-align: middle;\n",
              "    }\n",
              "\n",
              "    .dataframe tbody tr th {\n",
              "        vertical-align: top;\n",
              "    }\n",
              "\n",
              "    .dataframe thead th {\n",
              "        text-align: right;\n",
              "    }\n",
              "</style>\n",
              "<table border=\"1\" class=\"dataframe\">\n",
              "  <thead>\n",
              "    <tr style=\"text-align: right;\">\n",
              "      <th></th>\n",
              "      <th>fundo_di</th>\n",
              "      <th>financiamento</th>\n",
              "      <th>poupanca</th>\n",
              "      <th>salario</th>\n",
              "      <th>cc</th>\n",
              "      <th>y</th>\n",
              "      <th>Probabilidade</th>\n",
              "      <th>Label</th>\n",
              "      <th>Proa</th>\n",
              "      <th>Label_</th>\n",
              "      <th>Probalidade_Modelo_Normalizadas</th>\n",
              "      <th>Label_Modelo_Normalizadas</th>\n",
              "    </tr>\n",
              "  </thead>\n",
              "  <tbody>\n",
              "    <tr>\n",
              "      <th>0</th>\n",
              "      <td>2953763.0</td>\n",
              "      <td>492379768.0</td>\n",
              "      <td>64868.0</td>\n",
              "      <td>9094336.0</td>\n",
              "      <td>539057.0</td>\n",
              "      <td>1</td>\n",
              "      <td>0.999878</td>\n",
              "      <td>1</td>\n",
              "      <td>0.998866</td>\n",
              "      <td>1</td>\n",
              "      <td>0.998866</td>\n",
              "      <td>1</td>\n",
              "    </tr>\n",
              "    <tr>\n",
              "      <th>1</th>\n",
              "      <td>19675537.0</td>\n",
              "      <td>400651812.0</td>\n",
              "      <td>220824.0</td>\n",
              "      <td>8173548.0</td>\n",
              "      <td>463216.0</td>\n",
              "      <td>1</td>\n",
              "      <td>0.998965</td>\n",
              "      <td>1</td>\n",
              "      <td>0.994298</td>\n",
              "      <td>1</td>\n",
              "      <td>0.994298</td>\n",
              "      <td>1</td>\n",
              "    </tr>\n",
              "    <tr>\n",
              "      <th>2</th>\n",
              "      <td>12087258.0</td>\n",
              "      <td>358313688.0</td>\n",
              "      <td>774786.0</td>\n",
              "      <td>8589278.0</td>\n",
              "      <td>580867.0</td>\n",
              "      <td>1</td>\n",
              "      <td>0.999597</td>\n",
              "      <td>1</td>\n",
              "      <td>0.998243</td>\n",
              "      <td>1</td>\n",
              "      <td>0.998243</td>\n",
              "      <td>1</td>\n",
              "    </tr>\n",
              "    <tr>\n",
              "      <th>3</th>\n",
              "      <td>21531200.0</td>\n",
              "      <td>351625970.0</td>\n",
              "      <td>558400.0</td>\n",
              "      <td>377016.0</td>\n",
              "      <td>362261.0</td>\n",
              "      <td>1</td>\n",
              "      <td>0.207852</td>\n",
              "      <td>0</td>\n",
              "      <td>0.068427</td>\n",
              "      <td>0</td>\n",
              "      <td>0.068427</td>\n",
              "      <td>0</td>\n",
              "    </tr>\n",
              "    <tr>\n",
              "      <th>4</th>\n",
              "      <td>73803814.0</td>\n",
              "      <td>324825780.0</td>\n",
              "      <td>6798618.0</td>\n",
              "      <td>131792.0</td>\n",
              "      <td>956052.0</td>\n",
              "      <td>1</td>\n",
              "      <td>0.615280</td>\n",
              "      <td>1</td>\n",
              "      <td>0.295636</td>\n",
              "      <td>1</td>\n",
              "      <td>0.295636</td>\n",
              "      <td>0</td>\n",
              "    </tr>\n",
              "  </tbody>\n",
              "</table>\n",
              "</div>"
            ],
            "text/plain": [
              "     fundo_di  ...  Label_Modelo_Normalizadas\n",
              "0   2953763.0  ...                          1\n",
              "1  19675537.0  ...                          1\n",
              "2  12087258.0  ...                          1\n",
              "3  21531200.0  ...                          0\n",
              "4  73803814.0  ...                          0\n",
              "\n",
              "[5 rows x 12 columns]"
            ]
          },
          "metadata": {
            "tags": []
          },
          "execution_count": 37
        }
      ]
    },
    {
      "cell_type": "code",
      "metadata": {
        "id": "43VZefgFIEqa",
        "outputId": "b4724981-9306-4139-f355-9e05291b659f",
        "colab": {
          "base_uri": "https://localhost:8080/",
          "height": 142
        }
      },
      "source": [
        "# matriz de confusão\n",
        "matriz_de_confusao = pd.crosstab(index=dados['y'], columns=dados['Label_Modelo_Normalizadas'])\n",
        "matriz_de_confusao"
      ],
      "execution_count": 38,
      "outputs": [
        {
          "output_type": "execute_result",
          "data": {
            "text/html": [
              "<div>\n",
              "<style scoped>\n",
              "    .dataframe tbody tr th:only-of-type {\n",
              "        vertical-align: middle;\n",
              "    }\n",
              "\n",
              "    .dataframe tbody tr th {\n",
              "        vertical-align: top;\n",
              "    }\n",
              "\n",
              "    .dataframe thead th {\n",
              "        text-align: right;\n",
              "    }\n",
              "</style>\n",
              "<table border=\"1\" class=\"dataframe\">\n",
              "  <thead>\n",
              "    <tr style=\"text-align: right;\">\n",
              "      <th>Label_Modelo_Normalizadas</th>\n",
              "      <th>0</th>\n",
              "      <th>1</th>\n",
              "    </tr>\n",
              "    <tr>\n",
              "      <th>y</th>\n",
              "      <th></th>\n",
              "      <th></th>\n",
              "    </tr>\n",
              "  </thead>\n",
              "  <tbody>\n",
              "    <tr>\n",
              "      <th>0</th>\n",
              "      <td>37</td>\n",
              "      <td>3</td>\n",
              "    </tr>\n",
              "    <tr>\n",
              "      <th>1</th>\n",
              "      <td>5</td>\n",
              "      <td>44</td>\n",
              "    </tr>\n",
              "  </tbody>\n",
              "</table>\n",
              "</div>"
            ],
            "text/plain": [
              "Label_Modelo_Normalizadas   0   1\n",
              "y                                \n",
              "0                          37   3\n",
              "1                           5  44"
            ]
          },
          "metadata": {
            "tags": []
          },
          "execution_count": 38
        }
      ]
    },
    {
      "cell_type": "markdown",
      "metadata": {
        "id": "1fwsmpDRIh5S"
      },
      "source": [
        "# Exercicio"
      ]
    },
    {
      "cell_type": "code",
      "metadata": {
        "id": "o-yMu9pyIGlx"
      },
      "source": [
        ""
      ],
      "execution_count": null,
      "outputs": []
    }
  ]
}