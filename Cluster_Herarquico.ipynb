{
  "nbformat": 4,
  "nbformat_minor": 0,
  "metadata": {
    "colab": {
      "name": "Cluster-Herarquico.ipynb",
      "provenance": [],
      "toc_visible": true,
      "mount_file_id": "1tv6B7fCI8ITQvbyWJ_ZQdyxbOA7xu4CR",
      "authorship_tag": "ABX9TyNiFGa1PUFnHfDWvLSXbASX",
      "include_colab_link": true
    },
    "kernelspec": {
      "name": "python3",
      "display_name": "Python 3"
    }
  },
  "cells": [
    {
      "cell_type": "markdown",
      "metadata": {
        "id": "view-in-github",
        "colab_type": "text"
      },
      "source": [
        "<a href=\"https://colab.research.google.com/github/onlyreynaldo/python-clustering-data/blob/main/Cluster_Herarquico.ipynb\" target=\"_parent\"><img src=\"https://colab.research.google.com/assets/colab-badge.svg\" alt=\"Open In Colab\"/></a>"
      ]
    },
    {
      "cell_type": "markdown",
      "metadata": {
        "id": "vxaSxIHIpj4G"
      },
      "source": [
        "# **Cluster Hierárquico**"
      ]
    },
    {
      "cell_type": "code",
      "metadata": {
        "id": "60L2tQ5AnsjW"
      },
      "source": [
        "pasta_raiz = 'drive/My Drive/datasets'\n",
        "\n",
        "import numpy as np\n",
        "import pandas as pd"
      ],
      "execution_count": 1,
      "outputs": []
    },
    {
      "cell_type": "code",
      "metadata": {
        "id": "DT8VVMmsqowK",
        "outputId": "3c06d4e6-d20b-45cb-f29a-ff88e797e786",
        "colab": {
          "base_uri": "https://localhost:8080/",
          "height": 204
        }
      },
      "source": [
        "mcdonalds = pd.read_csv(f\"{pasta_raiz}/mcdonalds_small.csv\", sep=';', decimal=',')\n",
        "mcdonalds.head()"
      ],
      "execution_count": 2,
      "outputs": [
        {
          "output_type": "execute_result",
          "data": {
            "text/html": [
              "<div>\n",
              "<style scoped>\n",
              "    .dataframe tbody tr th:only-of-type {\n",
              "        vertical-align: middle;\n",
              "    }\n",
              "\n",
              "    .dataframe tbody tr th {\n",
              "        vertical-align: top;\n",
              "    }\n",
              "\n",
              "    .dataframe thead th {\n",
              "        text-align: right;\n",
              "    }\n",
              "</style>\n",
              "<table border=\"1\" class=\"dataframe\">\n",
              "  <thead>\n",
              "    <tr style=\"text-align: right;\">\n",
              "      <th></th>\n",
              "      <th>Lanche</th>\n",
              "      <th>Valor Energetico</th>\n",
              "      <th>Carboidratos</th>\n",
              "      <th>Proteinas</th>\n",
              "      <th>Gorduras Totais</th>\n",
              "      <th>Gorduras Saturadas</th>\n",
              "      <th>Gorduras Trans</th>\n",
              "      <th>Colesterol</th>\n",
              "      <th>Fibra Alimentar</th>\n",
              "      <th>Sodio</th>\n",
              "      <th>Calcio</th>\n",
              "      <th>Ferro</th>\n",
              "    </tr>\n",
              "  </thead>\n",
              "  <tbody>\n",
              "    <tr>\n",
              "      <th>0</th>\n",
              "      <td>Big Mac</td>\n",
              "      <td>504</td>\n",
              "      <td>41</td>\n",
              "      <td>25</td>\n",
              "      <td>27.0</td>\n",
              "      <td>12.0</td>\n",
              "      <td>0.5</td>\n",
              "      <td>54</td>\n",
              "      <td>3.5</td>\n",
              "      <td>960</td>\n",
              "      <td>162</td>\n",
              "      <td>6.5</td>\n",
              "    </tr>\n",
              "    <tr>\n",
              "      <th>1</th>\n",
              "      <td>Big Tasty</td>\n",
              "      <td>843</td>\n",
              "      <td>45</td>\n",
              "      <td>41</td>\n",
              "      <td>55.0</td>\n",
              "      <td>24.0</td>\n",
              "      <td>1.7</td>\n",
              "      <td>104</td>\n",
              "      <td>5.1</td>\n",
              "      <td>1511</td>\n",
              "      <td>381</td>\n",
              "      <td>8.2</td>\n",
              "    </tr>\n",
              "    <tr>\n",
              "      <th>2</th>\n",
              "      <td>Quarterao</td>\n",
              "      <td>558</td>\n",
              "      <td>36</td>\n",
              "      <td>31</td>\n",
              "      <td>32.0</td>\n",
              "      <td>16.0</td>\n",
              "      <td>1.3</td>\n",
              "      <td>86</td>\n",
              "      <td>3.6</td>\n",
              "      <td>1216</td>\n",
              "      <td>275</td>\n",
              "      <td>10.0</td>\n",
              "    </tr>\n",
              "    <tr>\n",
              "      <th>3</th>\n",
              "      <td>Mcnifico Bacon</td>\n",
              "      <td>625</td>\n",
              "      <td>38</td>\n",
              "      <td>34</td>\n",
              "      <td>37.0</td>\n",
              "      <td>16.0</td>\n",
              "      <td>1.3</td>\n",
              "      <td>95</td>\n",
              "      <td>3.9</td>\n",
              "      <td>1255</td>\n",
              "      <td>209</td>\n",
              "      <td>11.0</td>\n",
              "    </tr>\n",
              "    <tr>\n",
              "      <th>4</th>\n",
              "      <td>Cheddar McMelt</td>\n",
              "      <td>507</td>\n",
              "      <td>33</td>\n",
              "      <td>29</td>\n",
              "      <td>29.0</td>\n",
              "      <td>14.0</td>\n",
              "      <td>1.2</td>\n",
              "      <td>81</td>\n",
              "      <td>2.9</td>\n",
              "      <td>819</td>\n",
              "      <td>199</td>\n",
              "      <td>10.0</td>\n",
              "    </tr>\n",
              "  </tbody>\n",
              "</table>\n",
              "</div>"
            ],
            "text/plain": [
              "           Lanche  Valor Energetico  Carboidratos  ...  Sodio  Calcio  Ferro\n",
              "0         Big Mac               504            41  ...    960     162    6.5\n",
              "1       Big Tasty               843            45  ...   1511     381    8.2\n",
              "2       Quarterao               558            36  ...   1216     275   10.0\n",
              "3  Mcnifico Bacon               625            38  ...   1255     209   11.0\n",
              "4  Cheddar McMelt               507            33  ...    819     199   10.0\n",
              "\n",
              "[5 rows x 12 columns]"
            ]
          },
          "metadata": {
            "tags": []
          },
          "execution_count": 2
        }
      ]
    },
    {
      "cell_type": "code",
      "metadata": {
        "id": "fgv2BowsrYM9",
        "outputId": "06e96368-fa06-481a-dd55-416e0122192f",
        "colab": {
          "base_uri": "https://localhost:8080/",
          "height": 297
        }
      },
      "source": [
        "mcdonalds.describe()"
      ],
      "execution_count": 3,
      "outputs": [
        {
          "output_type": "execute_result",
          "data": {
            "text/html": [
              "<div>\n",
              "<style scoped>\n",
              "    .dataframe tbody tr th:only-of-type {\n",
              "        vertical-align: middle;\n",
              "    }\n",
              "\n",
              "    .dataframe tbody tr th {\n",
              "        vertical-align: top;\n",
              "    }\n",
              "\n",
              "    .dataframe thead th {\n",
              "        text-align: right;\n",
              "    }\n",
              "</style>\n",
              "<table border=\"1\" class=\"dataframe\">\n",
              "  <thead>\n",
              "    <tr style=\"text-align: right;\">\n",
              "      <th></th>\n",
              "      <th>Valor Energetico</th>\n",
              "      <th>Carboidratos</th>\n",
              "      <th>Proteinas</th>\n",
              "      <th>Gorduras Totais</th>\n",
              "      <th>Gorduras Saturadas</th>\n",
              "      <th>Gorduras Trans</th>\n",
              "      <th>Colesterol</th>\n",
              "      <th>Fibra Alimentar</th>\n",
              "      <th>Sodio</th>\n",
              "      <th>Calcio</th>\n",
              "      <th>Ferro</th>\n",
              "    </tr>\n",
              "  </thead>\n",
              "  <tbody>\n",
              "    <tr>\n",
              "      <th>count</th>\n",
              "      <td>25.000000</td>\n",
              "      <td>25.000000</td>\n",
              "      <td>25.000000</td>\n",
              "      <td>25.000000</td>\n",
              "      <td>25.000000</td>\n",
              "      <td>25.000000</td>\n",
              "      <td>25.000000</td>\n",
              "      <td>25.00000</td>\n",
              "      <td>25.000000</td>\n",
              "      <td>25.000000</td>\n",
              "      <td>25.000000</td>\n",
              "    </tr>\n",
              "    <tr>\n",
              "      <th>mean</th>\n",
              "      <td>493.760000</td>\n",
              "      <td>41.360000</td>\n",
              "      <td>27.560000</td>\n",
              "      <td>24.164000</td>\n",
              "      <td>8.852000</td>\n",
              "      <td>0.596000</td>\n",
              "      <td>61.200000</td>\n",
              "      <td>3.75600</td>\n",
              "      <td>1154.760000</td>\n",
              "      <td>151.160000</td>\n",
              "      <td>4.291600</td>\n",
              "    </tr>\n",
              "    <tr>\n",
              "      <th>std</th>\n",
              "      <td>171.298054</td>\n",
              "      <td>9.317904</td>\n",
              "      <td>11.550902</td>\n",
              "      <td>12.528064</td>\n",
              "      <td>6.484798</td>\n",
              "      <td>0.538888</td>\n",
              "      <td>35.433035</td>\n",
              "      <td>1.74716</td>\n",
              "      <td>363.220236</td>\n",
              "      <td>81.943415</td>\n",
              "      <td>2.915837</td>\n",
              "    </tr>\n",
              "    <tr>\n",
              "      <th>min</th>\n",
              "      <td>257.000000</td>\n",
              "      <td>29.000000</td>\n",
              "      <td>13.000000</td>\n",
              "      <td>7.800000</td>\n",
              "      <td>0.800000</td>\n",
              "      <td>0.100000</td>\n",
              "      <td>11.000000</td>\n",
              "      <td>1.10000</td>\n",
              "      <td>542.000000</td>\n",
              "      <td>37.000000</td>\n",
              "      <td>0.770000</td>\n",
              "    </tr>\n",
              "    <tr>\n",
              "      <th>25%</th>\n",
              "      <td>372.000000</td>\n",
              "      <td>33.000000</td>\n",
              "      <td>18.000000</td>\n",
              "      <td>16.000000</td>\n",
              "      <td>4.400000</td>\n",
              "      <td>0.200000</td>\n",
              "      <td>33.000000</td>\n",
              "      <td>2.20000</td>\n",
              "      <td>888.000000</td>\n",
              "      <td>70.000000</td>\n",
              "      <td>2.500000</td>\n",
              "    </tr>\n",
              "    <tr>\n",
              "      <th>50%</th>\n",
              "      <td>454.000000</td>\n",
              "      <td>40.000000</td>\n",
              "      <td>27.000000</td>\n",
              "      <td>20.000000</td>\n",
              "      <td>7.000000</td>\n",
              "      <td>0.400000</td>\n",
              "      <td>54.000000</td>\n",
              "      <td>3.50000</td>\n",
              "      <td>1072.000000</td>\n",
              "      <td>165.000000</td>\n",
              "      <td>3.800000</td>\n",
              "    </tr>\n",
              "    <tr>\n",
              "      <th>75%</th>\n",
              "      <td>558.000000</td>\n",
              "      <td>46.000000</td>\n",
              "      <td>34.000000</td>\n",
              "      <td>30.000000</td>\n",
              "      <td>12.000000</td>\n",
              "      <td>0.700000</td>\n",
              "      <td>83.000000</td>\n",
              "      <td>5.10000</td>\n",
              "      <td>1361.000000</td>\n",
              "      <td>193.000000</td>\n",
              "      <td>4.400000</td>\n",
              "    </tr>\n",
              "    <tr>\n",
              "      <th>max</th>\n",
              "      <td>863.000000</td>\n",
              "      <td>57.000000</td>\n",
              "      <td>54.000000</td>\n",
              "      <td>55.000000</td>\n",
              "      <td>24.000000</td>\n",
              "      <td>1.700000</td>\n",
              "      <td>145.000000</td>\n",
              "      <td>6.70000</td>\n",
              "      <td>1917.000000</td>\n",
              "      <td>381.000000</td>\n",
              "      <td>11.000000</td>\n",
              "    </tr>\n",
              "  </tbody>\n",
              "</table>\n",
              "</div>"
            ],
            "text/plain": [
              "       Valor Energetico  Carboidratos  ...      Calcio      Ferro\n",
              "count         25.000000     25.000000  ...   25.000000  25.000000\n",
              "mean         493.760000     41.360000  ...  151.160000   4.291600\n",
              "std          171.298054      9.317904  ...   81.943415   2.915837\n",
              "min          257.000000     29.000000  ...   37.000000   0.770000\n",
              "25%          372.000000     33.000000  ...   70.000000   2.500000\n",
              "50%          454.000000     40.000000  ...  165.000000   3.800000\n",
              "75%          558.000000     46.000000  ...  193.000000   4.400000\n",
              "max          863.000000     57.000000  ...  381.000000  11.000000\n",
              "\n",
              "[8 rows x 11 columns]"
            ]
          },
          "metadata": {
            "tags": []
          },
          "execution_count": 3
        }
      ]
    },
    {
      "cell_type": "code",
      "metadata": {
        "id": "R7zY0k3era9J"
      },
      "source": [
        "X = mcdonalds.drop(['Lanche'], axis=1)"
      ],
      "execution_count": 4,
      "outputs": []
    },
    {
      "cell_type": "code",
      "metadata": {
        "id": "R8LqGka3rd7J"
      },
      "source": [
        "from sklearn.preprocessing import MinMaxScaler\n",
        "\n",
        "scaler = MinMaxScaler()\n",
        "scaler.fit(X)\n",
        "X = pd.DataFrame(scaler.transform(X), columns=X.columns.tolist())"
      ],
      "execution_count": 5,
      "outputs": []
    },
    {
      "cell_type": "code",
      "metadata": {
        "id": "abX7vguzrlaw",
        "outputId": "91d49f6c-1e0c-41f6-88e4-a483cfbf3c94",
        "colab": {
          "base_uri": "https://localhost:8080/",
          "height": 297
        }
      },
      "source": [
        "X.describe()"
      ],
      "execution_count": 6,
      "outputs": [
        {
          "output_type": "execute_result",
          "data": {
            "text/html": [
              "<div>\n",
              "<style scoped>\n",
              "    .dataframe tbody tr th:only-of-type {\n",
              "        vertical-align: middle;\n",
              "    }\n",
              "\n",
              "    .dataframe tbody tr th {\n",
              "        vertical-align: top;\n",
              "    }\n",
              "\n",
              "    .dataframe thead th {\n",
              "        text-align: right;\n",
              "    }\n",
              "</style>\n",
              "<table border=\"1\" class=\"dataframe\">\n",
              "  <thead>\n",
              "    <tr style=\"text-align: right;\">\n",
              "      <th></th>\n",
              "      <th>Valor Energetico</th>\n",
              "      <th>Carboidratos</th>\n",
              "      <th>Proteinas</th>\n",
              "      <th>Gorduras Totais</th>\n",
              "      <th>Gorduras Saturadas</th>\n",
              "      <th>Gorduras Trans</th>\n",
              "      <th>Colesterol</th>\n",
              "      <th>Fibra Alimentar</th>\n",
              "      <th>Sodio</th>\n",
              "      <th>Calcio</th>\n",
              "      <th>Ferro</th>\n",
              "    </tr>\n",
              "  </thead>\n",
              "  <tbody>\n",
              "    <tr>\n",
              "      <th>count</th>\n",
              "      <td>25.000000</td>\n",
              "      <td>25.000000</td>\n",
              "      <td>25.000000</td>\n",
              "      <td>25.000000</td>\n",
              "      <td>25.000000</td>\n",
              "      <td>25.000000</td>\n",
              "      <td>25.000000</td>\n",
              "      <td>25.000000</td>\n",
              "      <td>25.000000</td>\n",
              "      <td>25.000000</td>\n",
              "      <td>25.000000</td>\n",
              "    </tr>\n",
              "    <tr>\n",
              "      <th>mean</th>\n",
              "      <td>0.390693</td>\n",
              "      <td>0.441429</td>\n",
              "      <td>0.355122</td>\n",
              "      <td>0.346695</td>\n",
              "      <td>0.347069</td>\n",
              "      <td>0.310000</td>\n",
              "      <td>0.374627</td>\n",
              "      <td>0.474286</td>\n",
              "      <td>0.445644</td>\n",
              "      <td>0.331860</td>\n",
              "      <td>0.344242</td>\n",
              "    </tr>\n",
              "    <tr>\n",
              "      <th>std</th>\n",
              "      <td>0.282670</td>\n",
              "      <td>0.332782</td>\n",
              "      <td>0.281729</td>\n",
              "      <td>0.265425</td>\n",
              "      <td>0.279517</td>\n",
              "      <td>0.336805</td>\n",
              "      <td>0.264426</td>\n",
              "      <td>0.311993</td>\n",
              "      <td>0.264160</td>\n",
              "      <td>0.238208</td>\n",
              "      <td>0.285028</td>\n",
              "    </tr>\n",
              "    <tr>\n",
              "      <th>min</th>\n",
              "      <td>0.000000</td>\n",
              "      <td>0.000000</td>\n",
              "      <td>0.000000</td>\n",
              "      <td>0.000000</td>\n",
              "      <td>0.000000</td>\n",
              "      <td>0.000000</td>\n",
              "      <td>0.000000</td>\n",
              "      <td>0.000000</td>\n",
              "      <td>0.000000</td>\n",
              "      <td>0.000000</td>\n",
              "      <td>0.000000</td>\n",
              "    </tr>\n",
              "    <tr>\n",
              "      <th>25%</th>\n",
              "      <td>0.189769</td>\n",
              "      <td>0.142857</td>\n",
              "      <td>0.121951</td>\n",
              "      <td>0.173729</td>\n",
              "      <td>0.155172</td>\n",
              "      <td>0.062500</td>\n",
              "      <td>0.164179</td>\n",
              "      <td>0.196429</td>\n",
              "      <td>0.251636</td>\n",
              "      <td>0.095930</td>\n",
              "      <td>0.169110</td>\n",
              "    </tr>\n",
              "    <tr>\n",
              "      <th>50%</th>\n",
              "      <td>0.325083</td>\n",
              "      <td>0.392857</td>\n",
              "      <td>0.341463</td>\n",
              "      <td>0.258475</td>\n",
              "      <td>0.267241</td>\n",
              "      <td>0.187500</td>\n",
              "      <td>0.320896</td>\n",
              "      <td>0.428571</td>\n",
              "      <td>0.385455</td>\n",
              "      <td>0.372093</td>\n",
              "      <td>0.296188</td>\n",
              "    </tr>\n",
              "    <tr>\n",
              "      <th>75%</th>\n",
              "      <td>0.496700</td>\n",
              "      <td>0.607143</td>\n",
              "      <td>0.512195</td>\n",
              "      <td>0.470339</td>\n",
              "      <td>0.482759</td>\n",
              "      <td>0.375000</td>\n",
              "      <td>0.537313</td>\n",
              "      <td>0.714286</td>\n",
              "      <td>0.595636</td>\n",
              "      <td>0.453488</td>\n",
              "      <td>0.354839</td>\n",
              "    </tr>\n",
              "    <tr>\n",
              "      <th>max</th>\n",
              "      <td>1.000000</td>\n",
              "      <td>1.000000</td>\n",
              "      <td>1.000000</td>\n",
              "      <td>1.000000</td>\n",
              "      <td>1.000000</td>\n",
              "      <td>1.000000</td>\n",
              "      <td>1.000000</td>\n",
              "      <td>1.000000</td>\n",
              "      <td>1.000000</td>\n",
              "      <td>1.000000</td>\n",
              "      <td>1.000000</td>\n",
              "    </tr>\n",
              "  </tbody>\n",
              "</table>\n",
              "</div>"
            ],
            "text/plain": [
              "       Valor Energetico  Carboidratos  ...     Calcio      Ferro\n",
              "count         25.000000     25.000000  ...  25.000000  25.000000\n",
              "mean           0.390693      0.441429  ...   0.331860   0.344242\n",
              "std            0.282670      0.332782  ...   0.238208   0.285028\n",
              "min            0.000000      0.000000  ...   0.000000   0.000000\n",
              "25%            0.189769      0.142857  ...   0.095930   0.169110\n",
              "50%            0.325083      0.392857  ...   0.372093   0.296188\n",
              "75%            0.496700      0.607143  ...   0.453488   0.354839\n",
              "max            1.000000      1.000000  ...   1.000000   1.000000\n",
              "\n",
              "[8 rows x 11 columns]"
            ]
          },
          "metadata": {
            "tags": []
          },
          "execution_count": 6
        }
      ]
    },
    {
      "cell_type": "code",
      "metadata": {
        "id": "kpTT-uo6sOFr",
        "outputId": "37034f75-034b-407d-cdb4-41064eabae25",
        "colab": {
          "base_uri": "https://localhost:8080/"
        }
      },
      "source": [
        "!pip install yellowbrick==1.2"
      ],
      "execution_count": 7,
      "outputs": [
        {
          "output_type": "stream",
          "text": [
            "Requirement already satisfied: yellowbrick==1.2 in /usr/local/lib/python3.6/dist-packages (1.2)\n",
            "Requirement already satisfied: cycler>=0.10.0 in /usr/local/lib/python3.6/dist-packages (from yellowbrick==1.2) (0.10.0)\n",
            "Requirement already satisfied: matplotlib!=3.0.0,>=2.0.2 in /usr/local/lib/python3.6/dist-packages (from yellowbrick==1.2) (3.2.2)\n",
            "Requirement already satisfied: scipy>=1.0.0 in /usr/local/lib/python3.6/dist-packages (from yellowbrick==1.2) (1.4.1)\n",
            "Requirement already satisfied: scikit-learn>=0.20 in /usr/local/lib/python3.6/dist-packages (from yellowbrick==1.2) (0.22.2.post1)\n",
            "Requirement already satisfied: numpy>=1.13.0 in /usr/local/lib/python3.6/dist-packages (from yellowbrick==1.2) (1.18.5)\n",
            "Requirement already satisfied: six in /usr/local/lib/python3.6/dist-packages (from cycler>=0.10.0->yellowbrick==1.2) (1.15.0)\n",
            "Requirement already satisfied: pyparsing!=2.0.4,!=2.1.2,!=2.1.6,>=2.0.1 in /usr/local/lib/python3.6/dist-packages (from matplotlib!=3.0.0,>=2.0.2->yellowbrick==1.2) (2.4.7)\n",
            "Requirement already satisfied: python-dateutil>=2.1 in /usr/local/lib/python3.6/dist-packages (from matplotlib!=3.0.0,>=2.0.2->yellowbrick==1.2) (2.8.1)\n",
            "Requirement already satisfied: kiwisolver>=1.0.1 in /usr/local/lib/python3.6/dist-packages (from matplotlib!=3.0.0,>=2.0.2->yellowbrick==1.2) (1.2.0)\n",
            "Requirement already satisfied: joblib>=0.11 in /usr/local/lib/python3.6/dist-packages (from scikit-learn>=0.20->yellowbrick==1.2) (0.17.0)\n"
          ],
          "name": "stdout"
        }
      ]
    },
    {
      "cell_type": "code",
      "metadata": {
        "id": "ztWNhM_crpwR",
        "outputId": "eb118b9d-4060-4ddd-fb01-cf8dcc15723e",
        "colab": {
          "base_uri": "https://localhost:8080/",
          "height": 376
        }
      },
      "source": [
        "from sklearn.cluster import AgglomerativeClustering\n",
        "from yellowbrick.cluster import KElbowVisualizer\n",
        "\n",
        "model = AgglomerativeClustering()\n",
        "visualizer = KElbowVisualizer(model, k=(2,23))\n",
        "visualizer.fit(X)\n",
        "visualizer.show();"
      ],
      "execution_count": 15,
      "outputs": [
        {
          "output_type": "display_data",
          "data": {
            "image/png": "[encoded data removed]",
            "text/plain": [
              "<Figure size 576x396 with 2 Axes>"
            ]
          },
          "metadata": {
            "tags": []
          }
        }
      ]
    },
    {
      "cell_type": "code",
      "metadata": {
        "id": "LyZM7kY1uJwj"
      },
      "source": [
        "model = AgglomerativeClustering(n_clusters=6)\n",
        "model.fit(X)\n",
        "X['cluster_id'] = model.labels_"
      ],
      "execution_count": 17,
      "outputs": []
    },
    {
      "cell_type": "code",
      "metadata": {
        "id": "5tga9aTl59pu",
        "outputId": "ef8aa206-c666-4dc5-8775-2d6c62a724b4",
        "colab": {
          "base_uri": "https://localhost:8080/",
          "height": 457
        }
      },
      "source": [
        "import seaborn as sns\n",
        "import matplotlib.pyplot as plt\n",
        "fig, ax = plt.subplots(figsize=(14,6))\n",
        "\n",
        "sns.heatmap(X.groupby('cluster_id').mean(), ax=ax);"
      ],
      "execution_count": 19,
      "outputs": [
        {
          "output_type": "display_data",
          "data": {
            "image/png": "[encoded data removed]",
            "text/plain": [
              "<Figure size 1008x432 with 2 Axes>"
            ]
          },
          "metadata": {
            "tags": []
          }
        }
      ]
    },
    {
      "cell_type": "code",
      "metadata": {
        "id": "NkKFa1UL94Yp",
        "outputId": "99675758-60d9-4c6e-b1b9-c1d331c4a7db",
        "colab": {
          "base_uri": "https://localhost:8080/",
          "height": 348
        }
      },
      "source": [
        "X.assign(lanche=mcdonalds.Lanche).query(\"cluster_id == 2\")"
      ],
      "execution_count": 29,
      "outputs": [
        {
          "output_type": "execute_result",
          "data": {
            "text/html": [
              "<div>\n",
              "<style scoped>\n",
              "    .dataframe tbody tr th:only-of-type {\n",
              "        vertical-align: middle;\n",
              "    }\n",
              "\n",
              "    .dataframe tbody tr th {\n",
              "        vertical-align: top;\n",
              "    }\n",
              "\n",
              "    .dataframe thead th {\n",
              "        text-align: right;\n",
              "    }\n",
              "</style>\n",
              "<table border=\"1\" class=\"dataframe\">\n",
              "  <thead>\n",
              "    <tr style=\"text-align: right;\">\n",
              "      <th></th>\n",
              "      <th>Valor Energetico</th>\n",
              "      <th>Carboidratos</th>\n",
              "      <th>Proteinas</th>\n",
              "      <th>Gorduras Totais</th>\n",
              "      <th>Gorduras Saturadas</th>\n",
              "      <th>Gorduras Trans</th>\n",
              "      <th>Colesterol</th>\n",
              "      <th>Fibra Alimentar</th>\n",
              "      <th>Sodio</th>\n",
              "      <th>Calcio</th>\n",
              "      <th>Ferro</th>\n",
              "      <th>cluster_id</th>\n",
              "      <th>lanche</th>\n",
              "    </tr>\n",
              "  </thead>\n",
              "  <tbody>\n",
              "    <tr>\n",
              "      <th>5</th>\n",
              "      <td>0.191419</td>\n",
              "      <td>0.321429</td>\n",
              "      <td>0.121951</td>\n",
              "      <td>0.173729</td>\n",
              "      <td>0.215517</td>\n",
              "      <td>0.1875</td>\n",
              "      <td>0.238806</td>\n",
              "      <td>0.196429</td>\n",
              "      <td>0.168000</td>\n",
              "      <td>0.380814</td>\n",
              "      <td>0.296188</td>\n",
              "      <td>2</td>\n",
              "      <td>McFish</td>\n",
              "    </tr>\n",
              "    <tr>\n",
              "      <th>7</th>\n",
              "      <td>0.132013</td>\n",
              "      <td>0.142857</td>\n",
              "      <td>0.000000</td>\n",
              "      <td>0.194915</td>\n",
              "      <td>0.159483</td>\n",
              "      <td>0.1875</td>\n",
              "      <td>0.000000</td>\n",
              "      <td>0.392857</td>\n",
              "      <td>0.066182</td>\n",
              "      <td>0.061047</td>\n",
              "      <td>0.227761</td>\n",
              "      <td>2</td>\n",
              "      <td>McChicken Jr</td>\n",
              "    </tr>\n",
              "    <tr>\n",
              "      <th>14</th>\n",
              "      <td>0.087459</td>\n",
              "      <td>0.107143</td>\n",
              "      <td>0.048780</td>\n",
              "      <td>0.131356</td>\n",
              "      <td>0.267241</td>\n",
              "      <td>0.1875</td>\n",
              "      <td>0.149254</td>\n",
              "      <td>0.142857</td>\n",
              "      <td>0.173818</td>\n",
              "      <td>0.316860</td>\n",
              "      <td>0.335288</td>\n",
              "      <td>2</td>\n",
              "      <td>Cheeseburger</td>\n",
              "    </tr>\n",
              "    <tr>\n",
              "      <th>15</th>\n",
              "      <td>0.000000</td>\n",
              "      <td>0.071429</td>\n",
              "      <td>0.000000</td>\n",
              "      <td>0.031780</td>\n",
              "      <td>0.142241</td>\n",
              "      <td>0.1250</td>\n",
              "      <td>0.082090</td>\n",
              "      <td>0.142857</td>\n",
              "      <td>0.000000</td>\n",
              "      <td>0.095930</td>\n",
              "      <td>0.335288</td>\n",
              "      <td>2</td>\n",
              "      <td>Hamburger</td>\n",
              "    </tr>\n",
              "    <tr>\n",
              "      <th>16</th>\n",
              "      <td>0.136964</td>\n",
              "      <td>0.000000</td>\n",
              "      <td>0.146341</td>\n",
              "      <td>0.173729</td>\n",
              "      <td>0.112069</td>\n",
              "      <td>0.0000</td>\n",
              "      <td>0.231343</td>\n",
              "      <td>0.017857</td>\n",
              "      <td>0.251636</td>\n",
              "      <td>0.401163</td>\n",
              "      <td>0.005865</td>\n",
              "      <td>2</td>\n",
              "      <td>Wrap Grill Maionese</td>\n",
              "    </tr>\n",
              "    <tr>\n",
              "      <th>17</th>\n",
              "      <td>0.189769</td>\n",
              "      <td>0.142857</td>\n",
              "      <td>0.024390</td>\n",
              "      <td>0.258475</td>\n",
              "      <td>0.163793</td>\n",
              "      <td>0.0625</td>\n",
              "      <td>0.104478</td>\n",
              "      <td>0.125000</td>\n",
              "      <td>0.356364</td>\n",
              "      <td>0.392442</td>\n",
              "      <td>0.003910</td>\n",
              "      <td>2</td>\n",
              "      <td>Wrap Crispy Maionese</td>\n",
              "    </tr>\n",
              "    <tr>\n",
              "      <th>18</th>\n",
              "      <td>0.080858</td>\n",
              "      <td>0.035714</td>\n",
              "      <td>0.146341</td>\n",
              "      <td>0.088983</td>\n",
              "      <td>0.056034</td>\n",
              "      <td>0.0000</td>\n",
              "      <td>0.201493</td>\n",
              "      <td>0.000000</td>\n",
              "      <td>0.208727</td>\n",
              "      <td>0.401163</td>\n",
              "      <td>0.000978</td>\n",
              "      <td>2</td>\n",
              "      <td>Wrap Grill Lemon</td>\n",
              "    </tr>\n",
              "    <tr>\n",
              "      <th>19</th>\n",
              "      <td>0.133663</td>\n",
              "      <td>0.178571</td>\n",
              "      <td>0.024390</td>\n",
              "      <td>0.173729</td>\n",
              "      <td>0.107759</td>\n",
              "      <td>0.0000</td>\n",
              "      <td>0.074627</td>\n",
              "      <td>0.125000</td>\n",
              "      <td>0.314182</td>\n",
              "      <td>0.392442</td>\n",
              "      <td>0.000000</td>\n",
              "      <td>2</td>\n",
              "      <td>Wrap Crispy Lemon</td>\n",
              "    </tr>\n",
              "  </tbody>\n",
              "</table>\n",
              "</div>"
            ],
            "text/plain": [
              "    Valor Energetico  Carboidratos  ...  cluster_id                lanche\n",
              "5           0.191419      0.321429  ...           2                McFish\n",
              "7           0.132013      0.142857  ...           2          McChicken Jr\n",
              "14          0.087459      0.107143  ...           2          Cheeseburger\n",
              "15          0.000000      0.071429  ...           2             Hamburger\n",
              "16          0.136964      0.000000  ...           2   Wrap Grill Maionese\n",
              "17          0.189769      0.142857  ...           2  Wrap Crispy Maionese\n",
              "18          0.080858      0.035714  ...           2      Wrap Grill Lemon\n",
              "19          0.133663      0.178571  ...           2     Wrap Crispy Lemon\n",
              "\n",
              "[8 rows x 13 columns]"
            ]
          },
          "metadata": {
            "tags": []
          },
          "execution_count": 29
        }
      ]
    },
    {
      "cell_type": "code",
      "metadata": {
        "id": "V_k7naLQ-FaZ",
        "outputId": "16d5ce38-3689-4ed0-e348-9396fb0ee799",
        "colab": {
          "base_uri": "https://localhost:8080/",
          "height": 142
        }
      },
      "source": [
        "X.query(\"cluster_id == 0\")"
      ],
      "execution_count": 30,
      "outputs": [
        {
          "output_type": "execute_result",
          "data": {
            "text/html": [
              "<div>\n",
              "<style scoped>\n",
              "    .dataframe tbody tr th:only-of-type {\n",
              "        vertical-align: middle;\n",
              "    }\n",
              "\n",
              "    .dataframe tbody tr th {\n",
              "        vertical-align: top;\n",
              "    }\n",
              "\n",
              "    .dataframe thead th {\n",
              "        text-align: right;\n",
              "    }\n",
              "</style>\n",
              "<table border=\"1\" class=\"dataframe\">\n",
              "  <thead>\n",
              "    <tr style=\"text-align: right;\">\n",
              "      <th></th>\n",
              "      <th>Valor Energetico</th>\n",
              "      <th>Carboidratos</th>\n",
              "      <th>Proteinas</th>\n",
              "      <th>Gorduras Totais</th>\n",
              "      <th>Gorduras Saturadas</th>\n",
              "      <th>Gorduras Trans</th>\n",
              "      <th>Colesterol</th>\n",
              "      <th>Fibra Alimentar</th>\n",
              "      <th>Sodio</th>\n",
              "      <th>Calcio</th>\n",
              "      <th>Ferro</th>\n",
              "      <th>cluster_id</th>\n",
              "    </tr>\n",
              "  </thead>\n",
              "  <tbody>\n",
              "    <tr>\n",
              "      <th>1</th>\n",
              "      <td>0.966997</td>\n",
              "      <td>0.571429</td>\n",
              "      <td>0.682927</td>\n",
              "      <td>1.000000</td>\n",
              "      <td>1.00000</td>\n",
              "      <td>1.0</td>\n",
              "      <td>0.694030</td>\n",
              "      <td>0.714286</td>\n",
              "      <td>0.704727</td>\n",
              "      <td>1.000000</td>\n",
              "      <td>0.726295</td>\n",
              "      <td>0</td>\n",
              "    </tr>\n",
              "    <tr>\n",
              "      <th>22</th>\n",
              "      <td>0.996700</td>\n",
              "      <td>1.000000</td>\n",
              "      <td>1.000000</td>\n",
              "      <td>0.809322</td>\n",
              "      <td>0.87069</td>\n",
              "      <td>1.0</td>\n",
              "      <td>1.000000</td>\n",
              "      <td>0.696429</td>\n",
              "      <td>1.000000</td>\n",
              "      <td>0.453488</td>\n",
              "      <td>0.315738</td>\n",
              "      <td>0</td>\n",
              "    </tr>\n",
              "    <tr>\n",
              "      <th>23</th>\n",
              "      <td>1.000000</td>\n",
              "      <td>0.964286</td>\n",
              "      <td>0.926829</td>\n",
              "      <td>0.872881</td>\n",
              "      <td>0.87069</td>\n",
              "      <td>1.0</td>\n",
              "      <td>0.955224</td>\n",
              "      <td>0.696429</td>\n",
              "      <td>0.853818</td>\n",
              "      <td>0.465116</td>\n",
              "      <td>0.296188</td>\n",
              "      <td>0</td>\n",
              "    </tr>\n",
              "  </tbody>\n",
              "</table>\n",
              "</div>"
            ],
            "text/plain": [
              "    Valor Energetico  Carboidratos  Proteinas  ...    Calcio     Ferro  cluster_id\n",
              "1           0.966997      0.571429   0.682927  ...  1.000000  0.726295           0\n",
              "22          0.996700      1.000000   1.000000  ...  0.453488  0.315738           0\n",
              "23          1.000000      0.964286   0.926829  ...  0.465116  0.296188           0\n",
              "\n",
              "[3 rows x 12 columns]"
            ]
          },
          "metadata": {
            "tags": []
          },
          "execution_count": 30
        }
      ]
    },
    {
      "cell_type": "code",
      "metadata": {
        "id": "6pJ8i5W--J19",
        "outputId": "8158b9c3-0e46-4c10-b4ad-dc16d5a1dd74",
        "colab": {
          "base_uri": "https://localhost:8080/",
          "height": 142
        }
      },
      "source": [
        "X.query('cluster_id == 3')"
      ],
      "execution_count": 31,
      "outputs": [
        {
          "output_type": "execute_result",
          "data": {
            "text/html": [
              "<div>\n",
              "<style scoped>\n",
              "    .dataframe tbody tr th:only-of-type {\n",
              "        vertical-align: middle;\n",
              "    }\n",
              "\n",
              "    .dataframe tbody tr th {\n",
              "        vertical-align: top;\n",
              "    }\n",
              "\n",
              "    .dataframe thead th {\n",
              "        text-align: right;\n",
              "    }\n",
              "</style>\n",
              "<table border=\"1\" class=\"dataframe\">\n",
              "  <thead>\n",
              "    <tr style=\"text-align: right;\">\n",
              "      <th></th>\n",
              "      <th>Valor Energetico</th>\n",
              "      <th>Carboidratos</th>\n",
              "      <th>Proteinas</th>\n",
              "      <th>Gorduras Totais</th>\n",
              "      <th>Gorduras Saturadas</th>\n",
              "      <th>Gorduras Trans</th>\n",
              "      <th>Colesterol</th>\n",
              "      <th>Fibra Alimentar</th>\n",
              "      <th>Sodio</th>\n",
              "      <th>Calcio</th>\n",
              "      <th>Ferro</th>\n",
              "      <th>cluster_id</th>\n",
              "    </tr>\n",
              "  </thead>\n",
              "  <tbody>\n",
              "    <tr>\n",
              "      <th>2</th>\n",
              "      <td>0.496700</td>\n",
              "      <td>0.250000</td>\n",
              "      <td>0.439024</td>\n",
              "      <td>0.512712</td>\n",
              "      <td>0.655172</td>\n",
              "      <td>0.7500</td>\n",
              "      <td>0.559701</td>\n",
              "      <td>0.446429</td>\n",
              "      <td>0.490182</td>\n",
              "      <td>0.69186</td>\n",
              "      <td>0.902248</td>\n",
              "      <td>3</td>\n",
              "    </tr>\n",
              "    <tr>\n",
              "      <th>3</th>\n",
              "      <td>0.607261</td>\n",
              "      <td>0.321429</td>\n",
              "      <td>0.512195</td>\n",
              "      <td>0.618644</td>\n",
              "      <td>0.655172</td>\n",
              "      <td>0.7500</td>\n",
              "      <td>0.626866</td>\n",
              "      <td>0.500000</td>\n",
              "      <td>0.518545</td>\n",
              "      <td>0.50000</td>\n",
              "      <td>1.000000</td>\n",
              "      <td>3</td>\n",
              "    </tr>\n",
              "    <tr>\n",
              "      <th>4</th>\n",
              "      <td>0.412541</td>\n",
              "      <td>0.142857</td>\n",
              "      <td>0.390244</td>\n",
              "      <td>0.449153</td>\n",
              "      <td>0.568966</td>\n",
              "      <td>0.6875</td>\n",
              "      <td>0.522388</td>\n",
              "      <td>0.321429</td>\n",
              "      <td>0.201455</td>\n",
              "      <td>0.47093</td>\n",
              "      <td>0.902248</td>\n",
              "      <td>3</td>\n",
              "    </tr>\n",
              "  </tbody>\n",
              "</table>\n",
              "</div>"
            ],
            "text/plain": [
              "   Valor Energetico  Carboidratos  Proteinas  ...   Calcio     Ferro  cluster_id\n",
              "2          0.496700      0.250000   0.439024  ...  0.69186  0.902248           3\n",
              "3          0.607261      0.321429   0.512195  ...  0.50000  1.000000           3\n",
              "4          0.412541      0.142857   0.390244  ...  0.47093  0.902248           3\n",
              "\n",
              "[3 rows x 12 columns]"
            ]
          },
          "metadata": {
            "tags": []
          },
          "execution_count": 31
        }
      ]
    },
    {
      "cell_type": "code",
      "metadata": {
        "id": "Q-DnL5PV5HmR",
        "outputId": "1e0b654a-2517-4a20-8954-5df193bad391",
        "colab": {
          "base_uri": "https://localhost:8080/",
          "height": 448
        }
      },
      "source": [
        "import scipy.cluster.hierarchy as shc\n",
        "\n",
        "plt.figure(figsize=(14,7))\n",
        "plt.title('Dendogram')\n",
        "\n",
        "dend = shc.dendrogram(shc.linkage(X.drop('cluster_id', axis=1)))"
      ],
      "execution_count": 21,
      "outputs": [
        {
          "output_type": "display_data",
          "data": {
            "image/png": "[encoded data removed]",
            "text/plain": [
              "<Figure size 1008x504 with 1 Axes>"
            ]
          },
          "metadata": {
            "tags": []
          }
        }
      ]
    },
    {
      "cell_type": "code",
      "metadata": {
        "id": "KzhfRMix7XkF",
        "outputId": "14125caa-98b0-4f14-dc17-16e01301abac",
        "colab": {
          "base_uri": "https://localhost:8080/",
          "height": 204
        }
      },
      "source": [
        "X.head()"
      ],
      "execution_count": 22,
      "outputs": [
        {
          "output_type": "execute_result",
          "data": {
            "text/html": [
              "<div>\n",
              "<style scoped>\n",
              "    .dataframe tbody tr th:only-of-type {\n",
              "        vertical-align: middle;\n",
              "    }\n",
              "\n",
              "    .dataframe tbody tr th {\n",
              "        vertical-align: top;\n",
              "    }\n",
              "\n",
              "    .dataframe thead th {\n",
              "        text-align: right;\n",
              "    }\n",
              "</style>\n",
              "<table border=\"1\" class=\"dataframe\">\n",
              "  <thead>\n",
              "    <tr style=\"text-align: right;\">\n",
              "      <th></th>\n",
              "      <th>Valor Energetico</th>\n",
              "      <th>Carboidratos</th>\n",
              "      <th>Proteinas</th>\n",
              "      <th>Gorduras Totais</th>\n",
              "      <th>Gorduras Saturadas</th>\n",
              "      <th>Gorduras Trans</th>\n",
              "      <th>Colesterol</th>\n",
              "      <th>Fibra Alimentar</th>\n",
              "      <th>Sodio</th>\n",
              "      <th>Calcio</th>\n",
              "      <th>Ferro</th>\n",
              "      <th>cluster_id</th>\n",
              "    </tr>\n",
              "  </thead>\n",
              "  <tbody>\n",
              "    <tr>\n",
              "      <th>0</th>\n",
              "      <td>0.407591</td>\n",
              "      <td>0.428571</td>\n",
              "      <td>0.292683</td>\n",
              "      <td>0.406780</td>\n",
              "      <td>0.482759</td>\n",
              "      <td>0.2500</td>\n",
              "      <td>0.320896</td>\n",
              "      <td>0.428571</td>\n",
              "      <td>0.304000</td>\n",
              "      <td>0.363372</td>\n",
              "      <td>0.560117</td>\n",
              "      <td>5</td>\n",
              "    </tr>\n",
              "    <tr>\n",
              "      <th>1</th>\n",
              "      <td>0.966997</td>\n",
              "      <td>0.571429</td>\n",
              "      <td>0.682927</td>\n",
              "      <td>1.000000</td>\n",
              "      <td>1.000000</td>\n",
              "      <td>1.0000</td>\n",
              "      <td>0.694030</td>\n",
              "      <td>0.714286</td>\n",
              "      <td>0.704727</td>\n",
              "      <td>1.000000</td>\n",
              "      <td>0.726295</td>\n",
              "      <td>0</td>\n",
              "    </tr>\n",
              "    <tr>\n",
              "      <th>2</th>\n",
              "      <td>0.496700</td>\n",
              "      <td>0.250000</td>\n",
              "      <td>0.439024</td>\n",
              "      <td>0.512712</td>\n",
              "      <td>0.655172</td>\n",
              "      <td>0.7500</td>\n",
              "      <td>0.559701</td>\n",
              "      <td>0.446429</td>\n",
              "      <td>0.490182</td>\n",
              "      <td>0.691860</td>\n",
              "      <td>0.902248</td>\n",
              "      <td>3</td>\n",
              "    </tr>\n",
              "    <tr>\n",
              "      <th>3</th>\n",
              "      <td>0.607261</td>\n",
              "      <td>0.321429</td>\n",
              "      <td>0.512195</td>\n",
              "      <td>0.618644</td>\n",
              "      <td>0.655172</td>\n",
              "      <td>0.7500</td>\n",
              "      <td>0.626866</td>\n",
              "      <td>0.500000</td>\n",
              "      <td>0.518545</td>\n",
              "      <td>0.500000</td>\n",
              "      <td>1.000000</td>\n",
              "      <td>3</td>\n",
              "    </tr>\n",
              "    <tr>\n",
              "      <th>4</th>\n",
              "      <td>0.412541</td>\n",
              "      <td>0.142857</td>\n",
              "      <td>0.390244</td>\n",
              "      <td>0.449153</td>\n",
              "      <td>0.568966</td>\n",
              "      <td>0.6875</td>\n",
              "      <td>0.522388</td>\n",
              "      <td>0.321429</td>\n",
              "      <td>0.201455</td>\n",
              "      <td>0.470930</td>\n",
              "      <td>0.902248</td>\n",
              "      <td>3</td>\n",
              "    </tr>\n",
              "  </tbody>\n",
              "</table>\n",
              "</div>"
            ],
            "text/plain": [
              "   Valor Energetico  Carboidratos  Proteinas  ...    Calcio     Ferro  cluster_id\n",
              "0          0.407591      0.428571   0.292683  ...  0.363372  0.560117           5\n",
              "1          0.966997      0.571429   0.682927  ...  1.000000  0.726295           0\n",
              "2          0.496700      0.250000   0.439024  ...  0.691860  0.902248           3\n",
              "3          0.607261      0.321429   0.512195  ...  0.500000  1.000000           3\n",
              "4          0.412541      0.142857   0.390244  ...  0.470930  0.902248           3\n",
              "\n",
              "[5 rows x 12 columns]"
            ]
          },
          "metadata": {
            "tags": []
          },
          "execution_count": 22
        }
      ]
    },
    {
      "cell_type": "code",
      "metadata": {
        "id": "XLuXFpLu7pNd",
        "outputId": "a1ed95cb-cd6a-4000-eb24-979317af65d1",
        "colab": {
          "base_uri": "https://localhost:8080/",
          "height": 204
        }
      },
      "source": [
        "mcdonalds.head()"
      ],
      "execution_count": 23,
      "outputs": [
        {
          "output_type": "execute_result",
          "data": {
            "text/html": [
              "<div>\n",
              "<style scoped>\n",
              "    .dataframe tbody tr th:only-of-type {\n",
              "        vertical-align: middle;\n",
              "    }\n",
              "\n",
              "    .dataframe tbody tr th {\n",
              "        vertical-align: top;\n",
              "    }\n",
              "\n",
              "    .dataframe thead th {\n",
              "        text-align: right;\n",
              "    }\n",
              "</style>\n",
              "<table border=\"1\" class=\"dataframe\">\n",
              "  <thead>\n",
              "    <tr style=\"text-align: right;\">\n",
              "      <th></th>\n",
              "      <th>Lanche</th>\n",
              "      <th>Valor Energetico</th>\n",
              "      <th>Carboidratos</th>\n",
              "      <th>Proteinas</th>\n",
              "      <th>Gorduras Totais</th>\n",
              "      <th>Gorduras Saturadas</th>\n",
              "      <th>Gorduras Trans</th>\n",
              "      <th>Colesterol</th>\n",
              "      <th>Fibra Alimentar</th>\n",
              "      <th>Sodio</th>\n",
              "      <th>Calcio</th>\n",
              "      <th>Ferro</th>\n",
              "    </tr>\n",
              "  </thead>\n",
              "  <tbody>\n",
              "    <tr>\n",
              "      <th>0</th>\n",
              "      <td>Big Mac</td>\n",
              "      <td>504</td>\n",
              "      <td>41</td>\n",
              "      <td>25</td>\n",
              "      <td>27.0</td>\n",
              "      <td>12.0</td>\n",
              "      <td>0.5</td>\n",
              "      <td>54</td>\n",
              "      <td>3.5</td>\n",
              "      <td>960</td>\n",
              "      <td>162</td>\n",
              "      <td>6.5</td>\n",
              "    </tr>\n",
              "    <tr>\n",
              "      <th>1</th>\n",
              "      <td>Big Tasty</td>\n",
              "      <td>843</td>\n",
              "      <td>45</td>\n",
              "      <td>41</td>\n",
              "      <td>55.0</td>\n",
              "      <td>24.0</td>\n",
              "      <td>1.7</td>\n",
              "      <td>104</td>\n",
              "      <td>5.1</td>\n",
              "      <td>1511</td>\n",
              "      <td>381</td>\n",
              "      <td>8.2</td>\n",
              "    </tr>\n",
              "    <tr>\n",
              "      <th>2</th>\n",
              "      <td>Quarterao</td>\n",
              "      <td>558</td>\n",
              "      <td>36</td>\n",
              "      <td>31</td>\n",
              "      <td>32.0</td>\n",
              "      <td>16.0</td>\n",
              "      <td>1.3</td>\n",
              "      <td>86</td>\n",
              "      <td>3.6</td>\n",
              "      <td>1216</td>\n",
              "      <td>275</td>\n",
              "      <td>10.0</td>\n",
              "    </tr>\n",
              "    <tr>\n",
              "      <th>3</th>\n",
              "      <td>Mcnifico Bacon</td>\n",
              "      <td>625</td>\n",
              "      <td>38</td>\n",
              "      <td>34</td>\n",
              "      <td>37.0</td>\n",
              "      <td>16.0</td>\n",
              "      <td>1.3</td>\n",
              "      <td>95</td>\n",
              "      <td>3.9</td>\n",
              "      <td>1255</td>\n",
              "      <td>209</td>\n",
              "      <td>11.0</td>\n",
              "    </tr>\n",
              "    <tr>\n",
              "      <th>4</th>\n",
              "      <td>Cheddar McMelt</td>\n",
              "      <td>507</td>\n",
              "      <td>33</td>\n",
              "      <td>29</td>\n",
              "      <td>29.0</td>\n",
              "      <td>14.0</td>\n",
              "      <td>1.2</td>\n",
              "      <td>81</td>\n",
              "      <td>2.9</td>\n",
              "      <td>819</td>\n",
              "      <td>199</td>\n",
              "      <td>10.0</td>\n",
              "    </tr>\n",
              "  </tbody>\n",
              "</table>\n",
              "</div>"
            ],
            "text/plain": [
              "           Lanche  Valor Energetico  Carboidratos  ...  Sodio  Calcio  Ferro\n",
              "0         Big Mac               504            41  ...    960     162    6.5\n",
              "1       Big Tasty               843            45  ...   1511     381    8.2\n",
              "2       Quarterao               558            36  ...   1216     275   10.0\n",
              "3  Mcnifico Bacon               625            38  ...   1255     209   11.0\n",
              "4  Cheddar McMelt               507            33  ...    819     199   10.0\n",
              "\n",
              "[5 rows x 12 columns]"
            ]
          },
          "metadata": {
            "tags": []
          },
          "execution_count": 23
        }
      ]
    },
    {
      "cell_type": "code",
      "metadata": {
        "id": "A6Mnc0km7056",
        "outputId": "1232fd3c-c473-43eb-baab-58da12aa4383",
        "colab": {
          "base_uri": "https://localhost:8080/",
          "height": 513
        }
      },
      "source": [
        "import scipy.cluster.hierarchy as shc\n",
        "\n",
        "plt.figure(figsize=(14,7))\n",
        "plt.title('Dendogram')\n",
        "\n",
        "dend = shc.dendrogram(shc.linkage(X.drop('cluster_id', axis=1)), labels=mcdonalds['Lanche'].values)"
      ],
      "execution_count": 28,
      "outputs": [
        {
          "output_type": "display_data",
          "data": {
            "image/png": "[encoded data removed]",
            "text/plain": [
              "<Figure size 1008x504 with 1 Axes>"
            ]
          },
          "metadata": {
            "tags": []
          }
        }
      ]
    },
    {
      "cell_type": "code",
      "metadata": {
        "id": "X7feIkRz8xFD",
        "outputId": "637caba4-471e-4fab-98d1-60cf1a6df213",
        "colab": {
          "base_uri": "https://localhost:8080/"
        }
      },
      "source": [
        "mcdonalds.Lanche.values"
      ],
      "execution_count": 25,
      "outputs": [
        {
          "output_type": "execute_result",
          "data": {
            "text/plain": [
              "array(['Big Mac', 'Big Tasty', 'Quarterao', 'Mcnifico Bacon',\n",
              "       'Cheddar McMelt', 'McFish', 'McChicken', 'McChicken Jr',\n",
              "       'Chicken Classic Crispy', 'Chicken Classic Grill',\n",
              "       'Chicken Club Crispy', 'Chicken Club Grill',\n",
              "       'Chicken Lemon Crispy', 'Chicken Lemon Grill', 'Cheeseburger',\n",
              "       'Hamburger', 'Wrap Grill Maionese', 'Wrap Crispy Maionese',\n",
              "       'Wrap Grill Lemon', 'Wrap Crispy Lemon', 'Chicken Bacon Crispy',\n",
              "       'Chicken Bacon Grill', 'Angus Bacon', 'Angus Deluxe', 'CBO '],\n",
              "      dtype=object)"
            ]
          },
          "metadata": {
            "tags": []
          },
          "execution_count": 25
        }
      ]
    },
    {
      "cell_type": "code",
      "metadata": {
        "id": "uOD_piPd9Ve5",
        "outputId": "abac0f23-0393-41bf-8154-faeeb6345134",
        "colab": {
          "base_uri": "https://localhost:8080/"
        }
      },
      "source": [
        "mcdonalds.Lanche.values.tolist()"
      ],
      "execution_count": 27,
      "outputs": [
        {
          "output_type": "execute_result",
          "data": {
            "text/plain": [
              "['Big Mac',\n",
              " 'Big Tasty',\n",
              " 'Quarterao',\n",
              " 'Mcnifico Bacon',\n",
              " 'Cheddar McMelt',\n",
              " 'McFish',\n",
              " 'McChicken',\n",
              " 'McChicken Jr',\n",
              " 'Chicken Classic Crispy',\n",
              " 'Chicken Classic Grill',\n",
              " 'Chicken Club Crispy',\n",
              " 'Chicken Club Grill',\n",
              " 'Chicken Lemon Crispy',\n",
              " 'Chicken Lemon Grill',\n",
              " 'Cheeseburger',\n",
              " 'Hamburger',\n",
              " 'Wrap Grill Maionese',\n",
              " 'Wrap Crispy Maionese',\n",
              " 'Wrap Grill Lemon',\n",
              " 'Wrap Crispy Lemon',\n",
              " 'Chicken Bacon Crispy',\n",
              " 'Chicken Bacon Grill',\n",
              " 'Angus Bacon',\n",
              " 'Angus Deluxe',\n",
              " 'CBO ']"
            ]
          },
          "metadata": {
            "tags": []
          },
          "execution_count": 27
        }
      ]
    },
    {
      "cell_type": "code",
      "metadata": {
        "id": "1rVf0dCi9X-b"
      },
      "source": [
        "## Para restabler nuestro X\n",
        "X = X.reset_index().drop('Lanche', axis=1)\n"
      ],
      "execution_count": null,
      "outputs": []
    }
  ]
}